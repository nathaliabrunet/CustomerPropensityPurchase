{
 "cells": [
  {
   "cell_type": "markdown",
   "metadata": {},
   "source": [
    "# Customer propensity to purchase\n",
    "    (Propensão do cliente a comprar)\n",
    "    Conjunto de dados que registra as interações dos compradores em uma loja online\n",
    "    \n",
    "   https://www.kaggle.com/benpowis/customer-propensity-to-purchase-data/code\n",
    "\n",
    "-----------------------------"
   ]
  },
  {
   "cell_type": "markdown",
   "metadata": {},
   "source": [
    "###### Imports"
   ]
  },
  {
   "cell_type": "code",
   "execution_count": 146,
   "metadata": {},
   "outputs": [],
   "source": [
    "import pandas as pd\n",
    "import numpy as np\n",
    "\n",
    "import seaborn as sns\n",
    "import matplotlib.pyplot as plt\n",
    "\n",
    "#visualização\n",
    "import plotly.graph_objects as go\n",
    "\n",
    "import time\n",
    "\n",
    "import imblearn #para o desbalanceamento\n",
    "\n",
    "from sklearn.model_selection import train_test_split #para separação em treino e teste\n",
    "from sklearn.naive_bayes import GaussianNB\n",
    "from sklearn import svm\n",
    "from sklearn.ensemble import GradientBoostingClassifier\n",
    "from sklearn.neural_network import MLPClassifier\n",
    "\n",
    "from sklearn.model_selection import GridSearchCV\n",
    "from sklearn.metrics import precision_score, recall_score, f1_score, accuracy_score, roc_auc_score\n",
    "from sklearn.model_selection import KFold\n",
    "\n",
    "\n",
    "import warnings\n",
    "warnings.filterwarnings('ignore')"
   ]
  },
  {
   "cell_type": "markdown",
   "metadata": {},
   "source": [
    "###### Carregando csv"
   ]
  },
  {
   "cell_type": "code",
   "execution_count": 2,
   "metadata": {},
   "outputs": [
    {
     "data": {
      "text/plain": [
       "(455401, 25)"
      ]
     },
     "execution_count": 2,
     "metadata": {},
     "output_type": "execute_result"
    }
   ],
   "source": [
    "df = pd.read_csv('dados/training_sample.csv')\n",
    "df.shape"
   ]
  },
  {
   "cell_type": "markdown",
   "metadata": {},
   "source": [
    "### Objetivo:\n",
    "\n",
    "Objetivo aqui é analisar informações referentes ao cliente para prever se esse cliente vai realizar uma compra ou não. Temos informações como:\n",
    "\n",
    "        É um visitante novo ou ta retornando?\n",
    "        Colocou produto no carrinho?\n",
    "        Pesquisou sobre perguntas referente ao produto?\n",
    "        Pesquisou sobre reclamações referente ao produto?\n",
    "        O cliente ta acessando via celular, desktop ou tablet?\n",
    "\n",
    "Quais dessas interações afetam a probabilidade de um usuário comprar? Tudo isso são informações que podem ser levadas em consideração para a implementação de um modelo de propensão a compra\n",
    "\n",
    "---------------"
   ]
  },
  {
   "cell_type": "markdown",
   "metadata": {},
   "source": [
    "### Dataset:\n",
    "\n",
    "Os dados de treinamento têm 455 mil interações de visitantes com um site fictício.\n",
    "\n",
    "Este conjunto de dados representa o valor de um dia de visita a um site fictício. Cada linha representa um cliente exclusivo, identificado por seu UserID exclusivo. As colunas representam características da visita dos usuários (como o dispositivo que eles estavam usando) e coisas que o usuário fez no site naquele dia. Esses recursos serão diferentes para cada site, mas nesses dados temos:"
   ]
  },
  {
   "cell_type": "code",
   "execution_count": 3,
   "metadata": {
    "scrolled": true
   },
   "outputs": [
    {
     "name": "stdout",
     "output_type": "stream",
     "text": [
      "Colunas: Index(['UserID', 'basket_icon_click', 'basket_add_list', 'basket_add_detail',\n",
      "       'sort_by', 'image_picker', 'account_page_click', 'promo_banner_click',\n",
      "       'detail_wishlist_add', 'list_size_dropdown', 'closed_minibasket_click',\n",
      "       'checked_delivery_detail', 'checked_returns_detail', 'sign_in',\n",
      "       'saw_checkout', 'saw_sizecharts', 'saw_delivery', 'saw_account_upgrade',\n",
      "       'saw_homepage', 'device_mobile', 'device_computer', 'device_tablet',\n",
      "       'returning_user', 'loc_uk', 'ordered'],\n",
      "      dtype='object')\n"
     ]
    }
   ],
   "source": [
    "print('Colunas:', df.columns)"
   ]
  },
  {
   "cell_type": "markdown",
   "metadata": {},
   "source": [
    "#### Colunas:\n",
    "    Identificação do cliente\n",
    "\n",
    "**UserID:** Um identificador único para o visitante\n",
    "\n",
    "    Inputs\n",
    "    \n",
    "**basket_icon_click:** O visitante clicou no ícone do carrinho de compras?\n",
    "\n",
    "**basket_add_list:** O visitante adicionou um produto ao carrinho de compras na página de 'lista'?\n",
    "\n",
    "**basket_add_detail:** O visitante adicionou um produto ao carrinho de compras na página de 'detalhes'?\n",
    "\n",
    "**sort_by:** O visitante classificou os produtos em uma página?\n",
    "\n",
    "**image_picker:** O visitante usou o seletor de imagens?\n",
    "\n",
    "**account_page_click:** O visitante visitou sua página da conta (account page)?\n",
    "\n",
    "**promo_banner_click:** O visitante clicou em um banner promocional?\n",
    "\n",
    "**detail_wishlist_add:** O visitante adicionou um produto à sua lista de desejos na página de 'detalhes'?\n",
    "\n",
    "**list_size_dropdown:** O visitante interagiu com uma lista suspensa de produto?\n",
    "\n",
    "**closed_minibasket_click:** O visitante fechou o \"carrinho\" de compras?\n",
    "\n",
    "**checked_delivery_detail:** O visitante visualizou a área de perguntas frequentes sobre entrega na página de um produto?\n",
    "\n",
    "**checked_returns_detail:** O visitante verificou a área de perguntas frequentes sobre devoluções na página de um produto?\n",
    "\n",
    "**sign_in:** O visitante acessou/logou o/no site?\n",
    "\n",
    "**saw_checkout:** O visitante viu o checkout?\n",
    "\n",
    "**saw_sizecharts:** O visitante visualizou um gráfico de tamanho de produto?\n",
    "\n",
    "**saw_delivery:** O visitante visualizou a página de perguntas frequentes sobre entrega?\n",
    "\n",
    "**saw_account_upgrade:** O visitante visualizou a página de atualização da conta?\n",
    "\n",
    "**saw_homepage:** O visitante visualizou a página inicial do site?\n",
    "\n",
    "**device_mobile:** O visitante estava em um dispositivo móvel?\n",
    "\n",
    "**device_computer:** O visitante estava em um dispositivo desktop?\n",
    "\n",
    "**device_tablet:** O visitante estavanum tablet?\n",
    "\n",
    "**returning_user:** O visitante era novo ou estava retornando?\n",
    "\n",
    "**loc_uk:** O visitante estava localizado no Reino Unido com base no endereço IP?\n",
    "\n",
    "    Output:\n",
    "\n",
    "**ordered: ** O cliente fez um pedido?\n",
    "\n",
    "----"
   ]
  },
  {
   "cell_type": "markdown",
   "metadata": {},
   "source": [
    "# EDA"
   ]
  },
  {
   "cell_type": "code",
   "execution_count": 4,
   "metadata": {},
   "outputs": [
    {
     "data": {
      "text/html": [
       "<div>\n",
       "<style scoped>\n",
       "    .dataframe tbody tr th:only-of-type {\n",
       "        vertical-align: middle;\n",
       "    }\n",
       "\n",
       "    .dataframe tbody tr th {\n",
       "        vertical-align: top;\n",
       "    }\n",
       "\n",
       "    .dataframe thead th {\n",
       "        text-align: right;\n",
       "    }\n",
       "</style>\n",
       "<table border=\"1\" class=\"dataframe\">\n",
       "  <thead>\n",
       "    <tr style=\"text-align: right;\">\n",
       "      <th></th>\n",
       "      <th>UserID</th>\n",
       "      <th>basket_icon_click</th>\n",
       "      <th>basket_add_list</th>\n",
       "      <th>basket_add_detail</th>\n",
       "      <th>sort_by</th>\n",
       "      <th>image_picker</th>\n",
       "      <th>account_page_click</th>\n",
       "      <th>promo_banner_click</th>\n",
       "      <th>detail_wishlist_add</th>\n",
       "      <th>list_size_dropdown</th>\n",
       "      <th>...</th>\n",
       "      <th>saw_sizecharts</th>\n",
       "      <th>saw_delivery</th>\n",
       "      <th>saw_account_upgrade</th>\n",
       "      <th>saw_homepage</th>\n",
       "      <th>device_mobile</th>\n",
       "      <th>device_computer</th>\n",
       "      <th>device_tablet</th>\n",
       "      <th>returning_user</th>\n",
       "      <th>loc_uk</th>\n",
       "      <th>ordered</th>\n",
       "    </tr>\n",
       "  </thead>\n",
       "  <tbody>\n",
       "    <tr>\n",
       "      <th>0</th>\n",
       "      <td>a720-6b732349-a720-4862-bd21-644732</td>\n",
       "      <td>0</td>\n",
       "      <td>0</td>\n",
       "      <td>0</td>\n",
       "      <td>0</td>\n",
       "      <td>0</td>\n",
       "      <td>0</td>\n",
       "      <td>0</td>\n",
       "      <td>0</td>\n",
       "      <td>0</td>\n",
       "      <td>...</td>\n",
       "      <td>0</td>\n",
       "      <td>0</td>\n",
       "      <td>0</td>\n",
       "      <td>0</td>\n",
       "      <td>1</td>\n",
       "      <td>0</td>\n",
       "      <td>0</td>\n",
       "      <td>0</td>\n",
       "      <td>1</td>\n",
       "      <td>0</td>\n",
       "    </tr>\n",
       "    <tr>\n",
       "      <th>1</th>\n",
       "      <td>a0c0-6b73247c-a0c0-4bd9-8baa-797356</td>\n",
       "      <td>0</td>\n",
       "      <td>0</td>\n",
       "      <td>0</td>\n",
       "      <td>0</td>\n",
       "      <td>0</td>\n",
       "      <td>0</td>\n",
       "      <td>0</td>\n",
       "      <td>0</td>\n",
       "      <td>0</td>\n",
       "      <td>...</td>\n",
       "      <td>0</td>\n",
       "      <td>0</td>\n",
       "      <td>0</td>\n",
       "      <td>0</td>\n",
       "      <td>1</td>\n",
       "      <td>0</td>\n",
       "      <td>0</td>\n",
       "      <td>0</td>\n",
       "      <td>1</td>\n",
       "      <td>0</td>\n",
       "    </tr>\n",
       "    <tr>\n",
       "      <th>2</th>\n",
       "      <td>86a8-6b735c67-86a8-407b-ba24-333055</td>\n",
       "      <td>0</td>\n",
       "      <td>0</td>\n",
       "      <td>0</td>\n",
       "      <td>0</td>\n",
       "      <td>0</td>\n",
       "      <td>0</td>\n",
       "      <td>0</td>\n",
       "      <td>0</td>\n",
       "      <td>0</td>\n",
       "      <td>...</td>\n",
       "      <td>0</td>\n",
       "      <td>0</td>\n",
       "      <td>0</td>\n",
       "      <td>0</td>\n",
       "      <td>1</td>\n",
       "      <td>0</td>\n",
       "      <td>0</td>\n",
       "      <td>1</td>\n",
       "      <td>1</td>\n",
       "      <td>0</td>\n",
       "    </tr>\n",
       "  </tbody>\n",
       "</table>\n",
       "<p>3 rows × 25 columns</p>\n",
       "</div>"
      ],
      "text/plain": [
       "                                UserID  basket_icon_click  basket_add_list  \\\n",
       "0  a720-6b732349-a720-4862-bd21-644732                  0                0   \n",
       "1  a0c0-6b73247c-a0c0-4bd9-8baa-797356                  0                0   \n",
       "2  86a8-6b735c67-86a8-407b-ba24-333055                  0                0   \n",
       "\n",
       "   basket_add_detail  sort_by  image_picker  account_page_click  \\\n",
       "0                  0        0             0                   0   \n",
       "1                  0        0             0                   0   \n",
       "2                  0        0             0                   0   \n",
       "\n",
       "   promo_banner_click  detail_wishlist_add  list_size_dropdown  ...  \\\n",
       "0                   0                    0                   0  ...   \n",
       "1                   0                    0                   0  ...   \n",
       "2                   0                    0                   0  ...   \n",
       "\n",
       "   saw_sizecharts  saw_delivery  saw_account_upgrade  saw_homepage  \\\n",
       "0               0             0                    0             0   \n",
       "1               0             0                    0             0   \n",
       "2               0             0                    0             0   \n",
       "\n",
       "   device_mobile  device_computer  device_tablet  returning_user  loc_uk  \\\n",
       "0              1                0              0               0       1   \n",
       "1              1                0              0               0       1   \n",
       "2              1                0              0               1       1   \n",
       "\n",
       "   ordered  \n",
       "0        0  \n",
       "1        0  \n",
       "2        0  \n",
       "\n",
       "[3 rows x 25 columns]"
      ]
     },
     "execution_count": 4,
     "metadata": {},
     "output_type": "execute_result"
    }
   ],
   "source": [
    "df.head(3)"
   ]
  },
  {
   "cell_type": "code",
   "execution_count": 5,
   "metadata": {},
   "outputs": [
    {
     "name": "stdout",
     "output_type": "stream",
     "text": [
      "Numero de colunas:  25\n"
     ]
    }
   ],
   "source": [
    "print('Numero de colunas: ', len(df.columns))"
   ]
  },
  {
   "cell_type": "markdown",
   "metadata": {},
   "source": [
    "**Verificando nulos**"
   ]
  },
  {
   "cell_type": "code",
   "execution_count": 6,
   "metadata": {
    "scrolled": true
   },
   "outputs": [
    {
     "data": {
      "text/plain": [
       "UserID                     0\n",
       "basket_icon_click          0\n",
       "basket_add_list            0\n",
       "basket_add_detail          0\n",
       "sort_by                    0\n",
       "image_picker               0\n",
       "account_page_click         0\n",
       "promo_banner_click         0\n",
       "detail_wishlist_add        0\n",
       "list_size_dropdown         0\n",
       "closed_minibasket_click    0\n",
       "checked_delivery_detail    0\n",
       "checked_returns_detail     0\n",
       "sign_in                    0\n",
       "saw_checkout               0\n",
       "saw_sizecharts             0\n",
       "saw_delivery               0\n",
       "saw_account_upgrade        0\n",
       "saw_homepage               0\n",
       "device_mobile              0\n",
       "device_computer            0\n",
       "device_tablet              0\n",
       "returning_user             0\n",
       "loc_uk                     0\n",
       "ordered                    0\n",
       "dtype: int64"
      ]
     },
     "execution_count": 6,
     "metadata": {},
     "output_type": "execute_result"
    }
   ],
   "source": [
    "df.isnull().sum()"
   ]
  },
  {
   "cell_type": "markdown",
   "metadata": {},
   "source": [
    "**Verificando se a base está balanceada**"
   ]
  },
  {
   "cell_type": "code",
   "execution_count": 7,
   "metadata": {},
   "outputs": [
    {
     "data": {
      "text/plain": [
       "0    436308\n",
       "1     19093\n",
       "Name: ordered, dtype: int64"
      ]
     },
     "execution_count": 7,
     "metadata": {},
     "output_type": "execute_result"
    }
   ],
   "source": [
    "df.ordered.value_counts()"
   ]
  },
  {
   "cell_type": "code",
   "execution_count": 8,
   "metadata": {},
   "outputs": [
    {
     "data": {
      "image/png": "[encoded data removed]",
      "text/plain": [
       "<Figure size 432x288 with 1 Axes>"
      ]
     },
     "metadata": {
      "needs_background": "light"
     },
     "output_type": "display_data"
    }
   ],
   "source": [
    "# Plot \n",
    "sns.countplot(df.ordered, palette=\"rocket\") #Set2 - rocket - coolwarm\n",
    "plt.box(False)\n",
    "plt.xlabel('Pedidos Não (0) / Sim (1)', fontsize = 11)\n",
    "plt.ylabel('Qtde', fontsize = 11)\n",
    "plt.title('Contagem de Classes\\n')\n",
    "plt.show()"
   ]
  },
  {
   "cell_type": "code",
   "execution_count": 9,
   "metadata": {},
   "outputs": [
    {
     "data": {
      "text/plain": [
       "0    95.807431\n",
       "1     4.192569\n",
       "Name: ordered, dtype: float64"
      ]
     },
     "execution_count": 9,
     "metadata": {},
     "output_type": "execute_result"
    }
   ],
   "source": [
    "df.ordered.value_counts(normalize=True)*100"
   ]
  },
  {
   "cell_type": "markdown",
   "metadata": {},
   "source": [
    "Como esperado, **base desbalanceada.** Menos de 5% realizaram pedido."
   ]
  },
  {
   "cell_type": "code",
   "execution_count": 10,
   "metadata": {},
   "outputs": [
    {
     "data": {
      "text/plain": [
       "Index(['UserID', 'basket_icon_click', 'basket_add_list', 'basket_add_detail',\n",
       "       'sort_by', 'image_picker', 'account_page_click', 'promo_banner_click',\n",
       "       'detail_wishlist_add', 'list_size_dropdown', 'closed_minibasket_click',\n",
       "       'checked_delivery_detail', 'checked_returns_detail', 'sign_in',\n",
       "       'saw_checkout', 'saw_sizecharts', 'saw_delivery', 'saw_account_upgrade',\n",
       "       'saw_homepage', 'device_mobile', 'device_computer', 'device_tablet',\n",
       "       'returning_user', 'loc_uk', 'ordered'],\n",
       "      dtype='object')"
      ]
     },
     "execution_count": 10,
     "metadata": {},
     "output_type": "execute_result"
    }
   ],
   "source": [
    "df.columns"
   ]
  },
  {
   "cell_type": "markdown",
   "metadata": {},
   "source": [
    "##### Pie Chart Tipos de Visitante"
   ]
  },
  {
   "cell_type": "code",
   "execution_count": 11,
   "metadata": {
    "scrolled": true
   },
   "outputs": [
    {
     "data": {
      "text/plain": [
       "<matplotlib.legend.Legend at 0x1e8d58967b8>"
      ]
     },
     "execution_count": 11,
     "metadata": {},
     "output_type": "execute_result"
    },
    {
     "data": {
      "image/png": "[encoded data removed]",
      "text/plain": [
       "<Figure size 432x288 with 1 Axes>"
      ]
     },
     "metadata": {},
     "output_type": "display_data"
    }
   ],
   "source": [
    "# Pie Chart Tipos de Visitantes\n",
    "labels = ['Visitante_Retornando', 'Novo_Visitante']\n",
    "plt.title(\"Tipos de Visitantes\")\n",
    "plt.pie(df['returning_user'].value_counts(), labels = labels, autopct = '%.2f%%')\n",
    "plt.legend()"
   ]
  },
  {
   "cell_type": "markdown",
   "metadata": {},
   "source": [
    "##### Stacked Bar Tipo de Visitante x ordered"
   ]
  },
  {
   "cell_type": "code",
   "execution_count": 12,
   "metadata": {},
   "outputs": [
    {
     "data": {
      "text/plain": [
       "<AxesSubplot:xlabel='returning_user'>"
      ]
     },
     "execution_count": 12,
     "metadata": {},
     "output_type": "execute_result"
    },
    {
     "data": {
      "image/png": "[encoded data removed]",
      "text/plain": [
       "<Figure size 720x360 with 1 Axes>"
      ]
     },
     "metadata": {
      "needs_background": "light"
     },
     "output_type": "display_data"
    }
   ],
   "source": [
    "# Stacked Bar Tipo de Visitante x ordered\n",
    "pd.crosstab(df['returning_user'], df['ordered']).plot(kind = 'bar',\n",
    "                                                      stacked = True,\n",
    "                                                      figsize = (10, 5), \n",
    "                                                      color = ['red', 'green'])"
   ]
  },
  {
   "cell_type": "markdown",
   "metadata": {},
   "source": [
    "#### Pie Chart Mobile x not Mobile"
   ]
  },
  {
   "cell_type": "code",
   "execution_count": 13,
   "metadata": {},
   "outputs": [
    {
     "data": {
      "text/plain": [
       "<matplotlib.legend.Legend at 0x1e8d599b5f8>"
      ]
     },
     "execution_count": 13,
     "metadata": {},
     "output_type": "execute_result"
    },
    {
     "data": {
      "image/png": "[encoded data removed]",
      "text/plain": [
       "<Figure size 432x288 with 1 Axes>"
      ]
     },
     "metadata": {},
     "output_type": "display_data"
    }
   ],
   "source": [
    "# Pie Chart Mobile x not Mobile\n",
    "labels = ['Mobile', 'Not Mobile']\n",
    "plt.title(\"Mobile or not\")\n",
    "plt.pie(df['device_mobile'].value_counts(), labels = labels, autopct = '%.2f%%')\n",
    "plt.legend()"
   ]
  },
  {
   "cell_type": "markdown",
   "metadata": {},
   "source": [
    "#### Stacked Bar mobile x ordered"
   ]
  },
  {
   "cell_type": "code",
   "execution_count": 14,
   "metadata": {},
   "outputs": [
    {
     "name": "stdout",
     "output_type": "stream",
     "text": [
      "Mobile\n"
     ]
    },
    {
     "data": {
      "text/plain": [
       "<AxesSubplot:xlabel='device_mobile'>"
      ]
     },
     "execution_count": 14,
     "metadata": {},
     "output_type": "execute_result"
    },
    {
     "data": {
      "image/png": "[encoded data removed]",
      "text/plain": [
       "<Figure size 720x360 with 1 Axes>"
      ]
     },
     "metadata": {
      "needs_background": "light"
     },
     "output_type": "display_data"
    }
   ],
   "source": [
    "# Stacked Bar mobile x ordered\n",
    "print('Mobile')\n",
    "pd.crosstab(df['device_mobile'], df['ordered']).plot(kind = 'bar',\n",
    "                                                      stacked = True,\n",
    "                                                      figsize = (10, 5), \n",
    "                                                      color = ['red', 'green'])"
   ]
  },
  {
   "cell_type": "markdown",
   "metadata": {},
   "source": [
    "#### Stacked Bar computer x ordered"
   ]
  },
  {
   "cell_type": "code",
   "execution_count": 15,
   "metadata": {
    "scrolled": true
   },
   "outputs": [
    {
     "name": "stdout",
     "output_type": "stream",
     "text": [
      "Computer\n"
     ]
    },
    {
     "data": {
      "text/plain": [
       "<AxesSubplot:xlabel='device_computer'>"
      ]
     },
     "execution_count": 15,
     "metadata": {},
     "output_type": "execute_result"
    },
    {
     "data": {
      "image/png": "[encoded data removed]",
      "text/plain": [
       "<Figure size 720x360 with 1 Axes>"
      ]
     },
     "metadata": {
      "needs_background": "light"
     },
     "output_type": "display_data"
    }
   ],
   "source": [
    "# Stacked Bar computer x ordered\n",
    "print('Computer')\n",
    "pd.crosstab(df['device_computer'], df['ordered']).plot(kind = 'bar',\n",
    "                                                      stacked = True,\n",
    "                                                      figsize = (10, 5), \n",
    "                                                      color = ['red', 'green'])"
   ]
  },
  {
   "cell_type": "markdown",
   "metadata": {},
   "source": [
    "#### Stacked Bar Tablet x ordered"
   ]
  },
  {
   "cell_type": "code",
   "execution_count": 16,
   "metadata": {},
   "outputs": [
    {
     "name": "stdout",
     "output_type": "stream",
     "text": [
      "Tablet\n"
     ]
    },
    {
     "data": {
      "text/plain": [
       "<AxesSubplot:xlabel='device_tablet'>"
      ]
     },
     "execution_count": 16,
     "metadata": {},
     "output_type": "execute_result"
    },
    {
     "data": {
      "image/png": "[encoded data removed]",
      "text/plain": [
       "<Figure size 720x360 with 1 Axes>"
      ]
     },
     "metadata": {
      "needs_background": "light"
     },
     "output_type": "display_data"
    }
   ],
   "source": [
    "# Stacked Bar Tablet x ordered\n",
    "print('Tablet')\n",
    "pd.crosstab(df['device_tablet'], df['ordered']).plot(kind = 'bar',\n",
    "                                                      stacked = True,\n",
    "                                                      figsize = (10, 5), \n",
    "                                                      color = ['red', 'green'])"
   ]
  },
  {
   "cell_type": "code",
   "execution_count": 17,
   "metadata": {},
   "outputs": [
    {
     "data": {
      "text/plain": [
       "<AxesSubplot:>"
      ]
     },
     "execution_count": 17,
     "metadata": {},
     "output_type": "execute_result"
    },
    {
     "data": {
      "image/png": "[encoded data removed]",
      "text/plain": [
       "<Figure size 1440x1080 with 2 Axes>"
      ]
     },
     "metadata": {
      "needs_background": "light"
     },
     "output_type": "display_data"
    }
   ],
   "source": [
    "import seaborn as sns\n",
    "from matplotlib import pyplot as plt\n",
    "\n",
    "#Cortando variáveis altamente correlacionadas => Correlação acima de 0.7 sai\n",
    "f, ax = plt.subplots(figsize=(20, 15))\n",
    "\n",
    "corr = df.iloc[:,1:-1].corr()\n",
    "#corr = corr[(corr <= 0)]\n",
    "#corr = corr[(corr>=0.7) | (corr <= -0.4)]\n",
    "\n",
    "sns.heatmap(corr,\n",
    "            cmap='viridis', #sns.light_palette(\"navy\", reverse=False), #viridis\n",
    "            linewidths = 0.1,\n",
    "            vmax=1.0, \n",
    "            vmin= 0,\n",
    "            annot = True, \n",
    "            annot_kws={'size': 10}, \n",
    "            square = True,\n",
    "            xticklabels=corr.columns.values,\n",
    "            yticklabels=corr.columns.values)"
   ]
  },
  {
   "cell_type": "code",
   "execution_count": 18,
   "metadata": {},
   "outputs": [
    {
     "data": {
      "text/plain": [
       "ordered                    1.000000\n",
       "checked_delivery_detail    0.798720\n",
       "saw_checkout               0.708986\n",
       "sign_in                    0.665556\n",
       "basket_icon_click          0.428334\n",
       "basket_add_detail          0.414420\n",
       "basket_add_list            0.287666\n",
       "saw_homepage               0.157778\n",
       "list_size_dropdown         0.154867\n",
       "closed_minibasket_click    0.140011\n",
       "image_picker               0.071492\n",
       "returning_user             0.060295\n",
       "checked_returns_detail     0.059484\n",
       "account_page_click         0.057279\n",
       "promo_banner_click         0.056533\n",
       "sort_by                    0.054636\n",
       "device_computer            0.049208\n",
       "loc_uk                     0.031643\n",
       "saw_delivery               0.031461\n",
       "saw_account_upgrade        0.025857\n",
       "detail_wishlist_add        0.023516\n",
       "device_tablet              0.016939\n",
       "saw_sizecharts             0.007548\n",
       "device_mobile             -0.042907\n",
       "Name: ordered, dtype: float64"
      ]
     },
     "execution_count": 18,
     "metadata": {},
     "output_type": "execute_result"
    }
   ],
   "source": [
    "df.corr()['ordered'].sort_values(ascending=False)"
   ]
  },
  {
   "cell_type": "markdown",
   "metadata": {},
   "source": [
    "É possível observar que as 3 informações com maiores correlações com o target foram: \"checked_delivery_detail\", \"saw_checkout\", \"sign_in\".\n",
    "\n",
    "Ou seja, o fato do cliente visualizar a área de perguntas frequentes sobre entrega na página de um produto, ver o checkout e fazer o login, podem ser informações relevantes para o modelo.\n",
    "\n",
    "É importante também avaliar a correlação entre essas colunas, se forem altamente correlacionadas talvez não tenha necessidade de usar as 3 na implementação"
   ]
  },
  {
   "cell_type": "code",
   "execution_count": 19,
   "metadata": {},
   "outputs": [
    {
     "data": {
      "text/plain": [
       "checked_delivery_detail    1.000000\n",
       "ordered                    0.798720\n",
       "saw_checkout               0.653109\n",
       "sign_in                    0.621738\n",
       "Name: checked_delivery_detail, dtype: float64"
      ]
     },
     "execution_count": 19,
     "metadata": {},
     "output_type": "execute_result"
    }
   ],
   "source": [
    "cols = [\"checked_delivery_detail\", \"saw_checkout\", \"sign_in\", 'ordered']\n",
    "df[cols].corr()['checked_delivery_detail'].sort_values(ascending=False)"
   ]
  },
  {
   "cell_type": "code",
   "execution_count": 20,
   "metadata": {},
   "outputs": [
    {
     "data": {
      "text/plain": [
       "saw_checkout               1.000000\n",
       "sign_in                    0.930027\n",
       "ordered                    0.708986\n",
       "checked_delivery_detail    0.653109\n",
       "Name: saw_checkout, dtype: float64"
      ]
     },
     "execution_count": 20,
     "metadata": {},
     "output_type": "execute_result"
    }
   ],
   "source": [
    "cols = [\"checked_delivery_detail\", \"saw_checkout\", \"sign_in\", 'ordered']\n",
    "df[cols].corr()['saw_checkout'].sort_values(ascending=False)"
   ]
  },
  {
   "cell_type": "markdown",
   "metadata": {},
   "source": [
    "Mas para uma primeira implementação seguirei sem retirar colunas (a não ser o id)"
   ]
  },
  {
   "cell_type": "markdown",
   "metadata": {},
   "source": [
    "# Pré processamento dos dados"
   ]
  },
  {
   "cell_type": "code",
   "execution_count": 21,
   "metadata": {
    "scrolled": true
   },
   "outputs": [
    {
     "name": "stdout",
     "output_type": "stream",
     "text": [
      "basket_icon_click\n",
      "0    0.90085\n",
      "1    0.09915\n",
      "Name: basket_icon_click, dtype: float64\n",
      "basket_add_list\n",
      "0    0.925479\n",
      "1    0.074521\n",
      "Name: basket_add_list, dtype: float64\n",
      "basket_add_detail\n",
      "0    0.887084\n",
      "1    0.112916\n",
      "Name: basket_add_detail, dtype: float64\n",
      "sort_by\n",
      "0    0.963151\n",
      "1    0.036849\n",
      "Name: sort_by, dtype: float64\n",
      "image_picker\n",
      "0    0.973265\n",
      "1    0.026735\n",
      "Name: image_picker, dtype: float64\n",
      "account_page_click\n",
      "0    0.99643\n",
      "1    0.00357\n",
      "Name: account_page_click, dtype: float64\n",
      "promo_banner_click\n",
      "0    0.983792\n",
      "1    0.016208\n",
      "Name: promo_banner_click, dtype: float64\n",
      "detail_wishlist_add\n",
      "0    0.996489\n",
      "1    0.003511\n",
      "Name: detail_wishlist_add, dtype: float64\n",
      "list_size_dropdown\n",
      "0    0.769638\n",
      "1    0.230362\n",
      "Name: list_size_dropdown, dtype: float64\n",
      "closed_minibasket_click\n",
      "0    0.982723\n",
      "1    0.017277\n",
      "Name: closed_minibasket_click, dtype: float64\n",
      "checked_delivery_detail\n",
      "0    0.937126\n",
      "1    0.062874\n",
      "Name: checked_delivery_detail, dtype: float64\n",
      "checked_returns_detail\n",
      "0    0.990821\n",
      "1    0.009179\n",
      "Name: checked_returns_detail, dtype: float64\n",
      "sign_in\n",
      "0    0.91119\n",
      "1    0.08881\n",
      "Name: sign_in, dtype: float64\n",
      "saw_checkout\n",
      "0    0.919915\n",
      "1    0.080085\n",
      "Name: saw_checkout, dtype: float64\n",
      "saw_sizecharts\n",
      "0    0.999611\n",
      "1    0.000389\n",
      "Name: saw_sizecharts, dtype: float64\n",
      "saw_delivery\n",
      "0    0.994458\n",
      "1    0.005542\n",
      "Name: saw_delivery, dtype: float64\n",
      "saw_account_upgrade\n",
      "0    0.998904\n",
      "1    0.001096\n",
      "Name: saw_account_upgrade, dtype: float64\n",
      "saw_homepage\n",
      "0    0.709976\n",
      "1    0.290024\n",
      "Name: saw_homepage, dtype: float64\n",
      "device_mobile\n",
      "1    0.680706\n",
      "0    0.319294\n",
      "Name: device_mobile, dtype: float64\n",
      "device_computer\n",
      "0    0.80578\n",
      "1    0.19422\n",
      "Name: device_computer, dtype: float64\n",
      "device_tablet\n",
      "0    0.871636\n",
      "1    0.128364\n",
      "Name: device_tablet, dtype: float64\n",
      "returning_user\n",
      "1    0.534915\n",
      "0    0.465085\n",
      "Name: returning_user, dtype: float64\n",
      "loc_uk\n",
      "1    0.933224\n",
      "0    0.066776\n",
      "Name: loc_uk, dtype: float64\n",
      "ordered\n",
      "0    0.958074\n",
      "1    0.041926\n",
      "Name: ordered, dtype: float64\n"
     ]
    }
   ],
   "source": [
    "for col in list(df.columns)[1:]:\n",
    "    print(col)\n",
    "    print(df[col].value_counts(normalize=True))"
   ]
  },
  {
   "cell_type": "markdown",
   "metadata": {},
   "source": [
    "Os dados já estão em formato ok para a implementação"
   ]
  },
  {
   "cell_type": "code",
   "execution_count": 22,
   "metadata": {},
   "outputs": [
    {
     "data": {
      "text/html": [
       "<div>\n",
       "<style scoped>\n",
       "    .dataframe tbody tr th:only-of-type {\n",
       "        vertical-align: middle;\n",
       "    }\n",
       "\n",
       "    .dataframe tbody tr th {\n",
       "        vertical-align: top;\n",
       "    }\n",
       "\n",
       "    .dataframe thead th {\n",
       "        text-align: right;\n",
       "    }\n",
       "</style>\n",
       "<table border=\"1\" class=\"dataframe\">\n",
       "  <thead>\n",
       "    <tr style=\"text-align: right;\">\n",
       "      <th></th>\n",
       "      <th>basket_icon_click</th>\n",
       "      <th>basket_add_list</th>\n",
       "      <th>basket_add_detail</th>\n",
       "      <th>sort_by</th>\n",
       "      <th>image_picker</th>\n",
       "      <th>account_page_click</th>\n",
       "      <th>promo_banner_click</th>\n",
       "      <th>detail_wishlist_add</th>\n",
       "      <th>list_size_dropdown</th>\n",
       "      <th>closed_minibasket_click</th>\n",
       "      <th>...</th>\n",
       "      <th>saw_checkout</th>\n",
       "      <th>saw_sizecharts</th>\n",
       "      <th>saw_delivery</th>\n",
       "      <th>saw_account_upgrade</th>\n",
       "      <th>saw_homepage</th>\n",
       "      <th>device_mobile</th>\n",
       "      <th>device_computer</th>\n",
       "      <th>device_tablet</th>\n",
       "      <th>returning_user</th>\n",
       "      <th>loc_uk</th>\n",
       "    </tr>\n",
       "  </thead>\n",
       "  <tbody>\n",
       "    <tr>\n",
       "      <th>0</th>\n",
       "      <td>0</td>\n",
       "      <td>0</td>\n",
       "      <td>0</td>\n",
       "      <td>0</td>\n",
       "      <td>0</td>\n",
       "      <td>0</td>\n",
       "      <td>0</td>\n",
       "      <td>0</td>\n",
       "      <td>0</td>\n",
       "      <td>0</td>\n",
       "      <td>...</td>\n",
       "      <td>0</td>\n",
       "      <td>0</td>\n",
       "      <td>0</td>\n",
       "      <td>0</td>\n",
       "      <td>0</td>\n",
       "      <td>1</td>\n",
       "      <td>0</td>\n",
       "      <td>0</td>\n",
       "      <td>0</td>\n",
       "      <td>1</td>\n",
       "    </tr>\n",
       "    <tr>\n",
       "      <th>1</th>\n",
       "      <td>0</td>\n",
       "      <td>0</td>\n",
       "      <td>0</td>\n",
       "      <td>0</td>\n",
       "      <td>0</td>\n",
       "      <td>0</td>\n",
       "      <td>0</td>\n",
       "      <td>0</td>\n",
       "      <td>0</td>\n",
       "      <td>0</td>\n",
       "      <td>...</td>\n",
       "      <td>0</td>\n",
       "      <td>0</td>\n",
       "      <td>0</td>\n",
       "      <td>0</td>\n",
       "      <td>0</td>\n",
       "      <td>1</td>\n",
       "      <td>0</td>\n",
       "      <td>0</td>\n",
       "      <td>0</td>\n",
       "      <td>1</td>\n",
       "    </tr>\n",
       "    <tr>\n",
       "      <th>2</th>\n",
       "      <td>0</td>\n",
       "      <td>0</td>\n",
       "      <td>0</td>\n",
       "      <td>0</td>\n",
       "      <td>0</td>\n",
       "      <td>0</td>\n",
       "      <td>0</td>\n",
       "      <td>0</td>\n",
       "      <td>0</td>\n",
       "      <td>0</td>\n",
       "      <td>...</td>\n",
       "      <td>0</td>\n",
       "      <td>0</td>\n",
       "      <td>0</td>\n",
       "      <td>0</td>\n",
       "      <td>0</td>\n",
       "      <td>1</td>\n",
       "      <td>0</td>\n",
       "      <td>0</td>\n",
       "      <td>1</td>\n",
       "      <td>1</td>\n",
       "    </tr>\n",
       "    <tr>\n",
       "      <th>3</th>\n",
       "      <td>0</td>\n",
       "      <td>0</td>\n",
       "      <td>0</td>\n",
       "      <td>0</td>\n",
       "      <td>0</td>\n",
       "      <td>0</td>\n",
       "      <td>0</td>\n",
       "      <td>0</td>\n",
       "      <td>0</td>\n",
       "      <td>0</td>\n",
       "      <td>...</td>\n",
       "      <td>0</td>\n",
       "      <td>0</td>\n",
       "      <td>0</td>\n",
       "      <td>0</td>\n",
       "      <td>0</td>\n",
       "      <td>1</td>\n",
       "      <td>0</td>\n",
       "      <td>0</td>\n",
       "      <td>1</td>\n",
       "      <td>1</td>\n",
       "    </tr>\n",
       "    <tr>\n",
       "      <th>4</th>\n",
       "      <td>0</td>\n",
       "      <td>1</td>\n",
       "      <td>0</td>\n",
       "      <td>1</td>\n",
       "      <td>0</td>\n",
       "      <td>0</td>\n",
       "      <td>0</td>\n",
       "      <td>0</td>\n",
       "      <td>1</td>\n",
       "      <td>0</td>\n",
       "      <td>...</td>\n",
       "      <td>1</td>\n",
       "      <td>0</td>\n",
       "      <td>0</td>\n",
       "      <td>0</td>\n",
       "      <td>1</td>\n",
       "      <td>0</td>\n",
       "      <td>0</td>\n",
       "      <td>1</td>\n",
       "      <td>0</td>\n",
       "      <td>1</td>\n",
       "    </tr>\n",
       "  </tbody>\n",
       "</table>\n",
       "<p>5 rows × 23 columns</p>\n",
       "</div>"
      ],
      "text/plain": [
       "   basket_icon_click  basket_add_list  basket_add_detail  sort_by  \\\n",
       "0                  0                0                  0        0   \n",
       "1                  0                0                  0        0   \n",
       "2                  0                0                  0        0   \n",
       "3                  0                0                  0        0   \n",
       "4                  0                1                  0        1   \n",
       "\n",
       "   image_picker  account_page_click  promo_banner_click  detail_wishlist_add  \\\n",
       "0             0                   0                   0                    0   \n",
       "1             0                   0                   0                    0   \n",
       "2             0                   0                   0                    0   \n",
       "3             0                   0                   0                    0   \n",
       "4             0                   0                   0                    0   \n",
       "\n",
       "   list_size_dropdown  closed_minibasket_click  ...  saw_checkout  \\\n",
       "0                   0                        0  ...             0   \n",
       "1                   0                        0  ...             0   \n",
       "2                   0                        0  ...             0   \n",
       "3                   0                        0  ...             0   \n",
       "4                   1                        0  ...             1   \n",
       "\n",
       "   saw_sizecharts  saw_delivery  saw_account_upgrade  saw_homepage  \\\n",
       "0               0             0                    0             0   \n",
       "1               0             0                    0             0   \n",
       "2               0             0                    0             0   \n",
       "3               0             0                    0             0   \n",
       "4               0             0                    0             1   \n",
       "\n",
       "   device_mobile  device_computer  device_tablet  returning_user  loc_uk  \n",
       "0              1                0              0               0       1  \n",
       "1              1                0              0               0       1  \n",
       "2              1                0              0               1       1  \n",
       "3              1                0              0               1       1  \n",
       "4              0                0              1               0       1  \n",
       "\n",
       "[5 rows x 23 columns]"
      ]
     },
     "execution_count": 22,
     "metadata": {},
     "output_type": "execute_result"
    }
   ],
   "source": [
    "# Variáveis explicativas\n",
    "df.iloc[:, 1:-1].head()"
   ]
  },
  {
   "cell_type": "code",
   "execution_count": 23,
   "metadata": {},
   "outputs": [
    {
     "data": {
      "text/plain": [
       "0    0\n",
       "1    0\n",
       "2    0\n",
       "3    0\n",
       "4    1\n",
       "Name: ordered, dtype: int64"
      ]
     },
     "execution_count": 23,
     "metadata": {},
     "output_type": "execute_result"
    }
   ],
   "source": [
    "# Variável Target\n",
    "df.iloc[:, -1].head()"
   ]
  },
  {
   "cell_type": "markdown",
   "metadata": {},
   "source": [
    "**Verificando se a base está balanceada**"
   ]
  },
  {
   "cell_type": "code",
   "execution_count": 24,
   "metadata": {},
   "outputs": [
    {
     "data": {
      "image/png": "[encoded data removed]",
      "text/plain": [
       "<Figure size 432x288 with 1 Axes>"
      ]
     },
     "metadata": {
      "needs_background": "light"
     },
     "output_type": "display_data"
    }
   ],
   "source": [
    "# Plot \n",
    "sns.countplot(df.ordered, palette=\"rocket\")\n",
    "plt.box(False)\n",
    "plt.xlabel('Pedidos Não (0) / Sim (1)', fontsize = 11)\n",
    "plt.ylabel('Qtde', fontsize = 11)\n",
    "plt.title('Contagem de Classes\\n')\n",
    "plt.show()"
   ]
  },
  {
   "cell_type": "markdown",
   "metadata": {},
   "source": [
    "### Balanceamento de Classe - Oversampling"
   ]
  },
  {
   "cell_type": "code",
   "execution_count": 75,
   "metadata": {},
   "outputs": [],
   "source": [
    "# Importa a função\n",
    "from imblearn.over_sampling import SMOTE\n",
    "\n",
    "# Seed para reproduzir o mesmo resultado\n",
    "seed = 100\n",
    "\n",
    "# Separa X e y\n",
    "X = df.iloc[:, 1:-1]  \n",
    "y = df.iloc[:, -1] \n",
    "\n",
    "# Cria o balanceador SMOTE\n",
    "smote_bal = SMOTE(random_state = seed)\n",
    "\n",
    "# Aplica o balanceador\n",
    "X_over, y_over = smote_bal.fit_resample(X, y)"
   ]
  },
  {
   "cell_type": "code",
   "execution_count": 76,
   "metadata": {},
   "outputs": [
    {
     "data": {
      "image/png": "[encoded data removed]",
      "text/plain": [
       "<Figure size 432x288 with 1 Axes>"
      ]
     },
     "metadata": {
      "needs_background": "light"
     },
     "output_type": "display_data"
    }
   ],
   "source": [
    "# Plot \n",
    "sns.countplot(y_over, palette=\"rocket\")\n",
    "plt.box(False)\n",
    "plt.xlabel('Pedidos Não (0) / Sim (1)', fontsize = 11)\n",
    "plt.ylabel('Qtde', fontsize = 11)\n",
    "plt.title('Contagem de Classes com base balanceada\\n')\n",
    "plt.show()"
   ]
  },
  {
   "cell_type": "code",
   "execution_count": 77,
   "metadata": {},
   "outputs": [
    {
     "data": {
      "text/plain": [
       "(455401, 25)"
      ]
     },
     "execution_count": 77,
     "metadata": {},
     "output_type": "execute_result"
    }
   ],
   "source": [
    "# Shape dos dados originais\n",
    "df.shape"
   ]
  },
  {
   "cell_type": "code",
   "execution_count": 78,
   "metadata": {},
   "outputs": [
    {
     "data": {
      "text/plain": [
       "(872616, 23)"
      ]
     },
     "execution_count": 78,
     "metadata": {},
     "output_type": "execute_result"
    }
   ],
   "source": [
    "# Shape dos dados balanceados /reamostrados\n",
    "X_over.shape"
   ]
  },
  {
   "cell_type": "code",
   "execution_count": 79,
   "metadata": {},
   "outputs": [
    {
     "data": {
      "text/plain": [
       "(872616,)"
      ]
     },
     "execution_count": 79,
     "metadata": {},
     "output_type": "execute_result"
    }
   ],
   "source": [
    "# Shape dos dados balanceados /reamostrados \n",
    "y_over.shape"
   ]
  },
  {
   "cell_type": "markdown",
   "metadata": {},
   "source": [
    "### Balanceamento de Classe - Undersampling"
   ]
  },
  {
   "cell_type": "code",
   "execution_count": 62,
   "metadata": {},
   "outputs": [
    {
     "data": {
      "text/plain": [
       "0    436308\n",
       "1     19093\n",
       "Name: ordered, dtype: int64"
      ]
     },
     "execution_count": 62,
     "metadata": {},
     "output_type": "execute_result"
    }
   ],
   "source": [
    "df['ordered'].value_counts()"
   ]
  },
  {
   "cell_type": "code",
   "execution_count": 80,
   "metadata": {},
   "outputs": [],
   "source": [
    "df_class_0 = df[df.ordered == 0]\n",
    "df_class_1 = df[df.ordered == 1]\n",
    "count_class_0, count_class_1 = df['ordered'].value_counts()\n",
    "min_count = min(count_class_0, count_class_1)\n",
    "\n",
    "df_test_under = pd.concat([df_class_0.sample(min_count), df_class_1.sample(min_count)],\n",
    "                              axis=0)\n",
    "\n",
    "X_under = df_test_under.iloc[:, 1:-1].fillna(0)\n",
    "y_under = df_test_under.iloc[:, -1].fillna(0)"
   ]
  },
  {
   "cell_type": "markdown",
   "metadata": {},
   "source": [
    "----\n",
    "Separando em treino e treino utilizando oversampling"
   ]
  },
  {
   "cell_type": "code",
   "execution_count": 83,
   "metadata": {},
   "outputs": [],
   "source": [
    "# Divisão em Dados de Treino e Teste.\n",
    "X_train, X_test, y_train, y_test = train_test_split(X_over, y_over, test_size = 0.3, random_state = 42)"
   ]
  },
  {
   "cell_type": "markdown",
   "metadata": {},
   "source": [
    "### Baseline"
   ]
  },
  {
   "cell_type": "code",
   "execution_count": 84,
   "metadata": {},
   "outputs": [],
   "source": [
    "from sklearn.naive_bayes import MultinomialNB\n",
    "from sklearn import metrics"
   ]
  },
  {
   "cell_type": "markdown",
   "metadata": {},
   "source": [
    "1. Se olharmos pra acurácia, uma abordagem pode ser todas as instâncias pertencem à apenas uma das classes disponíveis (normalmente, a classe mais comum)\n",
    "\n",
    "<br>\n",
    "<br>\n",
    "\\begin{equation}\n",
    "\\,\\frac{ Quantidade\\,classe\\,0 \\,(mais\\,comum)}{Quantidade\\,geral}\\,100\n",
    "\\end{equation}\n",
    "<br>\n",
    "<br>"
   ]
  },
  {
   "cell_type": "code",
   "execution_count": 85,
   "metadata": {},
   "outputs": [
    {
     "data": {
      "text/plain": [
       "95.8074312528958"
      ]
     },
     "execution_count": 85,
     "metadata": {},
     "output_type": "execute_result"
    }
   ],
   "source": [
    "df.ordered.value_counts().max()/df.shape[0]*100"
   ]
  },
  {
   "cell_type": "code",
   "execution_count": 86,
   "metadata": {},
   "outputs": [
    {
     "data": {
      "text/plain": [
       "0.958074312528958"
      ]
     },
     "execution_count": 86,
     "metadata": {},
     "output_type": "execute_result"
    }
   ],
   "source": [
    "classe_naive = np.array([0])\n",
    "classe_naive = np.repeat(classe_naive, df.shape[0]) \n",
    "metrics.accuracy_score(df.ordered, classe_naive)"
   ]
  },
  {
   "cell_type": "markdown",
   "metadata": {},
   "source": [
    "Lembrando que temos uma base desbalanceada, acurária não seria a melhor métrica\n",
    "\n",
    "----"
   ]
  },
  {
   "cell_type": "markdown",
   "metadata": {},
   "source": [
    "    2. Quando estamos prevendo probabilidades, uma abordagem que pode ser utilizada é definir como a proporção de instâncias na classe alvo (nosso caso = 1) como o nosso baseline. "
   ]
  },
  {
   "cell_type": "code",
   "execution_count": 87,
   "metadata": {},
   "outputs": [],
   "source": [
    "# # calculando a probabilidade do baseline como a proporção de casos positivos nos dados\n",
    "# probabilidade = round(df.ordered.value_counts().min()/df.shape[0])  #sum(df.ordered == 1)/df.shape[0]*100\n",
    "\n",
    "# # definindo esta probabilidade para todas as instâncias\n",
    "# probabilidade = np.repeat(probabilidade, df.shape[0])\n",
    "\n",
    "# #mean_absolute_error\n",
    "# metrics.log_loss(df.ordered, probabilidade)"
   ]
  },
  {
   "cell_type": "markdown",
   "metadata": {},
   "source": [
    "Consequentemente, para que qualquer modelo que desenvolvamos seja considerado útil, ele precisaria fornecer um valor menor do que este."
   ]
  },
  {
   "cell_type": "markdown",
   "metadata": {},
   "source": [
    "    3. Utilizando DummyClassifier"
   ]
  },
  {
   "cell_type": "code",
   "execution_count": 88,
   "metadata": {},
   "outputs": [
    {
     "name": "stdout",
     "output_type": "stream",
     "text": [
      "Acurácia: 0.501075309891705\n",
      "precision: 0.5001410286707476\n",
      "recall: 0.5021737799277448\n",
      "f1: 0.5011553430318494\n"
     ]
    }
   ],
   "source": [
    "from sklearn.dummy import DummyClassifier\n",
    "baseline = DummyClassifier()\n",
    "\n",
    "baseline.fit(X_train,y_train)\n",
    "\n",
    "pred_baseline = baseline.predict(X_test)\n",
    "'''Predizendo os valores para o conjunto de teste'''\n",
    "\n",
    "print('Acurácia:', metrics.accuracy_score(y_test, pred_baseline))\n",
    "print('precision:', precision_score(pred_baseline, y_test))\n",
    "print('recall:', recall_score(pred_baseline, y_test))\n",
    "print('f1:', f1_score(pred_baseline, y_test))"
   ]
  },
  {
   "cell_type": "code",
   "execution_count": 89,
   "metadata": {},
   "outputs": [
    {
     "data": {
      "text/plain": [
       "dict_keys(['constant', 'random_state', 'strategy'])"
      ]
     },
     "execution_count": 89,
     "metadata": {},
     "output_type": "execute_result"
    }
   ],
   "source": [
    "baseline.get_params().keys()"
   ]
  },
  {
   "cell_type": "markdown",
   "metadata": {},
   "source": [
    "No mínino tem que ser melhor que isso.\n",
    "\n",
    "----"
   ]
  },
  {
   "cell_type": "markdown",
   "metadata": {},
   "source": [
    "# Aplicação das Técnicas\n",
    "\n",
    "- **Naive bayes**\n",
    "           \n",
    "- **Gradient Boosting Classifier (xgb)**.\n",
    "\n",
    "- **MLPClassifier**"
   ]
  },
  {
   "cell_type": "markdown",
   "metadata": {},
   "source": [
    "----\n",
    "com a separação de treino e teste pelo oversampling"
   ]
  },
  {
   "cell_type": "code",
   "execution_count": 98,
   "metadata": {},
   "outputs": [],
   "source": [
    "def fitting_model(tecnica):\n",
    "    model = tecnica\n",
    "    model = model.fit(X_train,y_train)\n",
    "\n",
    "    pred = model.predict(X_test)\n",
    "\n",
    "#     print('Acurácia:', metrics.accuracy_score(y_test, pred))\n",
    "#     print('precision:', precision_score(pred, y_test))\n",
    "#     print('recall:', recall_score(pred, y_test))\n",
    "#     print('f1:', f1_score(pred, y_test))\n",
    "#     print('log_loss:', metrics.log_loss(y_test, pred))\n",
    "\n",
    "    print('\\nMatriz de confusão:\\n',metrics.confusion_matrix(y_test,pred))\n",
    "    \n",
    "    print('\\nMétricas de Classificação\\n', metrics.classification_report(y_test, pred))\n",
    "    return model"
   ]
  },
  {
   "cell_type": "markdown",
   "metadata": {},
   "source": [
    "**Naive bayes**"
   ]
  },
  {
   "cell_type": "code",
   "execution_count": 92,
   "metadata": {
    "scrolled": false
   },
   "outputs": [
    {
     "name": "stdout",
     "output_type": "stream",
     "text": [
      "\n",
      "Matriz de confusão: [[128849   1757]\n",
      " [  1481 129698]]\n",
      "\n",
      "Métricas de Classificação\n",
      "               precision    recall  f1-score   support\n",
      "\n",
      "           0       0.99      0.99      0.99    130606\n",
      "           1       0.99      0.99      0.99    131179\n",
      "\n",
      "    accuracy                           0.99    261785\n",
      "   macro avg       0.99      0.99      0.99    261785\n",
      "weighted avg       0.99      0.99      0.99    261785\n",
      "\n",
      "Wall time: 1.3 s\n"
     ]
    },
    {
     "data": {
      "text/plain": [
       "GaussianNB()"
      ]
     },
     "execution_count": 92,
     "metadata": {},
     "output_type": "execute_result"
    }
   ],
   "source": [
    "%%time\n",
    "fitting_model(tecnica = GaussianNB())"
   ]
  },
  {
   "cell_type": "markdown",
   "metadata": {},
   "source": [
    "**Gradient Boosting Classifier (xgb).**"
   ]
  },
  {
   "cell_type": "code",
   "execution_count": 93,
   "metadata": {},
   "outputs": [
    {
     "name": "stdout",
     "output_type": "stream",
     "text": [
      "\n",
      "Matriz de confusão: [[129583   1023]\n",
      " [  1075 130104]]\n",
      "\n",
      "Métricas de Classificação\n",
      "               precision    recall  f1-score   support\n",
      "\n",
      "           0       0.99      0.99      0.99    130606\n",
      "           1       0.99      0.99      0.99    131179\n",
      "\n",
      "    accuracy                           0.99    261785\n",
      "   macro avg       0.99      0.99      0.99    261785\n",
      "weighted avg       0.99      0.99      0.99    261785\n",
      "\n",
      "Wall time: 1min 6s\n"
     ]
    },
    {
     "data": {
      "text/plain": [
       "GradientBoostingClassifier(random_state=0)"
      ]
     },
     "execution_count": 93,
     "metadata": {},
     "output_type": "execute_result"
    }
   ],
   "source": [
    "%%time\n",
    "fitting_model(tecnica = GradientBoostingClassifier(random_state=0))"
   ]
  },
  {
   "cell_type": "markdown",
   "metadata": {},
   "source": [
    "**MLPClassifier**"
   ]
  },
  {
   "cell_type": "code",
   "execution_count": 94,
   "metadata": {},
   "outputs": [
    {
     "name": "stdout",
     "output_type": "stream",
     "text": [
      "\n",
      "Matriz de confusão: [[129299   1307]\n",
      " [   710 130469]]\n",
      "\n",
      "Métricas de Classificação\n",
      "               precision    recall  f1-score   support\n",
      "\n",
      "           0       0.99      0.99      0.99    130606\n",
      "           1       0.99      0.99      0.99    131179\n",
      "\n",
      "    accuracy                           0.99    261785\n",
      "   macro avg       0.99      0.99      0.99    261785\n",
      "weighted avg       0.99      0.99      0.99    261785\n",
      "\n",
      "Wall time: 44.2 s\n"
     ]
    },
    {
     "data": {
      "text/plain": [
       "MLPClassifier(hidden_layer_sizes=20, max_iter=1000, random_state=1)"
      ]
     },
     "execution_count": 94,
     "metadata": {},
     "output_type": "execute_result"
    }
   ],
   "source": [
    "%%time\n",
    "fitting_model(tecnica = MLPClassifier(hidden_layer_sizes=(20), random_state=1, max_iter=1000))"
   ]
  },
  {
   "cell_type": "markdown",
   "metadata": {},
   "source": [
    "----\n",
    "Separando em treino e treino utilizando undersampling"
   ]
  },
  {
   "cell_type": "code",
   "execution_count": 83,
   "metadata": {},
   "outputs": [],
   "source": [
    "# Divisão em Dados de Treino e Teste.\n",
    "X_train, X_test, y_train, y_test = train_test_split(X_under, y_under, test_size = 0.3, random_state = 42)"
   ]
  },
  {
   "cell_type": "code",
   "execution_count": 95,
   "metadata": {
    "scrolled": false
   },
   "outputs": [
    {
     "name": "stdout",
     "output_type": "stream",
     "text": [
      "\n",
      "Matriz de confusão: [[128849   1757]\n",
      " [  1481 129698]]\n",
      "\n",
      "Métricas de Classificação\n",
      "               precision    recall  f1-score   support\n",
      "\n",
      "           0       0.99      0.99      0.99    130606\n",
      "           1       0.99      0.99      0.99    131179\n",
      "\n",
      "    accuracy                           0.99    261785\n",
      "   macro avg       0.99      0.99      0.99    261785\n",
      "weighted avg       0.99      0.99      0.99    261785\n",
      "\n",
      "Wall time: 1.32 s\n"
     ]
    },
    {
     "data": {
      "text/plain": [
       "GaussianNB()"
      ]
     },
     "execution_count": 95,
     "metadata": {},
     "output_type": "execute_result"
    }
   ],
   "source": [
    "%%time\n",
    "fitting_model(tecnica = GaussianNB())"
   ]
  },
  {
   "cell_type": "markdown",
   "metadata": {},
   "source": [
    "**Gradient Boosting Classifier (xgb).**"
   ]
  },
  {
   "cell_type": "code",
   "execution_count": 96,
   "metadata": {},
   "outputs": [
    {
     "name": "stdout",
     "output_type": "stream",
     "text": [
      "\n",
      "Matriz de confusão: [[129583   1023]\n",
      " [  1075 130104]]\n",
      "\n",
      "Métricas de Classificação\n",
      "               precision    recall  f1-score   support\n",
      "\n",
      "           0       0.99      0.99      0.99    130606\n",
      "           1       0.99      0.99      0.99    131179\n",
      "\n",
      "    accuracy                           0.99    261785\n",
      "   macro avg       0.99      0.99      0.99    261785\n",
      "weighted avg       0.99      0.99      0.99    261785\n",
      "\n",
      "Wall time: 1min 5s\n"
     ]
    },
    {
     "data": {
      "text/plain": [
       "GradientBoostingClassifier(random_state=0)"
      ]
     },
     "execution_count": 96,
     "metadata": {},
     "output_type": "execute_result"
    }
   ],
   "source": [
    "%%time\n",
    "fitting_model(tecnica = GradientBoostingClassifier(random_state=0))"
   ]
  },
  {
   "cell_type": "markdown",
   "metadata": {},
   "source": [
    "**MLPClassifier**"
   ]
  },
  {
   "cell_type": "code",
   "execution_count": 97,
   "metadata": {},
   "outputs": [
    {
     "name": "stdout",
     "output_type": "stream",
     "text": [
      "\n",
      "Matriz de confusão: [[129299   1307]\n",
      " [   710 130469]]\n",
      "\n",
      "Métricas de Classificação\n",
      "               precision    recall  f1-score   support\n",
      "\n",
      "           0       0.99      0.99      0.99    130606\n",
      "           1       0.99      0.99      0.99    131179\n",
      "\n",
      "    accuracy                           0.99    261785\n",
      "   macro avg       0.99      0.99      0.99    261785\n",
      "weighted avg       0.99      0.99      0.99    261785\n",
      "\n",
      "Wall time: 47.3 s\n"
     ]
    },
    {
     "data": {
      "text/plain": [
       "MLPClassifier(hidden_layer_sizes=20, max_iter=1000, random_state=1)"
      ]
     },
     "execution_count": 97,
     "metadata": {},
     "output_type": "execute_result"
    }
   ],
   "source": [
    "%%time\n",
    "fitting_model(tecnica = MLPClassifier(hidden_layer_sizes=(20), random_state=1, max_iter=1000))"
   ]
  },
  {
   "cell_type": "markdown",
   "metadata": {},
   "source": [
    "## Revendo features utilizadas\n",
    "não que precise, mas kkkk"
   ]
  },
  {
   "cell_type": "code",
   "execution_count": 101,
   "metadata": {
    "scrolled": false
   },
   "outputs": [
    {
     "data": {
      "text/plain": [
       "<AxesSubplot:>"
      ]
     },
     "execution_count": 101,
     "metadata": {},
     "output_type": "execute_result"
    },
    {
     "data": {
      "image/png": "[encoded data removed]",
      "text/plain": [
       "<Figure size 1440x1080 with 2 Axes>"
      ]
     },
     "metadata": {
      "needs_background": "light"
     },
     "output_type": "display_data"
    }
   ],
   "source": [
    "import seaborn as sns\n",
    "from matplotlib import pyplot as plt\n",
    "\n",
    "#Cortando variáveis altamente correlacionadas => Correlação acima de 0.7 sai\n",
    "f, ax = plt.subplots(figsize=(20, 15))\n",
    "\n",
    "corr = df.iloc[:,1:-1].corr()\n",
    "#corr = corr[(corr <= 0)]\n",
    "corr = corr[(corr>=0.5) | (corr <= -0.5)]\n",
    "\n",
    "sns.heatmap(corr,\n",
    "            cmap='viridis', #sns.light_palette(\"navy\", reverse=False), #viridis\n",
    "            linewidths = 0.1,\n",
    "            vmax=1.0, \n",
    "            vmin= 0,\n",
    "            annot = True, \n",
    "            annot_kws={'size': 10}, \n",
    "            square = True,\n",
    "            xticklabels=corr.columns.values,\n",
    "            yticklabels=corr.columns.values)"
   ]
  },
  {
   "cell_type": "markdown",
   "metadata": {},
   "source": [
    "**basket_icon_click** com **basket_add_detail** (0.53):  faz sentido, o cliente que clica no carrinho, acaba olhando os detalhes, talvez.\n",
    "\n",
    "\n",
    "**sign_in** correlacionado com **saw_checkout** (0.93)\n",
    "\n",
    "**checked_delivery_detailed** com **sign_in** (0.62), **saw_checkout** (0.65)\n",
    "\n",
    "\n",
    "**device_mobile** inverso com **device_computer** (-0.71) e **device_tablet** (-0.55)\n",
    "..o que pode fazer sentido, se entra com um tipo de aparelho, talvez não entre com o outro"
   ]
  },
  {
   "cell_type": "code",
   "execution_count": 126,
   "metadata": {},
   "outputs": [],
   "source": [
    "cols = ['basket_icon_click', 'basket_add_detail', 'sign_in', \n",
    "        'saw_checkout' ,'checked_delivery_detail', 'device_mobile',\n",
    "       'device_computer', 'device_tablet', 'ordered']"
   ]
  },
  {
   "cell_type": "code",
   "execution_count": 127,
   "metadata": {},
   "outputs": [
    {
     "data": {
      "text/plain": [
       "<AxesSubplot:>"
      ]
     },
     "execution_count": 127,
     "metadata": {},
     "output_type": "execute_result"
    },
    {
     "data": {
      "image/png": "[encoded data removed]",
      "text/plain": [
       "<Figure size 864x432 with 2 Axes>"
      ]
     },
     "metadata": {
      "needs_background": "light"
     },
     "output_type": "display_data"
    }
   ],
   "source": [
    "f, ax = plt.subplots(figsize=(12, 6))\n",
    "\n",
    "corr = df[cols].corr()\n",
    "#corr = corr[(corr>=0.5) | (corr <= -0.5)]\n",
    "\n",
    "sns.heatmap(corr,\n",
    "            cmap='viridis', #sns.light_palette(\"navy\", reverse=False), #viridis\n",
    "            linewidths = 0.5,\n",
    "            annot = True,\n",
    "            annot_kws={'size': 12})"
   ]
  },
  {
   "cell_type": "markdown",
   "metadata": {},
   "source": [
    "Vou retirar **basket_add_detail**\n",
    "\n",
    "Vou retirar **sign_in**\n",
    "\n",
    "Vou retirar **device_mobile** e **device_tablet**"
   ]
  },
  {
   "cell_type": "code",
   "execution_count": 135,
   "metadata": {},
   "outputs": [],
   "source": [
    "cols_remove = ['basket_add_detail', 'sign_in', 'device_mobile', 'device_tablet']\n",
    "cols = list(set(list(X_over.columns)) - set(list(cols_remove)))"
   ]
  },
  {
   "cell_type": "code",
   "execution_count": 140,
   "metadata": {},
   "outputs": [],
   "source": [
    "# Divisão em Dados de Treino e Teste.\n",
    "X_train, X_test, y_train, y_test = train_test_split(X_over[cols], y_over, test_size = 0.3, random_state = 42)"
   ]
  },
  {
   "cell_type": "markdown",
   "metadata": {},
   "source": [
    "**Naive bayes**"
   ]
  },
  {
   "cell_type": "code",
   "execution_count": 141,
   "metadata": {
    "scrolled": false
   },
   "outputs": [
    {
     "name": "stdout",
     "output_type": "stream",
     "text": [
      "\n",
      "Matriz de confusão:\n",
      " [[129174   1432]\n",
      " [  1128 130051]]\n",
      "\n",
      "Métricas de Classificação\n",
      "               precision    recall  f1-score   support\n",
      "\n",
      "           0       0.99      0.99      0.99    130606\n",
      "           1       0.99      0.99      0.99    131179\n",
      "\n",
      "    accuracy                           0.99    261785\n",
      "   macro avg       0.99      0.99      0.99    261785\n",
      "weighted avg       0.99      0.99      0.99    261785\n",
      "\n",
      "Wall time: 1.03 s\n"
     ]
    },
    {
     "data": {
      "text/plain": [
       "GaussianNB()"
      ]
     },
     "execution_count": 141,
     "metadata": {},
     "output_type": "execute_result"
    }
   ],
   "source": [
    "%%time\n",
    "fitting_model(tecnica = GaussianNB())"
   ]
  },
  {
   "cell_type": "markdown",
   "metadata": {},
   "source": [
    "**Gradient Boosting Classifier (xgb).**"
   ]
  },
  {
   "cell_type": "code",
   "execution_count": 142,
   "metadata": {},
   "outputs": [
    {
     "name": "stdout",
     "output_type": "stream",
     "text": [
      "\n",
      "Matriz de confusão:\n",
      " [[129599   1007]\n",
      " [  1186 129993]]\n",
      "\n",
      "Métricas de Classificação\n",
      "               precision    recall  f1-score   support\n",
      "\n",
      "           0       0.99      0.99      0.99    130606\n",
      "           1       0.99      0.99      0.99    131179\n",
      "\n",
      "    accuracy                           0.99    261785\n",
      "   macro avg       0.99      0.99      0.99    261785\n",
      "weighted avg       0.99      0.99      0.99    261785\n",
      "\n",
      "Wall time: 52.5 s\n"
     ]
    },
    {
     "data": {
      "text/plain": [
       "GradientBoostingClassifier(random_state=0)"
      ]
     },
     "execution_count": 142,
     "metadata": {},
     "output_type": "execute_result"
    }
   ],
   "source": [
    "%%time\n",
    "fitting_model(tecnica = GradientBoostingClassifier(random_state=0))"
   ]
  },
  {
   "cell_type": "markdown",
   "metadata": {},
   "source": [
    "**MLPClassifier**"
   ]
  },
  {
   "cell_type": "code",
   "execution_count": 143,
   "metadata": {},
   "outputs": [
    {
     "name": "stdout",
     "output_type": "stream",
     "text": [
      "\n",
      "Matriz de confusão:\n",
      " [[129520   1086]\n",
      " [  1052 130127]]\n",
      "\n",
      "Métricas de Classificação\n",
      "               precision    recall  f1-score   support\n",
      "\n",
      "           0       0.99      0.99      0.99    130606\n",
      "           1       0.99      0.99      0.99    131179\n",
      "\n",
      "    accuracy                           0.99    261785\n",
      "   macro avg       0.99      0.99      0.99    261785\n",
      "weighted avg       0.99      0.99      0.99    261785\n",
      "\n",
      "Wall time: 34.1 s\n"
     ]
    },
    {
     "data": {
      "text/plain": [
       "MLPClassifier(hidden_layer_sizes=20, max_iter=1000, random_state=1)"
      ]
     },
     "execution_count": 143,
     "metadata": {},
     "output_type": "execute_result"
    }
   ],
   "source": [
    "%%time\n",
    "fitting_model(tecnica = MLPClassifier(hidden_layer_sizes=(20), random_state=1, max_iter=1000))"
   ]
  },
  {
   "cell_type": "markdown",
   "metadata": {},
   "source": [
    "**Não muda muita coisa porque já estamos com métricas boas. A base arrumadinha ajuda, na realidade não funcionaria assim **"
   ]
  },
  {
   "cell_type": "markdown",
   "metadata": {},
   "source": [
    "## Gridsearch com xgb"
   ]
  },
  {
   "cell_type": "code",
   "execution_count": 150,
   "metadata": {},
   "outputs": [
    {
     "data": {
      "text/plain": [
       "dict_keys(['ccp_alpha', 'criterion', 'init', 'learning_rate', 'loss', 'max_depth', 'max_features', 'max_leaf_nodes', 'min_impurity_decrease', 'min_impurity_split', 'min_samples_leaf', 'min_samples_split', 'min_weight_fraction_leaf', 'n_estimators', 'n_iter_no_change', 'presort', 'random_state', 'subsample', 'tol', 'validation_fraction', 'verbose', 'warm_start'])"
      ]
     },
     "execution_count": 150,
     "metadata": {},
     "output_type": "execute_result"
    }
   ],
   "source": [
    "model = GradientBoostingClassifier(random_state=0)\n",
    "model.get_params().keys()"
   ]
  },
  {
   "cell_type": "code",
   "execution_count": 151,
   "metadata": {},
   "outputs": [
    {
     "name": "stdout",
     "output_type": "stream",
     "text": [
      "Fitting 3 folds for each of 48 candidates, totalling 144 fits\n",
      "[Parallel(n_jobs=-1)]: Using backend LokyBackend with 8 concurrent workers.\n",
      "Pickling array (shape=(19,), dtype=object).\n",
      "Memmapping (shape=(610831,), dtype=int64) to new file C:\\Users\\NATHAL~1.BRU\\AppData\\Local\\Temp\\joblib_memmapping_folder_21624_8864526728\\21624-2098143416840-d6d44e4f89504b969069c9698b470c3b.pkl\n",
      "Memmapping (shape=(19, 610831), dtype=int64) to new file C:\\Users\\NATHAL~1.BRU\\AppData\\Local\\Temp\\joblib_memmapping_folder_21624_8864526728\\21624-2098143416840-4474d4f9e52d4c309f8ba7dfdfe0f0f7.pkl\n",
      "Pickling array (shape=(19,), dtype=object).\n",
      "Memmapping (shape=(610831,), dtype=int64) to new file C:\\Users\\NATHAL~1.BRU\\AppData\\Local\\Temp\\joblib_memmapping_folder_21624_8864526728\\21624-2098143416840-6b92e2652d5e4589a8eb6b272206468e.pkl\n",
      "Memmapping (shape=(610831,), dtype=int64) to new file C:\\Users\\NATHAL~1.BRU\\AppData\\Local\\Temp\\joblib_memmapping_folder_21624_8864526728\\21624-2098143416840-9553dd9dc2f044418b043294e866160e.pkl\n",
      "Memmapping (shape=(610831,), dtype=int64) to new file C:\\Users\\NATHAL~1.BRU\\AppData\\Local\\Temp\\joblib_memmapping_folder_21624_8864526728\\21624-2098143416840-e1ba0650a660430581f1a54d8fdabf3b.pkl\n",
      "Memmapping (shape=(407220,), dtype=int32) to new file C:\\Users\\NATHAL~1.BRU\\AppData\\Local\\Temp\\joblib_memmapping_folder_21624_8864526728\\21624-2098143416840-84100862bfc441c480c8bbf2b827263c.pkl\n",
      "Pickling array (shape=(203611,), dtype=int32).\n",
      "Pickling array (shape=(19,), dtype=object).\n",
      "Memmapping (shape=(610831,), dtype=int64) to old file C:\\Users\\NATHAL~1.BRU\\AppData\\Local\\Temp\\joblib_memmapping_folder_21624_8864526728\\21624-2098143416840-d6d44e4f89504b969069c9698b470c3b.pkl\n",
      "Memmapping (shape=(19, 610831), dtype=int64) to old file C:\\Users\\NATHAL~1.BRU\\AppData\\Local\\Temp\\joblib_memmapping_folder_21624_8864526728\\21624-2098143416840-4474d4f9e52d4c309f8ba7dfdfe0f0f7.pkl\n",
      "Pickling array (shape=(19,), dtype=object).\n",
      "Memmapping (shape=(610831,), dtype=int64) to old file C:\\Users\\NATHAL~1.BRU\\AppData\\Local\\Temp\\joblib_memmapping_folder_21624_8864526728\\21624-2098143416840-6b92e2652d5e4589a8eb6b272206468e.pkl\n",
      "Memmapping (shape=(610831,), dtype=int64) to old file C:\\Users\\NATHAL~1.BRU\\AppData\\Local\\Temp\\joblib_memmapping_folder_21624_8864526728\\21624-2098143416840-9553dd9dc2f044418b043294e866160e.pkl\n",
      "Memmapping (shape=(610831,), dtype=int64) to new file C:\\Users\\NATHAL~1.BRU\\AppData\\Local\\Temp\\joblib_memmapping_folder_21624_8864526728\\21624-2098143416840-d28a2621cdc44e73a0bbf94d43b60e1e.pkl\n",
      "Memmapping (shape=(407221,), dtype=int32) to new file C:\\Users\\NATHAL~1.BRU\\AppData\\Local\\Temp\\joblib_memmapping_folder_21624_8864526728\\21624-2098143416840-c60f2c5ebaa7426b809b85e1d36b6670.pkl\n",
      "Pickling array (shape=(203610,), dtype=int32).\n",
      "Pickling array (shape=(19,), dtype=object).\n",
      "Memmapping (shape=(610831,), dtype=int64) to old file C:\\Users\\NATHAL~1.BRU\\AppData\\Local\\Temp\\joblib_memmapping_folder_21624_8864526728\\21624-2098143416840-d6d44e4f89504b969069c9698b470c3b.pkl\n",
      "Memmapping (shape=(19, 610831), dtype=int64) to old file C:\\Users\\NATHAL~1.BRU\\AppData\\Local\\Temp\\joblib_memmapping_folder_21624_8864526728\\21624-2098143416840-4474d4f9e52d4c309f8ba7dfdfe0f0f7.pkl\n",
      "Pickling array (shape=(19,), dtype=object).\n",
      "Memmapping (shape=(610831,), dtype=int64) to old file C:\\Users\\NATHAL~1.BRU\\AppData\\Local\\Temp\\joblib_memmapping_folder_21624_8864526728\\21624-2098143416840-6b92e2652d5e4589a8eb6b272206468e.pkl\n",
      "Memmapping (shape=(610831,), dtype=int64) to old file C:\\Users\\NATHAL~1.BRU\\AppData\\Local\\Temp\\joblib_memmapping_folder_21624_8864526728\\21624-2098143416840-9553dd9dc2f044418b043294e866160e.pkl\n",
      "Memmapping (shape=(610831,), dtype=int64) to new file C:\\Users\\NATHAL~1.BRU\\AppData\\Local\\Temp\\joblib_memmapping_folder_21624_8864526728\\21624-2098143416840-0857774aa0da49dd8f7b48de28632a2a.pkl\n",
      "Memmapping (shape=(407221,), dtype=int32) to new file C:\\Users\\NATHAL~1.BRU\\AppData\\Local\\Temp\\joblib_memmapping_folder_21624_8864526728\\21624-2098143416840-db03436e1e5c4327bcb9471086e99f45.pkl\n",
      "Pickling array (shape=(203610,), dtype=int32).\n",
      "Pickling array (shape=(19,), dtype=object).\n",
      "Memmapping (shape=(610831,), dtype=int64) to old file C:\\Users\\NATHAL~1.BRU\\AppData\\Local\\Temp\\joblib_memmapping_folder_21624_8864526728\\21624-2098143416840-d6d44e4f89504b969069c9698b470c3b.pkl\n",
      "Memmapping (shape=(19, 610831), dtype=int64) to old file C:\\Users\\NATHAL~1.BRU\\AppData\\Local\\Temp\\joblib_memmapping_folder_21624_8864526728\\21624-2098143416840-4474d4f9e52d4c309f8ba7dfdfe0f0f7.pkl\n",
      "Pickling array (shape=(19,), dtype=object).\n",
      "Memmapping (shape=(610831,), dtype=int64) to old file C:\\Users\\NATHAL~1.BRU\\AppData\\Local\\Temp\\joblib_memmapping_folder_21624_8864526728\\21624-2098143416840-6b92e2652d5e4589a8eb6b272206468e.pkl\n",
      "Memmapping (shape=(610831,), dtype=int64) to old file C:\\Users\\NATHAL~1.BRU\\AppData\\Local\\Temp\\joblib_memmapping_folder_21624_8864526728\\21624-2098143416840-9553dd9dc2f044418b043294e866160e.pkl\n",
      "Memmapping (shape=(610831,), dtype=int64) to new file C:\\Users\\NATHAL~1.BRU\\AppData\\Local\\Temp\\joblib_memmapping_folder_21624_8864526728\\21624-2098143416840-312e011f74eb40ad89449761aa69a9ef.pkl\n",
      "Memmapping (shape=(407220,), dtype=int32) to old file C:\\Users\\NATHAL~1.BRU\\AppData\\Local\\Temp\\joblib_memmapping_folder_21624_8864526728\\21624-2098143416840-84100862bfc441c480c8bbf2b827263c.pkl\n",
      "Pickling array (shape=(203611,), dtype=int32).\n",
      "Pickling array (shape=(19,), dtype=object).\n",
      "Memmapping (shape=(610831,), dtype=int64) to old file C:\\Users\\NATHAL~1.BRU\\AppData\\Local\\Temp\\joblib_memmapping_folder_21624_8864526728\\21624-2098143416840-d6d44e4f89504b969069c9698b470c3b.pkl\n",
      "Memmapping (shape=(19, 610831), dtype=int64) to old file C:\\Users\\NATHAL~1.BRU\\AppData\\Local\\Temp\\joblib_memmapping_folder_21624_8864526728\\21624-2098143416840-4474d4f9e52d4c309f8ba7dfdfe0f0f7.pkl\n",
      "Pickling array (shape=(19,), dtype=object).\n",
      "Memmapping (shape=(610831,), dtype=int64) to old file C:\\Users\\NATHAL~1.BRU\\AppData\\Local\\Temp\\joblib_memmapping_folder_21624_8864526728\\21624-2098143416840-6b92e2652d5e4589a8eb6b272206468e.pkl\n",
      "Memmapping (shape=(610831,), dtype=int64) to old file C:\\Users\\NATHAL~1.BRU\\AppData\\Local\\Temp\\joblib_memmapping_folder_21624_8864526728\\21624-2098143416840-9553dd9dc2f044418b043294e866160e.pkl\n",
      "Memmapping (shape=(610831,), dtype=int64) to new file C:\\Users\\NATHAL~1.BRU\\AppData\\Local\\Temp\\joblib_memmapping_folder_21624_8864526728\\21624-2098143416840-8babf923f5cd4eb6879e3455682a39b0.pkl\n",
      "Memmapping (shape=(407221,), dtype=int32) to old file C:\\Users\\NATHAL~1.BRU\\AppData\\Local\\Temp\\joblib_memmapping_folder_21624_8864526728\\21624-2098143416840-c60f2c5ebaa7426b809b85e1d36b6670.pkl\n",
      "Pickling array (shape=(203610,), dtype=int32).\n",
      "Pickling array (shape=(19,), dtype=object).\n",
      "Memmapping (shape=(610831,), dtype=int64) to old file C:\\Users\\NATHAL~1.BRU\\AppData\\Local\\Temp\\joblib_memmapping_folder_21624_8864526728\\21624-2098143416840-d6d44e4f89504b969069c9698b470c3b.pkl\n",
      "Memmapping (shape=(19, 610831), dtype=int64) to old file C:\\Users\\NATHAL~1.BRU\\AppData\\Local\\Temp\\joblib_memmapping_folder_21624_8864526728\\21624-2098143416840-4474d4f9e52d4c309f8ba7dfdfe0f0f7.pkl\n",
      "Pickling array (shape=(19,), dtype=object).\n",
      "Memmapping (shape=(610831,), dtype=int64) to old file C:\\Users\\NATHAL~1.BRU\\AppData\\Local\\Temp\\joblib_memmapping_folder_21624_8864526728\\21624-2098143416840-6b92e2652d5e4589a8eb6b272206468e.pkl\n",
      "Memmapping (shape=(610831,), dtype=int64) to old file C:\\Users\\NATHAL~1.BRU\\AppData\\Local\\Temp\\joblib_memmapping_folder_21624_8864526728\\21624-2098143416840-9553dd9dc2f044418b043294e866160e.pkl\n",
      "Memmapping (shape=(610831,), dtype=int64) to new file C:\\Users\\NATHAL~1.BRU\\AppData\\Local\\Temp\\joblib_memmapping_folder_21624_8864526728\\21624-2098143416840-1c2f3e7c394b4d66a13cb4fa72dcbe11.pkl\n",
      "Memmapping (shape=(407221,), dtype=int32) to old file C:\\Users\\NATHAL~1.BRU\\AppData\\Local\\Temp\\joblib_memmapping_folder_21624_8864526728\\21624-2098143416840-db03436e1e5c4327bcb9471086e99f45.pkl\n",
      "Pickling array (shape=(203610,), dtype=int32).\n",
      "Pickling array (shape=(19,), dtype=object).\n",
      "Memmapping (shape=(610831,), dtype=int64) to old file C:\\Users\\NATHAL~1.BRU\\AppData\\Local\\Temp\\joblib_memmapping_folder_21624_8864526728\\21624-2098143416840-d6d44e4f89504b969069c9698b470c3b.pkl\n",
      "Memmapping (shape=(19, 610831), dtype=int64) to old file C:\\Users\\NATHAL~1.BRU\\AppData\\Local\\Temp\\joblib_memmapping_folder_21624_8864526728\\21624-2098143416840-4474d4f9e52d4c309f8ba7dfdfe0f0f7.pkl\n",
      "Pickling array (shape=(19,), dtype=object).\n",
      "Memmapping (shape=(610831,), dtype=int64) to old file C:\\Users\\NATHAL~1.BRU\\AppData\\Local\\Temp\\joblib_memmapping_folder_21624_8864526728\\21624-2098143416840-6b92e2652d5e4589a8eb6b272206468e.pkl\n",
      "Memmapping (shape=(610831,), dtype=int64) to old file C:\\Users\\NATHAL~1.BRU\\AppData\\Local\\Temp\\joblib_memmapping_folder_21624_8864526728\\21624-2098143416840-9553dd9dc2f044418b043294e866160e.pkl\n",
      "Memmapping (shape=(610831,), dtype=int64) to new file C:\\Users\\NATHAL~1.BRU\\AppData\\Local\\Temp\\joblib_memmapping_folder_21624_8864526728\\21624-2098143416840-4baef431bbe545e5a8288aa59b7bd55c.pkl\n",
      "Memmapping (shape=(407220,), dtype=int32) to old file C:\\Users\\NATHAL~1.BRU\\AppData\\Local\\Temp\\joblib_memmapping_folder_21624_8864526728\\21624-2098143416840-84100862bfc441c480c8bbf2b827263c.pkl\n",
      "Pickling array (shape=(203611,), dtype=int32).\n"
     ]
    },
    {
     "name": "stdout",
     "output_type": "stream",
     "text": [
      "Pickling array (shape=(19,), dtype=object).\n",
      "Memmapping (shape=(610831,), dtype=int64) to old file C:\\Users\\NATHAL~1.BRU\\AppData\\Local\\Temp\\joblib_memmapping_folder_21624_8864526728\\21624-2098143416840-d6d44e4f89504b969069c9698b470c3b.pkl\n",
      "Memmapping (shape=(19, 610831), dtype=int64) to old file C:\\Users\\NATHAL~1.BRU\\AppData\\Local\\Temp\\joblib_memmapping_folder_21624_8864526728\\21624-2098143416840-4474d4f9e52d4c309f8ba7dfdfe0f0f7.pkl\n",
      "Pickling array (shape=(19,), dtype=object).\n",
      "Memmapping (shape=(610831,), dtype=int64) to old file C:\\Users\\NATHAL~1.BRU\\AppData\\Local\\Temp\\joblib_memmapping_folder_21624_8864526728\\21624-2098143416840-6b92e2652d5e4589a8eb6b272206468e.pkl\n",
      "Memmapping (shape=(610831,), dtype=int64) to old file C:\\Users\\NATHAL~1.BRU\\AppData\\Local\\Temp\\joblib_memmapping_folder_21624_8864526728\\21624-2098143416840-9553dd9dc2f044418b043294e866160e.pkl\n",
      "Memmapping (shape=(610831,), dtype=int64) to new file C:\\Users\\NATHAL~1.BRU\\AppData\\Local\\Temp\\joblib_memmapping_folder_21624_8864526728\\21624-2098143416840-1672cb3a6ac14cfc96d84a423fcd8e16.pkl\n",
      "Memmapping (shape=(407221,), dtype=int32) to old file C:\\Users\\NATHAL~1.BRU\\AppData\\Local\\Temp\\joblib_memmapping_folder_21624_8864526728\\21624-2098143416840-c60f2c5ebaa7426b809b85e1d36b6670.pkl\n",
      "Pickling array (shape=(203610,), dtype=int32).\n",
      "Pickling array (shape=(19,), dtype=object).\n",
      "Memmapping (shape=(610831,), dtype=int64) to old file C:\\Users\\NATHAL~1.BRU\\AppData\\Local\\Temp\\joblib_memmapping_folder_21624_8864526728\\21624-2098143416840-d6d44e4f89504b969069c9698b470c3b.pkl\n",
      "Memmapping (shape=(19, 610831), dtype=int64) to old file C:\\Users\\NATHAL~1.BRU\\AppData\\Local\\Temp\\joblib_memmapping_folder_21624_8864526728\\21624-2098143416840-4474d4f9e52d4c309f8ba7dfdfe0f0f7.pkl\n",
      "Pickling array (shape=(19,), dtype=object).\n",
      "Memmapping (shape=(610831,), dtype=int64) to old file C:\\Users\\NATHAL~1.BRU\\AppData\\Local\\Temp\\joblib_memmapping_folder_21624_8864526728\\21624-2098143416840-6b92e2652d5e4589a8eb6b272206468e.pkl\n",
      "Memmapping (shape=(610831,), dtype=int64) to old file C:\\Users\\NATHAL~1.BRU\\AppData\\Local\\Temp\\joblib_memmapping_folder_21624_8864526728\\21624-2098143416840-9553dd9dc2f044418b043294e866160e.pkl\n",
      "Memmapping (shape=(610831,), dtype=int64) to new file C:\\Users\\NATHAL~1.BRU\\AppData\\Local\\Temp\\joblib_memmapping_folder_21624_8864526728\\21624-2098143416840-051024920f9d4ea78d0f8ba8bb5c6a16.pkl\n",
      "Memmapping (shape=(407221,), dtype=int32) to old file C:\\Users\\NATHAL~1.BRU\\AppData\\Local\\Temp\\joblib_memmapping_folder_21624_8864526728\\21624-2098143416840-db03436e1e5c4327bcb9471086e99f45.pkl\n",
      "Pickling array (shape=(203610,), dtype=int32).\n",
      "[Parallel(n_jobs=-1)]: Done   1 tasks      | elapsed:   41.0s\n",
      "Pickling array (shape=(19,), dtype=object).\n",
      "Memmapping (shape=(610831,), dtype=int64) to old file C:\\Users\\NATHAL~1.BRU\\AppData\\Local\\Temp\\joblib_memmapping_folder_21624_8864526728\\21624-2098143416840-d6d44e4f89504b969069c9698b470c3b.pkl\n",
      "Memmapping (shape=(19, 610831), dtype=int64) to old file C:\\Users\\NATHAL~1.BRU\\AppData\\Local\\Temp\\joblib_memmapping_folder_21624_8864526728\\21624-2098143416840-4474d4f9e52d4c309f8ba7dfdfe0f0f7.pkl\n",
      "Pickling array (shape=(19,), dtype=object).\n",
      "Memmapping (shape=(610831,), dtype=int64) to old file C:\\Users\\NATHAL~1.BRU\\AppData\\Local\\Temp\\joblib_memmapping_folder_21624_8864526728\\21624-2098143416840-6b92e2652d5e4589a8eb6b272206468e.pkl\n",
      "Memmapping (shape=(610831,), dtype=int64) to old file C:\\Users\\NATHAL~1.BRU\\AppData\\Local\\Temp\\joblib_memmapping_folder_21624_8864526728\\21624-2098143416840-9553dd9dc2f044418b043294e866160e.pkl\n",
      "Memmapping (shape=(610831,), dtype=int64) to new file C:\\Users\\NATHAL~1.BRU\\AppData\\Local\\Temp\\joblib_memmapping_folder_21624_8864526728\\21624-2098143416840-71e4008b201c48bb816e3e43762a3fa1.pkl\n",
      "Memmapping (shape=(407220,), dtype=int32) to old file C:\\Users\\NATHAL~1.BRU\\AppData\\Local\\Temp\\joblib_memmapping_folder_21624_8864526728\\21624-2098143416840-84100862bfc441c480c8bbf2b827263c.pkl\n",
      "Pickling array (shape=(203611,), dtype=int32).\n",
      "[Parallel(n_jobs=-1)]: Done   2 tasks      | elapsed:   41.8s\n",
      "Pickling array (shape=(19,), dtype=object).\n",
      "Memmapping (shape=(610831,), dtype=int64) to old file C:\\Users\\NATHAL~1.BRU\\AppData\\Local\\Temp\\joblib_memmapping_folder_21624_8864526728\\21624-2098143416840-d6d44e4f89504b969069c9698b470c3b.pkl\n",
      "Memmapping (shape=(19, 610831), dtype=int64) to old file C:\\Users\\NATHAL~1.BRU\\AppData\\Local\\Temp\\joblib_memmapping_folder_21624_8864526728\\21624-2098143416840-4474d4f9e52d4c309f8ba7dfdfe0f0f7.pkl\n",
      "Pickling array (shape=(19,), dtype=object).\n",
      "Memmapping (shape=(610831,), dtype=int64) to old file C:\\Users\\NATHAL~1.BRU\\AppData\\Local\\Temp\\joblib_memmapping_folder_21624_8864526728\\21624-2098143416840-6b92e2652d5e4589a8eb6b272206468e.pkl\n",
      "Memmapping (shape=(610831,), dtype=int64) to old file C:\\Users\\NATHAL~1.BRU\\AppData\\Local\\Temp\\joblib_memmapping_folder_21624_8864526728\\21624-2098143416840-9553dd9dc2f044418b043294e866160e.pkl\n",
      "Memmapping (shape=(610831,), dtype=int64) to new file C:\\Users\\NATHAL~1.BRU\\AppData\\Local\\Temp\\joblib_memmapping_folder_21624_8864526728\\21624-2098143416840-3956ee615be84e298e69ada4f1a371ee.pkl\n",
      "Memmapping (shape=(407221,), dtype=int32) to old file C:\\Users\\NATHAL~1.BRU\\AppData\\Local\\Temp\\joblib_memmapping_folder_21624_8864526728\\21624-2098143416840-c60f2c5ebaa7426b809b85e1d36b6670.pkl\n",
      "Pickling array (shape=(203610,), dtype=int32).\n",
      "[Parallel(n_jobs=-1)]: Done   3 tasks      | elapsed:   42.9s\n",
      "[Parallel(n_jobs=-1)]: Done   4 tasks      | elapsed:   42.9s\n",
      "Pickling array (shape=(19,), dtype=object).\n",
      "Memmapping (shape=(610831,), dtype=int64) to old file C:\\Users\\NATHAL~1.BRU\\AppData\\Local\\Temp\\joblib_memmapping_folder_21624_8864526728\\21624-2098143416840-d6d44e4f89504b969069c9698b470c3b.pkl\n",
      "Memmapping (shape=(19, 610831), dtype=int64) to old file C:\\Users\\NATHAL~1.BRU\\AppData\\Local\\Temp\\joblib_memmapping_folder_21624_8864526728\\21624-2098143416840-4474d4f9e52d4c309f8ba7dfdfe0f0f7.pkl\n",
      "Pickling array (shape=(19,), dtype=object).\n",
      "Memmapping (shape=(610831,), dtype=int64) to old file C:\\Users\\NATHAL~1.BRU\\AppData\\Local\\Temp\\joblib_memmapping_folder_21624_8864526728\\21624-2098143416840-6b92e2652d5e4589a8eb6b272206468e.pkl\n",
      "Memmapping (shape=(610831,), dtype=int64) to old file C:\\Users\\NATHAL~1.BRU\\AppData\\Local\\Temp\\joblib_memmapping_folder_21624_8864526728\\21624-2098143416840-9553dd9dc2f044418b043294e866160e.pkl\n",
      "Memmapping (shape=(610831,), dtype=int64) to new file C:\\Users\\NATHAL~1.BRU\\AppData\\Local\\Temp\\joblib_memmapping_folder_21624_8864526728\\21624-2098143416840-923057980e67400cb5a8652f9f9267d1.pkl\n",
      "Memmapping (shape=(407221,), dtype=int32) to old file C:\\Users\\NATHAL~1.BRU\\AppData\\Local\\Temp\\joblib_memmapping_folder_21624_8864526728\\21624-2098143416840-db03436e1e5c4327bcb9471086e99f45.pkl\n",
      "Pickling array (shape=(203610,), dtype=int32).\n",
      "Pickling array (shape=(19,), dtype=object).\n",
      "Memmapping (shape=(610831,), dtype=int64) to old file C:\\Users\\NATHAL~1.BRU\\AppData\\Local\\Temp\\joblib_memmapping_folder_21624_8864526728\\21624-2098143416840-d6d44e4f89504b969069c9698b470c3b.pkl\n",
      "Memmapping (shape=(19, 610831), dtype=int64) to old file C:\\Users\\NATHAL~1.BRU\\AppData\\Local\\Temp\\joblib_memmapping_folder_21624_8864526728\\21624-2098143416840-4474d4f9e52d4c309f8ba7dfdfe0f0f7.pkl\n",
      "Pickling array (shape=(19,), dtype=object).\n",
      "Memmapping (shape=(610831,), dtype=int64) to old file C:\\Users\\NATHAL~1.BRU\\AppData\\Local\\Temp\\joblib_memmapping_folder_21624_8864526728\\21624-2098143416840-6b92e2652d5e4589a8eb6b272206468e.pkl\n",
      "Memmapping (shape=(610831,), dtype=int64) to old file C:\\Users\\NATHAL~1.BRU\\AppData\\Local\\Temp\\joblib_memmapping_folder_21624_8864526728\\21624-2098143416840-9553dd9dc2f044418b043294e866160e.pkl\n",
      "Memmapping (shape=(610831,), dtype=int64) to new file C:\\Users\\NATHAL~1.BRU\\AppData\\Local\\Temp\\joblib_memmapping_folder_21624_8864526728\\21624-2098143416840-56959a6217df4b7cb9fb5e9b2cffd8a9.pkl\n",
      "Memmapping (shape=(407220,), dtype=int32) to old file C:\\Users\\NATHAL~1.BRU\\AppData\\Local\\Temp\\joblib_memmapping_folder_21624_8864526728\\21624-2098143416840-84100862bfc441c480c8bbf2b827263c.pkl\n",
      "Pickling array (shape=(203611,), dtype=int32).\n",
      "[Parallel(n_jobs=-1)]: Done   5 tasks      | elapsed:   43.2s\n",
      "Pickling array (shape=(19,), dtype=object).\n",
      "Memmapping (shape=(610831,), dtype=int64) to old file C:\\Users\\NATHAL~1.BRU\\AppData\\Local\\Temp\\joblib_memmapping_folder_21624_8864526728\\21624-2098143416840-d6d44e4f89504b969069c9698b470c3b.pkl\n",
      "Memmapping (shape=(19, 610831), dtype=int64) to old file C:\\Users\\NATHAL~1.BRU\\AppData\\Local\\Temp\\joblib_memmapping_folder_21624_8864526728\\21624-2098143416840-4474d4f9e52d4c309f8ba7dfdfe0f0f7.pkl\n",
      "Pickling array (shape=(19,), dtype=object).\n",
      "Memmapping (shape=(610831,), dtype=int64) to old file C:\\Users\\NATHAL~1.BRU\\AppData\\Local\\Temp\\joblib_memmapping_folder_21624_8864526728\\21624-2098143416840-6b92e2652d5e4589a8eb6b272206468e.pkl\n",
      "Memmapping (shape=(610831,), dtype=int64) to old file C:\\Users\\NATHAL~1.BRU\\AppData\\Local\\Temp\\joblib_memmapping_folder_21624_8864526728\\21624-2098143416840-9553dd9dc2f044418b043294e866160e.pkl\n",
      "Memmapping (shape=(610831,), dtype=int64) to new file C:\\Users\\NATHAL~1.BRU\\AppData\\Local\\Temp\\joblib_memmapping_folder_21624_8864526728\\21624-2098143416840-f40b1ef6d8cf4f339dd63d20f34bddcc.pkl\n",
      "Memmapping (shape=(407221,), dtype=int32) to old file C:\\Users\\NATHAL~1.BRU\\AppData\\Local\\Temp\\joblib_memmapping_folder_21624_8864526728\\21624-2098143416840-c60f2c5ebaa7426b809b85e1d36b6670.pkl\n",
      "Pickling array (shape=(203610,), dtype=int32).\n"
     ]
    },
    {
     "name": "stdout",
     "output_type": "stream",
     "text": [
      "[Parallel(n_jobs=-1)]: Done   6 tasks      | elapsed:   59.3s\n",
      "Pickling array (shape=(19,), dtype=object).\n",
      "Memmapping (shape=(610831,), dtype=int64) to old file C:\\Users\\NATHAL~1.BRU\\AppData\\Local\\Temp\\joblib_memmapping_folder_21624_8864526728\\21624-2098143416840-d6d44e4f89504b969069c9698b470c3b.pkl\n",
      "Memmapping (shape=(19, 610831), dtype=int64) to old file C:\\Users\\NATHAL~1.BRU\\AppData\\Local\\Temp\\joblib_memmapping_folder_21624_8864526728\\21624-2098143416840-4474d4f9e52d4c309f8ba7dfdfe0f0f7.pkl\n",
      "Pickling array (shape=(19,), dtype=object).\n",
      "Memmapping (shape=(610831,), dtype=int64) to old file C:\\Users\\NATHAL~1.BRU\\AppData\\Local\\Temp\\joblib_memmapping_folder_21624_8864526728\\21624-2098143416840-6b92e2652d5e4589a8eb6b272206468e.pkl\n",
      "Memmapping (shape=(610831,), dtype=int64) to old file C:\\Users\\NATHAL~1.BRU\\AppData\\Local\\Temp\\joblib_memmapping_folder_21624_8864526728\\21624-2098143416840-9553dd9dc2f044418b043294e866160e.pkl\n",
      "Memmapping (shape=(610831,), dtype=int64) to new file C:\\Users\\NATHAL~1.BRU\\AppData\\Local\\Temp\\joblib_memmapping_folder_21624_8864526728\\21624-2098143416840-77768ffd81bc4e68b6db8f95086e9881.pkl\n",
      "Memmapping (shape=(407221,), dtype=int32) to old file C:\\Users\\NATHAL~1.BRU\\AppData\\Local\\Temp\\joblib_memmapping_folder_21624_8864526728\\21624-2098143416840-db03436e1e5c4327bcb9471086e99f45.pkl\n",
      "Pickling array (shape=(203610,), dtype=int32).\n",
      "[Parallel(n_jobs=-1)]: Done   7 tasks      | elapsed:   59.4s\n",
      "Pickling array (shape=(19,), dtype=object).\n",
      "Memmapping (shape=(610831,), dtype=int64) to old file C:\\Users\\NATHAL~1.BRU\\AppData\\Local\\Temp\\joblib_memmapping_folder_21624_8864526728\\21624-2098143416840-d6d44e4f89504b969069c9698b470c3b.pkl\n",
      "Memmapping (shape=(19, 610831), dtype=int64) to old file C:\\Users\\NATHAL~1.BRU\\AppData\\Local\\Temp\\joblib_memmapping_folder_21624_8864526728\\21624-2098143416840-4474d4f9e52d4c309f8ba7dfdfe0f0f7.pkl\n",
      "Pickling array (shape=(19,), dtype=object).\n",
      "Memmapping (shape=(610831,), dtype=int64) to old file C:\\Users\\NATHAL~1.BRU\\AppData\\Local\\Temp\\joblib_memmapping_folder_21624_8864526728\\21624-2098143416840-6b92e2652d5e4589a8eb6b272206468e.pkl\n",
      "Memmapping (shape=(610831,), dtype=int64) to old file C:\\Users\\NATHAL~1.BRU\\AppData\\Local\\Temp\\joblib_memmapping_folder_21624_8864526728\\21624-2098143416840-9553dd9dc2f044418b043294e866160e.pkl\n",
      "Memmapping (shape=(610831,), dtype=int64) to new file C:\\Users\\NATHAL~1.BRU\\AppData\\Local\\Temp\\joblib_memmapping_folder_21624_8864526728\\21624-2098143416840-a83dead57ba34d0a97d6f269eb4a4ce9.pkl\n",
      "Memmapping (shape=(407220,), dtype=int32) to old file C:\\Users\\NATHAL~1.BRU\\AppData\\Local\\Temp\\joblib_memmapping_folder_21624_8864526728\\21624-2098143416840-84100862bfc441c480c8bbf2b827263c.pkl\n",
      "Pickling array (shape=(203611,), dtype=int32).\n",
      "[Parallel(n_jobs=-1)]: Done   8 tasks      | elapsed:  1.0min\n",
      "Pickling array (shape=(19,), dtype=object).\n",
      "Memmapping (shape=(610831,), dtype=int64) to old file C:\\Users\\NATHAL~1.BRU\\AppData\\Local\\Temp\\joblib_memmapping_folder_21624_8864526728\\21624-2098143416840-d6d44e4f89504b969069c9698b470c3b.pkl\n",
      "Memmapping (shape=(19, 610831), dtype=int64) to old file C:\\Users\\NATHAL~1.BRU\\AppData\\Local\\Temp\\joblib_memmapping_folder_21624_8864526728\\21624-2098143416840-4474d4f9e52d4c309f8ba7dfdfe0f0f7.pkl\n",
      "Pickling array (shape=(19,), dtype=object).\n",
      "Memmapping (shape=(610831,), dtype=int64) to old file C:\\Users\\NATHAL~1.BRU\\AppData\\Local\\Temp\\joblib_memmapping_folder_21624_8864526728\\21624-2098143416840-6b92e2652d5e4589a8eb6b272206468e.pkl\n",
      "Memmapping (shape=(610831,), dtype=int64) to old file C:\\Users\\NATHAL~1.BRU\\AppData\\Local\\Temp\\joblib_memmapping_folder_21624_8864526728\\21624-2098143416840-9553dd9dc2f044418b043294e866160e.pkl\n",
      "Memmapping (shape=(610831,), dtype=int64) to new file C:\\Users\\NATHAL~1.BRU\\AppData\\Local\\Temp\\joblib_memmapping_folder_21624_8864526728\\21624-2098143416840-d04f1eec7b624225b204f020f2917416.pkl\n",
      "Memmapping (shape=(407221,), dtype=int32) to old file C:\\Users\\NATHAL~1.BRU\\AppData\\Local\\Temp\\joblib_memmapping_folder_21624_8864526728\\21624-2098143416840-c60f2c5ebaa7426b809b85e1d36b6670.pkl\n",
      "Pickling array (shape=(203610,), dtype=int32).\n",
      "[Parallel(n_jobs=-1)]: Done   9 tasks      | elapsed:  1.3min\n",
      "Pickling array (shape=(19,), dtype=object).\n",
      "Memmapping (shape=(610831,), dtype=int64) to old file C:\\Users\\NATHAL~1.BRU\\AppData\\Local\\Temp\\joblib_memmapping_folder_21624_8864526728\\21624-2098143416840-d6d44e4f89504b969069c9698b470c3b.pkl\n",
      "Memmapping (shape=(19, 610831), dtype=int64) to old file C:\\Users\\NATHAL~1.BRU\\AppData\\Local\\Temp\\joblib_memmapping_folder_21624_8864526728\\21624-2098143416840-4474d4f9e52d4c309f8ba7dfdfe0f0f7.pkl\n",
      "Pickling array (shape=(19,), dtype=object).\n",
      "Memmapping (shape=(610831,), dtype=int64) to old file C:\\Users\\NATHAL~1.BRU\\AppData\\Local\\Temp\\joblib_memmapping_folder_21624_8864526728\\21624-2098143416840-6b92e2652d5e4589a8eb6b272206468e.pkl\n",
      "Memmapping (shape=(610831,), dtype=int64) to old file C:\\Users\\NATHAL~1.BRU\\AppData\\Local\\Temp\\joblib_memmapping_folder_21624_8864526728\\21624-2098143416840-9553dd9dc2f044418b043294e866160e.pkl\n",
      "Memmapping (shape=(610831,), dtype=int64) to new file C:\\Users\\NATHAL~1.BRU\\AppData\\Local\\Temp\\joblib_memmapping_folder_21624_8864526728\\21624-2098143416840-362fad43ce8a413999a6406a80651a97.pkl\n",
      "Memmapping (shape=(407221,), dtype=int32) to old file C:\\Users\\NATHAL~1.BRU\\AppData\\Local\\Temp\\joblib_memmapping_folder_21624_8864526728\\21624-2098143416840-db03436e1e5c4327bcb9471086e99f45.pkl\n",
      "Pickling array (shape=(203610,), dtype=int32).\n",
      "[Parallel(n_jobs=-1)]: Done  10 tasks      | elapsed:  1.3min\n",
      "Pickling array (shape=(19,), dtype=object).\n",
      "Memmapping (shape=(610831,), dtype=int64) to old file C:\\Users\\NATHAL~1.BRU\\AppData\\Local\\Temp\\joblib_memmapping_folder_21624_8864526728\\21624-2098143416840-d6d44e4f89504b969069c9698b470c3b.pkl\n",
      "Memmapping (shape=(19, 610831), dtype=int64) to old file C:\\Users\\NATHAL~1.BRU\\AppData\\Local\\Temp\\joblib_memmapping_folder_21624_8864526728\\21624-2098143416840-4474d4f9e52d4c309f8ba7dfdfe0f0f7.pkl\n",
      "Pickling array (shape=(19,), dtype=object).\n",
      "Memmapping (shape=(610831,), dtype=int64) to old file C:\\Users\\NATHAL~1.BRU\\AppData\\Local\\Temp\\joblib_memmapping_folder_21624_8864526728\\21624-2098143416840-6b92e2652d5e4589a8eb6b272206468e.pkl\n",
      "Memmapping (shape=(610831,), dtype=int64) to old file C:\\Users\\NATHAL~1.BRU\\AppData\\Local\\Temp\\joblib_memmapping_folder_21624_8864526728\\21624-2098143416840-9553dd9dc2f044418b043294e866160e.pkl\n",
      "Memmapping (shape=(610831,), dtype=int64) to new file C:\\Users\\NATHAL~1.BRU\\AppData\\Local\\Temp\\joblib_memmapping_folder_21624_8864526728\\21624-2098143416840-61dd9fc6bc4c41d1a7c2275735f3ec01.pkl\n",
      "Memmapping (shape=(407220,), dtype=int32) to old file C:\\Users\\NATHAL~1.BRU\\AppData\\Local\\Temp\\joblib_memmapping_folder_21624_8864526728\\21624-2098143416840-84100862bfc441c480c8bbf2b827263c.pkl\n",
      "Pickling array (shape=(203611,), dtype=int32).\n",
      "[Parallel(n_jobs=-1)]: Done  11 tasks      | elapsed:  1.6min\n",
      "Pickling array (shape=(19,), dtype=object).\n",
      "Memmapping (shape=(610831,), dtype=int64) to old file C:\\Users\\NATHAL~1.BRU\\AppData\\Local\\Temp\\joblib_memmapping_folder_21624_8864526728\\21624-2098143416840-d6d44e4f89504b969069c9698b470c3b.pkl\n",
      "Memmapping (shape=(19, 610831), dtype=int64) to old file C:\\Users\\NATHAL~1.BRU\\AppData\\Local\\Temp\\joblib_memmapping_folder_21624_8864526728\\21624-2098143416840-4474d4f9e52d4c309f8ba7dfdfe0f0f7.pkl\n",
      "Pickling array (shape=(19,), dtype=object).\n",
      "Memmapping (shape=(610831,), dtype=int64) to old file C:\\Users\\NATHAL~1.BRU\\AppData\\Local\\Temp\\joblib_memmapping_folder_21624_8864526728\\21624-2098143416840-6b92e2652d5e4589a8eb6b272206468e.pkl\n",
      "Memmapping (shape=(610831,), dtype=int64) to old file C:\\Users\\NATHAL~1.BRU\\AppData\\Local\\Temp\\joblib_memmapping_folder_21624_8864526728\\21624-2098143416840-9553dd9dc2f044418b043294e866160e.pkl\n",
      "Memmapping (shape=(610831,), dtype=int64) to new file C:\\Users\\NATHAL~1.BRU\\AppData\\Local\\Temp\\joblib_memmapping_folder_21624_8864526728\\21624-2098143416840-623a8eb9809c4c94b8b5753b21f62f81.pkl\n",
      "Memmapping (shape=(407221,), dtype=int32) to old file C:\\Users\\NATHAL~1.BRU\\AppData\\Local\\Temp\\joblib_memmapping_folder_21624_8864526728\\21624-2098143416840-c60f2c5ebaa7426b809b85e1d36b6670.pkl\n",
      "Pickling array (shape=(203610,), dtype=int32).\n",
      "[Parallel(n_jobs=-1)]: Done  12 tasks      | elapsed:  1.6min\n",
      "Pickling array (shape=(19,), dtype=object).\n",
      "Memmapping (shape=(610831,), dtype=int64) to old file C:\\Users\\NATHAL~1.BRU\\AppData\\Local\\Temp\\joblib_memmapping_folder_21624_8864526728\\21624-2098143416840-d6d44e4f89504b969069c9698b470c3b.pkl\n",
      "Memmapping (shape=(19, 610831), dtype=int64) to old file C:\\Users\\NATHAL~1.BRU\\AppData\\Local\\Temp\\joblib_memmapping_folder_21624_8864526728\\21624-2098143416840-4474d4f9e52d4c309f8ba7dfdfe0f0f7.pkl\n",
      "Pickling array (shape=(19,), dtype=object).\n",
      "Memmapping (shape=(610831,), dtype=int64) to old file C:\\Users\\NATHAL~1.BRU\\AppData\\Local\\Temp\\joblib_memmapping_folder_21624_8864526728\\21624-2098143416840-6b92e2652d5e4589a8eb6b272206468e.pkl\n",
      "Memmapping (shape=(610831,), dtype=int64) to old file C:\\Users\\NATHAL~1.BRU\\AppData\\Local\\Temp\\joblib_memmapping_folder_21624_8864526728\\21624-2098143416840-9553dd9dc2f044418b043294e866160e.pkl\n",
      "Memmapping (shape=(610831,), dtype=int64) to new file C:\\Users\\NATHAL~1.BRU\\AppData\\Local\\Temp\\joblib_memmapping_folder_21624_8864526728\\21624-2098143416840-d9f4d5f3dc654a7091d31b1f3ddb204e.pkl\n",
      "Memmapping (shape=(407221,), dtype=int32) to old file C:\\Users\\NATHAL~1.BRU\\AppData\\Local\\Temp\\joblib_memmapping_folder_21624_8864526728\\21624-2098143416840-db03436e1e5c4327bcb9471086e99f45.pkl\n",
      "Pickling array (shape=(203610,), dtype=int32).\n",
      "[Parallel(n_jobs=-1)]: Done  13 tasks      | elapsed:  1.6min\n",
      "Pickling array (shape=(19,), dtype=object).\n",
      "Memmapping (shape=(610831,), dtype=int64) to old file C:\\Users\\NATHAL~1.BRU\\AppData\\Local\\Temp\\joblib_memmapping_folder_21624_8864526728\\21624-2098143416840-d6d44e4f89504b969069c9698b470c3b.pkl\n",
      "Memmapping (shape=(19, 610831), dtype=int64) to old file C:\\Users\\NATHAL~1.BRU\\AppData\\Local\\Temp\\joblib_memmapping_folder_21624_8864526728\\21624-2098143416840-4474d4f9e52d4c309f8ba7dfdfe0f0f7.pkl\n",
      "Pickling array (shape=(19,), dtype=object).\n",
      "Memmapping (shape=(610831,), dtype=int64) to old file C:\\Users\\NATHAL~1.BRU\\AppData\\Local\\Temp\\joblib_memmapping_folder_21624_8864526728\\21624-2098143416840-6b92e2652d5e4589a8eb6b272206468e.pkl\n",
      "Memmapping (shape=(610831,), dtype=int64) to old file C:\\Users\\NATHAL~1.BRU\\AppData\\Local\\Temp\\joblib_memmapping_folder_21624_8864526728\\21624-2098143416840-9553dd9dc2f044418b043294e866160e.pkl\n",
      "Memmapping (shape=(610831,), dtype=int64) to new file C:\\Users\\NATHAL~1.BRU\\AppData\\Local\\Temp\\joblib_memmapping_folder_21624_8864526728\\21624-2098143416840-5ebdc04cc10a48dd86136ae7fafe003f.pkl\n",
      "Memmapping (shape=(407220,), dtype=int32) to old file C:\\Users\\NATHAL~1.BRU\\AppData\\Local\\Temp\\joblib_memmapping_folder_21624_8864526728\\21624-2098143416840-84100862bfc441c480c8bbf2b827263c.pkl\n",
      "Pickling array (shape=(203611,), dtype=int32).\n"
     ]
    },
    {
     "name": "stdout",
     "output_type": "stream",
     "text": [
      "[Parallel(n_jobs=-1)]: Done  14 tasks      | elapsed:  1.6min\n",
      "Pickling array (shape=(19,), dtype=object).\n",
      "Memmapping (shape=(610831,), dtype=int64) to old file C:\\Users\\NATHAL~1.BRU\\AppData\\Local\\Temp\\joblib_memmapping_folder_21624_8864526728\\21624-2098143416840-d6d44e4f89504b969069c9698b470c3b.pkl\n",
      "Memmapping (shape=(19, 610831), dtype=int64) to old file C:\\Users\\NATHAL~1.BRU\\AppData\\Local\\Temp\\joblib_memmapping_folder_21624_8864526728\\21624-2098143416840-4474d4f9e52d4c309f8ba7dfdfe0f0f7.pkl\n",
      "Pickling array (shape=(19,), dtype=object).\n",
      "Memmapping (shape=(610831,), dtype=int64) to old file C:\\Users\\NATHAL~1.BRU\\AppData\\Local\\Temp\\joblib_memmapping_folder_21624_8864526728\\21624-2098143416840-6b92e2652d5e4589a8eb6b272206468e.pkl\n",
      "Memmapping (shape=(610831,), dtype=int64) to old file C:\\Users\\NATHAL~1.BRU\\AppData\\Local\\Temp\\joblib_memmapping_folder_21624_8864526728\\21624-2098143416840-9553dd9dc2f044418b043294e866160e.pkl\n",
      "Memmapping (shape=(610831,), dtype=int64) to new file C:\\Users\\NATHAL~1.BRU\\AppData\\Local\\Temp\\joblib_memmapping_folder_21624_8864526728\\21624-2098143416840-a1b789c4bbd044958fd78ef05abf56e0.pkl\n",
      "Memmapping (shape=(407221,), dtype=int32) to old file C:\\Users\\NATHAL~1.BRU\\AppData\\Local\\Temp\\joblib_memmapping_folder_21624_8864526728\\21624-2098143416840-c60f2c5ebaa7426b809b85e1d36b6670.pkl\n",
      "Pickling array (shape=(203610,), dtype=int32).\n",
      "[Parallel(n_jobs=-1)]: Done  15 tasks      | elapsed:  1.6min\n",
      "Pickling array (shape=(19,), dtype=object).\n",
      "Memmapping (shape=(610831,), dtype=int64) to old file C:\\Users\\NATHAL~1.BRU\\AppData\\Local\\Temp\\joblib_memmapping_folder_21624_8864526728\\21624-2098143416840-d6d44e4f89504b969069c9698b470c3b.pkl\n",
      "Memmapping (shape=(19, 610831), dtype=int64) to old file C:\\Users\\NATHAL~1.BRU\\AppData\\Local\\Temp\\joblib_memmapping_folder_21624_8864526728\\21624-2098143416840-4474d4f9e52d4c309f8ba7dfdfe0f0f7.pkl\n",
      "Pickling array (shape=(19,), dtype=object).\n",
      "Memmapping (shape=(610831,), dtype=int64) to old file C:\\Users\\NATHAL~1.BRU\\AppData\\Local\\Temp\\joblib_memmapping_folder_21624_8864526728\\21624-2098143416840-6b92e2652d5e4589a8eb6b272206468e.pkl\n",
      "Memmapping (shape=(610831,), dtype=int64) to old file C:\\Users\\NATHAL~1.BRU\\AppData\\Local\\Temp\\joblib_memmapping_folder_21624_8864526728\\21624-2098143416840-9553dd9dc2f044418b043294e866160e.pkl\n",
      "Memmapping (shape=(610831,), dtype=int64) to new file C:\\Users\\NATHAL~1.BRU\\AppData\\Local\\Temp\\joblib_memmapping_folder_21624_8864526728\\21624-2098143416840-c88420e0284d4a9aaebab111d6d43e5d.pkl\n",
      "Memmapping (shape=(407221,), dtype=int32) to old file C:\\Users\\NATHAL~1.BRU\\AppData\\Local\\Temp\\joblib_memmapping_folder_21624_8864526728\\21624-2098143416840-db03436e1e5c4327bcb9471086e99f45.pkl\n",
      "Pickling array (shape=(203610,), dtype=int32).\n",
      "[Parallel(n_jobs=-1)]: Done  16 tasks      | elapsed:  1.9min\n",
      "Pickling array (shape=(19,), dtype=object).\n",
      "Memmapping (shape=(610831,), dtype=int64) to old file C:\\Users\\NATHAL~1.BRU\\AppData\\Local\\Temp\\joblib_memmapping_folder_21624_8864526728\\21624-2098143416840-d6d44e4f89504b969069c9698b470c3b.pkl\n",
      "Memmapping (shape=(19, 610831), dtype=int64) to old file C:\\Users\\NATHAL~1.BRU\\AppData\\Local\\Temp\\joblib_memmapping_folder_21624_8864526728\\21624-2098143416840-4474d4f9e52d4c309f8ba7dfdfe0f0f7.pkl\n",
      "Pickling array (shape=(19,), dtype=object).\n",
      "Memmapping (shape=(610831,), dtype=int64) to old file C:\\Users\\NATHAL~1.BRU\\AppData\\Local\\Temp\\joblib_memmapping_folder_21624_8864526728\\21624-2098143416840-6b92e2652d5e4589a8eb6b272206468e.pkl\n",
      "Memmapping (shape=(610831,), dtype=int64) to old file C:\\Users\\NATHAL~1.BRU\\AppData\\Local\\Temp\\joblib_memmapping_folder_21624_8864526728\\21624-2098143416840-9553dd9dc2f044418b043294e866160e.pkl\n",
      "Memmapping (shape=(610831,), dtype=int64) to new file C:\\Users\\NATHAL~1.BRU\\AppData\\Local\\Temp\\joblib_memmapping_folder_21624_8864526728\\21624-2098143416840-a5be82b426e048499100712a5ae3d735.pkl\n",
      "Memmapping (shape=(407220,), dtype=int32) to old file C:\\Users\\NATHAL~1.BRU\\AppData\\Local\\Temp\\joblib_memmapping_folder_21624_8864526728\\21624-2098143416840-84100862bfc441c480c8bbf2b827263c.pkl\n",
      "Pickling array (shape=(203611,), dtype=int32).\n",
      "[Parallel(n_jobs=-1)]: Done  17 tasks      | elapsed:  2.2min\n",
      "Pickling array (shape=(19,), dtype=object).\n",
      "Memmapping (shape=(610831,), dtype=int64) to old file C:\\Users\\NATHAL~1.BRU\\AppData\\Local\\Temp\\joblib_memmapping_folder_21624_8864526728\\21624-2098143416840-d6d44e4f89504b969069c9698b470c3b.pkl\n",
      "Memmapping (shape=(19, 610831), dtype=int64) to old file C:\\Users\\NATHAL~1.BRU\\AppData\\Local\\Temp\\joblib_memmapping_folder_21624_8864526728\\21624-2098143416840-4474d4f9e52d4c309f8ba7dfdfe0f0f7.pkl\n",
      "Pickling array (shape=(19,), dtype=object).\n",
      "Memmapping (shape=(610831,), dtype=int64) to old file C:\\Users\\NATHAL~1.BRU\\AppData\\Local\\Temp\\joblib_memmapping_folder_21624_8864526728\\21624-2098143416840-6b92e2652d5e4589a8eb6b272206468e.pkl\n",
      "Memmapping (shape=(610831,), dtype=int64) to old file C:\\Users\\NATHAL~1.BRU\\AppData\\Local\\Temp\\joblib_memmapping_folder_21624_8864526728\\21624-2098143416840-9553dd9dc2f044418b043294e866160e.pkl\n",
      "Memmapping (shape=(610831,), dtype=int64) to new file C:\\Users\\NATHAL~1.BRU\\AppData\\Local\\Temp\\joblib_memmapping_folder_21624_8864526728\\21624-2098143416840-c294530fc5264f1fbf2a7ea13f899f09.pkl\n",
      "[Parallel(n_jobs=-1)]: Done  18 tasks      | elapsed:  2.2min\n",
      "Memmapping (shape=(407221,), dtype=int32) to old file C:\\Users\\NATHAL~1.BRU\\AppData\\Local\\Temp\\joblib_memmapping_folder_21624_8864526728\\21624-2098143416840-c60f2c5ebaa7426b809b85e1d36b6670.pkl\n",
      "Pickling array (shape=(203610,), dtype=int32).\n",
      "Pickling array (shape=(19,), dtype=object).\n",
      "Memmapping (shape=(610831,), dtype=int64) to old file C:\\Users\\NATHAL~1.BRU\\AppData\\Local\\Temp\\joblib_memmapping_folder_21624_8864526728\\21624-2098143416840-d6d44e4f89504b969069c9698b470c3b.pkl\n",
      "Memmapping (shape=(19, 610831), dtype=int64) to old file C:\\Users\\NATHAL~1.BRU\\AppData\\Local\\Temp\\joblib_memmapping_folder_21624_8864526728\\21624-2098143416840-4474d4f9e52d4c309f8ba7dfdfe0f0f7.pkl\n",
      "Pickling array (shape=(19,), dtype=object).\n",
      "Memmapping (shape=(610831,), dtype=int64) to old file C:\\Users\\NATHAL~1.BRU\\AppData\\Local\\Temp\\joblib_memmapping_folder_21624_8864526728\\21624-2098143416840-6b92e2652d5e4589a8eb6b272206468e.pkl\n",
      "Memmapping (shape=(610831,), dtype=int64) to old file C:\\Users\\NATHAL~1.BRU\\AppData\\Local\\Temp\\joblib_memmapping_folder_21624_8864526728\\21624-2098143416840-9553dd9dc2f044418b043294e866160e.pkl\n",
      "Memmapping (shape=(610831,), dtype=int64) to new file C:\\Users\\NATHAL~1.BRU\\AppData\\Local\\Temp\\joblib_memmapping_folder_21624_8864526728\\21624-2098143416840-0d544f6d4a0443e28303a6308acc1eb5.pkl\n",
      "Memmapping (shape=(407221,), dtype=int32) to old file C:\\Users\\NATHAL~1.BRU\\AppData\\Local\\Temp\\joblib_memmapping_folder_21624_8864526728\\21624-2098143416840-db03436e1e5c4327bcb9471086e99f45.pkl\n",
      "Pickling array (shape=(203610,), dtype=int32).\n",
      "[Parallel(n_jobs=-1)]: Done  19 tasks      | elapsed:  2.2min\n",
      "Pickling array (shape=(19,), dtype=object).\n",
      "Memmapping (shape=(610831,), dtype=int64) to old file C:\\Users\\NATHAL~1.BRU\\AppData\\Local\\Temp\\joblib_memmapping_folder_21624_8864526728\\21624-2098143416840-d6d44e4f89504b969069c9698b470c3b.pkl\n",
      "Memmapping (shape=(19, 610831), dtype=int64) to old file C:\\Users\\NATHAL~1.BRU\\AppData\\Local\\Temp\\joblib_memmapping_folder_21624_8864526728\\21624-2098143416840-4474d4f9e52d4c309f8ba7dfdfe0f0f7.pkl\n",
      "Pickling array (shape=(19,), dtype=object).\n",
      "Memmapping (shape=(610831,), dtype=int64) to old file C:\\Users\\NATHAL~1.BRU\\AppData\\Local\\Temp\\joblib_memmapping_folder_21624_8864526728\\21624-2098143416840-6b92e2652d5e4589a8eb6b272206468e.pkl\n",
      "Memmapping (shape=(610831,), dtype=int64) to old file C:\\Users\\NATHAL~1.BRU\\AppData\\Local\\Temp\\joblib_memmapping_folder_21624_8864526728\\21624-2098143416840-9553dd9dc2f044418b043294e866160e.pkl\n",
      "Memmapping (shape=(610831,), dtype=int64) to new file C:\\Users\\NATHAL~1.BRU\\AppData\\Local\\Temp\\joblib_memmapping_folder_21624_8864526728\\21624-2098143416840-c29625e81aa448ddb43fe9147479e420.pkl\n",
      "Memmapping (shape=(407220,), dtype=int32) to old file C:\\Users\\NATHAL~1.BRU\\AppData\\Local\\Temp\\joblib_memmapping_folder_21624_8864526728\\21624-2098143416840-84100862bfc441c480c8bbf2b827263c.pkl\n",
      "Pickling array (shape=(203611,), dtype=int32).\n",
      "[Parallel(n_jobs=-1)]: Done  20 tasks      | elapsed:  2.2min\n",
      "Pickling array (shape=(19,), dtype=object).\n",
      "Memmapping (shape=(610831,), dtype=int64) to old file C:\\Users\\NATHAL~1.BRU\\AppData\\Local\\Temp\\joblib_memmapping_folder_21624_8864526728\\21624-2098143416840-d6d44e4f89504b969069c9698b470c3b.pkl\n",
      "Memmapping (shape=(19, 610831), dtype=int64) to old file C:\\Users\\NATHAL~1.BRU\\AppData\\Local\\Temp\\joblib_memmapping_folder_21624_8864526728\\21624-2098143416840-4474d4f9e52d4c309f8ba7dfdfe0f0f7.pkl\n",
      "Pickling array (shape=(19,), dtype=object).\n",
      "Memmapping (shape=(610831,), dtype=int64) to old file C:\\Users\\NATHAL~1.BRU\\AppData\\Local\\Temp\\joblib_memmapping_folder_21624_8864526728\\21624-2098143416840-6b92e2652d5e4589a8eb6b272206468e.pkl\n",
      "Memmapping (shape=(610831,), dtype=int64) to old file C:\\Users\\NATHAL~1.BRU\\AppData\\Local\\Temp\\joblib_memmapping_folder_21624_8864526728\\21624-2098143416840-9553dd9dc2f044418b043294e866160e.pkl\n",
      "Memmapping (shape=(610831,), dtype=int64) to new file C:\\Users\\NATHAL~1.BRU\\AppData\\Local\\Temp\\joblib_memmapping_folder_21624_8864526728\\21624-2098143416840-9ec4cd57c54d4e7683e519666eb8661c.pkl\n",
      "Memmapping (shape=(407221,), dtype=int32) to old file C:\\Users\\NATHAL~1.BRU\\AppData\\Local\\Temp\\joblib_memmapping_folder_21624_8864526728\\21624-2098143416840-c60f2c5ebaa7426b809b85e1d36b6670.pkl\n",
      "Pickling array (shape=(203610,), dtype=int32).\n"
     ]
    },
    {
     "name": "stdout",
     "output_type": "stream",
     "text": [
      "[Parallel(n_jobs=-1)]: Done  21 tasks      | elapsed:  2.2min\n",
      "Pickling array (shape=(19,), dtype=object).\n",
      "Memmapping (shape=(610831,), dtype=int64) to old file C:\\Users\\NATHAL~1.BRU\\AppData\\Local\\Temp\\joblib_memmapping_folder_21624_8864526728\\21624-2098143416840-d6d44e4f89504b969069c9698b470c3b.pkl\n",
      "Memmapping (shape=(19, 610831), dtype=int64) to old file C:\\Users\\NATHAL~1.BRU\\AppData\\Local\\Temp\\joblib_memmapping_folder_21624_8864526728\\21624-2098143416840-4474d4f9e52d4c309f8ba7dfdfe0f0f7.pkl\n",
      "Pickling array (shape=(19,), dtype=object).\n",
      "Memmapping (shape=(610831,), dtype=int64) to old file C:\\Users\\NATHAL~1.BRU\\AppData\\Local\\Temp\\joblib_memmapping_folder_21624_8864526728\\21624-2098143416840-6b92e2652d5e4589a8eb6b272206468e.pkl\n",
      "Memmapping (shape=(610831,), dtype=int64) to old file C:\\Users\\NATHAL~1.BRU\\AppData\\Local\\Temp\\joblib_memmapping_folder_21624_8864526728\\21624-2098143416840-9553dd9dc2f044418b043294e866160e.pkl\n",
      "Memmapping (shape=(610831,), dtype=int64) to new file C:\\Users\\NATHAL~1.BRU\\AppData\\Local\\Temp\\joblib_memmapping_folder_21624_8864526728\\21624-2098143416840-3f246fc60a49481589f2c6636e89f525.pkl\n",
      "Memmapping (shape=(407221,), dtype=int32) to old file C:\\Users\\NATHAL~1.BRU\\AppData\\Local\\Temp\\joblib_memmapping_folder_21624_8864526728\\21624-2098143416840-db03436e1e5c4327bcb9471086e99f45.pkl\n",
      "Pickling array (shape=(203610,), dtype=int32).\n",
      "[Parallel(n_jobs=-1)]: Done  22 tasks      | elapsed:  2.5min\n",
      "Pickling array (shape=(19,), dtype=object).\n",
      "Memmapping (shape=(610831,), dtype=int64) to old file C:\\Users\\NATHAL~1.BRU\\AppData\\Local\\Temp\\joblib_memmapping_folder_21624_8864526728\\21624-2098143416840-d6d44e4f89504b969069c9698b470c3b.pkl\n",
      "Memmapping (shape=(19, 610831), dtype=int64) to old file C:\\Users\\NATHAL~1.BRU\\AppData\\Local\\Temp\\joblib_memmapping_folder_21624_8864526728\\21624-2098143416840-4474d4f9e52d4c309f8ba7dfdfe0f0f7.pkl\n",
      "Pickling array (shape=(19,), dtype=object).\n",
      "Memmapping (shape=(610831,), dtype=int64) to old file C:\\Users\\NATHAL~1.BRU\\AppData\\Local\\Temp\\joblib_memmapping_folder_21624_8864526728\\21624-2098143416840-6b92e2652d5e4589a8eb6b272206468e.pkl\n",
      "Memmapping (shape=(610831,), dtype=int64) to old file C:\\Users\\NATHAL~1.BRU\\AppData\\Local\\Temp\\joblib_memmapping_folder_21624_8864526728\\21624-2098143416840-9553dd9dc2f044418b043294e866160e.pkl\n",
      "Memmapping (shape=(610831,), dtype=int64) to new file C:\\Users\\NATHAL~1.BRU\\AppData\\Local\\Temp\\joblib_memmapping_folder_21624_8864526728\\21624-2098143416840-2946f5b41a2449e790b3b657089b5539.pkl\n",
      "Memmapping (shape=(407220,), dtype=int32) to old file C:\\Users\\NATHAL~1.BRU\\AppData\\Local\\Temp\\joblib_memmapping_folder_21624_8864526728\\21624-2098143416840-84100862bfc441c480c8bbf2b827263c.pkl\n",
      "Pickling array (shape=(203611,), dtype=int32).\n",
      "[Parallel(n_jobs=-1)]: Done  23 tasks      | elapsed:  2.5min\n",
      "Pickling array (shape=(19,), dtype=object).\n",
      "Memmapping (shape=(610831,), dtype=int64) to old file C:\\Users\\NATHAL~1.BRU\\AppData\\Local\\Temp\\joblib_memmapping_folder_21624_8864526728\\21624-2098143416840-d6d44e4f89504b969069c9698b470c3b.pkl\n",
      "Memmapping (shape=(19, 610831), dtype=int64) to old file C:\\Users\\NATHAL~1.BRU\\AppData\\Local\\Temp\\joblib_memmapping_folder_21624_8864526728\\21624-2098143416840-4474d4f9e52d4c309f8ba7dfdfe0f0f7.pkl\n",
      "Pickling array (shape=(19,), dtype=object).\n",
      "Memmapping (shape=(610831,), dtype=int64) to old file C:\\Users\\NATHAL~1.BRU\\AppData\\Local\\Temp\\joblib_memmapping_folder_21624_8864526728\\21624-2098143416840-6b92e2652d5e4589a8eb6b272206468e.pkl\n",
      "Memmapping (shape=(610831,), dtype=int64) to old file C:\\Users\\NATHAL~1.BRU\\AppData\\Local\\Temp\\joblib_memmapping_folder_21624_8864526728\\21624-2098143416840-9553dd9dc2f044418b043294e866160e.pkl\n",
      "Memmapping (shape=(610831,), dtype=int64) to new file C:\\Users\\NATHAL~1.BRU\\AppData\\Local\\Temp\\joblib_memmapping_folder_21624_8864526728\\21624-2098143416840-8f1faa24a6ae4ad48edd3f9e76ed5094.pkl\n",
      "Memmapping (shape=(407221,), dtype=int32) to old file C:\\Users\\NATHAL~1.BRU\\AppData\\Local\\Temp\\joblib_memmapping_folder_21624_8864526728\\21624-2098143416840-c60f2c5ebaa7426b809b85e1d36b6670.pkl\n",
      "Pickling array (shape=(203610,), dtype=int32).\n",
      "[Parallel(n_jobs=-1)]: Done  24 tasks      | elapsed:  2.8min\n",
      "Pickling array (shape=(19,), dtype=object).\n",
      "Memmapping (shape=(610831,), dtype=int64) to old file C:\\Users\\NATHAL~1.BRU\\AppData\\Local\\Temp\\joblib_memmapping_folder_21624_8864526728\\21624-2098143416840-d6d44e4f89504b969069c9698b470c3b.pkl\n",
      "Memmapping (shape=(19, 610831), dtype=int64) to old file C:\\Users\\NATHAL~1.BRU\\AppData\\Local\\Temp\\joblib_memmapping_folder_21624_8864526728\\21624-2098143416840-4474d4f9e52d4c309f8ba7dfdfe0f0f7.pkl\n",
      "Pickling array (shape=(19,), dtype=object).\n",
      "Memmapping (shape=(610831,), dtype=int64) to old file C:\\Users\\NATHAL~1.BRU\\AppData\\Local\\Temp\\joblib_memmapping_folder_21624_8864526728\\21624-2098143416840-6b92e2652d5e4589a8eb6b272206468e.pkl\n",
      "Memmapping (shape=(610831,), dtype=int64) to old file C:\\Users\\NATHAL~1.BRU\\AppData\\Local\\Temp\\joblib_memmapping_folder_21624_8864526728\\21624-2098143416840-9553dd9dc2f044418b043294e866160e.pkl\n",
      "Memmapping (shape=(610831,), dtype=int64) to new file C:\\Users\\NATHAL~1.BRU\\AppData\\Local\\Temp\\joblib_memmapping_folder_21624_8864526728\\21624-2098143416840-8cabe113a7ee42deb8725c6459275029.pkl\n",
      "Memmapping (shape=(407221,), dtype=int32) to old file C:\\Users\\NATHAL~1.BRU\\AppData\\Local\\Temp\\joblib_memmapping_folder_21624_8864526728\\21624-2098143416840-db03436e1e5c4327bcb9471086e99f45.pkl\n",
      "Pickling array (shape=(203610,), dtype=int32).\n",
      "[Parallel(n_jobs=-1)]: Done  25 tasks      | elapsed:  2.8min\n",
      "Pickling array (shape=(19,), dtype=object).\n",
      "Memmapping (shape=(610831,), dtype=int64) to old file C:\\Users\\NATHAL~1.BRU\\AppData\\Local\\Temp\\joblib_memmapping_folder_21624_8864526728\\21624-2098143416840-d6d44e4f89504b969069c9698b470c3b.pkl\n",
      "Memmapping (shape=(19, 610831), dtype=int64) to old file C:\\Users\\NATHAL~1.BRU\\AppData\\Local\\Temp\\joblib_memmapping_folder_21624_8864526728\\21624-2098143416840-4474d4f9e52d4c309f8ba7dfdfe0f0f7.pkl\n",
      "Pickling array (shape=(19,), dtype=object).\n",
      "Memmapping (shape=(610831,), dtype=int64) to old file C:\\Users\\NATHAL~1.BRU\\AppData\\Local\\Temp\\joblib_memmapping_folder_21624_8864526728\\21624-2098143416840-6b92e2652d5e4589a8eb6b272206468e.pkl\n",
      "Memmapping (shape=(610831,), dtype=int64) to old file C:\\Users\\NATHAL~1.BRU\\AppData\\Local\\Temp\\joblib_memmapping_folder_21624_8864526728\\21624-2098143416840-9553dd9dc2f044418b043294e866160e.pkl\n",
      "Memmapping (shape=(610831,), dtype=int64) to new file C:\\Users\\NATHAL~1.BRU\\AppData\\Local\\Temp\\joblib_memmapping_folder_21624_8864526728\\21624-2098143416840-95022c6078b94409841eebcb98857fcf.pkl\n",
      "Memmapping (shape=(407220,), dtype=int32) to old file C:\\Users\\NATHAL~1.BRU\\AppData\\Local\\Temp\\joblib_memmapping_folder_21624_8864526728\\21624-2098143416840-84100862bfc441c480c8bbf2b827263c.pkl\n",
      "Pickling array (shape=(203611,), dtype=int32).\n",
      "[Parallel(n_jobs=-1)]: Done  26 tasks      | elapsed:  2.8min\n",
      "Pickling array (shape=(19,), dtype=object).\n",
      "Memmapping (shape=(610831,), dtype=int64) to old file C:\\Users\\NATHAL~1.BRU\\AppData\\Local\\Temp\\joblib_memmapping_folder_21624_8864526728\\21624-2098143416840-d6d44e4f89504b969069c9698b470c3b.pkl\n",
      "Memmapping (shape=(19, 610831), dtype=int64) to old file C:\\Users\\NATHAL~1.BRU\\AppData\\Local\\Temp\\joblib_memmapping_folder_21624_8864526728\\21624-2098143416840-4474d4f9e52d4c309f8ba7dfdfe0f0f7.pkl\n",
      "Pickling array (shape=(19,), dtype=object).\n",
      "Memmapping (shape=(610831,), dtype=int64) to old file C:\\Users\\NATHAL~1.BRU\\AppData\\Local\\Temp\\joblib_memmapping_folder_21624_8864526728\\21624-2098143416840-6b92e2652d5e4589a8eb6b272206468e.pkl\n",
      "Memmapping (shape=(610831,), dtype=int64) to old file C:\\Users\\NATHAL~1.BRU\\AppData\\Local\\Temp\\joblib_memmapping_folder_21624_8864526728\\21624-2098143416840-9553dd9dc2f044418b043294e866160e.pkl\n",
      "Memmapping (shape=(610831,), dtype=int64) to new file C:\\Users\\NATHAL~1.BRU\\AppData\\Local\\Temp\\joblib_memmapping_folder_21624_8864526728\\21624-2098143416840-d670c19281364ab19f74f631ba17064f.pkl\n",
      "Memmapping (shape=(407221,), dtype=int32) to old file C:\\Users\\NATHAL~1.BRU\\AppData\\Local\\Temp\\joblib_memmapping_folder_21624_8864526728\\21624-2098143416840-c60f2c5ebaa7426b809b85e1d36b6670.pkl\n",
      "Pickling array (shape=(203610,), dtype=int32).\n",
      "[Parallel(n_jobs=-1)]: Done  27 tasks      | elapsed:  2.8min\n",
      "Pickling array (shape=(19,), dtype=object).\n",
      "Memmapping (shape=(610831,), dtype=int64) to old file C:\\Users\\NATHAL~1.BRU\\AppData\\Local\\Temp\\joblib_memmapping_folder_21624_8864526728\\21624-2098143416840-d6d44e4f89504b969069c9698b470c3b.pkl\n",
      "Memmapping (shape=(19, 610831), dtype=int64) to old file C:\\Users\\NATHAL~1.BRU\\AppData\\Local\\Temp\\joblib_memmapping_folder_21624_8864526728\\21624-2098143416840-4474d4f9e52d4c309f8ba7dfdfe0f0f7.pkl\n",
      "Pickling array (shape=(19,), dtype=object).\n",
      "Memmapping (shape=(610831,), dtype=int64) to old file C:\\Users\\NATHAL~1.BRU\\AppData\\Local\\Temp\\joblib_memmapping_folder_21624_8864526728\\21624-2098143416840-6b92e2652d5e4589a8eb6b272206468e.pkl\n",
      "Memmapping (shape=(610831,), dtype=int64) to old file C:\\Users\\NATHAL~1.BRU\\AppData\\Local\\Temp\\joblib_memmapping_folder_21624_8864526728\\21624-2098143416840-9553dd9dc2f044418b043294e866160e.pkl\n",
      "Memmapping (shape=(610831,), dtype=int64) to new file C:\\Users\\NATHAL~1.BRU\\AppData\\Local\\Temp\\joblib_memmapping_folder_21624_8864526728\\21624-2098143416840-c6a33c25d62c46f1a003b41209ff49cf.pkl\n",
      "Memmapping (shape=(407221,), dtype=int32) to old file C:\\Users\\NATHAL~1.BRU\\AppData\\Local\\Temp\\joblib_memmapping_folder_21624_8864526728\\21624-2098143416840-db03436e1e5c4327bcb9471086e99f45.pkl\n",
      "Pickling array (shape=(203610,), dtype=int32).\n"
     ]
    },
    {
     "name": "stdout",
     "output_type": "stream",
     "text": [
      "[Parallel(n_jobs=-1)]: Done  28 tasks      | elapsed:  3.1min\n",
      "Pickling array (shape=(19,), dtype=object).\n",
      "Memmapping (shape=(610831,), dtype=int64) to old file C:\\Users\\NATHAL~1.BRU\\AppData\\Local\\Temp\\joblib_memmapping_folder_21624_8864526728\\21624-2098143416840-d6d44e4f89504b969069c9698b470c3b.pkl\n",
      "Memmapping (shape=(19, 610831), dtype=int64) to old file C:\\Users\\NATHAL~1.BRU\\AppData\\Local\\Temp\\joblib_memmapping_folder_21624_8864526728\\21624-2098143416840-4474d4f9e52d4c309f8ba7dfdfe0f0f7.pkl\n",
      "Pickling array (shape=(19,), dtype=object).\n",
      "Memmapping (shape=(610831,), dtype=int64) to old file C:\\Users\\NATHAL~1.BRU\\AppData\\Local\\Temp\\joblib_memmapping_folder_21624_8864526728\\21624-2098143416840-6b92e2652d5e4589a8eb6b272206468e.pkl\n",
      "Memmapping (shape=(610831,), dtype=int64) to old file C:\\Users\\NATHAL~1.BRU\\AppData\\Local\\Temp\\joblib_memmapping_folder_21624_8864526728\\21624-2098143416840-9553dd9dc2f044418b043294e866160e.pkl\n",
      "Memmapping (shape=(610831,), dtype=int64) to new file C:\\Users\\NATHAL~1.BRU\\AppData\\Local\\Temp\\joblib_memmapping_folder_21624_8864526728\\21624-2098143416840-d6a033444e3546b3b20c5b5e67f32e11.pkl\n",
      "Memmapping (shape=(407220,), dtype=int32) to old file C:\\Users\\NATHAL~1.BRU\\AppData\\Local\\Temp\\joblib_memmapping_folder_21624_8864526728\\21624-2098143416840-84100862bfc441c480c8bbf2b827263c.pkl\n",
      "Pickling array (shape=(203611,), dtype=int32).\n",
      "[Parallel(n_jobs=-1)]: Done  29 tasks      | elapsed:  3.1min\n",
      "Pickling array (shape=(19,), dtype=object).\n",
      "Memmapping (shape=(610831,), dtype=int64) to old file C:\\Users\\NATHAL~1.BRU\\AppData\\Local\\Temp\\joblib_memmapping_folder_21624_8864526728\\21624-2098143416840-d6d44e4f89504b969069c9698b470c3b.pkl\n",
      "Memmapping (shape=(19, 610831), dtype=int64) to old file C:\\Users\\NATHAL~1.BRU\\AppData\\Local\\Temp\\joblib_memmapping_folder_21624_8864526728\\21624-2098143416840-4474d4f9e52d4c309f8ba7dfdfe0f0f7.pkl\n",
      "Pickling array (shape=(19,), dtype=object).\n",
      "Memmapping (shape=(610831,), dtype=int64) to old file C:\\Users\\NATHAL~1.BRU\\AppData\\Local\\Temp\\joblib_memmapping_folder_21624_8864526728\\21624-2098143416840-6b92e2652d5e4589a8eb6b272206468e.pkl\n",
      "Memmapping (shape=(610831,), dtype=int64) to old file C:\\Users\\NATHAL~1.BRU\\AppData\\Local\\Temp\\joblib_memmapping_folder_21624_8864526728\\21624-2098143416840-9553dd9dc2f044418b043294e866160e.pkl\n",
      "Memmapping (shape=(610831,), dtype=int64) to new file C:\\Users\\NATHAL~1.BRU\\AppData\\Local\\Temp\\joblib_memmapping_folder_21624_8864526728\\21624-2098143416840-ad41dcdd9e364eccaf3ecf48b36023ae.pkl\n",
      "Memmapping (shape=(407221,), dtype=int32) to old file C:\\Users\\NATHAL~1.BRU\\AppData\\Local\\Temp\\joblib_memmapping_folder_21624_8864526728\\21624-2098143416840-c60f2c5ebaa7426b809b85e1d36b6670.pkl\n",
      "Pickling array (shape=(203610,), dtype=int32).\n",
      "[Parallel(n_jobs=-1)]: Done  30 tasks      | elapsed:  3.2min\n",
      "Pickling array (shape=(19,), dtype=object).\n",
      "Memmapping (shape=(610831,), dtype=int64) to old file C:\\Users\\NATHAL~1.BRU\\AppData\\Local\\Temp\\joblib_memmapping_folder_21624_8864526728\\21624-2098143416840-d6d44e4f89504b969069c9698b470c3b.pkl\n",
      "Memmapping (shape=(19, 610831), dtype=int64) to old file C:\\Users\\NATHAL~1.BRU\\AppData\\Local\\Temp\\joblib_memmapping_folder_21624_8864526728\\21624-2098143416840-4474d4f9e52d4c309f8ba7dfdfe0f0f7.pkl\n",
      "Pickling array (shape=(19,), dtype=object).\n",
      "Memmapping (shape=(610831,), dtype=int64) to old file C:\\Users\\NATHAL~1.BRU\\AppData\\Local\\Temp\\joblib_memmapping_folder_21624_8864526728\\21624-2098143416840-6b92e2652d5e4589a8eb6b272206468e.pkl\n",
      "Memmapping (shape=(610831,), dtype=int64) to old file C:\\Users\\NATHAL~1.BRU\\AppData\\Local\\Temp\\joblib_memmapping_folder_21624_8864526728\\21624-2098143416840-9553dd9dc2f044418b043294e866160e.pkl\n",
      "Memmapping (shape=(610831,), dtype=int64) to new file C:\\Users\\NATHAL~1.BRU\\AppData\\Local\\Temp\\joblib_memmapping_folder_21624_8864526728\\21624-2098143416840-9ad3431a30dd4921ac86111379084e33.pkl\n",
      "Memmapping (shape=(407221,), dtype=int32) to old file C:\\Users\\NATHAL~1.BRU\\AppData\\Local\\Temp\\joblib_memmapping_folder_21624_8864526728\\21624-2098143416840-db03436e1e5c4327bcb9471086e99f45.pkl\n",
      "Pickling array (shape=(203610,), dtype=int32).\n",
      "[Parallel(n_jobs=-1)]: Done  31 tasks      | elapsed:  3.4min\n",
      "Pickling array (shape=(19,), dtype=object).\n",
      "Memmapping (shape=(610831,), dtype=int64) to old file C:\\Users\\NATHAL~1.BRU\\AppData\\Local\\Temp\\joblib_memmapping_folder_21624_8864526728\\21624-2098143416840-d6d44e4f89504b969069c9698b470c3b.pkl\n",
      "Memmapping (shape=(19, 610831), dtype=int64) to old file C:\\Users\\NATHAL~1.BRU\\AppData\\Local\\Temp\\joblib_memmapping_folder_21624_8864526728\\21624-2098143416840-4474d4f9e52d4c309f8ba7dfdfe0f0f7.pkl\n",
      "Pickling array (shape=(19,), dtype=object).\n",
      "Memmapping (shape=(610831,), dtype=int64) to old file C:\\Users\\NATHAL~1.BRU\\AppData\\Local\\Temp\\joblib_memmapping_folder_21624_8864526728\\21624-2098143416840-6b92e2652d5e4589a8eb6b272206468e.pkl\n",
      "Memmapping (shape=(610831,), dtype=int64) to old file C:\\Users\\NATHAL~1.BRU\\AppData\\Local\\Temp\\joblib_memmapping_folder_21624_8864526728\\21624-2098143416840-9553dd9dc2f044418b043294e866160e.pkl\n",
      "Memmapping (shape=(610831,), dtype=int64) to new file C:\\Users\\NATHAL~1.BRU\\AppData\\Local\\Temp\\joblib_memmapping_folder_21624_8864526728\\21624-2098143416840-82d7af2939084543b3c2fd42ae471df6.pkl\n",
      "Memmapping (shape=(407220,), dtype=int32) to old file C:\\Users\\NATHAL~1.BRU\\AppData\\Local\\Temp\\joblib_memmapping_folder_21624_8864526728\\21624-2098143416840-84100862bfc441c480c8bbf2b827263c.pkl\n",
      "Pickling array (shape=(203611,), dtype=int32).\n",
      "[Parallel(n_jobs=-1)]: Done  32 tasks      | elapsed:  3.4min\n",
      "Pickling array (shape=(19,), dtype=object).\n",
      "Memmapping (shape=(610831,), dtype=int64) to old file C:\\Users\\NATHAL~1.BRU\\AppData\\Local\\Temp\\joblib_memmapping_folder_21624_8864526728\\21624-2098143416840-d6d44e4f89504b969069c9698b470c3b.pkl\n",
      "Memmapping (shape=(19, 610831), dtype=int64) to old file C:\\Users\\NATHAL~1.BRU\\AppData\\Local\\Temp\\joblib_memmapping_folder_21624_8864526728\\21624-2098143416840-4474d4f9e52d4c309f8ba7dfdfe0f0f7.pkl\n",
      "Pickling array (shape=(19,), dtype=object).\n",
      "Memmapping (shape=(610831,), dtype=int64) to old file C:\\Users\\NATHAL~1.BRU\\AppData\\Local\\Temp\\joblib_memmapping_folder_21624_8864526728\\21624-2098143416840-6b92e2652d5e4589a8eb6b272206468e.pkl\n",
      "Memmapping (shape=(610831,), dtype=int64) to old file C:\\Users\\NATHAL~1.BRU\\AppData\\Local\\Temp\\joblib_memmapping_folder_21624_8864526728\\21624-2098143416840-9553dd9dc2f044418b043294e866160e.pkl\n",
      "Memmapping (shape=(610831,), dtype=int64) to new file C:\\Users\\NATHAL~1.BRU\\AppData\\Local\\Temp\\joblib_memmapping_folder_21624_8864526728\\21624-2098143416840-6182a8d07ba849caacfad854524ac28b.pkl\n",
      "Memmapping (shape=(407221,), dtype=int32) to old file C:\\Users\\NATHAL~1.BRU\\AppData\\Local\\Temp\\joblib_memmapping_folder_21624_8864526728\\21624-2098143416840-c60f2c5ebaa7426b809b85e1d36b6670.pkl\n",
      "Pickling array (shape=(203610,), dtype=int32).\n",
      "[Parallel(n_jobs=-1)]: Done  33 tasks      | elapsed:  3.4min\n",
      "Pickling array (shape=(19,), dtype=object).\n",
      "Memmapping (shape=(610831,), dtype=int64) to old file C:\\Users\\NATHAL~1.BRU\\AppData\\Local\\Temp\\joblib_memmapping_folder_21624_8864526728\\21624-2098143416840-d6d44e4f89504b969069c9698b470c3b.pkl\n",
      "Memmapping (shape=(19, 610831), dtype=int64) to old file C:\\Users\\NATHAL~1.BRU\\AppData\\Local\\Temp\\joblib_memmapping_folder_21624_8864526728\\21624-2098143416840-4474d4f9e52d4c309f8ba7dfdfe0f0f7.pkl\n",
      "Pickling array (shape=(19,), dtype=object).\n",
      "Memmapping (shape=(610831,), dtype=int64) to old file C:\\Users\\NATHAL~1.BRU\\AppData\\Local\\Temp\\joblib_memmapping_folder_21624_8864526728\\21624-2098143416840-6b92e2652d5e4589a8eb6b272206468e.pkl\n",
      "Memmapping (shape=(610831,), dtype=int64) to old file C:\\Users\\NATHAL~1.BRU\\AppData\\Local\\Temp\\joblib_memmapping_folder_21624_8864526728\\21624-2098143416840-9553dd9dc2f044418b043294e866160e.pkl\n",
      "Memmapping (shape=(610831,), dtype=int64) to new file C:\\Users\\NATHAL~1.BRU\\AppData\\Local\\Temp\\joblib_memmapping_folder_21624_8864526728\\21624-2098143416840-05b0d9572dcd40b49941760e32180757.pkl\n",
      "Memmapping (shape=(407221,), dtype=int32) to old file C:\\Users\\NATHAL~1.BRU\\AppData\\Local\\Temp\\joblib_memmapping_folder_21624_8864526728\\21624-2098143416840-db03436e1e5c4327bcb9471086e99f45.pkl\n",
      "Pickling array (shape=(203610,), dtype=int32).\n",
      "[Parallel(n_jobs=-1)]: Done  34 tasks      | elapsed:  3.7min\n",
      "Pickling array (shape=(19,), dtype=object).\n",
      "Memmapping (shape=(610831,), dtype=int64) to old file C:\\Users\\NATHAL~1.BRU\\AppData\\Local\\Temp\\joblib_memmapping_folder_21624_8864526728\\21624-2098143416840-d6d44e4f89504b969069c9698b470c3b.pkl\n",
      "Memmapping (shape=(19, 610831), dtype=int64) to old file C:\\Users\\NATHAL~1.BRU\\AppData\\Local\\Temp\\joblib_memmapping_folder_21624_8864526728\\21624-2098143416840-4474d4f9e52d4c309f8ba7dfdfe0f0f7.pkl\n",
      "Pickling array (shape=(19,), dtype=object).\n",
      "Memmapping (shape=(610831,), dtype=int64) to old file C:\\Users\\NATHAL~1.BRU\\AppData\\Local\\Temp\\joblib_memmapping_folder_21624_8864526728\\21624-2098143416840-6b92e2652d5e4589a8eb6b272206468e.pkl\n",
      "Memmapping (shape=(610831,), dtype=int64) to old file C:\\Users\\NATHAL~1.BRU\\AppData\\Local\\Temp\\joblib_memmapping_folder_21624_8864526728\\21624-2098143416840-9553dd9dc2f044418b043294e866160e.pkl\n",
      "Memmapping (shape=(610831,), dtype=int64) to new file C:\\Users\\NATHAL~1.BRU\\AppData\\Local\\Temp\\joblib_memmapping_folder_21624_8864526728\\21624-2098143416840-2fd3b89390fa4dfa92377d8109323bfe.pkl\n",
      "Memmapping (shape=(407220,), dtype=int32) to old file C:\\Users\\NATHAL~1.BRU\\AppData\\Local\\Temp\\joblib_memmapping_folder_21624_8864526728\\21624-2098143416840-84100862bfc441c480c8bbf2b827263c.pkl\n",
      "Pickling array (shape=(203611,), dtype=int32).\n"
     ]
    },
    {
     "name": "stdout",
     "output_type": "stream",
     "text": [
      "[Parallel(n_jobs=-1)]: Done  35 tasks      | elapsed:  3.8min\n",
      "Pickling array (shape=(19,), dtype=object).\n",
      "Memmapping (shape=(610831,), dtype=int64) to old file C:\\Users\\NATHAL~1.BRU\\AppData\\Local\\Temp\\joblib_memmapping_folder_21624_8864526728\\21624-2098143416840-d6d44e4f89504b969069c9698b470c3b.pkl\n",
      "Memmapping (shape=(19, 610831), dtype=int64) to old file C:\\Users\\NATHAL~1.BRU\\AppData\\Local\\Temp\\joblib_memmapping_folder_21624_8864526728\\21624-2098143416840-4474d4f9e52d4c309f8ba7dfdfe0f0f7.pkl\n",
      "Pickling array (shape=(19,), dtype=object).\n",
      "Memmapping (shape=(610831,), dtype=int64) to old file C:\\Users\\NATHAL~1.BRU\\AppData\\Local\\Temp\\joblib_memmapping_folder_21624_8864526728\\21624-2098143416840-6b92e2652d5e4589a8eb6b272206468e.pkl\n",
      "Memmapping (shape=(610831,), dtype=int64) to old file C:\\Users\\NATHAL~1.BRU\\AppData\\Local\\Temp\\joblib_memmapping_folder_21624_8864526728\\21624-2098143416840-9553dd9dc2f044418b043294e866160e.pkl\n",
      "Memmapping (shape=(610831,), dtype=int64) to new file C:\\Users\\NATHAL~1.BRU\\AppData\\Local\\Temp\\joblib_memmapping_folder_21624_8864526728\\21624-2098143416840-4c21c42f1eab4ce6bf7f6143e05c423e.pkl\n",
      "Memmapping (shape=(407221,), dtype=int32) to old file C:\\Users\\NATHAL~1.BRU\\AppData\\Local\\Temp\\joblib_memmapping_folder_21624_8864526728\\21624-2098143416840-c60f2c5ebaa7426b809b85e1d36b6670.pkl\n",
      "Pickling array (shape=(203610,), dtype=int32).\n",
      "[Parallel(n_jobs=-1)]: Done  36 tasks      | elapsed:  3.8min\n",
      "Pickling array (shape=(19,), dtype=object).\n",
      "Memmapping (shape=(610831,), dtype=int64) to old file C:\\Users\\NATHAL~1.BRU\\AppData\\Local\\Temp\\joblib_memmapping_folder_21624_8864526728\\21624-2098143416840-d6d44e4f89504b969069c9698b470c3b.pkl\n",
      "Memmapping (shape=(19, 610831), dtype=int64) to old file C:\\Users\\NATHAL~1.BRU\\AppData\\Local\\Temp\\joblib_memmapping_folder_21624_8864526728\\21624-2098143416840-4474d4f9e52d4c309f8ba7dfdfe0f0f7.pkl\n",
      "Pickling array (shape=(19,), dtype=object).\n",
      "Memmapping (shape=(610831,), dtype=int64) to old file C:\\Users\\NATHAL~1.BRU\\AppData\\Local\\Temp\\joblib_memmapping_folder_21624_8864526728\\21624-2098143416840-6b92e2652d5e4589a8eb6b272206468e.pkl\n",
      "Memmapping (shape=(610831,), dtype=int64) to old file C:\\Users\\NATHAL~1.BRU\\AppData\\Local\\Temp\\joblib_memmapping_folder_21624_8864526728\\21624-2098143416840-9553dd9dc2f044418b043294e866160e.pkl\n",
      "Memmapping (shape=(610831,), dtype=int64) to new file C:\\Users\\NATHAL~1.BRU\\AppData\\Local\\Temp\\joblib_memmapping_folder_21624_8864526728\\21624-2098143416840-1be19c82b8bc41c09ff6bbb845f6bd69.pkl\n",
      "Memmapping (shape=(407221,), dtype=int32) to old file C:\\Users\\NATHAL~1.BRU\\AppData\\Local\\Temp\\joblib_memmapping_folder_21624_8864526728\\21624-2098143416840-db03436e1e5c4327bcb9471086e99f45.pkl\n",
      "Pickling array (shape=(203610,), dtype=int32).\n",
      "[Parallel(n_jobs=-1)]: Done  37 tasks      | elapsed:  3.8min\n",
      "Pickling array (shape=(19,), dtype=object).\n",
      "Memmapping (shape=(610831,), dtype=int64) to old file C:\\Users\\NATHAL~1.BRU\\AppData\\Local\\Temp\\joblib_memmapping_folder_21624_8864526728\\21624-2098143416840-d6d44e4f89504b969069c9698b470c3b.pkl\n",
      "Memmapping (shape=(19, 610831), dtype=int64) to old file C:\\Users\\NATHAL~1.BRU\\AppData\\Local\\Temp\\joblib_memmapping_folder_21624_8864526728\\21624-2098143416840-4474d4f9e52d4c309f8ba7dfdfe0f0f7.pkl\n",
      "Pickling array (shape=(19,), dtype=object).\n",
      "Memmapping (shape=(610831,), dtype=int64) to old file C:\\Users\\NATHAL~1.BRU\\AppData\\Local\\Temp\\joblib_memmapping_folder_21624_8864526728\\21624-2098143416840-6b92e2652d5e4589a8eb6b272206468e.pkl\n",
      "Memmapping (shape=(610831,), dtype=int64) to old file C:\\Users\\NATHAL~1.BRU\\AppData\\Local\\Temp\\joblib_memmapping_folder_21624_8864526728\\21624-2098143416840-9553dd9dc2f044418b043294e866160e.pkl\n",
      "Memmapping (shape=(610831,), dtype=int64) to new file C:\\Users\\NATHAL~1.BRU\\AppData\\Local\\Temp\\joblib_memmapping_folder_21624_8864526728\\21624-2098143416840-f206e2bef9934b9b911f1529486d31dc.pkl\n",
      "Memmapping (shape=(407220,), dtype=int32) to old file C:\\Users\\NATHAL~1.BRU\\AppData\\Local\\Temp\\joblib_memmapping_folder_21624_8864526728\\21624-2098143416840-84100862bfc441c480c8bbf2b827263c.pkl\n",
      "Pickling array (shape=(203611,), dtype=int32).\n",
      "[Parallel(n_jobs=-1)]: Done  38 tasks      | elapsed:  4.0min\n",
      "Pickling array (shape=(19,), dtype=object).\n",
      "Memmapping (shape=(610831,), dtype=int64) to old file C:\\Users\\NATHAL~1.BRU\\AppData\\Local\\Temp\\joblib_memmapping_folder_21624_8864526728\\21624-2098143416840-d6d44e4f89504b969069c9698b470c3b.pkl\n",
      "Memmapping (shape=(19, 610831), dtype=int64) to old file C:\\Users\\NATHAL~1.BRU\\AppData\\Local\\Temp\\joblib_memmapping_folder_21624_8864526728\\21624-2098143416840-4474d4f9e52d4c309f8ba7dfdfe0f0f7.pkl\n",
      "Pickling array (shape=(19,), dtype=object).\n",
      "Memmapping (shape=(610831,), dtype=int64) to old file C:\\Users\\NATHAL~1.BRU\\AppData\\Local\\Temp\\joblib_memmapping_folder_21624_8864526728\\21624-2098143416840-6b92e2652d5e4589a8eb6b272206468e.pkl\n",
      "Memmapping (shape=(610831,), dtype=int64) to old file C:\\Users\\NATHAL~1.BRU\\AppData\\Local\\Temp\\joblib_memmapping_folder_21624_8864526728\\21624-2098143416840-9553dd9dc2f044418b043294e866160e.pkl\n",
      "Memmapping (shape=(610831,), dtype=int64) to new file C:\\Users\\NATHAL~1.BRU\\AppData\\Local\\Temp\\joblib_memmapping_folder_21624_8864526728\\21624-2098143416840-19f078bc548e496e84ff4a0d3597775c.pkl\n",
      "Memmapping (shape=(407221,), dtype=int32) to old file C:\\Users\\NATHAL~1.BRU\\AppData\\Local\\Temp\\joblib_memmapping_folder_21624_8864526728\\21624-2098143416840-c60f2c5ebaa7426b809b85e1d36b6670.pkl\n",
      "Pickling array (shape=(203610,), dtype=int32).\n",
      "[Parallel(n_jobs=-1)]: Done  39 tasks      | elapsed:  4.0min\n",
      "Pickling array (shape=(19,), dtype=object).\n",
      "Memmapping (shape=(610831,), dtype=int64) to old file C:\\Users\\NATHAL~1.BRU\\AppData\\Local\\Temp\\joblib_memmapping_folder_21624_8864526728\\21624-2098143416840-d6d44e4f89504b969069c9698b470c3b.pkl\n",
      "Memmapping (shape=(19, 610831), dtype=int64) to old file C:\\Users\\NATHAL~1.BRU\\AppData\\Local\\Temp\\joblib_memmapping_folder_21624_8864526728\\21624-2098143416840-4474d4f9e52d4c309f8ba7dfdfe0f0f7.pkl\n",
      "Pickling array (shape=(19,), dtype=object).\n",
      "Memmapping (shape=(610831,), dtype=int64) to old file C:\\Users\\NATHAL~1.BRU\\AppData\\Local\\Temp\\joblib_memmapping_folder_21624_8864526728\\21624-2098143416840-6b92e2652d5e4589a8eb6b272206468e.pkl\n",
      "Memmapping (shape=(610831,), dtype=int64) to old file C:\\Users\\NATHAL~1.BRU\\AppData\\Local\\Temp\\joblib_memmapping_folder_21624_8864526728\\21624-2098143416840-9553dd9dc2f044418b043294e866160e.pkl\n",
      "Memmapping (shape=(610831,), dtype=int64) to new file C:\\Users\\NATHAL~1.BRU\\AppData\\Local\\Temp\\joblib_memmapping_folder_21624_8864526728\\21624-2098143416840-722a00f01c264ea0b190becc484e5948.pkl\n",
      "Memmapping (shape=(407221,), dtype=int32) to old file C:\\Users\\NATHAL~1.BRU\\AppData\\Local\\Temp\\joblib_memmapping_folder_21624_8864526728\\21624-2098143416840-db03436e1e5c4327bcb9471086e99f45.pkl\n",
      "Pickling array (shape=(203610,), dtype=int32).\n",
      "[Parallel(n_jobs=-1)]: Done  40 tasks      | elapsed:  4.4min\n",
      "Pickling array (shape=(19,), dtype=object).\n",
      "Memmapping (shape=(610831,), dtype=int64) to old file C:\\Users\\NATHAL~1.BRU\\AppData\\Local\\Temp\\joblib_memmapping_folder_21624_8864526728\\21624-2098143416840-d6d44e4f89504b969069c9698b470c3b.pkl\n",
      "Memmapping (shape=(19, 610831), dtype=int64) to old file C:\\Users\\NATHAL~1.BRU\\AppData\\Local\\Temp\\joblib_memmapping_folder_21624_8864526728\\21624-2098143416840-4474d4f9e52d4c309f8ba7dfdfe0f0f7.pkl\n",
      "Pickling array (shape=(19,), dtype=object).\n",
      "Memmapping (shape=(610831,), dtype=int64) to old file C:\\Users\\NATHAL~1.BRU\\AppData\\Local\\Temp\\joblib_memmapping_folder_21624_8864526728\\21624-2098143416840-6b92e2652d5e4589a8eb6b272206468e.pkl\n",
      "Memmapping (shape=(610831,), dtype=int64) to old file C:\\Users\\NATHAL~1.BRU\\AppData\\Local\\Temp\\joblib_memmapping_folder_21624_8864526728\\21624-2098143416840-9553dd9dc2f044418b043294e866160e.pkl\n",
      "Memmapping (shape=(610831,), dtype=int64) to new file C:\\Users\\NATHAL~1.BRU\\AppData\\Local\\Temp\\joblib_memmapping_folder_21624_8864526728\\21624-2098143416840-937cdda7bbc14be7ac36345adfefcffb.pkl\n",
      "Memmapping (shape=(407220,), dtype=int32) to old file C:\\Users\\NATHAL~1.BRU\\AppData\\Local\\Temp\\joblib_memmapping_folder_21624_8864526728\\21624-2098143416840-84100862bfc441c480c8bbf2b827263c.pkl\n",
      "Pickling array (shape=(203611,), dtype=int32).\n",
      "[Parallel(n_jobs=-1)]: Done  41 tasks      | elapsed:  4.4min\n"
     ]
    },
    {
     "name": "stdout",
     "output_type": "stream",
     "text": [
      "Pickling array (shape=(19,), dtype=object).\n",
      "Memmapping (shape=(610831,), dtype=int64) to old file C:\\Users\\NATHAL~1.BRU\\AppData\\Local\\Temp\\joblib_memmapping_folder_21624_8864526728\\21624-2098143416840-d6d44e4f89504b969069c9698b470c3b.pkl\n",
      "Memmapping (shape=(19, 610831), dtype=int64) to old file C:\\Users\\NATHAL~1.BRU\\AppData\\Local\\Temp\\joblib_memmapping_folder_21624_8864526728\\21624-2098143416840-4474d4f9e52d4c309f8ba7dfdfe0f0f7.pkl\n",
      "Pickling array (shape=(19,), dtype=object).\n",
      "Memmapping (shape=(610831,), dtype=int64) to old file C:\\Users\\NATHAL~1.BRU\\AppData\\Local\\Temp\\joblib_memmapping_folder_21624_8864526728\\21624-2098143416840-6b92e2652d5e4589a8eb6b272206468e.pkl\n",
      "Memmapping (shape=(610831,), dtype=int64) to old file C:\\Users\\NATHAL~1.BRU\\AppData\\Local\\Temp\\joblib_memmapping_folder_21624_8864526728\\21624-2098143416840-9553dd9dc2f044418b043294e866160e.pkl\n",
      "Memmapping (shape=(610831,), dtype=int64) to new file C:\\Users\\NATHAL~1.BRU\\AppData\\Local\\Temp\\joblib_memmapping_folder_21624_8864526728\\21624-2098143416840-f0418598c8a141d9982e35b105c87a89.pkl\n",
      "Memmapping (shape=(407221,), dtype=int32) to old file C:\\Users\\NATHAL~1.BRU\\AppData\\Local\\Temp\\joblib_memmapping_folder_21624_8864526728\\21624-2098143416840-c60f2c5ebaa7426b809b85e1d36b6670.pkl\n",
      "Pickling array (shape=(203610,), dtype=int32).\n",
      "[Parallel(n_jobs=-1)]: Done  42 tasks      | elapsed:  4.4min\n",
      "Pickling array (shape=(19,), dtype=object).\n",
      "Memmapping (shape=(610831,), dtype=int64) to old file C:\\Users\\NATHAL~1.BRU\\AppData\\Local\\Temp\\joblib_memmapping_folder_21624_8864526728\\21624-2098143416840-d6d44e4f89504b969069c9698b470c3b.pkl\n",
      "Memmapping (shape=(19, 610831), dtype=int64) to old file C:\\Users\\NATHAL~1.BRU\\AppData\\Local\\Temp\\joblib_memmapping_folder_21624_8864526728\\21624-2098143416840-4474d4f9e52d4c309f8ba7dfdfe0f0f7.pkl\n",
      "Pickling array (shape=(19,), dtype=object).\n",
      "Memmapping (shape=(610831,), dtype=int64) to old file C:\\Users\\NATHAL~1.BRU\\AppData\\Local\\Temp\\joblib_memmapping_folder_21624_8864526728\\21624-2098143416840-6b92e2652d5e4589a8eb6b272206468e.pkl\n",
      "Memmapping (shape=(610831,), dtype=int64) to old file C:\\Users\\NATHAL~1.BRU\\AppData\\Local\\Temp\\joblib_memmapping_folder_21624_8864526728\\21624-2098143416840-9553dd9dc2f044418b043294e866160e.pkl\n",
      "Memmapping (shape=(610831,), dtype=int64) to new file C:\\Users\\NATHAL~1.BRU\\AppData\\Local\\Temp\\joblib_memmapping_folder_21624_8864526728\\21624-2098143416840-7a5a0c7e8830425cbbaeb94d95056b9d.pkl\n",
      "Memmapping (shape=(407221,), dtype=int32) to old file C:\\Users\\NATHAL~1.BRU\\AppData\\Local\\Temp\\joblib_memmapping_folder_21624_8864526728\\21624-2098143416840-db03436e1e5c4327bcb9471086e99f45.pkl\n",
      "Pickling array (shape=(203610,), dtype=int32).\n",
      "[Parallel(n_jobs=-1)]: Done  43 tasks      | elapsed:  4.4min\n",
      "Pickling array (shape=(19,), dtype=object).\n",
      "Memmapping (shape=(610831,), dtype=int64) to old file C:\\Users\\NATHAL~1.BRU\\AppData\\Local\\Temp\\joblib_memmapping_folder_21624_8864526728\\21624-2098143416840-d6d44e4f89504b969069c9698b470c3b.pkl\n",
      "Memmapping (shape=(19, 610831), dtype=int64) to old file C:\\Users\\NATHAL~1.BRU\\AppData\\Local\\Temp\\joblib_memmapping_folder_21624_8864526728\\21624-2098143416840-4474d4f9e52d4c309f8ba7dfdfe0f0f7.pkl\n",
      "Pickling array (shape=(19,), dtype=object).\n",
      "Memmapping (shape=(610831,), dtype=int64) to old file C:\\Users\\NATHAL~1.BRU\\AppData\\Local\\Temp\\joblib_memmapping_folder_21624_8864526728\\21624-2098143416840-6b92e2652d5e4589a8eb6b272206468e.pkl\n",
      "Memmapping (shape=(610831,), dtype=int64) to old file C:\\Users\\NATHAL~1.BRU\\AppData\\Local\\Temp\\joblib_memmapping_folder_21624_8864526728\\21624-2098143416840-9553dd9dc2f044418b043294e866160e.pkl\n",
      "Memmapping (shape=(610831,), dtype=int64) to new file C:\\Users\\NATHAL~1.BRU\\AppData\\Local\\Temp\\joblib_memmapping_folder_21624_8864526728\\21624-2098143416840-3cd55bd79caf4d9db93e21929366f672.pkl\n",
      "Memmapping (shape=(407220,), dtype=int32) to old file C:\\Users\\NATHAL~1.BRU\\AppData\\Local\\Temp\\joblib_memmapping_folder_21624_8864526728\\21624-2098143416840-84100862bfc441c480c8bbf2b827263c.pkl\n",
      "Pickling array (shape=(203611,), dtype=int32).\n",
      "[Parallel(n_jobs=-1)]: Done  44 tasks      | elapsed:  4.5min\n",
      "Pickling array (shape=(19,), dtype=object).\n",
      "Memmapping (shape=(610831,), dtype=int64) to old file C:\\Users\\NATHAL~1.BRU\\AppData\\Local\\Temp\\joblib_memmapping_folder_21624_8864526728\\21624-2098143416840-d6d44e4f89504b969069c9698b470c3b.pkl\n",
      "Memmapping (shape=(19, 610831), dtype=int64) to old file C:\\Users\\NATHAL~1.BRU\\AppData\\Local\\Temp\\joblib_memmapping_folder_21624_8864526728\\21624-2098143416840-4474d4f9e52d4c309f8ba7dfdfe0f0f7.pkl\n",
      "Pickling array (shape=(19,), dtype=object).\n",
      "Memmapping (shape=(610831,), dtype=int64) to old file C:\\Users\\NATHAL~1.BRU\\AppData\\Local\\Temp\\joblib_memmapping_folder_21624_8864526728\\21624-2098143416840-6b92e2652d5e4589a8eb6b272206468e.pkl\n",
      "Memmapping (shape=(610831,), dtype=int64) to old file C:\\Users\\NATHAL~1.BRU\\AppData\\Local\\Temp\\joblib_memmapping_folder_21624_8864526728\\21624-2098143416840-9553dd9dc2f044418b043294e866160e.pkl\n",
      "Memmapping (shape=(610831,), dtype=int64) to new file C:\\Users\\NATHAL~1.BRU\\AppData\\Local\\Temp\\joblib_memmapping_folder_21624_8864526728\\21624-2098143416840-9a5ef152475b4edb914fa77539671888.pkl\n",
      "Memmapping (shape=(407221,), dtype=int32) to old file C:\\Users\\NATHAL~1.BRU\\AppData\\Local\\Temp\\joblib_memmapping_folder_21624_8864526728\\21624-2098143416840-c60f2c5ebaa7426b809b85e1d36b6670.pkl\n",
      "Pickling array (shape=(203610,), dtype=int32).\n",
      "[Parallel(n_jobs=-1)]: Done  45 tasks      | elapsed:  4.7min\n",
      "Pickling array (shape=(19,), dtype=object).\n",
      "Memmapping (shape=(610831,), dtype=int64) to old file C:\\Users\\NATHAL~1.BRU\\AppData\\Local\\Temp\\joblib_memmapping_folder_21624_8864526728\\21624-2098143416840-d6d44e4f89504b969069c9698b470c3b.pkl\n",
      "Memmapping (shape=(19, 610831), dtype=int64) to old file C:\\Users\\NATHAL~1.BRU\\AppData\\Local\\Temp\\joblib_memmapping_folder_21624_8864526728\\21624-2098143416840-4474d4f9e52d4c309f8ba7dfdfe0f0f7.pkl\n",
      "Pickling array (shape=(19,), dtype=object).\n",
      "Memmapping (shape=(610831,), dtype=int64) to old file C:\\Users\\NATHAL~1.BRU\\AppData\\Local\\Temp\\joblib_memmapping_folder_21624_8864526728\\21624-2098143416840-6b92e2652d5e4589a8eb6b272206468e.pkl\n",
      "Memmapping (shape=(610831,), dtype=int64) to old file C:\\Users\\NATHAL~1.BRU\\AppData\\Local\\Temp\\joblib_memmapping_folder_21624_8864526728\\21624-2098143416840-9553dd9dc2f044418b043294e866160e.pkl\n",
      "Memmapping (shape=(610831,), dtype=int64) to new file C:\\Users\\NATHAL~1.BRU\\AppData\\Local\\Temp\\joblib_memmapping_folder_21624_8864526728\\21624-2098143416840-fb7a357688644e9da9e631390383b1f6.pkl\n",
      "Memmapping (shape=(407221,), dtype=int32) to old file C:\\Users\\NATHAL~1.BRU\\AppData\\Local\\Temp\\joblib_memmapping_folder_21624_8864526728\\21624-2098143416840-db03436e1e5c4327bcb9471086e99f45.pkl\n",
      "Pickling array (shape=(203610,), dtype=int32).\n",
      "[Parallel(n_jobs=-1)]: Done  46 tasks      | elapsed:  5.0min\n",
      "Pickling array (shape=(19,), dtype=object).\n",
      "Memmapping (shape=(610831,), dtype=int64) to old file C:\\Users\\NATHAL~1.BRU\\AppData\\Local\\Temp\\joblib_memmapping_folder_21624_8864526728\\21624-2098143416840-d6d44e4f89504b969069c9698b470c3b.pkl\n",
      "Memmapping (shape=(19, 610831), dtype=int64) to old file C:\\Users\\NATHAL~1.BRU\\AppData\\Local\\Temp\\joblib_memmapping_folder_21624_8864526728\\21624-2098143416840-4474d4f9e52d4c309f8ba7dfdfe0f0f7.pkl\n",
      "Pickling array (shape=(19,), dtype=object).\n",
      "Memmapping (shape=(610831,), dtype=int64) to old file C:\\Users\\NATHAL~1.BRU\\AppData\\Local\\Temp\\joblib_memmapping_folder_21624_8864526728\\21624-2098143416840-6b92e2652d5e4589a8eb6b272206468e.pkl\n",
      "Memmapping (shape=(610831,), dtype=int64) to old file C:\\Users\\NATHAL~1.BRU\\AppData\\Local\\Temp\\joblib_memmapping_folder_21624_8864526728\\21624-2098143416840-9553dd9dc2f044418b043294e866160e.pkl\n",
      "Memmapping (shape=(610831,), dtype=int64) to new file C:\\Users\\NATHAL~1.BRU\\AppData\\Local\\Temp\\joblib_memmapping_folder_21624_8864526728\\21624-2098143416840-7a6935db2dc744cfbb0ffdd4d76bc792.pkl\n",
      "Memmapping (shape=(407220,), dtype=int32) to old file C:\\Users\\NATHAL~1.BRU\\AppData\\Local\\Temp\\joblib_memmapping_folder_21624_8864526728\\21624-2098143416840-84100862bfc441c480c8bbf2b827263c.pkl\n",
      "Pickling array (shape=(203611,), dtype=int32).\n",
      "[Parallel(n_jobs=-1)]: Done  47 tasks      | elapsed:  5.0min\n",
      "Pickling array (shape=(19,), dtype=object).\n",
      "Memmapping (shape=(610831,), dtype=int64) to old file C:\\Users\\NATHAL~1.BRU\\AppData\\Local\\Temp\\joblib_memmapping_folder_21624_8864526728\\21624-2098143416840-d6d44e4f89504b969069c9698b470c3b.pkl\n",
      "Memmapping (shape=(19, 610831), dtype=int64) to old file C:\\Users\\NATHAL~1.BRU\\AppData\\Local\\Temp\\joblib_memmapping_folder_21624_8864526728\\21624-2098143416840-4474d4f9e52d4c309f8ba7dfdfe0f0f7.pkl\n",
      "Pickling array (shape=(19,), dtype=object).\n",
      "Memmapping (shape=(610831,), dtype=int64) to old file C:\\Users\\NATHAL~1.BRU\\AppData\\Local\\Temp\\joblib_memmapping_folder_21624_8864526728\\21624-2098143416840-6b92e2652d5e4589a8eb6b272206468e.pkl\n",
      "Memmapping (shape=(610831,), dtype=int64) to old file C:\\Users\\NATHAL~1.BRU\\AppData\\Local\\Temp\\joblib_memmapping_folder_21624_8864526728\\21624-2098143416840-9553dd9dc2f044418b043294e866160e.pkl\n",
      "Memmapping (shape=(610831,), dtype=int64) to new file C:\\Users\\NATHAL~1.BRU\\AppData\\Local\\Temp\\joblib_memmapping_folder_21624_8864526728\\21624-2098143416840-1e5d8bcc3fbd4c0191bb1a638c0c929d.pkl\n",
      "Memmapping (shape=(407221,), dtype=int32) to old file C:\\Users\\NATHAL~1.BRU\\AppData\\Local\\Temp\\joblib_memmapping_folder_21624_8864526728\\21624-2098143416840-c60f2c5ebaa7426b809b85e1d36b6670.pkl\n",
      "Pickling array (shape=(203610,), dtype=int32).\n"
     ]
    },
    {
     "name": "stdout",
     "output_type": "stream",
     "text": [
      "[Parallel(n_jobs=-1)]: Done  48 tasks      | elapsed:  5.3min\n",
      "Pickling array (shape=(19,), dtype=object).\n",
      "Memmapping (shape=(610831,), dtype=int64) to old file C:\\Users\\NATHAL~1.BRU\\AppData\\Local\\Temp\\joblib_memmapping_folder_21624_8864526728\\21624-2098143416840-d6d44e4f89504b969069c9698b470c3b.pkl\n",
      "Memmapping (shape=(19, 610831), dtype=int64) to old file C:\\Users\\NATHAL~1.BRU\\AppData\\Local\\Temp\\joblib_memmapping_folder_21624_8864526728\\21624-2098143416840-4474d4f9e52d4c309f8ba7dfdfe0f0f7.pkl\n",
      "Pickling array (shape=(19,), dtype=object).\n",
      "Memmapping (shape=(610831,), dtype=int64) to old file C:\\Users\\NATHAL~1.BRU\\AppData\\Local\\Temp\\joblib_memmapping_folder_21624_8864526728\\21624-2098143416840-6b92e2652d5e4589a8eb6b272206468e.pkl\n",
      "Memmapping (shape=(610831,), dtype=int64) to old file C:\\Users\\NATHAL~1.BRU\\AppData\\Local\\Temp\\joblib_memmapping_folder_21624_8864526728\\21624-2098143416840-9553dd9dc2f044418b043294e866160e.pkl\n",
      "Memmapping (shape=(610831,), dtype=int64) to new file C:\\Users\\NATHAL~1.BRU\\AppData\\Local\\Temp\\joblib_memmapping_folder_21624_8864526728\\21624-2098143416840-d86eee6552af4fe2b492ca901d40dac4.pkl\n",
      "Memmapping (shape=(407221,), dtype=int32) to old file C:\\Users\\NATHAL~1.BRU\\AppData\\Local\\Temp\\joblib_memmapping_folder_21624_8864526728\\21624-2098143416840-db03436e1e5c4327bcb9471086e99f45.pkl\n",
      "Pickling array (shape=(203610,), dtype=int32).\n",
      "[Parallel(n_jobs=-1)]: Done  49 tasks      | elapsed:  6.1min\n",
      "Pickling array (shape=(19,), dtype=object).\n",
      "Memmapping (shape=(610831,), dtype=int64) to old file C:\\Users\\NATHAL~1.BRU\\AppData\\Local\\Temp\\joblib_memmapping_folder_21624_8864526728\\21624-2098143416840-d6d44e4f89504b969069c9698b470c3b.pkl\n",
      "Memmapping (shape=(19, 610831), dtype=int64) to old file C:\\Users\\NATHAL~1.BRU\\AppData\\Local\\Temp\\joblib_memmapping_folder_21624_8864526728\\21624-2098143416840-4474d4f9e52d4c309f8ba7dfdfe0f0f7.pkl\n",
      "Pickling array (shape=(19,), dtype=object).\n",
      "Memmapping (shape=(610831,), dtype=int64) to old file C:\\Users\\NATHAL~1.BRU\\AppData\\Local\\Temp\\joblib_memmapping_folder_21624_8864526728\\21624-2098143416840-6b92e2652d5e4589a8eb6b272206468e.pkl\n",
      "Memmapping (shape=(610831,), dtype=int64) to old file C:\\Users\\NATHAL~1.BRU\\AppData\\Local\\Temp\\joblib_memmapping_folder_21624_8864526728\\21624-2098143416840-9553dd9dc2f044418b043294e866160e.pkl\n",
      "Memmapping (shape=(610831,), dtype=int64) to new file C:\\Users\\NATHAL~1.BRU\\AppData\\Local\\Temp\\joblib_memmapping_folder_21624_8864526728\\21624-2098143416840-67ed51ff22634aac9394238ea502e015.pkl\n",
      "Memmapping (shape=(407220,), dtype=int32) to old file C:\\Users\\NATHAL~1.BRU\\AppData\\Local\\Temp\\joblib_memmapping_folder_21624_8864526728\\21624-2098143416840-84100862bfc441c480c8bbf2b827263c.pkl\n",
      "Pickling array (shape=(203611,), dtype=int32).\n",
      "[Parallel(n_jobs=-1)]: Done  50 tasks      | elapsed:  6.1min\n",
      "Pickling array (shape=(19,), dtype=object).\n",
      "Memmapping (shape=(610831,), dtype=int64) to old file C:\\Users\\NATHAL~1.BRU\\AppData\\Local\\Temp\\joblib_memmapping_folder_21624_8864526728\\21624-2098143416840-d6d44e4f89504b969069c9698b470c3b.pkl\n",
      "Memmapping (shape=(19, 610831), dtype=int64) to old file C:\\Users\\NATHAL~1.BRU\\AppData\\Local\\Temp\\joblib_memmapping_folder_21624_8864526728\\21624-2098143416840-4474d4f9e52d4c309f8ba7dfdfe0f0f7.pkl\n",
      "Pickling array (shape=(19,), dtype=object).\n",
      "Memmapping (shape=(610831,), dtype=int64) to old file C:\\Users\\NATHAL~1.BRU\\AppData\\Local\\Temp\\joblib_memmapping_folder_21624_8864526728\\21624-2098143416840-6b92e2652d5e4589a8eb6b272206468e.pkl\n",
      "Memmapping (shape=(610831,), dtype=int64) to old file C:\\Users\\NATHAL~1.BRU\\AppData\\Local\\Temp\\joblib_memmapping_folder_21624_8864526728\\21624-2098143416840-9553dd9dc2f044418b043294e866160e.pkl\n",
      "Memmapping (shape=(610831,), dtype=int64) to new file C:\\Users\\NATHAL~1.BRU\\AppData\\Local\\Temp\\joblib_memmapping_folder_21624_8864526728\\21624-2098143416840-1d274738f9604d0e830948f459d9af7a.pkl\n",
      "Memmapping (shape=(407221,), dtype=int32) to old file C:\\Users\\NATHAL~1.BRU\\AppData\\Local\\Temp\\joblib_memmapping_folder_21624_8864526728\\21624-2098143416840-c60f2c5ebaa7426b809b85e1d36b6670.pkl\n",
      "Pickling array (shape=(203610,), dtype=int32).\n",
      "[Parallel(n_jobs=-1)]: Done  51 tasks      | elapsed:  6.1min\n",
      "Pickling array (shape=(19,), dtype=object).\n",
      "Memmapping (shape=(610831,), dtype=int64) to old file C:\\Users\\NATHAL~1.BRU\\AppData\\Local\\Temp\\joblib_memmapping_folder_21624_8864526728\\21624-2098143416840-d6d44e4f89504b969069c9698b470c3b.pkl\n",
      "Memmapping (shape=(19, 610831), dtype=int64) to old file C:\\Users\\NATHAL~1.BRU\\AppData\\Local\\Temp\\joblib_memmapping_folder_21624_8864526728\\21624-2098143416840-4474d4f9e52d4c309f8ba7dfdfe0f0f7.pkl\n",
      "Pickling array (shape=(19,), dtype=object).\n",
      "Memmapping (shape=(610831,), dtype=int64) to old file C:\\Users\\NATHAL~1.BRU\\AppData\\Local\\Temp\\joblib_memmapping_folder_21624_8864526728\\21624-2098143416840-6b92e2652d5e4589a8eb6b272206468e.pkl\n",
      "Memmapping (shape=(610831,), dtype=int64) to old file C:\\Users\\NATHAL~1.BRU\\AppData\\Local\\Temp\\joblib_memmapping_folder_21624_8864526728\\21624-2098143416840-9553dd9dc2f044418b043294e866160e.pkl\n",
      "Memmapping (shape=(610831,), dtype=int64) to new file C:\\Users\\NATHAL~1.BRU\\AppData\\Local\\Temp\\joblib_memmapping_folder_21624_8864526728\\21624-2098143416840-33e79f6451d64e8ea613ea691611ad2b.pkl\n",
      "Memmapping (shape=(407221,), dtype=int32) to old file C:\\Users\\NATHAL~1.BRU\\AppData\\Local\\Temp\\joblib_memmapping_folder_21624_8864526728\\21624-2098143416840-db03436e1e5c4327bcb9471086e99f45.pkl\n",
      "Pickling array (shape=(203610,), dtype=int32).\n",
      "[Parallel(n_jobs=-1)]: Done  52 tasks      | elapsed:  6.8min\n",
      "Pickling array (shape=(19,), dtype=object).\n",
      "Memmapping (shape=(610831,), dtype=int64) to old file C:\\Users\\NATHAL~1.BRU\\AppData\\Local\\Temp\\joblib_memmapping_folder_21624_8864526728\\21624-2098143416840-d6d44e4f89504b969069c9698b470c3b.pkl\n",
      "Memmapping (shape=(19, 610831), dtype=int64) to old file C:\\Users\\NATHAL~1.BRU\\AppData\\Local\\Temp\\joblib_memmapping_folder_21624_8864526728\\21624-2098143416840-4474d4f9e52d4c309f8ba7dfdfe0f0f7.pkl\n",
      "Pickling array (shape=(19,), dtype=object).\n",
      "Memmapping (shape=(610831,), dtype=int64) to old file C:\\Users\\NATHAL~1.BRU\\AppData\\Local\\Temp\\joblib_memmapping_folder_21624_8864526728\\21624-2098143416840-6b92e2652d5e4589a8eb6b272206468e.pkl\n",
      "Memmapping (shape=(610831,), dtype=int64) to old file C:\\Users\\NATHAL~1.BRU\\AppData\\Local\\Temp\\joblib_memmapping_folder_21624_8864526728\\21624-2098143416840-9553dd9dc2f044418b043294e866160e.pkl\n",
      "Memmapping (shape=(610831,), dtype=int64) to new file C:\\Users\\NATHAL~1.BRU\\AppData\\Local\\Temp\\joblib_memmapping_folder_21624_8864526728\\21624-2098143416840-f8bb04ee94a94d95914d0b6a129a3218.pkl\n",
      "Memmapping (shape=(407220,), dtype=int32) to old file C:\\Users\\NATHAL~1.BRU\\AppData\\Local\\Temp\\joblib_memmapping_folder_21624_8864526728\\21624-2098143416840-84100862bfc441c480c8bbf2b827263c.pkl\n",
      "Pickling array (shape=(203611,), dtype=int32).\n",
      "[Parallel(n_jobs=-1)]: Done  53 tasks      | elapsed:  7.0min\n",
      "Pickling array (shape=(19,), dtype=object).\n",
      "Memmapping (shape=(610831,), dtype=int64) to old file C:\\Users\\NATHAL~1.BRU\\AppData\\Local\\Temp\\joblib_memmapping_folder_21624_8864526728\\21624-2098143416840-d6d44e4f89504b969069c9698b470c3b.pkl\n",
      "Memmapping (shape=(19, 610831), dtype=int64) to old file C:\\Users\\NATHAL~1.BRU\\AppData\\Local\\Temp\\joblib_memmapping_folder_21624_8864526728\\21624-2098143416840-4474d4f9e52d4c309f8ba7dfdfe0f0f7.pkl\n",
      "Pickling array (shape=(19,), dtype=object).\n",
      "Memmapping (shape=(610831,), dtype=int64) to old file C:\\Users\\NATHAL~1.BRU\\AppData\\Local\\Temp\\joblib_memmapping_folder_21624_8864526728\\21624-2098143416840-6b92e2652d5e4589a8eb6b272206468e.pkl\n",
      "Memmapping (shape=(610831,), dtype=int64) to old file C:\\Users\\NATHAL~1.BRU\\AppData\\Local\\Temp\\joblib_memmapping_folder_21624_8864526728\\21624-2098143416840-9553dd9dc2f044418b043294e866160e.pkl\n",
      "Memmapping (shape=(610831,), dtype=int64) to new file C:\\Users\\NATHAL~1.BRU\\AppData\\Local\\Temp\\joblib_memmapping_folder_21624_8864526728\\21624-2098143416840-376663c9e4e44adc91c4dc8c972d0264.pkl\n",
      "Memmapping (shape=(407221,), dtype=int32) to old file C:\\Users\\NATHAL~1.BRU\\AppData\\Local\\Temp\\joblib_memmapping_folder_21624_8864526728\\21624-2098143416840-c60f2c5ebaa7426b809b85e1d36b6670.pkl\n",
      "Pickling array (shape=(203610,), dtype=int32).\n",
      "[Parallel(n_jobs=-1)]: Done  54 tasks      | elapsed:  7.0min\n",
      "Pickling array (shape=(19,), dtype=object).\n",
      "Memmapping (shape=(610831,), dtype=int64) to old file C:\\Users\\NATHAL~1.BRU\\AppData\\Local\\Temp\\joblib_memmapping_folder_21624_8864526728\\21624-2098143416840-d6d44e4f89504b969069c9698b470c3b.pkl\n",
      "Memmapping (shape=(19, 610831), dtype=int64) to old file C:\\Users\\NATHAL~1.BRU\\AppData\\Local\\Temp\\joblib_memmapping_folder_21624_8864526728\\21624-2098143416840-4474d4f9e52d4c309f8ba7dfdfe0f0f7.pkl\n",
      "Pickling array (shape=(19,), dtype=object).\n",
      "Memmapping (shape=(610831,), dtype=int64) to old file C:\\Users\\NATHAL~1.BRU\\AppData\\Local\\Temp\\joblib_memmapping_folder_21624_8864526728\\21624-2098143416840-6b92e2652d5e4589a8eb6b272206468e.pkl\n",
      "Memmapping (shape=(610831,), dtype=int64) to old file C:\\Users\\NATHAL~1.BRU\\AppData\\Local\\Temp\\joblib_memmapping_folder_21624_8864526728\\21624-2098143416840-9553dd9dc2f044418b043294e866160e.pkl\n",
      "Memmapping (shape=(610831,), dtype=int64) to new file C:\\Users\\NATHAL~1.BRU\\AppData\\Local\\Temp\\joblib_memmapping_folder_21624_8864526728\\21624-2098143416840-83b98758b3364a1bbcf7b9c3f4ffbf99.pkl\n",
      "Memmapping (shape=(407221,), dtype=int32) to old file C:\\Users\\NATHAL~1.BRU\\AppData\\Local\\Temp\\joblib_memmapping_folder_21624_8864526728\\21624-2098143416840-db03436e1e5c4327bcb9471086e99f45.pkl\n",
      "Pickling array (shape=(203610,), dtype=int32).\n"
     ]
    },
    {
     "name": "stdout",
     "output_type": "stream",
     "text": [
      "[Parallel(n_jobs=-1)]: Done  55 tasks      | elapsed:  7.3min\n",
      "Pickling array (shape=(19,), dtype=object).\n",
      "Memmapping (shape=(610831,), dtype=int64) to old file C:\\Users\\NATHAL~1.BRU\\AppData\\Local\\Temp\\joblib_memmapping_folder_21624_8864526728\\21624-2098143416840-d6d44e4f89504b969069c9698b470c3b.pkl\n",
      "Memmapping (shape=(19, 610831), dtype=int64) to old file C:\\Users\\NATHAL~1.BRU\\AppData\\Local\\Temp\\joblib_memmapping_folder_21624_8864526728\\21624-2098143416840-4474d4f9e52d4c309f8ba7dfdfe0f0f7.pkl\n",
      "Pickling array (shape=(19,), dtype=object).\n",
      "Memmapping (shape=(610831,), dtype=int64) to old file C:\\Users\\NATHAL~1.BRU\\AppData\\Local\\Temp\\joblib_memmapping_folder_21624_8864526728\\21624-2098143416840-6b92e2652d5e4589a8eb6b272206468e.pkl\n",
      "Memmapping (shape=(610831,), dtype=int64) to old file C:\\Users\\NATHAL~1.BRU\\AppData\\Local\\Temp\\joblib_memmapping_folder_21624_8864526728\\21624-2098143416840-9553dd9dc2f044418b043294e866160e.pkl\n",
      "Memmapping (shape=(610831,), dtype=int64) to new file C:\\Users\\NATHAL~1.BRU\\AppData\\Local\\Temp\\joblib_memmapping_folder_21624_8864526728\\21624-2098143416840-ee105395b3234e5fa9edbb839deefd95.pkl\n",
      "Memmapping (shape=(407220,), dtype=int32) to old file C:\\Users\\NATHAL~1.BRU\\AppData\\Local\\Temp\\joblib_memmapping_folder_21624_8864526728\\21624-2098143416840-84100862bfc441c480c8bbf2b827263c.pkl\n",
      "Pickling array (shape=(203611,), dtype=int32).\n",
      "[Parallel(n_jobs=-1)]: Done  56 tasks      | elapsed:  7.6min\n",
      "Pickling array (shape=(19,), dtype=object).\n",
      "Memmapping (shape=(610831,), dtype=int64) to old file C:\\Users\\NATHAL~1.BRU\\AppData\\Local\\Temp\\joblib_memmapping_folder_21624_8864526728\\21624-2098143416840-d6d44e4f89504b969069c9698b470c3b.pkl\n",
      "Memmapping (shape=(19, 610831), dtype=int64) to old file C:\\Users\\NATHAL~1.BRU\\AppData\\Local\\Temp\\joblib_memmapping_folder_21624_8864526728\\21624-2098143416840-4474d4f9e52d4c309f8ba7dfdfe0f0f7.pkl\n",
      "Pickling array (shape=(19,), dtype=object).\n",
      "Memmapping (shape=(610831,), dtype=int64) to old file C:\\Users\\NATHAL~1.BRU\\AppData\\Local\\Temp\\joblib_memmapping_folder_21624_8864526728\\21624-2098143416840-6b92e2652d5e4589a8eb6b272206468e.pkl\n",
      "Memmapping (shape=(610831,), dtype=int64) to old file C:\\Users\\NATHAL~1.BRU\\AppData\\Local\\Temp\\joblib_memmapping_folder_21624_8864526728\\21624-2098143416840-9553dd9dc2f044418b043294e866160e.pkl\n",
      "Memmapping (shape=(610831,), dtype=int64) to new file C:\\Users\\NATHAL~1.BRU\\AppData\\Local\\Temp\\joblib_memmapping_folder_21624_8864526728\\21624-2098143416840-03ea8f4e07714754a749c74b8e5668ca.pkl\n",
      "Memmapping (shape=(407221,), dtype=int32) to old file C:\\Users\\NATHAL~1.BRU\\AppData\\Local\\Temp\\joblib_memmapping_folder_21624_8864526728\\21624-2098143416840-c60f2c5ebaa7426b809b85e1d36b6670.pkl\n",
      "Pickling array (shape=(203610,), dtype=int32).\n",
      "[Parallel(n_jobs=-1)]: Done  57 tasks      | elapsed:  7.8min\n",
      "Pickling array (shape=(19,), dtype=object).\n",
      "Memmapping (shape=(610831,), dtype=int64) to old file C:\\Users\\NATHAL~1.BRU\\AppData\\Local\\Temp\\joblib_memmapping_folder_21624_8864526728\\21624-2098143416840-d6d44e4f89504b969069c9698b470c3b.pkl\n",
      "Memmapping (shape=(19, 610831), dtype=int64) to old file C:\\Users\\NATHAL~1.BRU\\AppData\\Local\\Temp\\joblib_memmapping_folder_21624_8864526728\\21624-2098143416840-4474d4f9e52d4c309f8ba7dfdfe0f0f7.pkl\n",
      "Pickling array (shape=(19,), dtype=object).\n",
      "Memmapping (shape=(610831,), dtype=int64) to old file C:\\Users\\NATHAL~1.BRU\\AppData\\Local\\Temp\\joblib_memmapping_folder_21624_8864526728\\21624-2098143416840-6b92e2652d5e4589a8eb6b272206468e.pkl\n",
      "Memmapping (shape=(610831,), dtype=int64) to old file C:\\Users\\NATHAL~1.BRU\\AppData\\Local\\Temp\\joblib_memmapping_folder_21624_8864526728\\21624-2098143416840-9553dd9dc2f044418b043294e866160e.pkl\n",
      "Memmapping (shape=(610831,), dtype=int64) to new file C:\\Users\\NATHAL~1.BRU\\AppData\\Local\\Temp\\joblib_memmapping_folder_21624_8864526728\\21624-2098143416840-a1901901a176472e8b92e59c2fe39d60.pkl\n",
      "Memmapping (shape=(407221,), dtype=int32) to old file C:\\Users\\NATHAL~1.BRU\\AppData\\Local\\Temp\\joblib_memmapping_folder_21624_8864526728\\21624-2098143416840-db03436e1e5c4327bcb9471086e99f45.pkl\n",
      "Pickling array (shape=(203610,), dtype=int32).\n",
      "[Parallel(n_jobs=-1)]: Done  58 tasks      | elapsed:  8.7min\n",
      "Pickling array (shape=(19,), dtype=object).\n",
      "Memmapping (shape=(610831,), dtype=int64) to old file C:\\Users\\NATHAL~1.BRU\\AppData\\Local\\Temp\\joblib_memmapping_folder_21624_8864526728\\21624-2098143416840-d6d44e4f89504b969069c9698b470c3b.pkl\n",
      "Memmapping (shape=(19, 610831), dtype=int64) to old file C:\\Users\\NATHAL~1.BRU\\AppData\\Local\\Temp\\joblib_memmapping_folder_21624_8864526728\\21624-2098143416840-4474d4f9e52d4c309f8ba7dfdfe0f0f7.pkl\n",
      "Pickling array (shape=(19,), dtype=object).\n",
      "Memmapping (shape=(610831,), dtype=int64) to old file C:\\Users\\NATHAL~1.BRU\\AppData\\Local\\Temp\\joblib_memmapping_folder_21624_8864526728\\21624-2098143416840-6b92e2652d5e4589a8eb6b272206468e.pkl\n",
      "Memmapping (shape=(610831,), dtype=int64) to old file C:\\Users\\NATHAL~1.BRU\\AppData\\Local\\Temp\\joblib_memmapping_folder_21624_8864526728\\21624-2098143416840-9553dd9dc2f044418b043294e866160e.pkl\n",
      "Memmapping (shape=(610831,), dtype=int64) to new file C:\\Users\\NATHAL~1.BRU\\AppData\\Local\\Temp\\joblib_memmapping_folder_21624_8864526728\\21624-2098143416840-387c7fb6dcff49e693ea1b8c2b9b8f49.pkl\n",
      "Memmapping (shape=(407220,), dtype=int32) to old file C:\\Users\\NATHAL~1.BRU\\AppData\\Local\\Temp\\joblib_memmapping_folder_21624_8864526728\\21624-2098143416840-84100862bfc441c480c8bbf2b827263c.pkl\n",
      "Pickling array (shape=(203611,), dtype=int32).\n",
      "[Parallel(n_jobs=-1)]: Done  59 tasks      | elapsed:  8.8min\n",
      "Pickling array (shape=(19,), dtype=object).\n",
      "Memmapping (shape=(610831,), dtype=int64) to old file C:\\Users\\NATHAL~1.BRU\\AppData\\Local\\Temp\\joblib_memmapping_folder_21624_8864526728\\21624-2098143416840-d6d44e4f89504b969069c9698b470c3b.pkl\n",
      "Memmapping (shape=(19, 610831), dtype=int64) to old file C:\\Users\\NATHAL~1.BRU\\AppData\\Local\\Temp\\joblib_memmapping_folder_21624_8864526728\\21624-2098143416840-4474d4f9e52d4c309f8ba7dfdfe0f0f7.pkl\n",
      "Pickling array (shape=(19,), dtype=object).\n",
      "Memmapping (shape=(610831,), dtype=int64) to old file C:\\Users\\NATHAL~1.BRU\\AppData\\Local\\Temp\\joblib_memmapping_folder_21624_8864526728\\21624-2098143416840-6b92e2652d5e4589a8eb6b272206468e.pkl\n",
      "Memmapping (shape=(610831,), dtype=int64) to old file C:\\Users\\NATHAL~1.BRU\\AppData\\Local\\Temp\\joblib_memmapping_folder_21624_8864526728\\21624-2098143416840-9553dd9dc2f044418b043294e866160e.pkl\n",
      "Memmapping (shape=(610831,), dtype=int64) to new file C:\\Users\\NATHAL~1.BRU\\AppData\\Local\\Temp\\joblib_memmapping_folder_21624_8864526728\\21624-2098143416840-c547d6222d054aa5a3d85b436897b413.pkl\n",
      "Memmapping (shape=(407221,), dtype=int32) to old file C:\\Users\\NATHAL~1.BRU\\AppData\\Local\\Temp\\joblib_memmapping_folder_21624_8864526728\\21624-2098143416840-c60f2c5ebaa7426b809b85e1d36b6670.pkl\n",
      "Pickling array (shape=(203610,), dtype=int32).\n",
      "[Parallel(n_jobs=-1)]: Done  60 tasks      | elapsed:  8.8min\n",
      "Pickling array (shape=(19,), dtype=object).\n",
      "Memmapping (shape=(610831,), dtype=int64) to old file C:\\Users\\NATHAL~1.BRU\\AppData\\Local\\Temp\\joblib_memmapping_folder_21624_8864526728\\21624-2098143416840-d6d44e4f89504b969069c9698b470c3b.pkl\n",
      "Memmapping (shape=(19, 610831), dtype=int64) to old file C:\\Users\\NATHAL~1.BRU\\AppData\\Local\\Temp\\joblib_memmapping_folder_21624_8864526728\\21624-2098143416840-4474d4f9e52d4c309f8ba7dfdfe0f0f7.pkl\n",
      "Pickling array (shape=(19,), dtype=object).\n",
      "Memmapping (shape=(610831,), dtype=int64) to old file C:\\Users\\NATHAL~1.BRU\\AppData\\Local\\Temp\\joblib_memmapping_folder_21624_8864526728\\21624-2098143416840-6b92e2652d5e4589a8eb6b272206468e.pkl\n",
      "Memmapping (shape=(610831,), dtype=int64) to old file C:\\Users\\NATHAL~1.BRU\\AppData\\Local\\Temp\\joblib_memmapping_folder_21624_8864526728\\21624-2098143416840-9553dd9dc2f044418b043294e866160e.pkl\n",
      "Memmapping (shape=(610831,), dtype=int64) to new file C:\\Users\\NATHAL~1.BRU\\AppData\\Local\\Temp\\joblib_memmapping_folder_21624_8864526728\\21624-2098143416840-9d99c589b92b4f759045718d5907bc16.pkl\n",
      "Memmapping (shape=(407221,), dtype=int32) to old file C:\\Users\\NATHAL~1.BRU\\AppData\\Local\\Temp\\joblib_memmapping_folder_21624_8864526728\\21624-2098143416840-db03436e1e5c4327bcb9471086e99f45.pkl\n",
      "Pickling array (shape=(203610,), dtype=int32).\n",
      "[Parallel(n_jobs=-1)]: Done  61 tasks      | elapsed:  8.8min\n",
      "Pickling array (shape=(19,), dtype=object).\n",
      "Memmapping (shape=(610831,), dtype=int64) to old file C:\\Users\\NATHAL~1.BRU\\AppData\\Local\\Temp\\joblib_memmapping_folder_21624_8864526728\\21624-2098143416840-d6d44e4f89504b969069c9698b470c3b.pkl\n",
      "Memmapping (shape=(19, 610831), dtype=int64) to old file C:\\Users\\NATHAL~1.BRU\\AppData\\Local\\Temp\\joblib_memmapping_folder_21624_8864526728\\21624-2098143416840-4474d4f9e52d4c309f8ba7dfdfe0f0f7.pkl\n",
      "Pickling array (shape=(19,), dtype=object).\n",
      "Memmapping (shape=(610831,), dtype=int64) to old file C:\\Users\\NATHAL~1.BRU\\AppData\\Local\\Temp\\joblib_memmapping_folder_21624_8864526728\\21624-2098143416840-6b92e2652d5e4589a8eb6b272206468e.pkl\n",
      "Memmapping (shape=(610831,), dtype=int64) to old file C:\\Users\\NATHAL~1.BRU\\AppData\\Local\\Temp\\joblib_memmapping_folder_21624_8864526728\\21624-2098143416840-9553dd9dc2f044418b043294e866160e.pkl\n",
      "Memmapping (shape=(610831,), dtype=int64) to new file C:\\Users\\NATHAL~1.BRU\\AppData\\Local\\Temp\\joblib_memmapping_folder_21624_8864526728\\21624-2098143416840-8fbf6dd89fd74b56b8cb6c122cf035f9.pkl\n",
      "Memmapping (shape=(407220,), dtype=int32) to old file C:\\Users\\NATHAL~1.BRU\\AppData\\Local\\Temp\\joblib_memmapping_folder_21624_8864526728\\21624-2098143416840-84100862bfc441c480c8bbf2b827263c.pkl\n",
      "Pickling array (shape=(203611,), dtype=int32).\n"
     ]
    },
    {
     "name": "stdout",
     "output_type": "stream",
     "text": [
      "[Parallel(n_jobs=-1)]: Done  62 tasks      | elapsed:  9.0min\n",
      "Pickling array (shape=(19,), dtype=object).\n",
      "Memmapping (shape=(610831,), dtype=int64) to old file C:\\Users\\NATHAL~1.BRU\\AppData\\Local\\Temp\\joblib_memmapping_folder_21624_8864526728\\21624-2098143416840-d6d44e4f89504b969069c9698b470c3b.pkl\n",
      "Memmapping (shape=(19, 610831), dtype=int64) to old file C:\\Users\\NATHAL~1.BRU\\AppData\\Local\\Temp\\joblib_memmapping_folder_21624_8864526728\\21624-2098143416840-4474d4f9e52d4c309f8ba7dfdfe0f0f7.pkl\n",
      "Pickling array (shape=(19,), dtype=object).\n",
      "Memmapping (shape=(610831,), dtype=int64) to old file C:\\Users\\NATHAL~1.BRU\\AppData\\Local\\Temp\\joblib_memmapping_folder_21624_8864526728\\21624-2098143416840-6b92e2652d5e4589a8eb6b272206468e.pkl\n",
      "Memmapping (shape=(610831,), dtype=int64) to old file C:\\Users\\NATHAL~1.BRU\\AppData\\Local\\Temp\\joblib_memmapping_folder_21624_8864526728\\21624-2098143416840-9553dd9dc2f044418b043294e866160e.pkl\n",
      "Memmapping (shape=(610831,), dtype=int64) to new file C:\\Users\\NATHAL~1.BRU\\AppData\\Local\\Temp\\joblib_memmapping_folder_21624_8864526728\\21624-2098143416840-9c50ba9856a643ccb4da19071c0950ed.pkl\n",
      "Memmapping (shape=(407221,), dtype=int32) to old file C:\\Users\\NATHAL~1.BRU\\AppData\\Local\\Temp\\joblib_memmapping_folder_21624_8864526728\\21624-2098143416840-c60f2c5ebaa7426b809b85e1d36b6670.pkl\n",
      "Pickling array (shape=(203610,), dtype=int32).\n",
      "[Parallel(n_jobs=-1)]: Done  63 tasks      | elapsed:  9.5min\n",
      "Pickling array (shape=(19,), dtype=object).\n",
      "Memmapping (shape=(610831,), dtype=int64) to old file C:\\Users\\NATHAL~1.BRU\\AppData\\Local\\Temp\\joblib_memmapping_folder_21624_8864526728\\21624-2098143416840-d6d44e4f89504b969069c9698b470c3b.pkl\n",
      "Memmapping (shape=(19, 610831), dtype=int64) to old file C:\\Users\\NATHAL~1.BRU\\AppData\\Local\\Temp\\joblib_memmapping_folder_21624_8864526728\\21624-2098143416840-4474d4f9e52d4c309f8ba7dfdfe0f0f7.pkl\n",
      "Pickling array (shape=(19,), dtype=object).\n",
      "Memmapping (shape=(610831,), dtype=int64) to old file C:\\Users\\NATHAL~1.BRU\\AppData\\Local\\Temp\\joblib_memmapping_folder_21624_8864526728\\21624-2098143416840-6b92e2652d5e4589a8eb6b272206468e.pkl\n",
      "Memmapping (shape=(610831,), dtype=int64) to old file C:\\Users\\NATHAL~1.BRU\\AppData\\Local\\Temp\\joblib_memmapping_folder_21624_8864526728\\21624-2098143416840-9553dd9dc2f044418b043294e866160e.pkl\n",
      "Memmapping (shape=(610831,), dtype=int64) to new file C:\\Users\\NATHAL~1.BRU\\AppData\\Local\\Temp\\joblib_memmapping_folder_21624_8864526728\\21624-2098143416840-7242691fa9704456a98922bc7077d095.pkl\n",
      "Memmapping (shape=(407221,), dtype=int32) to old file C:\\Users\\NATHAL~1.BRU\\AppData\\Local\\Temp\\joblib_memmapping_folder_21624_8864526728\\21624-2098143416840-db03436e1e5c4327bcb9471086e99f45.pkl\n",
      "Pickling array (shape=(203610,), dtype=int32).\n",
      "[Parallel(n_jobs=-1)]: Done  64 tasks      | elapsed: 10.3min\n",
      "Pickling array (shape=(19,), dtype=object).\n",
      "Memmapping (shape=(610831,), dtype=int64) to old file C:\\Users\\NATHAL~1.BRU\\AppData\\Local\\Temp\\joblib_memmapping_folder_21624_8864526728\\21624-2098143416840-d6d44e4f89504b969069c9698b470c3b.pkl\n",
      "Memmapping (shape=(19, 610831), dtype=int64) to old file C:\\Users\\NATHAL~1.BRU\\AppData\\Local\\Temp\\joblib_memmapping_folder_21624_8864526728\\21624-2098143416840-4474d4f9e52d4c309f8ba7dfdfe0f0f7.pkl\n",
      "Pickling array (shape=(19,), dtype=object).\n",
      "Memmapping (shape=(610831,), dtype=int64) to old file C:\\Users\\NATHAL~1.BRU\\AppData\\Local\\Temp\\joblib_memmapping_folder_21624_8864526728\\21624-2098143416840-6b92e2652d5e4589a8eb6b272206468e.pkl\n",
      "Memmapping (shape=(610831,), dtype=int64) to old file C:\\Users\\NATHAL~1.BRU\\AppData\\Local\\Temp\\joblib_memmapping_folder_21624_8864526728\\21624-2098143416840-9553dd9dc2f044418b043294e866160e.pkl\n",
      "Memmapping (shape=(610831,), dtype=int64) to new file C:\\Users\\NATHAL~1.BRU\\AppData\\Local\\Temp\\joblib_memmapping_folder_21624_8864526728\\21624-2098143416840-332e61f0056240068023969643a93256.pkl\n",
      "Memmapping (shape=(407220,), dtype=int32) to old file C:\\Users\\NATHAL~1.BRU\\AppData\\Local\\Temp\\joblib_memmapping_folder_21624_8864526728\\21624-2098143416840-84100862bfc441c480c8bbf2b827263c.pkl\n",
      "Pickling array (shape=(203611,), dtype=int32).\n",
      "[Parallel(n_jobs=-1)]: Done  65 tasks      | elapsed: 10.5min\n",
      "Pickling array (shape=(19,), dtype=object).\n",
      "Memmapping (shape=(610831,), dtype=int64) to old file C:\\Users\\NATHAL~1.BRU\\AppData\\Local\\Temp\\joblib_memmapping_folder_21624_8864526728\\21624-2098143416840-d6d44e4f89504b969069c9698b470c3b.pkl\n",
      "Memmapping (shape=(19, 610831), dtype=int64) to old file C:\\Users\\NATHAL~1.BRU\\AppData\\Local\\Temp\\joblib_memmapping_folder_21624_8864526728\\21624-2098143416840-4474d4f9e52d4c309f8ba7dfdfe0f0f7.pkl\n",
      "Pickling array (shape=(19,), dtype=object).\n",
      "Memmapping (shape=(610831,), dtype=int64) to old file C:\\Users\\NATHAL~1.BRU\\AppData\\Local\\Temp\\joblib_memmapping_folder_21624_8864526728\\21624-2098143416840-6b92e2652d5e4589a8eb6b272206468e.pkl\n",
      "Memmapping (shape=(610831,), dtype=int64) to old file C:\\Users\\NATHAL~1.BRU\\AppData\\Local\\Temp\\joblib_memmapping_folder_21624_8864526728\\21624-2098143416840-9553dd9dc2f044418b043294e866160e.pkl\n",
      "Memmapping (shape=(610831,), dtype=int64) to new file C:\\Users\\NATHAL~1.BRU\\AppData\\Local\\Temp\\joblib_memmapping_folder_21624_8864526728\\21624-2098143416840-b699482b3ab04622b487a034c2711650.pkl\n",
      "Memmapping (shape=(407221,), dtype=int32) to old file C:\\Users\\NATHAL~1.BRU\\AppData\\Local\\Temp\\joblib_memmapping_folder_21624_8864526728\\21624-2098143416840-c60f2c5ebaa7426b809b85e1d36b6670.pkl\n",
      "Pickling array (shape=(203610,), dtype=int32).\n",
      "[Parallel(n_jobs=-1)]: Done  66 tasks      | elapsed: 10.5min\n",
      "Pickling array (shape=(19,), dtype=object).\n",
      "Memmapping (shape=(610831,), dtype=int64) to old file C:\\Users\\NATHAL~1.BRU\\AppData\\Local\\Temp\\joblib_memmapping_folder_21624_8864526728\\21624-2098143416840-d6d44e4f89504b969069c9698b470c3b.pkl\n",
      "Memmapping (shape=(19, 610831), dtype=int64) to old file C:\\Users\\NATHAL~1.BRU\\AppData\\Local\\Temp\\joblib_memmapping_folder_21624_8864526728\\21624-2098143416840-4474d4f9e52d4c309f8ba7dfdfe0f0f7.pkl\n",
      "Pickling array (shape=(19,), dtype=object).\n",
      "Memmapping (shape=(610831,), dtype=int64) to old file C:\\Users\\NATHAL~1.BRU\\AppData\\Local\\Temp\\joblib_memmapping_folder_21624_8864526728\\21624-2098143416840-6b92e2652d5e4589a8eb6b272206468e.pkl\n",
      "Memmapping (shape=(610831,), dtype=int64) to old file C:\\Users\\NATHAL~1.BRU\\AppData\\Local\\Temp\\joblib_memmapping_folder_21624_8864526728\\21624-2098143416840-9553dd9dc2f044418b043294e866160e.pkl\n",
      "Memmapping (shape=(610831,), dtype=int64) to new file C:\\Users\\NATHAL~1.BRU\\AppData\\Local\\Temp\\joblib_memmapping_folder_21624_8864526728\\21624-2098143416840-591c3b7f4ea14b2b8d40c75182619ad4.pkl\n",
      "Memmapping (shape=(407221,), dtype=int32) to old file C:\\Users\\NATHAL~1.BRU\\AppData\\Local\\Temp\\joblib_memmapping_folder_21624_8864526728\\21624-2098143416840-db03436e1e5c4327bcb9471086e99f45.pkl\n",
      "Pickling array (shape=(203610,), dtype=int32).\n",
      "[Parallel(n_jobs=-1)]: Done  67 tasks      | elapsed: 10.5min\n",
      "Pickling array (shape=(19,), dtype=object).\n",
      "Memmapping (shape=(610831,), dtype=int64) to old file C:\\Users\\NATHAL~1.BRU\\AppData\\Local\\Temp\\joblib_memmapping_folder_21624_8864526728\\21624-2098143416840-d6d44e4f89504b969069c9698b470c3b.pkl\n",
      "Memmapping (shape=(19, 610831), dtype=int64) to old file C:\\Users\\NATHAL~1.BRU\\AppData\\Local\\Temp\\joblib_memmapping_folder_21624_8864526728\\21624-2098143416840-4474d4f9e52d4c309f8ba7dfdfe0f0f7.pkl\n",
      "Pickling array (shape=(19,), dtype=object).\n",
      "Memmapping (shape=(610831,), dtype=int64) to old file C:\\Users\\NATHAL~1.BRU\\AppData\\Local\\Temp\\joblib_memmapping_folder_21624_8864526728\\21624-2098143416840-6b92e2652d5e4589a8eb6b272206468e.pkl\n",
      "Memmapping (shape=(610831,), dtype=int64) to old file C:\\Users\\NATHAL~1.BRU\\AppData\\Local\\Temp\\joblib_memmapping_folder_21624_8864526728\\21624-2098143416840-9553dd9dc2f044418b043294e866160e.pkl\n",
      "Memmapping (shape=(610831,), dtype=int64) to new file C:\\Users\\NATHAL~1.BRU\\AppData\\Local\\Temp\\joblib_memmapping_folder_21624_8864526728\\21624-2098143416840-bac37076507f4b6f97355f8edd45b49f.pkl\n",
      "Memmapping (shape=(407220,), dtype=int32) to old file C:\\Users\\NATHAL~1.BRU\\AppData\\Local\\Temp\\joblib_memmapping_folder_21624_8864526728\\21624-2098143416840-84100862bfc441c480c8bbf2b827263c.pkl\n",
      "Pickling array (shape=(203611,), dtype=int32).\n",
      "[Parallel(n_jobs=-1)]: Done  68 tasks      | elapsed: 10.5min\n",
      "Pickling array (shape=(19,), dtype=object).\n",
      "Memmapping (shape=(610831,), dtype=int64) to old file C:\\Users\\NATHAL~1.BRU\\AppData\\Local\\Temp\\joblib_memmapping_folder_21624_8864526728\\21624-2098143416840-d6d44e4f89504b969069c9698b470c3b.pkl\n",
      "Memmapping (shape=(19, 610831), dtype=int64) to old file C:\\Users\\NATHAL~1.BRU\\AppData\\Local\\Temp\\joblib_memmapping_folder_21624_8864526728\\21624-2098143416840-4474d4f9e52d4c309f8ba7dfdfe0f0f7.pkl\n",
      "Pickling array (shape=(19,), dtype=object).\n",
      "Memmapping (shape=(610831,), dtype=int64) to old file C:\\Users\\NATHAL~1.BRU\\AppData\\Local\\Temp\\joblib_memmapping_folder_21624_8864526728\\21624-2098143416840-6b92e2652d5e4589a8eb6b272206468e.pkl\n",
      "Memmapping (shape=(610831,), dtype=int64) to old file C:\\Users\\NATHAL~1.BRU\\AppData\\Local\\Temp\\joblib_memmapping_folder_21624_8864526728\\21624-2098143416840-9553dd9dc2f044418b043294e866160e.pkl\n",
      "Memmapping (shape=(610831,), dtype=int64) to new file C:\\Users\\NATHAL~1.BRU\\AppData\\Local\\Temp\\joblib_memmapping_folder_21624_8864526728\\21624-2098143416840-c7daef58b9514778a15941be1efab8cf.pkl\n",
      "Memmapping (shape=(407221,), dtype=int32) to old file C:\\Users\\NATHAL~1.BRU\\AppData\\Local\\Temp\\joblib_memmapping_folder_21624_8864526728\\21624-2098143416840-c60f2c5ebaa7426b809b85e1d36b6670.pkl\n",
      "Pickling array (shape=(203610,), dtype=int32).\n"
     ]
    },
    {
     "name": "stdout",
     "output_type": "stream",
     "text": [
      "[Parallel(n_jobs=-1)]: Done  69 tasks      | elapsed: 11.4min\n",
      "Pickling array (shape=(19,), dtype=object).\n",
      "Memmapping (shape=(610831,), dtype=int64) to old file C:\\Users\\NATHAL~1.BRU\\AppData\\Local\\Temp\\joblib_memmapping_folder_21624_8864526728\\21624-2098143416840-d6d44e4f89504b969069c9698b470c3b.pkl\n",
      "Memmapping (shape=(19, 610831), dtype=int64) to old file C:\\Users\\NATHAL~1.BRU\\AppData\\Local\\Temp\\joblib_memmapping_folder_21624_8864526728\\21624-2098143416840-4474d4f9e52d4c309f8ba7dfdfe0f0f7.pkl\n",
      "Pickling array (shape=(19,), dtype=object).\n",
      "Memmapping (shape=(610831,), dtype=int64) to old file C:\\Users\\NATHAL~1.BRU\\AppData\\Local\\Temp\\joblib_memmapping_folder_21624_8864526728\\21624-2098143416840-6b92e2652d5e4589a8eb6b272206468e.pkl\n",
      "Memmapping (shape=(610831,), dtype=int64) to old file C:\\Users\\NATHAL~1.BRU\\AppData\\Local\\Temp\\joblib_memmapping_folder_21624_8864526728\\21624-2098143416840-9553dd9dc2f044418b043294e866160e.pkl\n",
      "Memmapping (shape=(610831,), dtype=int64) to new file C:\\Users\\NATHAL~1.BRU\\AppData\\Local\\Temp\\joblib_memmapping_folder_21624_8864526728\\21624-2098143416840-8a7d3f7eedf741c684fd84262462313e.pkl\n",
      "Memmapping (shape=(407221,), dtype=int32) to old file C:\\Users\\NATHAL~1.BRU\\AppData\\Local\\Temp\\joblib_memmapping_folder_21624_8864526728\\21624-2098143416840-db03436e1e5c4327bcb9471086e99f45.pkl\n",
      "Pickling array (shape=(203610,), dtype=int32).\n",
      "[Parallel(n_jobs=-1)]: Done  70 tasks      | elapsed: 11.5min\n",
      "Pickling array (shape=(19,), dtype=object).\n",
      "Memmapping (shape=(610831,), dtype=int64) to old file C:\\Users\\NATHAL~1.BRU\\AppData\\Local\\Temp\\joblib_memmapping_folder_21624_8864526728\\21624-2098143416840-d6d44e4f89504b969069c9698b470c3b.pkl\n",
      "Memmapping (shape=(19, 610831), dtype=int64) to old file C:\\Users\\NATHAL~1.BRU\\AppData\\Local\\Temp\\joblib_memmapping_folder_21624_8864526728\\21624-2098143416840-4474d4f9e52d4c309f8ba7dfdfe0f0f7.pkl\n",
      "Pickling array (shape=(19,), dtype=object).\n",
      "Memmapping (shape=(610831,), dtype=int64) to old file C:\\Users\\NATHAL~1.BRU\\AppData\\Local\\Temp\\joblib_memmapping_folder_21624_8864526728\\21624-2098143416840-6b92e2652d5e4589a8eb6b272206468e.pkl\n",
      "Memmapping (shape=(610831,), dtype=int64) to old file C:\\Users\\NATHAL~1.BRU\\AppData\\Local\\Temp\\joblib_memmapping_folder_21624_8864526728\\21624-2098143416840-9553dd9dc2f044418b043294e866160e.pkl\n",
      "Memmapping (shape=(610831,), dtype=int64) to new file C:\\Users\\NATHAL~1.BRU\\AppData\\Local\\Temp\\joblib_memmapping_folder_21624_8864526728\\21624-2098143416840-5572009a2d894a369cc702de8022a608.pkl\n",
      "Memmapping (shape=(407220,), dtype=int32) to old file C:\\Users\\NATHAL~1.BRU\\AppData\\Local\\Temp\\joblib_memmapping_folder_21624_8864526728\\21624-2098143416840-84100862bfc441c480c8bbf2b827263c.pkl\n",
      "Pickling array (shape=(203611,), dtype=int32).\n",
      "[Parallel(n_jobs=-1)]: Done  71 tasks      | elapsed: 11.6min\n",
      "Pickling array (shape=(19,), dtype=object).\n",
      "Memmapping (shape=(610831,), dtype=int64) to old file C:\\Users\\NATHAL~1.BRU\\AppData\\Local\\Temp\\joblib_memmapping_folder_21624_8864526728\\21624-2098143416840-d6d44e4f89504b969069c9698b470c3b.pkl\n",
      "Memmapping (shape=(19, 610831), dtype=int64) to old file C:\\Users\\NATHAL~1.BRU\\AppData\\Local\\Temp\\joblib_memmapping_folder_21624_8864526728\\21624-2098143416840-4474d4f9e52d4c309f8ba7dfdfe0f0f7.pkl\n",
      "Pickling array (shape=(19,), dtype=object).\n",
      "Memmapping (shape=(610831,), dtype=int64) to old file C:\\Users\\NATHAL~1.BRU\\AppData\\Local\\Temp\\joblib_memmapping_folder_21624_8864526728\\21624-2098143416840-6b92e2652d5e4589a8eb6b272206468e.pkl\n",
      "Memmapping (shape=(610831,), dtype=int64) to old file C:\\Users\\NATHAL~1.BRU\\AppData\\Local\\Temp\\joblib_memmapping_folder_21624_8864526728\\21624-2098143416840-9553dd9dc2f044418b043294e866160e.pkl\n",
      "Memmapping (shape=(610831,), dtype=int64) to new file C:\\Users\\NATHAL~1.BRU\\AppData\\Local\\Temp\\joblib_memmapping_folder_21624_8864526728\\21624-2098143416840-e6b5ef2c21e64de6a2019ebad2973aaf.pkl\n",
      "Memmapping (shape=(407221,), dtype=int32) to old file C:\\Users\\NATHAL~1.BRU\\AppData\\Local\\Temp\\joblib_memmapping_folder_21624_8864526728\\21624-2098143416840-c60f2c5ebaa7426b809b85e1d36b6670.pkl\n",
      "Pickling array (shape=(203610,), dtype=int32).\n",
      "[Parallel(n_jobs=-1)]: Done  72 tasks      | elapsed: 11.6min\n",
      "Pickling array (shape=(19,), dtype=object).\n",
      "Memmapping (shape=(610831,), dtype=int64) to old file C:\\Users\\NATHAL~1.BRU\\AppData\\Local\\Temp\\joblib_memmapping_folder_21624_8864526728\\21624-2098143416840-d6d44e4f89504b969069c9698b470c3b.pkl\n",
      "Memmapping (shape=(19, 610831), dtype=int64) to old file C:\\Users\\NATHAL~1.BRU\\AppData\\Local\\Temp\\joblib_memmapping_folder_21624_8864526728\\21624-2098143416840-4474d4f9e52d4c309f8ba7dfdfe0f0f7.pkl\n",
      "Pickling array (shape=(19,), dtype=object).\n",
      "Memmapping (shape=(610831,), dtype=int64) to old file C:\\Users\\NATHAL~1.BRU\\AppData\\Local\\Temp\\joblib_memmapping_folder_21624_8864526728\\21624-2098143416840-6b92e2652d5e4589a8eb6b272206468e.pkl\n",
      "Memmapping (shape=(610831,), dtype=int64) to old file C:\\Users\\NATHAL~1.BRU\\AppData\\Local\\Temp\\joblib_memmapping_folder_21624_8864526728\\21624-2098143416840-9553dd9dc2f044418b043294e866160e.pkl\n",
      "Memmapping (shape=(610831,), dtype=int64) to new file C:\\Users\\NATHAL~1.BRU\\AppData\\Local\\Temp\\joblib_memmapping_folder_21624_8864526728\\21624-2098143416840-8bb32626e6c94047987fa4a5b9fae287.pkl\n",
      "Memmapping (shape=(407221,), dtype=int32) to old file C:\\Users\\NATHAL~1.BRU\\AppData\\Local\\Temp\\joblib_memmapping_folder_21624_8864526728\\21624-2098143416840-db03436e1e5c4327bcb9471086e99f45.pkl\n",
      "Pickling array (shape=(203610,), dtype=int32).\n",
      "[Parallel(n_jobs=-1)]: Done  73 tasks      | elapsed: 11.7min\n",
      "Pickling array (shape=(19,), dtype=object).\n",
      "Memmapping (shape=(610831,), dtype=int64) to old file C:\\Users\\NATHAL~1.BRU\\AppData\\Local\\Temp\\joblib_memmapping_folder_21624_8864526728\\21624-2098143416840-d6d44e4f89504b969069c9698b470c3b.pkl\n",
      "Memmapping (shape=(19, 610831), dtype=int64) to old file C:\\Users\\NATHAL~1.BRU\\AppData\\Local\\Temp\\joblib_memmapping_folder_21624_8864526728\\21624-2098143416840-4474d4f9e52d4c309f8ba7dfdfe0f0f7.pkl\n",
      "Pickling array (shape=(19,), dtype=object).\n",
      "Memmapping (shape=(610831,), dtype=int64) to old file C:\\Users\\NATHAL~1.BRU\\AppData\\Local\\Temp\\joblib_memmapping_folder_21624_8864526728\\21624-2098143416840-6b92e2652d5e4589a8eb6b272206468e.pkl\n",
      "Memmapping (shape=(610831,), dtype=int64) to old file C:\\Users\\NATHAL~1.BRU\\AppData\\Local\\Temp\\joblib_memmapping_folder_21624_8864526728\\21624-2098143416840-9553dd9dc2f044418b043294e866160e.pkl\n",
      "Memmapping (shape=(610831,), dtype=int64) to new file C:\\Users\\NATHAL~1.BRU\\AppData\\Local\\Temp\\joblib_memmapping_folder_21624_8864526728\\21624-2098143416840-27d7bb7b308540bb8de02b34bbcff700.pkl\n",
      "Memmapping (shape=(407220,), dtype=int32) to old file C:\\Users\\NATHAL~1.BRU\\AppData\\Local\\Temp\\joblib_memmapping_folder_21624_8864526728\\21624-2098143416840-84100862bfc441c480c8bbf2b827263c.pkl\n",
      "Pickling array (shape=(203611,), dtype=int32).\n",
      "[Parallel(n_jobs=-1)]: Done  74 tasks      | elapsed: 12.1min\n",
      "Pickling array (shape=(19,), dtype=object).\n",
      "Memmapping (shape=(610831,), dtype=int64) to old file C:\\Users\\NATHAL~1.BRU\\AppData\\Local\\Temp\\joblib_memmapping_folder_21624_8864526728\\21624-2098143416840-d6d44e4f89504b969069c9698b470c3b.pkl\n",
      "Memmapping (shape=(19, 610831), dtype=int64) to old file C:\\Users\\NATHAL~1.BRU\\AppData\\Local\\Temp\\joblib_memmapping_folder_21624_8864526728\\21624-2098143416840-4474d4f9e52d4c309f8ba7dfdfe0f0f7.pkl\n",
      "Pickling array (shape=(19,), dtype=object).\n",
      "Memmapping (shape=(610831,), dtype=int64) to old file C:\\Users\\NATHAL~1.BRU\\AppData\\Local\\Temp\\joblib_memmapping_folder_21624_8864526728\\21624-2098143416840-6b92e2652d5e4589a8eb6b272206468e.pkl\n",
      "Memmapping (shape=(610831,), dtype=int64) to old file C:\\Users\\NATHAL~1.BRU\\AppData\\Local\\Temp\\joblib_memmapping_folder_21624_8864526728\\21624-2098143416840-9553dd9dc2f044418b043294e866160e.pkl\n",
      "Memmapping (shape=(610831,), dtype=int64) to new file C:\\Users\\NATHAL~1.BRU\\AppData\\Local\\Temp\\joblib_memmapping_folder_21624_8864526728\\21624-2098143416840-c79ee305af0f46dd9ffefc7b8dfc46e6.pkl\n",
      "Memmapping (shape=(407221,), dtype=int32) to old file C:\\Users\\NATHAL~1.BRU\\AppData\\Local\\Temp\\joblib_memmapping_folder_21624_8864526728\\21624-2098143416840-c60f2c5ebaa7426b809b85e1d36b6670.pkl\n",
      "Pickling array (shape=(203610,), dtype=int32).\n",
      "[Parallel(n_jobs=-1)]: Done  75 tasks      | elapsed: 12.1min\n",
      "Pickling array (shape=(19,), dtype=object).\n",
      "Memmapping (shape=(610831,), dtype=int64) to old file C:\\Users\\NATHAL~1.BRU\\AppData\\Local\\Temp\\joblib_memmapping_folder_21624_8864526728\\21624-2098143416840-d6d44e4f89504b969069c9698b470c3b.pkl\n",
      "Memmapping (shape=(19, 610831), dtype=int64) to old file C:\\Users\\NATHAL~1.BRU\\AppData\\Local\\Temp\\joblib_memmapping_folder_21624_8864526728\\21624-2098143416840-4474d4f9e52d4c309f8ba7dfdfe0f0f7.pkl\n",
      "Pickling array (shape=(19,), dtype=object).\n",
      "Memmapping (shape=(610831,), dtype=int64) to old file C:\\Users\\NATHAL~1.BRU\\AppData\\Local\\Temp\\joblib_memmapping_folder_21624_8864526728\\21624-2098143416840-6b92e2652d5e4589a8eb6b272206468e.pkl\n",
      "Memmapping (shape=(610831,), dtype=int64) to old file C:\\Users\\NATHAL~1.BRU\\AppData\\Local\\Temp\\joblib_memmapping_folder_21624_8864526728\\21624-2098143416840-9553dd9dc2f044418b043294e866160e.pkl\n",
      "Memmapping (shape=(610831,), dtype=int64) to new file C:\\Users\\NATHAL~1.BRU\\AppData\\Local\\Temp\\joblib_memmapping_folder_21624_8864526728\\21624-2098143416840-c8192cf917f44bfd9cfb1d516f50b6a5.pkl\n",
      "Memmapping (shape=(407221,), dtype=int32) to old file C:\\Users\\NATHAL~1.BRU\\AppData\\Local\\Temp\\joblib_memmapping_folder_21624_8864526728\\21624-2098143416840-db03436e1e5c4327bcb9471086e99f45.pkl\n",
      "Pickling array (shape=(203610,), dtype=int32).\n"
     ]
    },
    {
     "name": "stdout",
     "output_type": "stream",
     "text": [
      "[Parallel(n_jobs=-1)]: Done  76 tasks      | elapsed: 12.7min\n",
      "Pickling array (shape=(19,), dtype=object).\n",
      "Memmapping (shape=(610831,), dtype=int64) to old file C:\\Users\\NATHAL~1.BRU\\AppData\\Local\\Temp\\joblib_memmapping_folder_21624_8864526728\\21624-2098143416840-d6d44e4f89504b969069c9698b470c3b.pkl\n",
      "Memmapping (shape=(19, 610831), dtype=int64) to old file C:\\Users\\NATHAL~1.BRU\\AppData\\Local\\Temp\\joblib_memmapping_folder_21624_8864526728\\21624-2098143416840-4474d4f9e52d4c309f8ba7dfdfe0f0f7.pkl\n",
      "Pickling array (shape=(19,), dtype=object).\n",
      "Memmapping (shape=(610831,), dtype=int64) to old file C:\\Users\\NATHAL~1.BRU\\AppData\\Local\\Temp\\joblib_memmapping_folder_21624_8864526728\\21624-2098143416840-6b92e2652d5e4589a8eb6b272206468e.pkl\n",
      "Memmapping (shape=(610831,), dtype=int64) to old file C:\\Users\\NATHAL~1.BRU\\AppData\\Local\\Temp\\joblib_memmapping_folder_21624_8864526728\\21624-2098143416840-9553dd9dc2f044418b043294e866160e.pkl\n",
      "Memmapping (shape=(610831,), dtype=int64) to new file C:\\Users\\NATHAL~1.BRU\\AppData\\Local\\Temp\\joblib_memmapping_folder_21624_8864526728\\21624-2098143416840-26059c374516475e9298996ead113f97.pkl\n",
      "Memmapping (shape=(407220,), dtype=int32) to old file C:\\Users\\NATHAL~1.BRU\\AppData\\Local\\Temp\\joblib_memmapping_folder_21624_8864526728\\21624-2098143416840-84100862bfc441c480c8bbf2b827263c.pkl\n",
      "Pickling array (shape=(203611,), dtype=int32).\n",
      "[Parallel(n_jobs=-1)]: Done  77 tasks      | elapsed: 12.7min\n",
      "Pickling array (shape=(19,), dtype=object).\n",
      "Memmapping (shape=(610831,), dtype=int64) to old file C:\\Users\\NATHAL~1.BRU\\AppData\\Local\\Temp\\joblib_memmapping_folder_21624_8864526728\\21624-2098143416840-d6d44e4f89504b969069c9698b470c3b.pkl\n",
      "Memmapping (shape=(19, 610831), dtype=int64) to old file C:\\Users\\NATHAL~1.BRU\\AppData\\Local\\Temp\\joblib_memmapping_folder_21624_8864526728\\21624-2098143416840-4474d4f9e52d4c309f8ba7dfdfe0f0f7.pkl\n",
      "Pickling array (shape=(19,), dtype=object).\n",
      "Memmapping (shape=(610831,), dtype=int64) to old file C:\\Users\\NATHAL~1.BRU\\AppData\\Local\\Temp\\joblib_memmapping_folder_21624_8864526728\\21624-2098143416840-6b92e2652d5e4589a8eb6b272206468e.pkl\n",
      "Memmapping (shape=(610831,), dtype=int64) to old file C:\\Users\\NATHAL~1.BRU\\AppData\\Local\\Temp\\joblib_memmapping_folder_21624_8864526728\\21624-2098143416840-9553dd9dc2f044418b043294e866160e.pkl\n",
      "Memmapping (shape=(610831,), dtype=int64) to new file C:\\Users\\NATHAL~1.BRU\\AppData\\Local\\Temp\\joblib_memmapping_folder_21624_8864526728\\21624-2098143416840-9eb95862ea1b41d58161fd80fce2aec9.pkl\n",
      "Memmapping (shape=(407221,), dtype=int32) to old file C:\\Users\\NATHAL~1.BRU\\AppData\\Local\\Temp\\joblib_memmapping_folder_21624_8864526728\\21624-2098143416840-c60f2c5ebaa7426b809b85e1d36b6670.pkl\n",
      "Pickling array (shape=(203610,), dtype=int32).\n",
      "[Parallel(n_jobs=-1)]: Done  78 tasks      | elapsed: 12.8min\n",
      "Pickling array (shape=(19,), dtype=object).\n",
      "Memmapping (shape=(610831,), dtype=int64) to old file C:\\Users\\NATHAL~1.BRU\\AppData\\Local\\Temp\\joblib_memmapping_folder_21624_8864526728\\21624-2098143416840-d6d44e4f89504b969069c9698b470c3b.pkl\n",
      "Memmapping (shape=(19, 610831), dtype=int64) to old file C:\\Users\\NATHAL~1.BRU\\AppData\\Local\\Temp\\joblib_memmapping_folder_21624_8864526728\\21624-2098143416840-4474d4f9e52d4c309f8ba7dfdfe0f0f7.pkl\n",
      "Pickling array (shape=(19,), dtype=object).\n",
      "Memmapping (shape=(610831,), dtype=int64) to old file C:\\Users\\NATHAL~1.BRU\\AppData\\Local\\Temp\\joblib_memmapping_folder_21624_8864526728\\21624-2098143416840-6b92e2652d5e4589a8eb6b272206468e.pkl\n",
      "Memmapping (shape=(610831,), dtype=int64) to old file C:\\Users\\NATHAL~1.BRU\\AppData\\Local\\Temp\\joblib_memmapping_folder_21624_8864526728\\21624-2098143416840-9553dd9dc2f044418b043294e866160e.pkl\n",
      "Memmapping (shape=(610831,), dtype=int64) to new file C:\\Users\\NATHAL~1.BRU\\AppData\\Local\\Temp\\joblib_memmapping_folder_21624_8864526728\\21624-2098143416840-2a1614b6abf34c7691edb93efad2d1a1.pkl\n",
      "Memmapping (shape=(407221,), dtype=int32) to old file C:\\Users\\NATHAL~1.BRU\\AppData\\Local\\Temp\\joblib_memmapping_folder_21624_8864526728\\21624-2098143416840-db03436e1e5c4327bcb9471086e99f45.pkl\n",
      "Pickling array (shape=(203610,), dtype=int32).\n",
      "[Parallel(n_jobs=-1)]: Done  79 tasks      | elapsed: 13.0min\n",
      "Pickling array (shape=(19,), dtype=object).\n",
      "Memmapping (shape=(610831,), dtype=int64) to old file C:\\Users\\NATHAL~1.BRU\\AppData\\Local\\Temp\\joblib_memmapping_folder_21624_8864526728\\21624-2098143416840-d6d44e4f89504b969069c9698b470c3b.pkl\n",
      "Memmapping (shape=(19, 610831), dtype=int64) to old file C:\\Users\\NATHAL~1.BRU\\AppData\\Local\\Temp\\joblib_memmapping_folder_21624_8864526728\\21624-2098143416840-4474d4f9e52d4c309f8ba7dfdfe0f0f7.pkl\n",
      "Pickling array (shape=(19,), dtype=object).\n",
      "Memmapping (shape=(610831,), dtype=int64) to old file C:\\Users\\NATHAL~1.BRU\\AppData\\Local\\Temp\\joblib_memmapping_folder_21624_8864526728\\21624-2098143416840-6b92e2652d5e4589a8eb6b272206468e.pkl\n",
      "Memmapping (shape=(610831,), dtype=int64) to old file C:\\Users\\NATHAL~1.BRU\\AppData\\Local\\Temp\\joblib_memmapping_folder_21624_8864526728\\21624-2098143416840-9553dd9dc2f044418b043294e866160e.pkl\n",
      "Memmapping (shape=(610831,), dtype=int64) to new file C:\\Users\\NATHAL~1.BRU\\AppData\\Local\\Temp\\joblib_memmapping_folder_21624_8864526728\\21624-2098143416840-3b45c1ae209e40cda209ae03a93d85a4.pkl\n",
      "Memmapping (shape=(407220,), dtype=int32) to old file C:\\Users\\NATHAL~1.BRU\\AppData\\Local\\Temp\\joblib_memmapping_folder_21624_8864526728\\21624-2098143416840-84100862bfc441c480c8bbf2b827263c.pkl\n",
      "Pickling array (shape=(203611,), dtype=int32).\n",
      "[Parallel(n_jobs=-1)]: Done  80 tasks      | elapsed: 13.0min\n",
      "Pickling array (shape=(19,), dtype=object).\n",
      "Memmapping (shape=(610831,), dtype=int64) to old file C:\\Users\\NATHAL~1.BRU\\AppData\\Local\\Temp\\joblib_memmapping_folder_21624_8864526728\\21624-2098143416840-d6d44e4f89504b969069c9698b470c3b.pkl\n",
      "Memmapping (shape=(19, 610831), dtype=int64) to old file C:\\Users\\NATHAL~1.BRU\\AppData\\Local\\Temp\\joblib_memmapping_folder_21624_8864526728\\21624-2098143416840-4474d4f9e52d4c309f8ba7dfdfe0f0f7.pkl\n",
      "Pickling array (shape=(19,), dtype=object).\n",
      "Memmapping (shape=(610831,), dtype=int64) to old file C:\\Users\\NATHAL~1.BRU\\AppData\\Local\\Temp\\joblib_memmapping_folder_21624_8864526728\\21624-2098143416840-6b92e2652d5e4589a8eb6b272206468e.pkl\n",
      "Memmapping (shape=(610831,), dtype=int64) to old file C:\\Users\\NATHAL~1.BRU\\AppData\\Local\\Temp\\joblib_memmapping_folder_21624_8864526728\\21624-2098143416840-9553dd9dc2f044418b043294e866160e.pkl\n",
      "Memmapping (shape=(610831,), dtype=int64) to new file C:\\Users\\NATHAL~1.BRU\\AppData\\Local\\Temp\\joblib_memmapping_folder_21624_8864526728\\21624-2098143416840-c2e28a9171ec4214ac9562e82de4f7ad.pkl\n",
      "Memmapping (shape=(407221,), dtype=int32) to old file C:\\Users\\NATHAL~1.BRU\\AppData\\Local\\Temp\\joblib_memmapping_folder_21624_8864526728\\21624-2098143416840-c60f2c5ebaa7426b809b85e1d36b6670.pkl\n",
      "Pickling array (shape=(203610,), dtype=int32).\n",
      "[Parallel(n_jobs=-1)]: Done  81 tasks      | elapsed: 13.2min\n",
      "Pickling array (shape=(19,), dtype=object).\n",
      "Memmapping (shape=(610831,), dtype=int64) to old file C:\\Users\\NATHAL~1.BRU\\AppData\\Local\\Temp\\joblib_memmapping_folder_21624_8864526728\\21624-2098143416840-d6d44e4f89504b969069c9698b470c3b.pkl\n",
      "Memmapping (shape=(19, 610831), dtype=int64) to old file C:\\Users\\NATHAL~1.BRU\\AppData\\Local\\Temp\\joblib_memmapping_folder_21624_8864526728\\21624-2098143416840-4474d4f9e52d4c309f8ba7dfdfe0f0f7.pkl\n",
      "Pickling array (shape=(19,), dtype=object).\n",
      "Memmapping (shape=(610831,), dtype=int64) to old file C:\\Users\\NATHAL~1.BRU\\AppData\\Local\\Temp\\joblib_memmapping_folder_21624_8864526728\\21624-2098143416840-6b92e2652d5e4589a8eb6b272206468e.pkl\n",
      "Memmapping (shape=(610831,), dtype=int64) to old file C:\\Users\\NATHAL~1.BRU\\AppData\\Local\\Temp\\joblib_memmapping_folder_21624_8864526728\\21624-2098143416840-9553dd9dc2f044418b043294e866160e.pkl\n",
      "Memmapping (shape=(610831,), dtype=int64) to new file C:\\Users\\NATHAL~1.BRU\\AppData\\Local\\Temp\\joblib_memmapping_folder_21624_8864526728\\21624-2098143416840-769401a5e48446ab8b858e3791825626.pkl\n",
      "Memmapping (shape=(407221,), dtype=int32) to old file C:\\Users\\NATHAL~1.BRU\\AppData\\Local\\Temp\\joblib_memmapping_folder_21624_8864526728\\21624-2098143416840-db03436e1e5c4327bcb9471086e99f45.pkl\n",
      "Pickling array (shape=(203610,), dtype=int32).\n",
      "[Parallel(n_jobs=-1)]: Done  82 tasks      | elapsed: 13.8min\n",
      "Pickling array (shape=(19,), dtype=object).\n",
      "Memmapping (shape=(610831,), dtype=int64) to old file C:\\Users\\NATHAL~1.BRU\\AppData\\Local\\Temp\\joblib_memmapping_folder_21624_8864526728\\21624-2098143416840-d6d44e4f89504b969069c9698b470c3b.pkl\n",
      "Memmapping (shape=(19, 610831), dtype=int64) to old file C:\\Users\\NATHAL~1.BRU\\AppData\\Local\\Temp\\joblib_memmapping_folder_21624_8864526728\\21624-2098143416840-4474d4f9e52d4c309f8ba7dfdfe0f0f7.pkl\n",
      "Pickling array (shape=(19,), dtype=object).\n",
      "Memmapping (shape=(610831,), dtype=int64) to old file C:\\Users\\NATHAL~1.BRU\\AppData\\Local\\Temp\\joblib_memmapping_folder_21624_8864526728\\21624-2098143416840-6b92e2652d5e4589a8eb6b272206468e.pkl\n",
      "Memmapping (shape=(610831,), dtype=int64) to old file C:\\Users\\NATHAL~1.BRU\\AppData\\Local\\Temp\\joblib_memmapping_folder_21624_8864526728\\21624-2098143416840-9553dd9dc2f044418b043294e866160e.pkl\n",
      "Memmapping (shape=(610831,), dtype=int64) to new file C:\\Users\\NATHAL~1.BRU\\AppData\\Local\\Temp\\joblib_memmapping_folder_21624_8864526728\\21624-2098143416840-6eaa0034220d4ca387c67bc6a5184681.pkl\n",
      "Memmapping (shape=(407220,), dtype=int32) to old file C:\\Users\\NATHAL~1.BRU\\AppData\\Local\\Temp\\joblib_memmapping_folder_21624_8864526728\\21624-2098143416840-84100862bfc441c480c8bbf2b827263c.pkl\n",
      "Pickling array (shape=(203611,), dtype=int32).\n",
      "[Parallel(n_jobs=-1)]: Done  83 tasks      | elapsed: 13.8min\n",
      "Pickling array (shape=(19,), dtype=object).\n",
      "Memmapping (shape=(610831,), dtype=int64) to old file C:\\Users\\NATHAL~1.BRU\\AppData\\Local\\Temp\\joblib_memmapping_folder_21624_8864526728\\21624-2098143416840-d6d44e4f89504b969069c9698b470c3b.pkl\n",
      "Memmapping (shape=(19, 610831), dtype=int64) to old file C:\\Users\\NATHAL~1.BRU\\AppData\\Local\\Temp\\joblib_memmapping_folder_21624_8864526728\\21624-2098143416840-4474d4f9e52d4c309f8ba7dfdfe0f0f7.pkl\n",
      "Pickling array (shape=(19,), dtype=object).\n",
      "Memmapping (shape=(610831,), dtype=int64) to old file C:\\Users\\NATHAL~1.BRU\\AppData\\Local\\Temp\\joblib_memmapping_folder_21624_8864526728\\21624-2098143416840-6b92e2652d5e4589a8eb6b272206468e.pkl\n",
      "Memmapping (shape=(610831,), dtype=int64) to old file C:\\Users\\NATHAL~1.BRU\\AppData\\Local\\Temp\\joblib_memmapping_folder_21624_8864526728\\21624-2098143416840-9553dd9dc2f044418b043294e866160e.pkl\n",
      "Memmapping (shape=(610831,), dtype=int64) to new file C:\\Users\\NATHAL~1.BRU\\AppData\\Local\\Temp\\joblib_memmapping_folder_21624_8864526728\\21624-2098143416840-e4b6375d893c4209b4d25ebfea442260.pkl\n",
      "Memmapping (shape=(407221,), dtype=int32) to old file C:\\Users\\NATHAL~1.BRU\\AppData\\Local\\Temp\\joblib_memmapping_folder_21624_8864526728\\21624-2098143416840-c60f2c5ebaa7426b809b85e1d36b6670.pkl\n",
      "Pickling array (shape=(203610,), dtype=int32).\n"
     ]
    },
    {
     "name": "stdout",
     "output_type": "stream",
     "text": [
      "[Parallel(n_jobs=-1)]: Done  84 tasks      | elapsed: 13.9min\n",
      "Pickling array (shape=(19,), dtype=object).\n",
      "Memmapping (shape=(610831,), dtype=int64) to old file C:\\Users\\NATHAL~1.BRU\\AppData\\Local\\Temp\\joblib_memmapping_folder_21624_8864526728\\21624-2098143416840-d6d44e4f89504b969069c9698b470c3b.pkl\n",
      "Memmapping (shape=(19, 610831), dtype=int64) to old file C:\\Users\\NATHAL~1.BRU\\AppData\\Local\\Temp\\joblib_memmapping_folder_21624_8864526728\\21624-2098143416840-4474d4f9e52d4c309f8ba7dfdfe0f0f7.pkl\n",
      "Pickling array (shape=(19,), dtype=object).\n",
      "Memmapping (shape=(610831,), dtype=int64) to old file C:\\Users\\NATHAL~1.BRU\\AppData\\Local\\Temp\\joblib_memmapping_folder_21624_8864526728\\21624-2098143416840-6b92e2652d5e4589a8eb6b272206468e.pkl\n",
      "Memmapping (shape=(610831,), dtype=int64) to old file C:\\Users\\NATHAL~1.BRU\\AppData\\Local\\Temp\\joblib_memmapping_folder_21624_8864526728\\21624-2098143416840-9553dd9dc2f044418b043294e866160e.pkl\n",
      "Memmapping (shape=(610831,), dtype=int64) to new file C:\\Users\\NATHAL~1.BRU\\AppData\\Local\\Temp\\joblib_memmapping_folder_21624_8864526728\\21624-2098143416840-3da64bedf5eb477aa8616be9f8a43caa.pkl\n",
      "Memmapping (shape=(407221,), dtype=int32) to old file C:\\Users\\NATHAL~1.BRU\\AppData\\Local\\Temp\\joblib_memmapping_folder_21624_8864526728\\21624-2098143416840-db03436e1e5c4327bcb9471086e99f45.pkl\n",
      "Pickling array (shape=(203610,), dtype=int32).\n",
      "[Parallel(n_jobs=-1)]: Done  85 tasks      | elapsed: 13.9min\n",
      "Pickling array (shape=(19,), dtype=object).\n",
      "Memmapping (shape=(610831,), dtype=int64) to old file C:\\Users\\NATHAL~1.BRU\\AppData\\Local\\Temp\\joblib_memmapping_folder_21624_8864526728\\21624-2098143416840-d6d44e4f89504b969069c9698b470c3b.pkl\n",
      "Memmapping (shape=(19, 610831), dtype=int64) to old file C:\\Users\\NATHAL~1.BRU\\AppData\\Local\\Temp\\joblib_memmapping_folder_21624_8864526728\\21624-2098143416840-4474d4f9e52d4c309f8ba7dfdfe0f0f7.pkl\n",
      "Pickling array (shape=(19,), dtype=object).\n",
      "Memmapping (shape=(610831,), dtype=int64) to old file C:\\Users\\NATHAL~1.BRU\\AppData\\Local\\Temp\\joblib_memmapping_folder_21624_8864526728\\21624-2098143416840-6b92e2652d5e4589a8eb6b272206468e.pkl\n",
      "Memmapping (shape=(610831,), dtype=int64) to old file C:\\Users\\NATHAL~1.BRU\\AppData\\Local\\Temp\\joblib_memmapping_folder_21624_8864526728\\21624-2098143416840-9553dd9dc2f044418b043294e866160e.pkl\n",
      "Memmapping (shape=(610831,), dtype=int64) to new file C:\\Users\\NATHAL~1.BRU\\AppData\\Local\\Temp\\joblib_memmapping_folder_21624_8864526728\\21624-2098143416840-d88c6c64c4ee4305bd1f78cf1a78575c.pkl\n",
      "Memmapping (shape=(407220,), dtype=int32) to old file C:\\Users\\NATHAL~1.BRU\\AppData\\Local\\Temp\\joblib_memmapping_folder_21624_8864526728\\21624-2098143416840-84100862bfc441c480c8bbf2b827263c.pkl\n",
      "Pickling array (shape=(203611,), dtype=int32).\n",
      "[Parallel(n_jobs=-1)]: Done  86 tasks      | elapsed: 14.1min\n",
      "Pickling array (shape=(19,), dtype=object).\n",
      "Memmapping (shape=(610831,), dtype=int64) to old file C:\\Users\\NATHAL~1.BRU\\AppData\\Local\\Temp\\joblib_memmapping_folder_21624_8864526728\\21624-2098143416840-d6d44e4f89504b969069c9698b470c3b.pkl\n",
      "Memmapping (shape=(19, 610831), dtype=int64) to old file C:\\Users\\NATHAL~1.BRU\\AppData\\Local\\Temp\\joblib_memmapping_folder_21624_8864526728\\21624-2098143416840-4474d4f9e52d4c309f8ba7dfdfe0f0f7.pkl\n",
      "Pickling array (shape=(19,), dtype=object).\n",
      "Memmapping (shape=(610831,), dtype=int64) to old file C:\\Users\\NATHAL~1.BRU\\AppData\\Local\\Temp\\joblib_memmapping_folder_21624_8864526728\\21624-2098143416840-6b92e2652d5e4589a8eb6b272206468e.pkl\n",
      "Memmapping (shape=(610831,), dtype=int64) to old file C:\\Users\\NATHAL~1.BRU\\AppData\\Local\\Temp\\joblib_memmapping_folder_21624_8864526728\\21624-2098143416840-9553dd9dc2f044418b043294e866160e.pkl\n",
      "Memmapping (shape=(610831,), dtype=int64) to new file C:\\Users\\NATHAL~1.BRU\\AppData\\Local\\Temp\\joblib_memmapping_folder_21624_8864526728\\21624-2098143416840-02f8d908649e4e08bcae091d2632b1f1.pkl\n",
      "Memmapping (shape=(407221,), dtype=int32) to old file C:\\Users\\NATHAL~1.BRU\\AppData\\Local\\Temp\\joblib_memmapping_folder_21624_8864526728\\21624-2098143416840-c60f2c5ebaa7426b809b85e1d36b6670.pkl\n",
      "Pickling array (shape=(203610,), dtype=int32).\n",
      "[Parallel(n_jobs=-1)]: Done  87 tasks      | elapsed: 14.4min\n",
      "Pickling array (shape=(19,), dtype=object).\n",
      "Memmapping (shape=(610831,), dtype=int64) to old file C:\\Users\\NATHAL~1.BRU\\AppData\\Local\\Temp\\joblib_memmapping_folder_21624_8864526728\\21624-2098143416840-d6d44e4f89504b969069c9698b470c3b.pkl\n",
      "Memmapping (shape=(19, 610831), dtype=int64) to old file C:\\Users\\NATHAL~1.BRU\\AppData\\Local\\Temp\\joblib_memmapping_folder_21624_8864526728\\21624-2098143416840-4474d4f9e52d4c309f8ba7dfdfe0f0f7.pkl\n",
      "Pickling array (shape=(19,), dtype=object).\n",
      "Memmapping (shape=(610831,), dtype=int64) to old file C:\\Users\\NATHAL~1.BRU\\AppData\\Local\\Temp\\joblib_memmapping_folder_21624_8864526728\\21624-2098143416840-6b92e2652d5e4589a8eb6b272206468e.pkl\n",
      "Memmapping (shape=(610831,), dtype=int64) to old file C:\\Users\\NATHAL~1.BRU\\AppData\\Local\\Temp\\joblib_memmapping_folder_21624_8864526728\\21624-2098143416840-9553dd9dc2f044418b043294e866160e.pkl\n",
      "Memmapping (shape=(610831,), dtype=int64) to new file C:\\Users\\NATHAL~1.BRU\\AppData\\Local\\Temp\\joblib_memmapping_folder_21624_8864526728\\21624-2098143416840-56cc62626d844960b87af04a62404212.pkl\n",
      "Memmapping (shape=(407221,), dtype=int32) to old file C:\\Users\\NATHAL~1.BRU\\AppData\\Local\\Temp\\joblib_memmapping_folder_21624_8864526728\\21624-2098143416840-db03436e1e5c4327bcb9471086e99f45.pkl\n",
      "Pickling array (shape=(203610,), dtype=int32).\n",
      "[Parallel(n_jobs=-1)]: Done  88 tasks      | elapsed: 14.7min\n",
      "Pickling array (shape=(19,), dtype=object).\n",
      "Memmapping (shape=(610831,), dtype=int64) to old file C:\\Users\\NATHAL~1.BRU\\AppData\\Local\\Temp\\joblib_memmapping_folder_21624_8864526728\\21624-2098143416840-d6d44e4f89504b969069c9698b470c3b.pkl\n",
      "Memmapping (shape=(19, 610831), dtype=int64) to old file C:\\Users\\NATHAL~1.BRU\\AppData\\Local\\Temp\\joblib_memmapping_folder_21624_8864526728\\21624-2098143416840-4474d4f9e52d4c309f8ba7dfdfe0f0f7.pkl\n",
      "Pickling array (shape=(19,), dtype=object).\n",
      "Memmapping (shape=(610831,), dtype=int64) to old file C:\\Users\\NATHAL~1.BRU\\AppData\\Local\\Temp\\joblib_memmapping_folder_21624_8864526728\\21624-2098143416840-6b92e2652d5e4589a8eb6b272206468e.pkl\n",
      "Memmapping (shape=(610831,), dtype=int64) to old file C:\\Users\\NATHAL~1.BRU\\AppData\\Local\\Temp\\joblib_memmapping_folder_21624_8864526728\\21624-2098143416840-9553dd9dc2f044418b043294e866160e.pkl\n",
      "Memmapping (shape=(610831,), dtype=int64) to new file C:\\Users\\NATHAL~1.BRU\\AppData\\Local\\Temp\\joblib_memmapping_folder_21624_8864526728\\21624-2098143416840-ce29aa31ded3469d9cb8c01f4eb1eb03.pkl\n",
      "Memmapping (shape=(407220,), dtype=int32) to old file C:\\Users\\NATHAL~1.BRU\\AppData\\Local\\Temp\\joblib_memmapping_folder_21624_8864526728\\21624-2098143416840-84100862bfc441c480c8bbf2b827263c.pkl\n",
      "Pickling array (shape=(203611,), dtype=int32).\n",
      "[Parallel(n_jobs=-1)]: Done  89 tasks      | elapsed: 14.9min\n",
      "Pickling array (shape=(19,), dtype=object).\n",
      "Memmapping (shape=(610831,), dtype=int64) to old file C:\\Users\\NATHAL~1.BRU\\AppData\\Local\\Temp\\joblib_memmapping_folder_21624_8864526728\\21624-2098143416840-d6d44e4f89504b969069c9698b470c3b.pkl\n",
      "Memmapping (shape=(19, 610831), dtype=int64) to old file C:\\Users\\NATHAL~1.BRU\\AppData\\Local\\Temp\\joblib_memmapping_folder_21624_8864526728\\21624-2098143416840-4474d4f9e52d4c309f8ba7dfdfe0f0f7.pkl\n",
      "Pickling array (shape=(19,), dtype=object).\n",
      "Memmapping (shape=(610831,), dtype=int64) to old file C:\\Users\\NATHAL~1.BRU\\AppData\\Local\\Temp\\joblib_memmapping_folder_21624_8864526728\\21624-2098143416840-6b92e2652d5e4589a8eb6b272206468e.pkl\n",
      "Memmapping (shape=(610831,), dtype=int64) to old file C:\\Users\\NATHAL~1.BRU\\AppData\\Local\\Temp\\joblib_memmapping_folder_21624_8864526728\\21624-2098143416840-9553dd9dc2f044418b043294e866160e.pkl\n",
      "Memmapping (shape=(610831,), dtype=int64) to new file C:\\Users\\NATHAL~1.BRU\\AppData\\Local\\Temp\\joblib_memmapping_folder_21624_8864526728\\21624-2098143416840-1dfa28ee95b7404c89483c0f539b296d.pkl\n",
      "Memmapping (shape=(407221,), dtype=int32) to old file C:\\Users\\NATHAL~1.BRU\\AppData\\Local\\Temp\\joblib_memmapping_folder_21624_8864526728\\21624-2098143416840-c60f2c5ebaa7426b809b85e1d36b6670.pkl\n",
      "Pickling array (shape=(203610,), dtype=int32).\n",
      "[Parallel(n_jobs=-1)]: Done  90 tasks      | elapsed: 15.0min\n",
      "Pickling array (shape=(19,), dtype=object).\n",
      "Memmapping (shape=(610831,), dtype=int64) to old file C:\\Users\\NATHAL~1.BRU\\AppData\\Local\\Temp\\joblib_memmapping_folder_21624_8864526728\\21624-2098143416840-d6d44e4f89504b969069c9698b470c3b.pkl\n",
      "Memmapping (shape=(19, 610831), dtype=int64) to old file C:\\Users\\NATHAL~1.BRU\\AppData\\Local\\Temp\\joblib_memmapping_folder_21624_8864526728\\21624-2098143416840-4474d4f9e52d4c309f8ba7dfdfe0f0f7.pkl\n",
      "Pickling array (shape=(19,), dtype=object).\n",
      "Memmapping (shape=(610831,), dtype=int64) to old file C:\\Users\\NATHAL~1.BRU\\AppData\\Local\\Temp\\joblib_memmapping_folder_21624_8864526728\\21624-2098143416840-6b92e2652d5e4589a8eb6b272206468e.pkl\n",
      "Memmapping (shape=(610831,), dtype=int64) to old file C:\\Users\\NATHAL~1.BRU\\AppData\\Local\\Temp\\joblib_memmapping_folder_21624_8864526728\\21624-2098143416840-9553dd9dc2f044418b043294e866160e.pkl\n",
      "Memmapping (shape=(610831,), dtype=int64) to new file C:\\Users\\NATHAL~1.BRU\\AppData\\Local\\Temp\\joblib_memmapping_folder_21624_8864526728\\21624-2098143416840-d77c6b7c9bf04ea79315da60e987cc54.pkl\n",
      "Memmapping (shape=(407221,), dtype=int32) to old file C:\\Users\\NATHAL~1.BRU\\AppData\\Local\\Temp\\joblib_memmapping_folder_21624_8864526728\\21624-2098143416840-db03436e1e5c4327bcb9471086e99f45.pkl\n",
      "Pickling array (shape=(203610,), dtype=int32).\n"
     ]
    },
    {
     "name": "stdout",
     "output_type": "stream",
     "text": [
      "[Parallel(n_jobs=-1)]: Done  91 tasks      | elapsed: 15.1min\n",
      "Pickling array (shape=(19,), dtype=object).\n",
      "Memmapping (shape=(610831,), dtype=int64) to old file C:\\Users\\NATHAL~1.BRU\\AppData\\Local\\Temp\\joblib_memmapping_folder_21624_8864526728\\21624-2098143416840-d6d44e4f89504b969069c9698b470c3b.pkl\n",
      "Memmapping (shape=(19, 610831), dtype=int64) to old file C:\\Users\\NATHAL~1.BRU\\AppData\\Local\\Temp\\joblib_memmapping_folder_21624_8864526728\\21624-2098143416840-4474d4f9e52d4c309f8ba7dfdfe0f0f7.pkl\n",
      "Pickling array (shape=(19,), dtype=object).\n",
      "Memmapping (shape=(610831,), dtype=int64) to old file C:\\Users\\NATHAL~1.BRU\\AppData\\Local\\Temp\\joblib_memmapping_folder_21624_8864526728\\21624-2098143416840-6b92e2652d5e4589a8eb6b272206468e.pkl\n",
      "Memmapping (shape=(610831,), dtype=int64) to old file C:\\Users\\NATHAL~1.BRU\\AppData\\Local\\Temp\\joblib_memmapping_folder_21624_8864526728\\21624-2098143416840-9553dd9dc2f044418b043294e866160e.pkl\n",
      "Memmapping (shape=(610831,), dtype=int64) to new file C:\\Users\\NATHAL~1.BRU\\AppData\\Local\\Temp\\joblib_memmapping_folder_21624_8864526728\\21624-2098143416840-02e74217554c4561bedd96ed22167b82.pkl\n",
      "Memmapping (shape=(407220,), dtype=int32) to old file C:\\Users\\NATHAL~1.BRU\\AppData\\Local\\Temp\\joblib_memmapping_folder_21624_8864526728\\21624-2098143416840-84100862bfc441c480c8bbf2b827263c.pkl\n",
      "Pickling array (shape=(203611,), dtype=int32).\n",
      "[Parallel(n_jobs=-1)]: Done  92 tasks      | elapsed: 15.1min\n",
      "Pickling array (shape=(19,), dtype=object).\n",
      "Memmapping (shape=(610831,), dtype=int64) to old file C:\\Users\\NATHAL~1.BRU\\AppData\\Local\\Temp\\joblib_memmapping_folder_21624_8864526728\\21624-2098143416840-d6d44e4f89504b969069c9698b470c3b.pkl\n",
      "Memmapping (shape=(19, 610831), dtype=int64) to old file C:\\Users\\NATHAL~1.BRU\\AppData\\Local\\Temp\\joblib_memmapping_folder_21624_8864526728\\21624-2098143416840-4474d4f9e52d4c309f8ba7dfdfe0f0f7.pkl\n",
      "Pickling array (shape=(19,), dtype=object).\n",
      "Memmapping (shape=(610831,), dtype=int64) to old file C:\\Users\\NATHAL~1.BRU\\AppData\\Local\\Temp\\joblib_memmapping_folder_21624_8864526728\\21624-2098143416840-6b92e2652d5e4589a8eb6b272206468e.pkl\n",
      "Memmapping (shape=(610831,), dtype=int64) to old file C:\\Users\\NATHAL~1.BRU\\AppData\\Local\\Temp\\joblib_memmapping_folder_21624_8864526728\\21624-2098143416840-9553dd9dc2f044418b043294e866160e.pkl\n",
      "Memmapping (shape=(610831,), dtype=int64) to new file C:\\Users\\NATHAL~1.BRU\\AppData\\Local\\Temp\\joblib_memmapping_folder_21624_8864526728\\21624-2098143416840-6588bb6a19694ce0a1e661743c7d47da.pkl\n",
      "Memmapping (shape=(407221,), dtype=int32) to old file C:\\Users\\NATHAL~1.BRU\\AppData\\Local\\Temp\\joblib_memmapping_folder_21624_8864526728\\21624-2098143416840-c60f2c5ebaa7426b809b85e1d36b6670.pkl\n",
      "Pickling array (shape=(203610,), dtype=int32).\n",
      "[Parallel(n_jobs=-1)]: Done  93 tasks      | elapsed: 15.6min\n",
      "Pickling array (shape=(19,), dtype=object).\n",
      "Memmapping (shape=(610831,), dtype=int64) to old file C:\\Users\\NATHAL~1.BRU\\AppData\\Local\\Temp\\joblib_memmapping_folder_21624_8864526728\\21624-2098143416840-d6d44e4f89504b969069c9698b470c3b.pkl\n",
      "Memmapping (shape=(19, 610831), dtype=int64) to old file C:\\Users\\NATHAL~1.BRU\\AppData\\Local\\Temp\\joblib_memmapping_folder_21624_8864526728\\21624-2098143416840-4474d4f9e52d4c309f8ba7dfdfe0f0f7.pkl\n",
      "Pickling array (shape=(19,), dtype=object).\n",
      "Memmapping (shape=(610831,), dtype=int64) to old file C:\\Users\\NATHAL~1.BRU\\AppData\\Local\\Temp\\joblib_memmapping_folder_21624_8864526728\\21624-2098143416840-6b92e2652d5e4589a8eb6b272206468e.pkl\n",
      "Memmapping (shape=(610831,), dtype=int64) to old file C:\\Users\\NATHAL~1.BRU\\AppData\\Local\\Temp\\joblib_memmapping_folder_21624_8864526728\\21624-2098143416840-9553dd9dc2f044418b043294e866160e.pkl\n",
      "Memmapping (shape=(610831,), dtype=int64) to new file C:\\Users\\NATHAL~1.BRU\\AppData\\Local\\Temp\\joblib_memmapping_folder_21624_8864526728\\21624-2098143416840-583cc43e7b9c48a0b1bee2b679d59751.pkl\n",
      "Memmapping (shape=(407221,), dtype=int32) to old file C:\\Users\\NATHAL~1.BRU\\AppData\\Local\\Temp\\joblib_memmapping_folder_21624_8864526728\\21624-2098143416840-db03436e1e5c4327bcb9471086e99f45.pkl\n",
      "Pickling array (shape=(203610,), dtype=int32).\n",
      "[Parallel(n_jobs=-1)]: Done  94 tasks      | elapsed: 15.7min\n",
      "Pickling array (shape=(19,), dtype=object).\n",
      "Memmapping (shape=(610831,), dtype=int64) to old file C:\\Users\\NATHAL~1.BRU\\AppData\\Local\\Temp\\joblib_memmapping_folder_21624_8864526728\\21624-2098143416840-d6d44e4f89504b969069c9698b470c3b.pkl\n",
      "Memmapping (shape=(19, 610831), dtype=int64) to old file C:\\Users\\NATHAL~1.BRU\\AppData\\Local\\Temp\\joblib_memmapping_folder_21624_8864526728\\21624-2098143416840-4474d4f9e52d4c309f8ba7dfdfe0f0f7.pkl\n",
      "Pickling array (shape=(19,), dtype=object).\n",
      "Memmapping (shape=(610831,), dtype=int64) to old file C:\\Users\\NATHAL~1.BRU\\AppData\\Local\\Temp\\joblib_memmapping_folder_21624_8864526728\\21624-2098143416840-6b92e2652d5e4589a8eb6b272206468e.pkl\n",
      "Memmapping (shape=(610831,), dtype=int64) to old file C:\\Users\\NATHAL~1.BRU\\AppData\\Local\\Temp\\joblib_memmapping_folder_21624_8864526728\\21624-2098143416840-9553dd9dc2f044418b043294e866160e.pkl\n",
      "Memmapping (shape=(610831,), dtype=int64) to new file C:\\Users\\NATHAL~1.BRU\\AppData\\Local\\Temp\\joblib_memmapping_folder_21624_8864526728\\21624-2098143416840-a00c9bf1eca943bf874d11e74ab3355a.pkl\n",
      "Memmapping (shape=(407220,), dtype=int32) to old file C:\\Users\\NATHAL~1.BRU\\AppData\\Local\\Temp\\joblib_memmapping_folder_21624_8864526728\\21624-2098143416840-84100862bfc441c480c8bbf2b827263c.pkl\n",
      "Pickling array (shape=(203611,), dtype=int32).\n",
      "[Parallel(n_jobs=-1)]: Done  95 tasks      | elapsed: 16.0min\n",
      "Pickling array (shape=(19,), dtype=object).\n",
      "Memmapping (shape=(610831,), dtype=int64) to old file C:\\Users\\NATHAL~1.BRU\\AppData\\Local\\Temp\\joblib_memmapping_folder_21624_8864526728\\21624-2098143416840-d6d44e4f89504b969069c9698b470c3b.pkl\n",
      "Memmapping (shape=(19, 610831), dtype=int64) to old file C:\\Users\\NATHAL~1.BRU\\AppData\\Local\\Temp\\joblib_memmapping_folder_21624_8864526728\\21624-2098143416840-4474d4f9e52d4c309f8ba7dfdfe0f0f7.pkl\n",
      "Pickling array (shape=(19,), dtype=object).\n",
      "Memmapping (shape=(610831,), dtype=int64) to old file C:\\Users\\NATHAL~1.BRU\\AppData\\Local\\Temp\\joblib_memmapping_folder_21624_8864526728\\21624-2098143416840-6b92e2652d5e4589a8eb6b272206468e.pkl\n",
      "Memmapping (shape=(610831,), dtype=int64) to old file C:\\Users\\NATHAL~1.BRU\\AppData\\Local\\Temp\\joblib_memmapping_folder_21624_8864526728\\21624-2098143416840-9553dd9dc2f044418b043294e866160e.pkl\n",
      "Memmapping (shape=(610831,), dtype=int64) to new file C:\\Users\\NATHAL~1.BRU\\AppData\\Local\\Temp\\joblib_memmapping_folder_21624_8864526728\\21624-2098143416840-ea14df1e85f4463eb6c6bdc56debcfb6.pkl\n",
      "Memmapping (shape=(407221,), dtype=int32) to old file C:\\Users\\NATHAL~1.BRU\\AppData\\Local\\Temp\\joblib_memmapping_folder_21624_8864526728\\21624-2098143416840-c60f2c5ebaa7426b809b85e1d36b6670.pkl\n",
      "Pickling array (shape=(203610,), dtype=int32).\n",
      "[Parallel(n_jobs=-1)]: Done  96 tasks      | elapsed: 16.1min\n",
      "Pickling array (shape=(19,), dtype=object).\n",
      "Memmapping (shape=(610831,), dtype=int64) to old file C:\\Users\\NATHAL~1.BRU\\AppData\\Local\\Temp\\joblib_memmapping_folder_21624_8864526728\\21624-2098143416840-d6d44e4f89504b969069c9698b470c3b.pkl\n",
      "Memmapping (shape=(19, 610831), dtype=int64) to old file C:\\Users\\NATHAL~1.BRU\\AppData\\Local\\Temp\\joblib_memmapping_folder_21624_8864526728\\21624-2098143416840-4474d4f9e52d4c309f8ba7dfdfe0f0f7.pkl\n",
      "Pickling array (shape=(19,), dtype=object).\n",
      "Memmapping (shape=(610831,), dtype=int64) to old file C:\\Users\\NATHAL~1.BRU\\AppData\\Local\\Temp\\joblib_memmapping_folder_21624_8864526728\\21624-2098143416840-6b92e2652d5e4589a8eb6b272206468e.pkl\n",
      "Memmapping (shape=(610831,), dtype=int64) to old file C:\\Users\\NATHAL~1.BRU\\AppData\\Local\\Temp\\joblib_memmapping_folder_21624_8864526728\\21624-2098143416840-9553dd9dc2f044418b043294e866160e.pkl\n",
      "Memmapping (shape=(610831,), dtype=int64) to new file C:\\Users\\NATHAL~1.BRU\\AppData\\Local\\Temp\\joblib_memmapping_folder_21624_8864526728\\21624-2098143416840-1442709b4aa5442daec2a9a3caf8c931.pkl\n",
      "Memmapping (shape=(407221,), dtype=int32) to old file C:\\Users\\NATHAL~1.BRU\\AppData\\Local\\Temp\\joblib_memmapping_folder_21624_8864526728\\21624-2098143416840-db03436e1e5c4327bcb9471086e99f45.pkl\n",
      "Pickling array (shape=(203610,), dtype=int32).\n",
      "[Parallel(n_jobs=-1)]: Done  97 tasks      | elapsed: 16.1min\n",
      "Pickling array (shape=(19,), dtype=object).\n",
      "Memmapping (shape=(610831,), dtype=int64) to old file C:\\Users\\NATHAL~1.BRU\\AppData\\Local\\Temp\\joblib_memmapping_folder_21624_8864526728\\21624-2098143416840-d6d44e4f89504b969069c9698b470c3b.pkl\n",
      "Memmapping (shape=(19, 610831), dtype=int64) to old file C:\\Users\\NATHAL~1.BRU\\AppData\\Local\\Temp\\joblib_memmapping_folder_21624_8864526728\\21624-2098143416840-4474d4f9e52d4c309f8ba7dfdfe0f0f7.pkl\n",
      "Pickling array (shape=(19,), dtype=object).\n",
      "Memmapping (shape=(610831,), dtype=int64) to old file C:\\Users\\NATHAL~1.BRU\\AppData\\Local\\Temp\\joblib_memmapping_folder_21624_8864526728\\21624-2098143416840-6b92e2652d5e4589a8eb6b272206468e.pkl\n",
      "Memmapping (shape=(610831,), dtype=int64) to old file C:\\Users\\NATHAL~1.BRU\\AppData\\Local\\Temp\\joblib_memmapping_folder_21624_8864526728\\21624-2098143416840-9553dd9dc2f044418b043294e866160e.pkl\n",
      "Memmapping (shape=(610831,), dtype=int64) to new file C:\\Users\\NATHAL~1.BRU\\AppData\\Local\\Temp\\joblib_memmapping_folder_21624_8864526728\\21624-2098143416840-f221ba7606ee4281b44a06f1218b61b7.pkl\n",
      "Memmapping (shape=(407220,), dtype=int32) to old file C:\\Users\\NATHAL~1.BRU\\AppData\\Local\\Temp\\joblib_memmapping_folder_21624_8864526728\\21624-2098143416840-84100862bfc441c480c8bbf2b827263c.pkl\n",
      "Pickling array (shape=(203611,), dtype=int32).\n",
      "[Parallel(n_jobs=-1)]: Done  98 tasks      | elapsed: 16.1min\n"
     ]
    },
    {
     "name": "stdout",
     "output_type": "stream",
     "text": [
      "Pickling array (shape=(19,), dtype=object).\n",
      "Memmapping (shape=(610831,), dtype=int64) to old file C:\\Users\\NATHAL~1.BRU\\AppData\\Local\\Temp\\joblib_memmapping_folder_21624_8864526728\\21624-2098143416840-d6d44e4f89504b969069c9698b470c3b.pkl\n",
      "Memmapping (shape=(19, 610831), dtype=int64) to old file C:\\Users\\NATHAL~1.BRU\\AppData\\Local\\Temp\\joblib_memmapping_folder_21624_8864526728\\21624-2098143416840-4474d4f9e52d4c309f8ba7dfdfe0f0f7.pkl\n",
      "Pickling array (shape=(19,), dtype=object).\n",
      "Memmapping (shape=(610831,), dtype=int64) to old file C:\\Users\\NATHAL~1.BRU\\AppData\\Local\\Temp\\joblib_memmapping_folder_21624_8864526728\\21624-2098143416840-6b92e2652d5e4589a8eb6b272206468e.pkl\n",
      "Memmapping (shape=(610831,), dtype=int64) to old file C:\\Users\\NATHAL~1.BRU\\AppData\\Local\\Temp\\joblib_memmapping_folder_21624_8864526728\\21624-2098143416840-9553dd9dc2f044418b043294e866160e.pkl\n",
      "Memmapping (shape=(610831,), dtype=int64) to new file C:\\Users\\NATHAL~1.BRU\\AppData\\Local\\Temp\\joblib_memmapping_folder_21624_8864526728\\21624-2098143416840-d00b42e6f46b458298f6b0b21d54d1a6.pkl\n",
      "Memmapping (shape=(407221,), dtype=int32) to old file C:\\Users\\NATHAL~1.BRU\\AppData\\Local\\Temp\\joblib_memmapping_folder_21624_8864526728\\21624-2098143416840-c60f2c5ebaa7426b809b85e1d36b6670.pkl\n",
      "Pickling array (shape=(203610,), dtype=int32).\n",
      "[Parallel(n_jobs=-1)]: Done  99 tasks      | elapsed: 16.4min\n",
      "Pickling array (shape=(19,), dtype=object).\n",
      "Memmapping (shape=(610831,), dtype=int64) to old file C:\\Users\\NATHAL~1.BRU\\AppData\\Local\\Temp\\joblib_memmapping_folder_21624_8864526728\\21624-2098143416840-d6d44e4f89504b969069c9698b470c3b.pkl\n",
      "Memmapping (shape=(19, 610831), dtype=int64) to old file C:\\Users\\NATHAL~1.BRU\\AppData\\Local\\Temp\\joblib_memmapping_folder_21624_8864526728\\21624-2098143416840-4474d4f9e52d4c309f8ba7dfdfe0f0f7.pkl\n",
      "Pickling array (shape=(19,), dtype=object).\n",
      "Memmapping (shape=(610831,), dtype=int64) to old file C:\\Users\\NATHAL~1.BRU\\AppData\\Local\\Temp\\joblib_memmapping_folder_21624_8864526728\\21624-2098143416840-6b92e2652d5e4589a8eb6b272206468e.pkl\n",
      "Memmapping (shape=(610831,), dtype=int64) to old file C:\\Users\\NATHAL~1.BRU\\AppData\\Local\\Temp\\joblib_memmapping_folder_21624_8864526728\\21624-2098143416840-9553dd9dc2f044418b043294e866160e.pkl\n",
      "Memmapping (shape=(610831,), dtype=int64) to new file C:\\Users\\NATHAL~1.BRU\\AppData\\Local\\Temp\\joblib_memmapping_folder_21624_8864526728\\21624-2098143416840-700f4f4e87604a9fb1699fff4fe9c4cf.pkl\n",
      "Memmapping (shape=(407221,), dtype=int32) to old file C:\\Users\\NATHAL~1.BRU\\AppData\\Local\\Temp\\joblib_memmapping_folder_21624_8864526728\\21624-2098143416840-db03436e1e5c4327bcb9471086e99f45.pkl\n",
      "Pickling array (shape=(203610,), dtype=int32).\n",
      "[Parallel(n_jobs=-1)]: Done 100 tasks      | elapsed: 16.6min\n",
      "Pickling array (shape=(19,), dtype=object).\n",
      "Memmapping (shape=(610831,), dtype=int64) to old file C:\\Users\\NATHAL~1.BRU\\AppData\\Local\\Temp\\joblib_memmapping_folder_21624_8864526728\\21624-2098143416840-d6d44e4f89504b969069c9698b470c3b.pkl\n",
      "Memmapping (shape=(19, 610831), dtype=int64) to old file C:\\Users\\NATHAL~1.BRU\\AppData\\Local\\Temp\\joblib_memmapping_folder_21624_8864526728\\21624-2098143416840-4474d4f9e52d4c309f8ba7dfdfe0f0f7.pkl\n",
      "Pickling array (shape=(19,), dtype=object).\n",
      "Memmapping (shape=(610831,), dtype=int64) to old file C:\\Users\\NATHAL~1.BRU\\AppData\\Local\\Temp\\joblib_memmapping_folder_21624_8864526728\\21624-2098143416840-6b92e2652d5e4589a8eb6b272206468e.pkl\n",
      "Memmapping (shape=(610831,), dtype=int64) to old file C:\\Users\\NATHAL~1.BRU\\AppData\\Local\\Temp\\joblib_memmapping_folder_21624_8864526728\\21624-2098143416840-9553dd9dc2f044418b043294e866160e.pkl\n",
      "Memmapping (shape=(610831,), dtype=int64) to new file C:\\Users\\NATHAL~1.BRU\\AppData\\Local\\Temp\\joblib_memmapping_folder_21624_8864526728\\21624-2098143416840-76ee9301b1a845ce8685109a4e01ec5f.pkl\n",
      "Memmapping (shape=(407220,), dtype=int32) to old file C:\\Users\\NATHAL~1.BRU\\AppData\\Local\\Temp\\joblib_memmapping_folder_21624_8864526728\\21624-2098143416840-84100862bfc441c480c8bbf2b827263c.pkl\n",
      "Pickling array (shape=(203611,), dtype=int32).\n",
      "[Parallel(n_jobs=-1)]: Done 101 tasks      | elapsed: 17.0min\n",
      "Pickling array (shape=(19,), dtype=object).\n",
      "Memmapping (shape=(610831,), dtype=int64) to old file C:\\Users\\NATHAL~1.BRU\\AppData\\Local\\Temp\\joblib_memmapping_folder_21624_8864526728\\21624-2098143416840-d6d44e4f89504b969069c9698b470c3b.pkl\n",
      "Memmapping (shape=(19, 610831), dtype=int64) to old file C:\\Users\\NATHAL~1.BRU\\AppData\\Local\\Temp\\joblib_memmapping_folder_21624_8864526728\\21624-2098143416840-4474d4f9e52d4c309f8ba7dfdfe0f0f7.pkl\n",
      "Pickling array (shape=(19,), dtype=object).\n",
      "Memmapping (shape=(610831,), dtype=int64) to old file C:\\Users\\NATHAL~1.BRU\\AppData\\Local\\Temp\\joblib_memmapping_folder_21624_8864526728\\21624-2098143416840-6b92e2652d5e4589a8eb6b272206468e.pkl\n",
      "Memmapping (shape=(610831,), dtype=int64) to old file C:\\Users\\NATHAL~1.BRU\\AppData\\Local\\Temp\\joblib_memmapping_folder_21624_8864526728\\21624-2098143416840-9553dd9dc2f044418b043294e866160e.pkl\n",
      "Memmapping (shape=(610831,), dtype=int64) to new file C:\\Users\\NATHAL~1.BRU\\AppData\\Local\\Temp\\joblib_memmapping_folder_21624_8864526728\\21624-2098143416840-47cc15ae64fe424296187592094b9512.pkl\n",
      "Memmapping (shape=(407221,), dtype=int32) to old file C:\\Users\\NATHAL~1.BRU\\AppData\\Local\\Temp\\joblib_memmapping_folder_21624_8864526728\\21624-2098143416840-c60f2c5ebaa7426b809b85e1d36b6670.pkl\n",
      "Pickling array (shape=(203610,), dtype=int32).\n",
      "[Parallel(n_jobs=-1)]: Done 102 tasks      | elapsed: 17.2min\n",
      "Pickling array (shape=(19,), dtype=object).\n",
      "Memmapping (shape=(610831,), dtype=int64) to old file C:\\Users\\NATHAL~1.BRU\\AppData\\Local\\Temp\\joblib_memmapping_folder_21624_8864526728\\21624-2098143416840-d6d44e4f89504b969069c9698b470c3b.pkl\n",
      "Memmapping (shape=(19, 610831), dtype=int64) to old file C:\\Users\\NATHAL~1.BRU\\AppData\\Local\\Temp\\joblib_memmapping_folder_21624_8864526728\\21624-2098143416840-4474d4f9e52d4c309f8ba7dfdfe0f0f7.pkl\n",
      "Pickling array (shape=(19,), dtype=object).\n",
      "Memmapping (shape=(610831,), dtype=int64) to old file C:\\Users\\NATHAL~1.BRU\\AppData\\Local\\Temp\\joblib_memmapping_folder_21624_8864526728\\21624-2098143416840-6b92e2652d5e4589a8eb6b272206468e.pkl\n",
      "Memmapping (shape=(610831,), dtype=int64) to old file C:\\Users\\NATHAL~1.BRU\\AppData\\Local\\Temp\\joblib_memmapping_folder_21624_8864526728\\21624-2098143416840-9553dd9dc2f044418b043294e866160e.pkl\n",
      "Memmapping (shape=(610831,), dtype=int64) to new file C:\\Users\\NATHAL~1.BRU\\AppData\\Local\\Temp\\joblib_memmapping_folder_21624_8864526728\\21624-2098143416840-c9bc9b8db86a4307be2b098bccfdb20c.pkl\n",
      "Memmapping (shape=(407221,), dtype=int32) to old file C:\\Users\\NATHAL~1.BRU\\AppData\\Local\\Temp\\joblib_memmapping_folder_21624_8864526728\\21624-2098143416840-db03436e1e5c4327bcb9471086e99f45.pkl\n",
      "Pickling array (shape=(203610,), dtype=int32).\n",
      "[Parallel(n_jobs=-1)]: Done 103 tasks      | elapsed: 17.2min\n",
      "Pickling array (shape=(19,), dtype=object).\n",
      "Memmapping (shape=(610831,), dtype=int64) to old file C:\\Users\\NATHAL~1.BRU\\AppData\\Local\\Temp\\joblib_memmapping_folder_21624_8864526728\\21624-2098143416840-d6d44e4f89504b969069c9698b470c3b.pkl\n",
      "Memmapping (shape=(19, 610831), dtype=int64) to old file C:\\Users\\NATHAL~1.BRU\\AppData\\Local\\Temp\\joblib_memmapping_folder_21624_8864526728\\21624-2098143416840-4474d4f9e52d4c309f8ba7dfdfe0f0f7.pkl\n",
      "Pickling array (shape=(19,), dtype=object).\n",
      "Memmapping (shape=(610831,), dtype=int64) to old file C:\\Users\\NATHAL~1.BRU\\AppData\\Local\\Temp\\joblib_memmapping_folder_21624_8864526728\\21624-2098143416840-6b92e2652d5e4589a8eb6b272206468e.pkl\n",
      "Memmapping (shape=(610831,), dtype=int64) to old file C:\\Users\\NATHAL~1.BRU\\AppData\\Local\\Temp\\joblib_memmapping_folder_21624_8864526728\\21624-2098143416840-9553dd9dc2f044418b043294e866160e.pkl\n",
      "Memmapping (shape=(610831,), dtype=int64) to new file C:\\Users\\NATHAL~1.BRU\\AppData\\Local\\Temp\\joblib_memmapping_folder_21624_8864526728\\21624-2098143416840-943fdf2067574da290df464772a8f4e3.pkl\n",
      "Memmapping (shape=(407220,), dtype=int32) to old file C:\\Users\\NATHAL~1.BRU\\AppData\\Local\\Temp\\joblib_memmapping_folder_21624_8864526728\\21624-2098143416840-84100862bfc441c480c8bbf2b827263c.pkl\n",
      "Pickling array (shape=(203611,), dtype=int32).\n",
      "[Parallel(n_jobs=-1)]: Done 104 tasks      | elapsed: 17.2min\n"
     ]
    },
    {
     "name": "stdout",
     "output_type": "stream",
     "text": [
      "Pickling array (shape=(19,), dtype=object).\n",
      "Memmapping (shape=(610831,), dtype=int64) to old file C:\\Users\\NATHAL~1.BRU\\AppData\\Local\\Temp\\joblib_memmapping_folder_21624_8864526728\\21624-2098143416840-d6d44e4f89504b969069c9698b470c3b.pkl\n",
      "Memmapping (shape=(19, 610831), dtype=int64) to old file C:\\Users\\NATHAL~1.BRU\\AppData\\Local\\Temp\\joblib_memmapping_folder_21624_8864526728\\21624-2098143416840-4474d4f9e52d4c309f8ba7dfdfe0f0f7.pkl\n",
      "Pickling array (shape=(19,), dtype=object).\n",
      "Memmapping (shape=(610831,), dtype=int64) to old file C:\\Users\\NATHAL~1.BRU\\AppData\\Local\\Temp\\joblib_memmapping_folder_21624_8864526728\\21624-2098143416840-6b92e2652d5e4589a8eb6b272206468e.pkl\n",
      "Memmapping (shape=(610831,), dtype=int64) to old file C:\\Users\\NATHAL~1.BRU\\AppData\\Local\\Temp\\joblib_memmapping_folder_21624_8864526728\\21624-2098143416840-9553dd9dc2f044418b043294e866160e.pkl\n",
      "Memmapping (shape=(610831,), dtype=int64) to new file C:\\Users\\NATHAL~1.BRU\\AppData\\Local\\Temp\\joblib_memmapping_folder_21624_8864526728\\21624-2098143416840-be66e115e04445c6adaab6d534f5d680.pkl\n",
      "Memmapping (shape=(407221,), dtype=int32) to old file C:\\Users\\NATHAL~1.BRU\\AppData\\Local\\Temp\\joblib_memmapping_folder_21624_8864526728\\21624-2098143416840-c60f2c5ebaa7426b809b85e1d36b6670.pkl\n",
      "Pickling array (shape=(203610,), dtype=int32).\n",
      "[Parallel(n_jobs=-1)]: Done 105 tasks      | elapsed: 17.3min\n",
      "Pickling array (shape=(19,), dtype=object).\n",
      "Memmapping (shape=(610831,), dtype=int64) to old file C:\\Users\\NATHAL~1.BRU\\AppData\\Local\\Temp\\joblib_memmapping_folder_21624_8864526728\\21624-2098143416840-d6d44e4f89504b969069c9698b470c3b.pkl\n",
      "Memmapping (shape=(19, 610831), dtype=int64) to old file C:\\Users\\NATHAL~1.BRU\\AppData\\Local\\Temp\\joblib_memmapping_folder_21624_8864526728\\21624-2098143416840-4474d4f9e52d4c309f8ba7dfdfe0f0f7.pkl\n",
      "Pickling array (shape=(19,), dtype=object).\n",
      "Memmapping (shape=(610831,), dtype=int64) to old file C:\\Users\\NATHAL~1.BRU\\AppData\\Local\\Temp\\joblib_memmapping_folder_21624_8864526728\\21624-2098143416840-6b92e2652d5e4589a8eb6b272206468e.pkl\n",
      "Memmapping (shape=(610831,), dtype=int64) to old file C:\\Users\\NATHAL~1.BRU\\AppData\\Local\\Temp\\joblib_memmapping_folder_21624_8864526728\\21624-2098143416840-9553dd9dc2f044418b043294e866160e.pkl\n",
      "Memmapping (shape=(610831,), dtype=int64) to new file C:\\Users\\NATHAL~1.BRU\\AppData\\Local\\Temp\\joblib_memmapping_folder_21624_8864526728\\21624-2098143416840-3ccca2bc5d9340fa8bdd724d7cdfc2f1.pkl\n",
      "Memmapping (shape=(407221,), dtype=int32) to old file C:\\Users\\NATHAL~1.BRU\\AppData\\Local\\Temp\\joblib_memmapping_folder_21624_8864526728\\21624-2098143416840-db03436e1e5c4327bcb9471086e99f45.pkl\n",
      "Pickling array (shape=(203610,), dtype=int32).\n",
      "[Parallel(n_jobs=-1)]: Done 106 tasks      | elapsed: 17.7min\n",
      "Pickling array (shape=(19,), dtype=object).\n",
      "Memmapping (shape=(610831,), dtype=int64) to old file C:\\Users\\NATHAL~1.BRU\\AppData\\Local\\Temp\\joblib_memmapping_folder_21624_8864526728\\21624-2098143416840-d6d44e4f89504b969069c9698b470c3b.pkl\n",
      "Memmapping (shape=(19, 610831), dtype=int64) to old file C:\\Users\\NATHAL~1.BRU\\AppData\\Local\\Temp\\joblib_memmapping_folder_21624_8864526728\\21624-2098143416840-4474d4f9e52d4c309f8ba7dfdfe0f0f7.pkl\n",
      "Pickling array (shape=(19,), dtype=object).\n",
      "Memmapping (shape=(610831,), dtype=int64) to old file C:\\Users\\NATHAL~1.BRU\\AppData\\Local\\Temp\\joblib_memmapping_folder_21624_8864526728\\21624-2098143416840-6b92e2652d5e4589a8eb6b272206468e.pkl\n",
      "Memmapping (shape=(610831,), dtype=int64) to old file C:\\Users\\NATHAL~1.BRU\\AppData\\Local\\Temp\\joblib_memmapping_folder_21624_8864526728\\21624-2098143416840-9553dd9dc2f044418b043294e866160e.pkl\n",
      "Memmapping (shape=(610831,), dtype=int64) to new file C:\\Users\\NATHAL~1.BRU\\AppData\\Local\\Temp\\joblib_memmapping_folder_21624_8864526728\\21624-2098143416840-0a67b5173f784c2c9433028aaf50ca0b.pkl\n",
      "Memmapping (shape=(407220,), dtype=int32) to old file C:\\Users\\NATHAL~1.BRU\\AppData\\Local\\Temp\\joblib_memmapping_folder_21624_8864526728\\21624-2098143416840-84100862bfc441c480c8bbf2b827263c.pkl\n",
      "Pickling array (shape=(203611,), dtype=int32).\n",
      "[Parallel(n_jobs=-1)]: Done 107 tasks      | elapsed: 17.9min\n",
      "Pickling array (shape=(19,), dtype=object).\n",
      "Memmapping (shape=(610831,), dtype=int64) to old file C:\\Users\\NATHAL~1.BRU\\AppData\\Local\\Temp\\joblib_memmapping_folder_21624_8864526728\\21624-2098143416840-d6d44e4f89504b969069c9698b470c3b.pkl\n",
      "Memmapping (shape=(19, 610831), dtype=int64) to old file C:\\Users\\NATHAL~1.BRU\\AppData\\Local\\Temp\\joblib_memmapping_folder_21624_8864526728\\21624-2098143416840-4474d4f9e52d4c309f8ba7dfdfe0f0f7.pkl\n",
      "Pickling array (shape=(19,), dtype=object).\n",
      "Memmapping (shape=(610831,), dtype=int64) to old file C:\\Users\\NATHAL~1.BRU\\AppData\\Local\\Temp\\joblib_memmapping_folder_21624_8864526728\\21624-2098143416840-6b92e2652d5e4589a8eb6b272206468e.pkl\n",
      "Memmapping (shape=(610831,), dtype=int64) to old file C:\\Users\\NATHAL~1.BRU\\AppData\\Local\\Temp\\joblib_memmapping_folder_21624_8864526728\\21624-2098143416840-9553dd9dc2f044418b043294e866160e.pkl\n",
      "Memmapping (shape=(610831,), dtype=int64) to new file C:\\Users\\NATHAL~1.BRU\\AppData\\Local\\Temp\\joblib_memmapping_folder_21624_8864526728\\21624-2098143416840-36546ed0c6014288af945c322e56eab4.pkl\n",
      "Memmapping (shape=(407221,), dtype=int32) to old file C:\\Users\\NATHAL~1.BRU\\AppData\\Local\\Temp\\joblib_memmapping_folder_21624_8864526728\\21624-2098143416840-c60f2c5ebaa7426b809b85e1d36b6670.pkl\n",
      "Pickling array (shape=(203610,), dtype=int32).\n",
      "[Parallel(n_jobs=-1)]: Done 108 tasks      | elapsed: 18.1min\n",
      "Pickling array (shape=(19,), dtype=object).\n",
      "Memmapping (shape=(610831,), dtype=int64) to old file C:\\Users\\NATHAL~1.BRU\\AppData\\Local\\Temp\\joblib_memmapping_folder_21624_8864526728\\21624-2098143416840-d6d44e4f89504b969069c9698b470c3b.pkl\n",
      "Memmapping (shape=(19, 610831), dtype=int64) to old file C:\\Users\\NATHAL~1.BRU\\AppData\\Local\\Temp\\joblib_memmapping_folder_21624_8864526728\\21624-2098143416840-4474d4f9e52d4c309f8ba7dfdfe0f0f7.pkl\n",
      "Pickling array (shape=(19,), dtype=object).\n",
      "Memmapping (shape=(610831,), dtype=int64) to old file C:\\Users\\NATHAL~1.BRU\\AppData\\Local\\Temp\\joblib_memmapping_folder_21624_8864526728\\21624-2098143416840-6b92e2652d5e4589a8eb6b272206468e.pkl\n",
      "Memmapping (shape=(610831,), dtype=int64) to old file C:\\Users\\NATHAL~1.BRU\\AppData\\Local\\Temp\\joblib_memmapping_folder_21624_8864526728\\21624-2098143416840-9553dd9dc2f044418b043294e866160e.pkl\n",
      "Memmapping (shape=(610831,), dtype=int64) to new file C:\\Users\\NATHAL~1.BRU\\AppData\\Local\\Temp\\joblib_memmapping_folder_21624_8864526728\\21624-2098143416840-e24a8a003d4141489353e2e4135e6be4.pkl\n",
      "Memmapping (shape=(407221,), dtype=int32) to old file C:\\Users\\NATHAL~1.BRU\\AppData\\Local\\Temp\\joblib_memmapping_folder_21624_8864526728\\21624-2098143416840-db03436e1e5c4327bcb9471086e99f45.pkl\n",
      "Pickling array (shape=(203610,), dtype=int32).\n",
      "[Parallel(n_jobs=-1)]: Done 109 tasks      | elapsed: 18.2min\n",
      "Pickling array (shape=(19,), dtype=object).\n",
      "Memmapping (shape=(610831,), dtype=int64) to old file C:\\Users\\NATHAL~1.BRU\\AppData\\Local\\Temp\\joblib_memmapping_folder_21624_8864526728\\21624-2098143416840-d6d44e4f89504b969069c9698b470c3b.pkl\n",
      "Memmapping (shape=(19, 610831), dtype=int64) to old file C:\\Users\\NATHAL~1.BRU\\AppData\\Local\\Temp\\joblib_memmapping_folder_21624_8864526728\\21624-2098143416840-4474d4f9e52d4c309f8ba7dfdfe0f0f7.pkl\n",
      "Pickling array (shape=(19,), dtype=object).\n",
      "Memmapping (shape=(610831,), dtype=int64) to old file C:\\Users\\NATHAL~1.BRU\\AppData\\Local\\Temp\\joblib_memmapping_folder_21624_8864526728\\21624-2098143416840-6b92e2652d5e4589a8eb6b272206468e.pkl\n",
      "Memmapping (shape=(610831,), dtype=int64) to old file C:\\Users\\NATHAL~1.BRU\\AppData\\Local\\Temp\\joblib_memmapping_folder_21624_8864526728\\21624-2098143416840-9553dd9dc2f044418b043294e866160e.pkl\n",
      "Memmapping (shape=(610831,), dtype=int64) to new file C:\\Users\\NATHAL~1.BRU\\AppData\\Local\\Temp\\joblib_memmapping_folder_21624_8864526728\\21624-2098143416840-83bb769f695a4eab9f9594b4f488eb4a.pkl\n",
      "Memmapping (shape=(407220,), dtype=int32) to old file C:\\Users\\NATHAL~1.BRU\\AppData\\Local\\Temp\\joblib_memmapping_folder_21624_8864526728\\21624-2098143416840-84100862bfc441c480c8bbf2b827263c.pkl\n",
      "Pickling array (shape=(203611,), dtype=int32).\n",
      "[Parallel(n_jobs=-1)]: Done 110 tasks      | elapsed: 18.2min\n",
      "Pickling array (shape=(19,), dtype=object).\n",
      "Memmapping (shape=(610831,), dtype=int64) to old file C:\\Users\\NATHAL~1.BRU\\AppData\\Local\\Temp\\joblib_memmapping_folder_21624_8864526728\\21624-2098143416840-d6d44e4f89504b969069c9698b470c3b.pkl\n",
      "Memmapping (shape=(19, 610831), dtype=int64) to old file C:\\Users\\NATHAL~1.BRU\\AppData\\Local\\Temp\\joblib_memmapping_folder_21624_8864526728\\21624-2098143416840-4474d4f9e52d4c309f8ba7dfdfe0f0f7.pkl\n",
      "Pickling array (shape=(19,), dtype=object).\n",
      "Memmapping (shape=(610831,), dtype=int64) to old file C:\\Users\\NATHAL~1.BRU\\AppData\\Local\\Temp\\joblib_memmapping_folder_21624_8864526728\\21624-2098143416840-6b92e2652d5e4589a8eb6b272206468e.pkl\n",
      "Memmapping (shape=(610831,), dtype=int64) to old file C:\\Users\\NATHAL~1.BRU\\AppData\\Local\\Temp\\joblib_memmapping_folder_21624_8864526728\\21624-2098143416840-9553dd9dc2f044418b043294e866160e.pkl\n",
      "Memmapping (shape=(610831,), dtype=int64) to new file C:\\Users\\NATHAL~1.BRU\\AppData\\Local\\Temp\\joblib_memmapping_folder_21624_8864526728\\21624-2098143416840-6f3e3f9e765c45b3b32e68d398f6d31a.pkl\n",
      "Memmapping (shape=(407221,), dtype=int32) to old file C:\\Users\\NATHAL~1.BRU\\AppData\\Local\\Temp\\joblib_memmapping_folder_21624_8864526728\\21624-2098143416840-c60f2c5ebaa7426b809b85e1d36b6670.pkl\n",
      "Pickling array (shape=(203610,), dtype=int32).\n"
     ]
    },
    {
     "name": "stdout",
     "output_type": "stream",
     "text": [
      "[Parallel(n_jobs=-1)]: Done 111 tasks      | elapsed: 18.4min\n",
      "Pickling array (shape=(19,), dtype=object).\n",
      "Memmapping (shape=(610831,), dtype=int64) to old file C:\\Users\\NATHAL~1.BRU\\AppData\\Local\\Temp\\joblib_memmapping_folder_21624_8864526728\\21624-2098143416840-d6d44e4f89504b969069c9698b470c3b.pkl\n",
      "Memmapping (shape=(19, 610831), dtype=int64) to old file C:\\Users\\NATHAL~1.BRU\\AppData\\Local\\Temp\\joblib_memmapping_folder_21624_8864526728\\21624-2098143416840-4474d4f9e52d4c309f8ba7dfdfe0f0f7.pkl\n",
      "Pickling array (shape=(19,), dtype=object).\n",
      "Memmapping (shape=(610831,), dtype=int64) to old file C:\\Users\\NATHAL~1.BRU\\AppData\\Local\\Temp\\joblib_memmapping_folder_21624_8864526728\\21624-2098143416840-6b92e2652d5e4589a8eb6b272206468e.pkl\n",
      "Memmapping (shape=(610831,), dtype=int64) to old file C:\\Users\\NATHAL~1.BRU\\AppData\\Local\\Temp\\joblib_memmapping_folder_21624_8864526728\\21624-2098143416840-9553dd9dc2f044418b043294e866160e.pkl\n",
      "Memmapping (shape=(610831,), dtype=int64) to new file C:\\Users\\NATHAL~1.BRU\\AppData\\Local\\Temp\\joblib_memmapping_folder_21624_8864526728\\21624-2098143416840-606c43347ce14c7caeb95c93b27f1a4d.pkl\n",
      "Memmapping (shape=(407221,), dtype=int32) to old file C:\\Users\\NATHAL~1.BRU\\AppData\\Local\\Temp\\joblib_memmapping_folder_21624_8864526728\\21624-2098143416840-db03436e1e5c4327bcb9471086e99f45.pkl\n",
      "Pickling array (shape=(203610,), dtype=int32).\n",
      "[Parallel(n_jobs=-1)]: Done 112 tasks      | elapsed: 18.9min\n",
      "Pickling array (shape=(19,), dtype=object).\n",
      "Memmapping (shape=(610831,), dtype=int64) to old file C:\\Users\\NATHAL~1.BRU\\AppData\\Local\\Temp\\joblib_memmapping_folder_21624_8864526728\\21624-2098143416840-d6d44e4f89504b969069c9698b470c3b.pkl\n",
      "Memmapping (shape=(19, 610831), dtype=int64) to old file C:\\Users\\NATHAL~1.BRU\\AppData\\Local\\Temp\\joblib_memmapping_folder_21624_8864526728\\21624-2098143416840-4474d4f9e52d4c309f8ba7dfdfe0f0f7.pkl\n",
      "Pickling array (shape=(19,), dtype=object).\n",
      "Memmapping (shape=(610831,), dtype=int64) to old file C:\\Users\\NATHAL~1.BRU\\AppData\\Local\\Temp\\joblib_memmapping_folder_21624_8864526728\\21624-2098143416840-6b92e2652d5e4589a8eb6b272206468e.pkl\n",
      "Memmapping (shape=(610831,), dtype=int64) to old file C:\\Users\\NATHAL~1.BRU\\AppData\\Local\\Temp\\joblib_memmapping_folder_21624_8864526728\\21624-2098143416840-9553dd9dc2f044418b043294e866160e.pkl\n",
      "Memmapping (shape=(610831,), dtype=int64) to new file C:\\Users\\NATHAL~1.BRU\\AppData\\Local\\Temp\\joblib_memmapping_folder_21624_8864526728\\21624-2098143416840-087a2dca931c4d12b9f6d81fbd98a680.pkl\n",
      "Memmapping (shape=(407220,), dtype=int32) to old file C:\\Users\\NATHAL~1.BRU\\AppData\\Local\\Temp\\joblib_memmapping_folder_21624_8864526728\\21624-2098143416840-84100862bfc441c480c8bbf2b827263c.pkl\n",
      "Pickling array (shape=(203611,), dtype=int32).\n",
      "[Parallel(n_jobs=-1)]: Done 113 tasks      | elapsed: 19.0min\n",
      "Pickling array (shape=(19,), dtype=object).\n",
      "Memmapping (shape=(610831,), dtype=int64) to old file C:\\Users\\NATHAL~1.BRU\\AppData\\Local\\Temp\\joblib_memmapping_folder_21624_8864526728\\21624-2098143416840-d6d44e4f89504b969069c9698b470c3b.pkl\n",
      "Memmapping (shape=(19, 610831), dtype=int64) to old file C:\\Users\\NATHAL~1.BRU\\AppData\\Local\\Temp\\joblib_memmapping_folder_21624_8864526728\\21624-2098143416840-4474d4f9e52d4c309f8ba7dfdfe0f0f7.pkl\n",
      "Pickling array (shape=(19,), dtype=object).\n",
      "Memmapping (shape=(610831,), dtype=int64) to old file C:\\Users\\NATHAL~1.BRU\\AppData\\Local\\Temp\\joblib_memmapping_folder_21624_8864526728\\21624-2098143416840-6b92e2652d5e4589a8eb6b272206468e.pkl\n",
      "Memmapping (shape=(610831,), dtype=int64) to old file C:\\Users\\NATHAL~1.BRU\\AppData\\Local\\Temp\\joblib_memmapping_folder_21624_8864526728\\21624-2098143416840-9553dd9dc2f044418b043294e866160e.pkl\n",
      "Memmapping (shape=(610831,), dtype=int64) to new file C:\\Users\\NATHAL~1.BRU\\AppData\\Local\\Temp\\joblib_memmapping_folder_21624_8864526728\\21624-2098143416840-72e53e03e2e64ab4a80b1439df661ed3.pkl\n",
      "Memmapping (shape=(407221,), dtype=int32) to old file C:\\Users\\NATHAL~1.BRU\\AppData\\Local\\Temp\\joblib_memmapping_folder_21624_8864526728\\21624-2098143416840-c60f2c5ebaa7426b809b85e1d36b6670.pkl\n",
      "Pickling array (shape=(203610,), dtype=int32).\n",
      "[Parallel(n_jobs=-1)]: Done 114 tasks      | elapsed: 19.0min\n",
      "Pickling array (shape=(19,), dtype=object).\n",
      "Memmapping (shape=(610831,), dtype=int64) to old file C:\\Users\\NATHAL~1.BRU\\AppData\\Local\\Temp\\joblib_memmapping_folder_21624_8864526728\\21624-2098143416840-d6d44e4f89504b969069c9698b470c3b.pkl\n",
      "Memmapping (shape=(19, 610831), dtype=int64) to old file C:\\Users\\NATHAL~1.BRU\\AppData\\Local\\Temp\\joblib_memmapping_folder_21624_8864526728\\21624-2098143416840-4474d4f9e52d4c309f8ba7dfdfe0f0f7.pkl\n",
      "Pickling array (shape=(19,), dtype=object).\n",
      "Memmapping (shape=(610831,), dtype=int64) to old file C:\\Users\\NATHAL~1.BRU\\AppData\\Local\\Temp\\joblib_memmapping_folder_21624_8864526728\\21624-2098143416840-6b92e2652d5e4589a8eb6b272206468e.pkl\n",
      "Memmapping (shape=(610831,), dtype=int64) to old file C:\\Users\\NATHAL~1.BRU\\AppData\\Local\\Temp\\joblib_memmapping_folder_21624_8864526728\\21624-2098143416840-9553dd9dc2f044418b043294e866160e.pkl\n",
      "Memmapping (shape=(610831,), dtype=int64) to new file C:\\Users\\NATHAL~1.BRU\\AppData\\Local\\Temp\\joblib_memmapping_folder_21624_8864526728\\21624-2098143416840-cd99cb232e554f9c955d2613e9007f56.pkl\n",
      "Memmapping (shape=(407221,), dtype=int32) to old file C:\\Users\\NATHAL~1.BRU\\AppData\\Local\\Temp\\joblib_memmapping_folder_21624_8864526728\\21624-2098143416840-db03436e1e5c4327bcb9471086e99f45.pkl\n",
      "Pickling array (shape=(203610,), dtype=int32).\n",
      "[Parallel(n_jobs=-1)]: Done 115 tasks      | elapsed: 19.2min\n",
      "Pickling array (shape=(19,), dtype=object).\n",
      "Memmapping (shape=(610831,), dtype=int64) to old file C:\\Users\\NATHAL~1.BRU\\AppData\\Local\\Temp\\joblib_memmapping_folder_21624_8864526728\\21624-2098143416840-d6d44e4f89504b969069c9698b470c3b.pkl\n",
      "Memmapping (shape=(19, 610831), dtype=int64) to old file C:\\Users\\NATHAL~1.BRU\\AppData\\Local\\Temp\\joblib_memmapping_folder_21624_8864526728\\21624-2098143416840-4474d4f9e52d4c309f8ba7dfdfe0f0f7.pkl\n",
      "Pickling array (shape=(19,), dtype=object).\n",
      "Memmapping (shape=(610831,), dtype=int64) to old file C:\\Users\\NATHAL~1.BRU\\AppData\\Local\\Temp\\joblib_memmapping_folder_21624_8864526728\\21624-2098143416840-6b92e2652d5e4589a8eb6b272206468e.pkl\n",
      "Memmapping (shape=(610831,), dtype=int64) to old file C:\\Users\\NATHAL~1.BRU\\AppData\\Local\\Temp\\joblib_memmapping_folder_21624_8864526728\\21624-2098143416840-9553dd9dc2f044418b043294e866160e.pkl\n",
      "Memmapping (shape=(610831,), dtype=int64) to new file C:\\Users\\NATHAL~1.BRU\\AppData\\Local\\Temp\\joblib_memmapping_folder_21624_8864526728\\21624-2098143416840-8f24496afa7542e2887d247d7443a1ea.pkl\n",
      "Memmapping (shape=(407220,), dtype=int32) to old file C:\\Users\\NATHAL~1.BRU\\AppData\\Local\\Temp\\joblib_memmapping_folder_21624_8864526728\\21624-2098143416840-84100862bfc441c480c8bbf2b827263c.pkl\n",
      "Pickling array (shape=(203611,), dtype=int32).\n",
      "[Parallel(n_jobs=-1)]: Done 116 tasks      | elapsed: 19.2min\n",
      "Pickling array (shape=(19,), dtype=object).\n",
      "Memmapping (shape=(610831,), dtype=int64) to old file C:\\Users\\NATHAL~1.BRU\\AppData\\Local\\Temp\\joblib_memmapping_folder_21624_8864526728\\21624-2098143416840-d6d44e4f89504b969069c9698b470c3b.pkl\n",
      "Memmapping (shape=(19, 610831), dtype=int64) to old file C:\\Users\\NATHAL~1.BRU\\AppData\\Local\\Temp\\joblib_memmapping_folder_21624_8864526728\\21624-2098143416840-4474d4f9e52d4c309f8ba7dfdfe0f0f7.pkl\n",
      "Pickling array (shape=(19,), dtype=object).\n",
      "Memmapping (shape=(610831,), dtype=int64) to old file C:\\Users\\NATHAL~1.BRU\\AppData\\Local\\Temp\\joblib_memmapping_folder_21624_8864526728\\21624-2098143416840-6b92e2652d5e4589a8eb6b272206468e.pkl\n",
      "Memmapping (shape=(610831,), dtype=int64) to old file C:\\Users\\NATHAL~1.BRU\\AppData\\Local\\Temp\\joblib_memmapping_folder_21624_8864526728\\21624-2098143416840-9553dd9dc2f044418b043294e866160e.pkl\n",
      "Memmapping (shape=(610831,), dtype=int64) to new file C:\\Users\\NATHAL~1.BRU\\AppData\\Local\\Temp\\joblib_memmapping_folder_21624_8864526728\\21624-2098143416840-349d71499a544b6487c2ff05f3f6323e.pkl\n",
      "Memmapping (shape=(407221,), dtype=int32) to old file C:\\Users\\NATHAL~1.BRU\\AppData\\Local\\Temp\\joblib_memmapping_folder_21624_8864526728\\21624-2098143416840-c60f2c5ebaa7426b809b85e1d36b6670.pkl\n",
      "Pickling array (shape=(203610,), dtype=int32).\n",
      "[Parallel(n_jobs=-1)]: Done 117 tasks      | elapsed: 19.3min\n",
      "Pickling array (shape=(19,), dtype=object).\n",
      "Memmapping (shape=(610831,), dtype=int64) to old file C:\\Users\\NATHAL~1.BRU\\AppData\\Local\\Temp\\joblib_memmapping_folder_21624_8864526728\\21624-2098143416840-d6d44e4f89504b969069c9698b470c3b.pkl\n",
      "Memmapping (shape=(19, 610831), dtype=int64) to old file C:\\Users\\NATHAL~1.BRU\\AppData\\Local\\Temp\\joblib_memmapping_folder_21624_8864526728\\21624-2098143416840-4474d4f9e52d4c309f8ba7dfdfe0f0f7.pkl\n",
      "Pickling array (shape=(19,), dtype=object).\n",
      "Memmapping (shape=(610831,), dtype=int64) to old file C:\\Users\\NATHAL~1.BRU\\AppData\\Local\\Temp\\joblib_memmapping_folder_21624_8864526728\\21624-2098143416840-6b92e2652d5e4589a8eb6b272206468e.pkl\n",
      "Memmapping (shape=(610831,), dtype=int64) to old file C:\\Users\\NATHAL~1.BRU\\AppData\\Local\\Temp\\joblib_memmapping_folder_21624_8864526728\\21624-2098143416840-9553dd9dc2f044418b043294e866160e.pkl\n",
      "Memmapping (shape=(610831,), dtype=int64) to new file C:\\Users\\NATHAL~1.BRU\\AppData\\Local\\Temp\\joblib_memmapping_folder_21624_8864526728\\21624-2098143416840-52f23f1d2df843cb80f7eceb10b46b1c.pkl\n",
      "Memmapping (shape=(407221,), dtype=int32) to old file C:\\Users\\NATHAL~1.BRU\\AppData\\Local\\Temp\\joblib_memmapping_folder_21624_8864526728\\21624-2098143416840-db03436e1e5c4327bcb9471086e99f45.pkl\n",
      "Pickling array (shape=(203610,), dtype=int32).\n"
     ]
    },
    {
     "name": "stdout",
     "output_type": "stream",
     "text": [
      "[Parallel(n_jobs=-1)]: Done 118 tasks      | elapsed: 19.8min\n",
      "Pickling array (shape=(19,), dtype=object).\n",
      "Memmapping (shape=(610831,), dtype=int64) to old file C:\\Users\\NATHAL~1.BRU\\AppData\\Local\\Temp\\joblib_memmapping_folder_21624_8864526728\\21624-2098143416840-d6d44e4f89504b969069c9698b470c3b.pkl\n",
      "Memmapping (shape=(19, 610831), dtype=int64) to old file C:\\Users\\NATHAL~1.BRU\\AppData\\Local\\Temp\\joblib_memmapping_folder_21624_8864526728\\21624-2098143416840-4474d4f9e52d4c309f8ba7dfdfe0f0f7.pkl\n",
      "Pickling array (shape=(19,), dtype=object).\n",
      "Memmapping (shape=(610831,), dtype=int64) to old file C:\\Users\\NATHAL~1.BRU\\AppData\\Local\\Temp\\joblib_memmapping_folder_21624_8864526728\\21624-2098143416840-6b92e2652d5e4589a8eb6b272206468e.pkl\n",
      "Memmapping (shape=(610831,), dtype=int64) to old file C:\\Users\\NATHAL~1.BRU\\AppData\\Local\\Temp\\joblib_memmapping_folder_21624_8864526728\\21624-2098143416840-9553dd9dc2f044418b043294e866160e.pkl\n",
      "Memmapping (shape=(610831,), dtype=int64) to new file C:\\Users\\NATHAL~1.BRU\\AppData\\Local\\Temp\\joblib_memmapping_folder_21624_8864526728\\21624-2098143416840-80c60cf78ecd43bba41ddf7c8e18661a.pkl\n",
      "Memmapping (shape=(407220,), dtype=int32) to old file C:\\Users\\NATHAL~1.BRU\\AppData\\Local\\Temp\\joblib_memmapping_folder_21624_8864526728\\21624-2098143416840-84100862bfc441c480c8bbf2b827263c.pkl\n",
      "Pickling array (shape=(203611,), dtype=int32).\n",
      "[Parallel(n_jobs=-1)]: Done 119 tasks      | elapsed: 20.0min\n",
      "Pickling array (shape=(19,), dtype=object).\n",
      "Memmapping (shape=(610831,), dtype=int64) to old file C:\\Users\\NATHAL~1.BRU\\AppData\\Local\\Temp\\joblib_memmapping_folder_21624_8864526728\\21624-2098143416840-d6d44e4f89504b969069c9698b470c3b.pkl\n",
      "Memmapping (shape=(19, 610831), dtype=int64) to old file C:\\Users\\NATHAL~1.BRU\\AppData\\Local\\Temp\\joblib_memmapping_folder_21624_8864526728\\21624-2098143416840-4474d4f9e52d4c309f8ba7dfdfe0f0f7.pkl\n",
      "Pickling array (shape=(19,), dtype=object).\n",
      "Memmapping (shape=(610831,), dtype=int64) to old file C:\\Users\\NATHAL~1.BRU\\AppData\\Local\\Temp\\joblib_memmapping_folder_21624_8864526728\\21624-2098143416840-6b92e2652d5e4589a8eb6b272206468e.pkl\n",
      "Memmapping (shape=(610831,), dtype=int64) to old file C:\\Users\\NATHAL~1.BRU\\AppData\\Local\\Temp\\joblib_memmapping_folder_21624_8864526728\\21624-2098143416840-9553dd9dc2f044418b043294e866160e.pkl\n",
      "Memmapping (shape=(610831,), dtype=int64) to new file C:\\Users\\NATHAL~1.BRU\\AppData\\Local\\Temp\\joblib_memmapping_folder_21624_8864526728\\21624-2098143416840-74d2b895fa9c406c9b09385f87b6761f.pkl\n",
      "Memmapping (shape=(407221,), dtype=int32) to old file C:\\Users\\NATHAL~1.BRU\\AppData\\Local\\Temp\\joblib_memmapping_folder_21624_8864526728\\21624-2098143416840-c60f2c5ebaa7426b809b85e1d36b6670.pkl\n",
      "Pickling array (shape=(203610,), dtype=int32).\n",
      "[Parallel(n_jobs=-1)]: Done 120 tasks      | elapsed: 20.5min\n",
      "Pickling array (shape=(19,), dtype=object).\n",
      "Memmapping (shape=(610831,), dtype=int64) to old file C:\\Users\\NATHAL~1.BRU\\AppData\\Local\\Temp\\joblib_memmapping_folder_21624_8864526728\\21624-2098143416840-d6d44e4f89504b969069c9698b470c3b.pkl\n",
      "Memmapping (shape=(19, 610831), dtype=int64) to old file C:\\Users\\NATHAL~1.BRU\\AppData\\Local\\Temp\\joblib_memmapping_folder_21624_8864526728\\21624-2098143416840-4474d4f9e52d4c309f8ba7dfdfe0f0f7.pkl\n",
      "Pickling array (shape=(19,), dtype=object).\n",
      "Memmapping (shape=(610831,), dtype=int64) to old file C:\\Users\\NATHAL~1.BRU\\AppData\\Local\\Temp\\joblib_memmapping_folder_21624_8864526728\\21624-2098143416840-6b92e2652d5e4589a8eb6b272206468e.pkl\n",
      "Memmapping (shape=(610831,), dtype=int64) to old file C:\\Users\\NATHAL~1.BRU\\AppData\\Local\\Temp\\joblib_memmapping_folder_21624_8864526728\\21624-2098143416840-9553dd9dc2f044418b043294e866160e.pkl\n",
      "Memmapping (shape=(610831,), dtype=int64) to new file C:\\Users\\NATHAL~1.BRU\\AppData\\Local\\Temp\\joblib_memmapping_folder_21624_8864526728\\21624-2098143416840-59c705cbe7c34c78b3fba1246311fc58.pkl\n",
      "Memmapping (shape=(407221,), dtype=int32) to old file C:\\Users\\NATHAL~1.BRU\\AppData\\Local\\Temp\\joblib_memmapping_folder_21624_8864526728\\21624-2098143416840-db03436e1e5c4327bcb9471086e99f45.pkl\n",
      "Pickling array (shape=(203610,), dtype=int32).\n",
      "[Parallel(n_jobs=-1)]: Done 121 tasks      | elapsed: 21.6min\n",
      "Pickling array (shape=(19,), dtype=object).\n",
      "Memmapping (shape=(610831,), dtype=int64) to old file C:\\Users\\NATHAL~1.BRU\\AppData\\Local\\Temp\\joblib_memmapping_folder_21624_8864526728\\21624-2098143416840-d6d44e4f89504b969069c9698b470c3b.pkl\n",
      "Memmapping (shape=(19, 610831), dtype=int64) to old file C:\\Users\\NATHAL~1.BRU\\AppData\\Local\\Temp\\joblib_memmapping_folder_21624_8864526728\\21624-2098143416840-4474d4f9e52d4c309f8ba7dfdfe0f0f7.pkl\n",
      "Pickling array (shape=(19,), dtype=object).\n",
      "Memmapping (shape=(610831,), dtype=int64) to old file C:\\Users\\NATHAL~1.BRU\\AppData\\Local\\Temp\\joblib_memmapping_folder_21624_8864526728\\21624-2098143416840-6b92e2652d5e4589a8eb6b272206468e.pkl\n",
      "[Parallel(n_jobs=-1)]: Done 122 tasks      | elapsed: 21.6min\n",
      "Memmapping (shape=(610831,), dtype=int64) to old file C:\\Users\\NATHAL~1.BRU\\AppData\\Local\\Temp\\joblib_memmapping_folder_21624_8864526728\\21624-2098143416840-9553dd9dc2f044418b043294e866160e.pkl\n",
      "Memmapping (shape=(610831,), dtype=int64) to new file C:\\Users\\NATHAL~1.BRU\\AppData\\Local\\Temp\\joblib_memmapping_folder_21624_8864526728\\21624-2098143416840-8dc2306fbf504848ba8bb8bce64e8a38.pkl\n",
      "Memmapping (shape=(407220,), dtype=int32) to old file C:\\Users\\NATHAL~1.BRU\\AppData\\Local\\Temp\\joblib_memmapping_folder_21624_8864526728\\21624-2098143416840-84100862bfc441c480c8bbf2b827263c.pkl\n",
      "Pickling array (shape=(203611,), dtype=int32).\n",
      "Pickling array (shape=(19,), dtype=object).\n",
      "Memmapping (shape=(610831,), dtype=int64) to old file C:\\Users\\NATHAL~1.BRU\\AppData\\Local\\Temp\\joblib_memmapping_folder_21624_8864526728\\21624-2098143416840-d6d44e4f89504b969069c9698b470c3b.pkl\n",
      "Memmapping (shape=(19, 610831), dtype=int64) to old file C:\\Users\\NATHAL~1.BRU\\AppData\\Local\\Temp\\joblib_memmapping_folder_21624_8864526728\\21624-2098143416840-4474d4f9e52d4c309f8ba7dfdfe0f0f7.pkl\n",
      "Pickling array (shape=(19,), dtype=object).\n",
      "Memmapping (shape=(610831,), dtype=int64) to old file C:\\Users\\NATHAL~1.BRU\\AppData\\Local\\Temp\\joblib_memmapping_folder_21624_8864526728\\21624-2098143416840-6b92e2652d5e4589a8eb6b272206468e.pkl\n",
      "Memmapping (shape=(610831,), dtype=int64) to old file C:\\Users\\NATHAL~1.BRU\\AppData\\Local\\Temp\\joblib_memmapping_folder_21624_8864526728\\21624-2098143416840-9553dd9dc2f044418b043294e866160e.pkl\n",
      "Memmapping (shape=(610831,), dtype=int64) to new file C:\\Users\\NATHAL~1.BRU\\AppData\\Local\\Temp\\joblib_memmapping_folder_21624_8864526728\\21624-2098143416840-531a6d4759264fc893532ce9faa086ff.pkl\n",
      "Memmapping (shape=(407221,), dtype=int32) to old file C:\\Users\\NATHAL~1.BRU\\AppData\\Local\\Temp\\joblib_memmapping_folder_21624_8864526728\\21624-2098143416840-c60f2c5ebaa7426b809b85e1d36b6670.pkl\n",
      "Pickling array (shape=(203610,), dtype=int32).\n",
      "[Parallel(n_jobs=-1)]: Done 123 tasks      | elapsed: 21.7min\n",
      "Pickling array (shape=(19,), dtype=object).\n",
      "Memmapping (shape=(610831,), dtype=int64) to old file C:\\Users\\NATHAL~1.BRU\\AppData\\Local\\Temp\\joblib_memmapping_folder_21624_8864526728\\21624-2098143416840-d6d44e4f89504b969069c9698b470c3b.pkl\n",
      "Memmapping (shape=(19, 610831), dtype=int64) to old file C:\\Users\\NATHAL~1.BRU\\AppData\\Local\\Temp\\joblib_memmapping_folder_21624_8864526728\\21624-2098143416840-4474d4f9e52d4c309f8ba7dfdfe0f0f7.pkl\n",
      "Pickling array (shape=(19,), dtype=object).\n",
      "Memmapping (shape=(610831,), dtype=int64) to old file C:\\Users\\NATHAL~1.BRU\\AppData\\Local\\Temp\\joblib_memmapping_folder_21624_8864526728\\21624-2098143416840-6b92e2652d5e4589a8eb6b272206468e.pkl\n",
      "Memmapping (shape=(610831,), dtype=int64) to old file C:\\Users\\NATHAL~1.BRU\\AppData\\Local\\Temp\\joblib_memmapping_folder_21624_8864526728\\21624-2098143416840-9553dd9dc2f044418b043294e866160e.pkl\n",
      "Memmapping (shape=(610831,), dtype=int64) to new file C:\\Users\\NATHAL~1.BRU\\AppData\\Local\\Temp\\joblib_memmapping_folder_21624_8864526728\\21624-2098143416840-2aa5a10a2bef4e6894d951710a5925cd.pkl\n",
      "Memmapping (shape=(407221,), dtype=int32) to old file C:\\Users\\NATHAL~1.BRU\\AppData\\Local\\Temp\\joblib_memmapping_folder_21624_8864526728\\21624-2098143416840-db03436e1e5c4327bcb9471086e99f45.pkl\n",
      "Pickling array (shape=(203610,), dtype=int32).\n",
      "[Parallel(n_jobs=-1)]: Done 124 tasks      | elapsed: 22.7min\n",
      "Pickling array (shape=(19,), dtype=object).\n",
      "Memmapping (shape=(610831,), dtype=int64) to old file C:\\Users\\NATHAL~1.BRU\\AppData\\Local\\Temp\\joblib_memmapping_folder_21624_8864526728\\21624-2098143416840-d6d44e4f89504b969069c9698b470c3b.pkl\n",
      "Memmapping (shape=(19, 610831), dtype=int64) to old file C:\\Users\\NATHAL~1.BRU\\AppData\\Local\\Temp\\joblib_memmapping_folder_21624_8864526728\\21624-2098143416840-4474d4f9e52d4c309f8ba7dfdfe0f0f7.pkl\n",
      "Pickling array (shape=(19,), dtype=object).\n",
      "Memmapping (shape=(610831,), dtype=int64) to old file C:\\Users\\NATHAL~1.BRU\\AppData\\Local\\Temp\\joblib_memmapping_folder_21624_8864526728\\21624-2098143416840-6b92e2652d5e4589a8eb6b272206468e.pkl\n",
      "Memmapping (shape=(610831,), dtype=int64) to old file C:\\Users\\NATHAL~1.BRU\\AppData\\Local\\Temp\\joblib_memmapping_folder_21624_8864526728\\21624-2098143416840-9553dd9dc2f044418b043294e866160e.pkl\n",
      "Memmapping (shape=(610831,), dtype=int64) to new file C:\\Users\\NATHAL~1.BRU\\AppData\\Local\\Temp\\joblib_memmapping_folder_21624_8864526728\\21624-2098143416840-d63dae32a05e476c8f483ed814ee68f1.pkl\n",
      "Memmapping (shape=(407220,), dtype=int32) to old file C:\\Users\\NATHAL~1.BRU\\AppData\\Local\\Temp\\joblib_memmapping_folder_21624_8864526728\\21624-2098143416840-84100862bfc441c480c8bbf2b827263c.pkl\n",
      "Pickling array (shape=(203611,), dtype=int32).\n"
     ]
    },
    {
     "name": "stdout",
     "output_type": "stream",
     "text": [
      "[Parallel(n_jobs=-1)]: Done 125 tasks      | elapsed: 23.0min\n",
      "Pickling array (shape=(19,), dtype=object).\n",
      "Memmapping (shape=(610831,), dtype=int64) to old file C:\\Users\\NATHAL~1.BRU\\AppData\\Local\\Temp\\joblib_memmapping_folder_21624_8864526728\\21624-2098143416840-d6d44e4f89504b969069c9698b470c3b.pkl\n",
      "Memmapping (shape=(19, 610831), dtype=int64) to old file C:\\Users\\NATHAL~1.BRU\\AppData\\Local\\Temp\\joblib_memmapping_folder_21624_8864526728\\21624-2098143416840-4474d4f9e52d4c309f8ba7dfdfe0f0f7.pkl\n",
      "Pickling array (shape=(19,), dtype=object).\n",
      "Memmapping (shape=(610831,), dtype=int64) to old file C:\\Users\\NATHAL~1.BRU\\AppData\\Local\\Temp\\joblib_memmapping_folder_21624_8864526728\\21624-2098143416840-6b92e2652d5e4589a8eb6b272206468e.pkl\n",
      "Memmapping (shape=(610831,), dtype=int64) to old file C:\\Users\\NATHAL~1.BRU\\AppData\\Local\\Temp\\joblib_memmapping_folder_21624_8864526728\\21624-2098143416840-9553dd9dc2f044418b043294e866160e.pkl\n",
      "Memmapping (shape=(610831,), dtype=int64) to new file C:\\Users\\NATHAL~1.BRU\\AppData\\Local\\Temp\\joblib_memmapping_folder_21624_8864526728\\21624-2098143416840-70e8099abe924a02b9f48a43cd0f0281.pkl\n",
      "Memmapping (shape=(407221,), dtype=int32) to old file C:\\Users\\NATHAL~1.BRU\\AppData\\Local\\Temp\\joblib_memmapping_folder_21624_8864526728\\21624-2098143416840-c60f2c5ebaa7426b809b85e1d36b6670.pkl\n",
      "Pickling array (shape=(203610,), dtype=int32).\n",
      "[Parallel(n_jobs=-1)]: Done 126 tasks      | elapsed: 23.4min\n",
      "Pickling array (shape=(19,), dtype=object).\n",
      "Memmapping (shape=(610831,), dtype=int64) to old file C:\\Users\\NATHAL~1.BRU\\AppData\\Local\\Temp\\joblib_memmapping_folder_21624_8864526728\\21624-2098143416840-d6d44e4f89504b969069c9698b470c3b.pkl\n",
      "Memmapping (shape=(19, 610831), dtype=int64) to old file C:\\Users\\NATHAL~1.BRU\\AppData\\Local\\Temp\\joblib_memmapping_folder_21624_8864526728\\21624-2098143416840-4474d4f9e52d4c309f8ba7dfdfe0f0f7.pkl\n",
      "Pickling array (shape=(19,), dtype=object).\n",
      "Memmapping (shape=(610831,), dtype=int64) to old file C:\\Users\\NATHAL~1.BRU\\AppData\\Local\\Temp\\joblib_memmapping_folder_21624_8864526728\\21624-2098143416840-6b92e2652d5e4589a8eb6b272206468e.pkl\n",
      "Memmapping (shape=(610831,), dtype=int64) to old file C:\\Users\\NATHAL~1.BRU\\AppData\\Local\\Temp\\joblib_memmapping_folder_21624_8864526728\\21624-2098143416840-9553dd9dc2f044418b043294e866160e.pkl\n",
      "Memmapping (shape=(610831,), dtype=int64) to new file C:\\Users\\NATHAL~1.BRU\\AppData\\Local\\Temp\\joblib_memmapping_folder_21624_8864526728\\21624-2098143416840-f90c5883f7cc424eac6bb016cbc3e771.pkl\n",
      "Memmapping (shape=(407221,), dtype=int32) to old file C:\\Users\\NATHAL~1.BRU\\AppData\\Local\\Temp\\joblib_memmapping_folder_21624_8864526728\\21624-2098143416840-db03436e1e5c4327bcb9471086e99f45.pkl\n",
      "Pickling array (shape=(203610,), dtype=int32).\n",
      "[Parallel(n_jobs=-1)]: Done 127 tasks      | elapsed: 23.4min\n",
      "Pickling array (shape=(19,), dtype=object).\n",
      "Memmapping (shape=(610831,), dtype=int64) to old file C:\\Users\\NATHAL~1.BRU\\AppData\\Local\\Temp\\joblib_memmapping_folder_21624_8864526728\\21624-2098143416840-d6d44e4f89504b969069c9698b470c3b.pkl\n",
      "Memmapping (shape=(19, 610831), dtype=int64) to old file C:\\Users\\NATHAL~1.BRU\\AppData\\Local\\Temp\\joblib_memmapping_folder_21624_8864526728\\21624-2098143416840-4474d4f9e52d4c309f8ba7dfdfe0f0f7.pkl\n",
      "Pickling array (shape=(19,), dtype=object).\n",
      "Memmapping (shape=(610831,), dtype=int64) to old file C:\\Users\\NATHAL~1.BRU\\AppData\\Local\\Temp\\joblib_memmapping_folder_21624_8864526728\\21624-2098143416840-6b92e2652d5e4589a8eb6b272206468e.pkl\n",
      "Memmapping (shape=(610831,), dtype=int64) to old file C:\\Users\\NATHAL~1.BRU\\AppData\\Local\\Temp\\joblib_memmapping_folder_21624_8864526728\\21624-2098143416840-9553dd9dc2f044418b043294e866160e.pkl\n",
      "Memmapping (shape=(610831,), dtype=int64) to new file C:\\Users\\NATHAL~1.BRU\\AppData\\Local\\Temp\\joblib_memmapping_folder_21624_8864526728\\21624-2098143416840-fec805fcda4846b78df45e53b52f301e.pkl\n",
      "Memmapping (shape=(407220,), dtype=int32) to old file C:\\Users\\NATHAL~1.BRU\\AppData\\Local\\Temp\\joblib_memmapping_folder_21624_8864526728\\21624-2098143416840-84100862bfc441c480c8bbf2b827263c.pkl\n",
      "Pickling array (shape=(203611,), dtype=int32).\n",
      "[Parallel(n_jobs=-1)]: Done 128 tasks      | elapsed: 23.8min\n",
      "Pickling array (shape=(19,), dtype=object).\n",
      "Memmapping (shape=(610831,), dtype=int64) to old file C:\\Users\\NATHAL~1.BRU\\AppData\\Local\\Temp\\joblib_memmapping_folder_21624_8864526728\\21624-2098143416840-d6d44e4f89504b969069c9698b470c3b.pkl\n",
      "Memmapping (shape=(19, 610831), dtype=int64) to old file C:\\Users\\NATHAL~1.BRU\\AppData\\Local\\Temp\\joblib_memmapping_folder_21624_8864526728\\21624-2098143416840-4474d4f9e52d4c309f8ba7dfdfe0f0f7.pkl\n",
      "Pickling array (shape=(19,), dtype=object).\n",
      "Memmapping (shape=(610831,), dtype=int64) to old file C:\\Users\\NATHAL~1.BRU\\AppData\\Local\\Temp\\joblib_memmapping_folder_21624_8864526728\\21624-2098143416840-6b92e2652d5e4589a8eb6b272206468e.pkl\n",
      "Memmapping (shape=(610831,), dtype=int64) to old file C:\\Users\\NATHAL~1.BRU\\AppData\\Local\\Temp\\joblib_memmapping_folder_21624_8864526728\\21624-2098143416840-9553dd9dc2f044418b043294e866160e.pkl\n",
      "Memmapping (shape=(610831,), dtype=int64) to new file C:\\Users\\NATHAL~1.BRU\\AppData\\Local\\Temp\\joblib_memmapping_folder_21624_8864526728\\21624-2098143416840-3ae933866425423eab07e1f89890ba9f.pkl\n",
      "Memmapping (shape=(407221,), dtype=int32) to old file C:\\Users\\NATHAL~1.BRU\\AppData\\Local\\Temp\\joblib_memmapping_folder_21624_8864526728\\21624-2098143416840-c60f2c5ebaa7426b809b85e1d36b6670.pkl\n",
      "Pickling array (shape=(203610,), dtype=int32).\n",
      "[Parallel(n_jobs=-1)]: Done 129 tasks      | elapsed: 24.4min\n",
      "Pickling array (shape=(19,), dtype=object).\n",
      "Memmapping (shape=(610831,), dtype=int64) to old file C:\\Users\\NATHAL~1.BRU\\AppData\\Local\\Temp\\joblib_memmapping_folder_21624_8864526728\\21624-2098143416840-d6d44e4f89504b969069c9698b470c3b.pkl\n",
      "Memmapping (shape=(19, 610831), dtype=int64) to old file C:\\Users\\NATHAL~1.BRU\\AppData\\Local\\Temp\\joblib_memmapping_folder_21624_8864526728\\21624-2098143416840-4474d4f9e52d4c309f8ba7dfdfe0f0f7.pkl\n",
      "Pickling array (shape=(19,), dtype=object).\n",
      "Memmapping (shape=(610831,), dtype=int64) to old file C:\\Users\\NATHAL~1.BRU\\AppData\\Local\\Temp\\joblib_memmapping_folder_21624_8864526728\\21624-2098143416840-6b92e2652d5e4589a8eb6b272206468e.pkl\n",
      "Memmapping (shape=(610831,), dtype=int64) to old file C:\\Users\\NATHAL~1.BRU\\AppData\\Local\\Temp\\joblib_memmapping_folder_21624_8864526728\\21624-2098143416840-9553dd9dc2f044418b043294e866160e.pkl\n",
      "Memmapping (shape=(610831,), dtype=int64) to new file C:\\Users\\NATHAL~1.BRU\\AppData\\Local\\Temp\\joblib_memmapping_folder_21624_8864526728\\21624-2098143416840-a9fc2566b50f4736a0d83351c4565129.pkl\n",
      "Memmapping (shape=(407221,), dtype=int32) to old file C:\\Users\\NATHAL~1.BRU\\AppData\\Local\\Temp\\joblib_memmapping_folder_21624_8864526728\\21624-2098143416840-db03436e1e5c4327bcb9471086e99f45.pkl\n",
      "Pickling array (shape=(203610,), dtype=int32).\n",
      "Pickling array (shape=(19,), dtype=object).\n",
      "Memmapping (shape=(610831,), dtype=int64) to old file C:\\Users\\NATHAL~1.BRU\\AppData\\Local\\Temp\\joblib_memmapping_folder_21624_8864526728\\21624-2098143416840-d6d44e4f89504b969069c9698b470c3b.pkl\n",
      "Memmapping (shape=(19, 610831), dtype=int64) to old file C:\\Users\\NATHAL~1.BRU\\AppData\\Local\\Temp\\joblib_memmapping_folder_21624_8864526728\\21624-2098143416840-4474d4f9e52d4c309f8ba7dfdfe0f0f7.pkl\n",
      "Pickling array (shape=(19,), dtype=object).\n",
      "Memmapping (shape=(610831,), dtype=int64) to old file C:\\Users\\NATHAL~1.BRU\\AppData\\Local\\Temp\\joblib_memmapping_folder_21624_8864526728\\21624-2098143416840-6b92e2652d5e4589a8eb6b272206468e.pkl\n",
      "Memmapping (shape=(610831,), dtype=int64) to old file C:\\Users\\NATHAL~1.BRU\\AppData\\Local\\Temp\\joblib_memmapping_folder_21624_8864526728\\21624-2098143416840-9553dd9dc2f044418b043294e866160e.pkl\n",
      "Memmapping (shape=(610831,), dtype=int64) to new file C:\\Users\\NATHAL~1.BRU\\AppData\\Local\\Temp\\joblib_memmapping_folder_21624_8864526728\\21624-2098143416840-3afb86092b754ed987455ef48bcfcc82.pkl\n",
      "Memmapping (shape=(407220,), dtype=int32) to old file C:\\Users\\NATHAL~1.BRU\\AppData\\Local\\Temp\\joblib_memmapping_folder_21624_8864526728\\21624-2098143416840-84100862bfc441c480c8bbf2b827263c.pkl\n",
      "Pickling array (shape=(203611,), dtype=int32).\n",
      "[Parallel(n_jobs=-1)]: Done 131 out of 144 | elapsed: 25.8min remaining:  2.6min\n",
      "Pickling array (shape=(19,), dtype=object).\n",
      "Memmapping (shape=(610831,), dtype=int64) to old file C:\\Users\\NATHAL~1.BRU\\AppData\\Local\\Temp\\joblib_memmapping_folder_21624_8864526728\\21624-2098143416840-d6d44e4f89504b969069c9698b470c3b.pkl\n",
      "Memmapping (shape=(19, 610831), dtype=int64) to old file C:\\Users\\NATHAL~1.BRU\\AppData\\Local\\Temp\\joblib_memmapping_folder_21624_8864526728\\21624-2098143416840-4474d4f9e52d4c309f8ba7dfdfe0f0f7.pkl\n",
      "Pickling array (shape=(19,), dtype=object).\n",
      "Memmapping (shape=(610831,), dtype=int64) to old file C:\\Users\\NATHAL~1.BRU\\AppData\\Local\\Temp\\joblib_memmapping_folder_21624_8864526728\\21624-2098143416840-6b92e2652d5e4589a8eb6b272206468e.pkl\n",
      "Memmapping (shape=(610831,), dtype=int64) to old file C:\\Users\\NATHAL~1.BRU\\AppData\\Local\\Temp\\joblib_memmapping_folder_21624_8864526728\\21624-2098143416840-9553dd9dc2f044418b043294e866160e.pkl\n",
      "Memmapping (shape=(610831,), dtype=int64) to new file C:\\Users\\NATHAL~1.BRU\\AppData\\Local\\Temp\\joblib_memmapping_folder_21624_8864526728\\21624-2098143416840-226aecbc9e014875864142b4cbae465a.pkl\n",
      "Memmapping (shape=(407221,), dtype=int32) to old file C:\\Users\\NATHAL~1.BRU\\AppData\\Local\\Temp\\joblib_memmapping_folder_21624_8864526728\\21624-2098143416840-c60f2c5ebaa7426b809b85e1d36b6670.pkl\n",
      "Pickling array (shape=(203610,), dtype=int32).\n"
     ]
    },
    {
     "name": "stdout",
     "output_type": "stream",
     "text": [
      "Pickling array (shape=(19,), dtype=object).\n",
      "Memmapping (shape=(610831,), dtype=int64) to old file C:\\Users\\NATHAL~1.BRU\\AppData\\Local\\Temp\\joblib_memmapping_folder_21624_8864526728\\21624-2098143416840-d6d44e4f89504b969069c9698b470c3b.pkl\n",
      "Memmapping (shape=(19, 610831), dtype=int64) to old file C:\\Users\\NATHAL~1.BRU\\AppData\\Local\\Temp\\joblib_memmapping_folder_21624_8864526728\\21624-2098143416840-4474d4f9e52d4c309f8ba7dfdfe0f0f7.pkl\n",
      "Pickling array (shape=(19,), dtype=object).\n",
      "Memmapping (shape=(610831,), dtype=int64) to old file C:\\Users\\NATHAL~1.BRU\\AppData\\Local\\Temp\\joblib_memmapping_folder_21624_8864526728\\21624-2098143416840-6b92e2652d5e4589a8eb6b272206468e.pkl\n",
      "Memmapping (shape=(610831,), dtype=int64) to old file C:\\Users\\NATHAL~1.BRU\\AppData\\Local\\Temp\\joblib_memmapping_folder_21624_8864526728\\21624-2098143416840-9553dd9dc2f044418b043294e866160e.pkl\n",
      "Memmapping (shape=(610831,), dtype=int64) to new file C:\\Users\\NATHAL~1.BRU\\AppData\\Local\\Temp\\joblib_memmapping_folder_21624_8864526728\\21624-2098143416840-fab7999bf3ec4da5b98756ebf43608b0.pkl\n",
      "Memmapping (shape=(407221,), dtype=int32) to old file C:\\Users\\NATHAL~1.BRU\\AppData\\Local\\Temp\\joblib_memmapping_folder_21624_8864526728\\21624-2098143416840-db03436e1e5c4327bcb9471086e99f45.pkl\n",
      "Pickling array (shape=(203610,), dtype=int32).\n",
      "[Parallel(n_jobs=-1)]: Done 133 out of 144 | elapsed: 26.0min remaining:  2.1min\n",
      "Pickling array (shape=(19,), dtype=object).\n",
      "Memmapping (shape=(610831,), dtype=int64) to old file C:\\Users\\NATHAL~1.BRU\\AppData\\Local\\Temp\\joblib_memmapping_folder_21624_8864526728\\21624-2098143416840-d6d44e4f89504b969069c9698b470c3b.pkl\n",
      "Memmapping (shape=(19, 610831), dtype=int64) to old file C:\\Users\\NATHAL~1.BRU\\AppData\\Local\\Temp\\joblib_memmapping_folder_21624_8864526728\\21624-2098143416840-4474d4f9e52d4c309f8ba7dfdfe0f0f7.pkl\n",
      "Pickling array (shape=(19,), dtype=object).\n",
      "Memmapping (shape=(610831,), dtype=int64) to old file C:\\Users\\NATHAL~1.BRU\\AppData\\Local\\Temp\\joblib_memmapping_folder_21624_8864526728\\21624-2098143416840-6b92e2652d5e4589a8eb6b272206468e.pkl\n",
      "Memmapping (shape=(610831,), dtype=int64) to old file C:\\Users\\NATHAL~1.BRU\\AppData\\Local\\Temp\\joblib_memmapping_folder_21624_8864526728\\21624-2098143416840-9553dd9dc2f044418b043294e866160e.pkl\n",
      "Memmapping (shape=(610831,), dtype=int64) to new file C:\\Users\\NATHAL~1.BRU\\AppData\\Local\\Temp\\joblib_memmapping_folder_21624_8864526728\\21624-2098143416840-74220e938d094a229b0b73694d7f9c38.pkl\n",
      "Memmapping (shape=(407220,), dtype=int32) to old file C:\\Users\\NATHAL~1.BRU\\AppData\\Local\\Temp\\joblib_memmapping_folder_21624_8864526728\\21624-2098143416840-84100862bfc441c480c8bbf2b827263c.pkl\n",
      "Pickling array (shape=(203611,), dtype=int32).\n",
      "Pickling array (shape=(19,), dtype=object).\n",
      "Memmapping (shape=(610831,), dtype=int64) to old file C:\\Users\\NATHAL~1.BRU\\AppData\\Local\\Temp\\joblib_memmapping_folder_21624_8864526728\\21624-2098143416840-d6d44e4f89504b969069c9698b470c3b.pkl\n",
      "Memmapping (shape=(19, 610831), dtype=int64) to old file C:\\Users\\NATHAL~1.BRU\\AppData\\Local\\Temp\\joblib_memmapping_folder_21624_8864526728\\21624-2098143416840-4474d4f9e52d4c309f8ba7dfdfe0f0f7.pkl\n",
      "Pickling array (shape=(19,), dtype=object).\n",
      "Memmapping (shape=(610831,), dtype=int64) to old file C:\\Users\\NATHAL~1.BRU\\AppData\\Local\\Temp\\joblib_memmapping_folder_21624_8864526728\\21624-2098143416840-6b92e2652d5e4589a8eb6b272206468e.pkl\n",
      "Memmapping (shape=(610831,), dtype=int64) to old file C:\\Users\\NATHAL~1.BRU\\AppData\\Local\\Temp\\joblib_memmapping_folder_21624_8864526728\\21624-2098143416840-9553dd9dc2f044418b043294e866160e.pkl\n",
      "Memmapping (shape=(610831,), dtype=int64) to new file C:\\Users\\NATHAL~1.BRU\\AppData\\Local\\Temp\\joblib_memmapping_folder_21624_8864526728\\21624-2098143416840-fedd178f1b7142499fc3c5d72e1a6e0c.pkl\n",
      "Memmapping (shape=(407221,), dtype=int32) to old file C:\\Users\\NATHAL~1.BRU\\AppData\\Local\\Temp\\joblib_memmapping_folder_21624_8864526728\\21624-2098143416840-c60f2c5ebaa7426b809b85e1d36b6670.pkl\n",
      "Pickling array (shape=(203610,), dtype=int32).\n",
      "[Parallel(n_jobs=-1)]: Done 135 out of 144 | elapsed: 26.7min remaining:  1.8min\n",
      "Pickling array (shape=(19,), dtype=object).\n",
      "Memmapping (shape=(610831,), dtype=int64) to old file C:\\Users\\NATHAL~1.BRU\\AppData\\Local\\Temp\\joblib_memmapping_folder_21624_8864526728\\21624-2098143416840-d6d44e4f89504b969069c9698b470c3b.pkl\n",
      "Memmapping (shape=(19, 610831), dtype=int64) to old file C:\\Users\\NATHAL~1.BRU\\AppData\\Local\\Temp\\joblib_memmapping_folder_21624_8864526728\\21624-2098143416840-4474d4f9e52d4c309f8ba7dfdfe0f0f7.pkl\n",
      "Pickling array (shape=(19,), dtype=object).\n",
      "Memmapping (shape=(610831,), dtype=int64) to old file C:\\Users\\NATHAL~1.BRU\\AppData\\Local\\Temp\\joblib_memmapping_folder_21624_8864526728\\21624-2098143416840-6b92e2652d5e4589a8eb6b272206468e.pkl\n",
      "Memmapping (shape=(610831,), dtype=int64) to old file C:\\Users\\NATHAL~1.BRU\\AppData\\Local\\Temp\\joblib_memmapping_folder_21624_8864526728\\21624-2098143416840-9553dd9dc2f044418b043294e866160e.pkl\n",
      "Memmapping (shape=(610831,), dtype=int64) to new file C:\\Users\\NATHAL~1.BRU\\AppData\\Local\\Temp\\joblib_memmapping_folder_21624_8864526728\\21624-2098143416840-adc88d2ca0c647fd821203e490254807.pkl\n",
      "Memmapping (shape=(407221,), dtype=int32) to old file C:\\Users\\NATHAL~1.BRU\\AppData\\Local\\Temp\\joblib_memmapping_folder_21624_8864526728\\21624-2098143416840-db03436e1e5c4327bcb9471086e99f45.pkl\n",
      "Pickling array (shape=(203610,), dtype=int32).\n",
      "[Parallel(n_jobs=-1)]: Done 137 out of 144 | elapsed: 28.3min remaining:  1.4min\n",
      "[Parallel(n_jobs=-1)]: Done 139 out of 144 | elapsed: 28.4min remaining:  1.0min\n",
      "[Parallel(n_jobs=-1)]: Done 141 out of 144 | elapsed: 29.3min remaining:   37.3s\n",
      "[Parallel(n_jobs=-1)]: Done 144 out of 144 | elapsed: 30.1min finished\n",
      "Wall time: 32min 10s\n"
     ]
    }
   ],
   "source": [
    "%%time\n",
    "# Tunando hiperparâmetros com 3-fold cross-validation\n",
    "parameters = {'n_estimators': [100, 150], \n",
    "              'max_features': ['log2', 'sqrt','auto'],\n",
    "              'max_depth': [3, 5], \n",
    "              'min_samples_split': [2, 3],\n",
    "              'min_samples_leaf': [5,8]}\n",
    "\n",
    "metricas = [\"precision\",\n",
    "            \"recall\",\n",
    "            \"f1\"]\n",
    "\n",
    "kfold = KFold(n_splits=3, shuffle=True, random_state=42)\n",
    "\n",
    "grid = GridSearchCV(model, #model vai ser o pipe\n",
    "                    param_grid=parameters,\n",
    "                    scoring=metricas,\n",
    "                    cv=kfold, \n",
    "                    n_jobs=-1,\n",
    "                    verbose=100, #serve p/ escolher o nível de mensagens que nossa grid vai emitir enquanto treina e testa todas as combinações de parâmetros.\n",
    "                    \n",
    "                    refit=\"f1\" #define métrica \"favorita\"\n",
    "                    # vão ser testadas várias combinações de parâmetros, No refit apontamos a métrica \"favorita\" \n",
    "                    #e vai fazer com que a grid já devolva o modelo que foi melhor naquela métrica\n",
    "                    \n",
    "                    #return_train_score=False  #não mostra, porque só queremos saber o resultado do teste\n",
    "                   )\n",
    "\n",
    "grid.fit(X_train, y_train)\n",
    "\n",
    "# melhor parâmetro\n",
    "grid.best_params_"
   ]
  },
  {
   "cell_type": "code",
   "execution_count": 154,
   "metadata": {},
   "outputs": [
    {
     "data": {
      "text/plain": [
       "{'max_depth': 5,\n",
       " 'max_features': 'auto',\n",
       " 'min_samples_leaf': 5,\n",
       " 'min_samples_split': 2,\n",
       " 'n_estimators': 150}"
      ]
     },
     "execution_count": 154,
     "metadata": {},
     "output_type": "execute_result"
    }
   ],
   "source": [
    "grid.best_params_"
   ]
  },
  {
   "cell_type": "code",
   "execution_count": 153,
   "metadata": {},
   "outputs": [
    {
     "data": {
      "text/plain": [
       "GradientBoostingClassifier(max_depth=5, max_features='auto', min_samples_leaf=5,\n",
       "                           n_estimators=150, random_state=0)"
      ]
     },
     "execution_count": 153,
     "metadata": {},
     "output_type": "execute_result"
    }
   ],
   "source": [
    "grid.best_estimator_"
   ]
  },
  {
   "cell_type": "code",
   "execution_count": 164,
   "metadata": {},
   "outputs": [
    {
     "data": {
      "text/plain": [
       "0.9921287223355573"
      ]
     },
     "execution_count": 164,
     "metadata": {},
     "output_type": "execute_result"
    }
   ],
   "source": [
    "grid.best_score_"
   ]
  },
  {
   "cell_type": "code",
   "execution_count": 233,
   "metadata": {},
   "outputs": [],
   "source": [
    "#predict\n",
    "pred = grid.predict(X_test)"
   ]
  },
  {
   "cell_type": "code",
   "execution_count": 234,
   "metadata": {},
   "outputs": [
    {
     "name": "stdout",
     "output_type": "stream",
     "text": [
      "\n",
      "Matriz de confusão:\n",
      " [[129579   1027]\n",
      " [  1059 130120]]\n",
      "\n",
      "Métricas de Classificação\n",
      "               precision    recall  f1-score   support\n",
      "\n",
      "           0       0.99      0.99      0.99    130606\n",
      "           1       0.99      0.99      0.99    131179\n",
      "\n",
      "    accuracy                           0.99    261785\n",
      "   macro avg       0.99      0.99      0.99    261785\n",
      "weighted avg       0.99      0.99      0.99    261785\n",
      "\n"
     ]
    }
   ],
   "source": [
    "print('\\nMatriz de confusão:\\n',metrics.confusion_matrix(y_test,pred))\n",
    "\n",
    "print('\\nMétricas de Classificação\\n', metrics.classification_report(y_test, pred))"
   ]
  },
  {
   "cell_type": "code",
   "execution_count": 158,
   "metadata": {},
   "outputs": [
    {
     "data": {
      "text/html": [
       "<div>\n",
       "<style scoped>\n",
       "    .dataframe tbody tr th:only-of-type {\n",
       "        vertical-align: middle;\n",
       "    }\n",
       "\n",
       "    .dataframe tbody tr th {\n",
       "        vertical-align: top;\n",
       "    }\n",
       "\n",
       "    .dataframe thead th {\n",
       "        text-align: right;\n",
       "    }\n",
       "</style>\n",
       "<table border=\"1\" class=\"dataframe\">\n",
       "  <thead>\n",
       "    <tr style=\"text-align: right;\">\n",
       "      <th></th>\n",
       "      <th>mean_fit_time</th>\n",
       "      <th>std_fit_time</th>\n",
       "      <th>mean_score_time</th>\n",
       "      <th>std_score_time</th>\n",
       "      <th>param_max_depth</th>\n",
       "      <th>param_max_features</th>\n",
       "      <th>param_min_samples_leaf</th>\n",
       "      <th>param_min_samples_split</th>\n",
       "      <th>param_n_estimators</th>\n",
       "      <th>params</th>\n",
       "      <th>split0_test_precision</th>\n",
       "      <th>split1_test_precision</th>\n",
       "      <th>split2_test_precision</th>\n",
       "      <th>mean_test_precision</th>\n",
       "      <th>std_test_precision</th>\n",
       "      <th>rank_test_precision</th>\n",
       "      <th>split0_test_recall</th>\n",
       "      <th>split1_test_recall</th>\n",
       "      <th>split2_test_recall</th>\n",
       "      <th>mean_test_recall</th>\n",
       "      <th>std_test_recall</th>\n",
       "      <th>rank_test_recall</th>\n",
       "      <th>split0_test_f1</th>\n",
       "      <th>split1_test_f1</th>\n",
       "      <th>split2_test_f1</th>\n",
       "      <th>mean_test_f1</th>\n",
       "      <th>std_test_f1</th>\n",
       "      <th>rank_test_f1</th>\n",
       "    </tr>\n",
       "  </thead>\n",
       "  <tbody>\n",
       "    <tr>\n",
       "      <th>4</th>\n",
       "      <td>33.195533</td>\n",
       "      <td>0.137226</td>\n",
       "      <td>1.314862</td>\n",
       "      <td>0.024764</td>\n",
       "      <td>3</td>\n",
       "      <td>log2</td>\n",
       "      <td>8</td>\n",
       "      <td>2</td>\n",
       "      <td>100</td>\n",
       "      <td>{'max_depth': 3, 'max_features': 'log2', 'min_...</td>\n",
       "      <td>0.992598</td>\n",
       "      <td>0.993046</td>\n",
       "      <td>0.992873</td>\n",
       "      <td>0.992839</td>\n",
       "      <td>0.000185</td>\n",
       "      <td>1</td>\n",
       "      <td>0.990382</td>\n",
       "      <td>0.990428</td>\n",
       "      <td>0.98942</td>\n",
       "      <td>0.990077</td>\n",
       "      <td>0.000465</td>\n",
       "      <td>41</td>\n",
       "      <td>0.991489</td>\n",
       "      <td>0.991735</td>\n",
       "      <td>0.991143</td>\n",
       "      <td>0.991456</td>\n",
       "      <td>0.000243</td>\n",
       "      <td>41</td>\n",
       "    </tr>\n",
       "    <tr>\n",
       "      <th>6</th>\n",
       "      <td>35.866996</td>\n",
       "      <td>1.728682</td>\n",
       "      <td>1.665417</td>\n",
       "      <td>0.100719</td>\n",
       "      <td>3</td>\n",
       "      <td>log2</td>\n",
       "      <td>8</td>\n",
       "      <td>3</td>\n",
       "      <td>100</td>\n",
       "      <td>{'max_depth': 3, 'max_features': 'log2', 'min_...</td>\n",
       "      <td>0.992598</td>\n",
       "      <td>0.993046</td>\n",
       "      <td>0.992873</td>\n",
       "      <td>0.992839</td>\n",
       "      <td>0.000185</td>\n",
       "      <td>1</td>\n",
       "      <td>0.990382</td>\n",
       "      <td>0.990428</td>\n",
       "      <td>0.98942</td>\n",
       "      <td>0.990077</td>\n",
       "      <td>0.000465</td>\n",
       "      <td>41</td>\n",
       "      <td>0.991489</td>\n",
       "      <td>0.991735</td>\n",
       "      <td>0.991143</td>\n",
       "      <td>0.991456</td>\n",
       "      <td>0.000243</td>\n",
       "      <td>41</td>\n",
       "    </tr>\n",
       "    <tr>\n",
       "      <th>14</th>\n",
       "      <td>35.884851</td>\n",
       "      <td>0.333219</td>\n",
       "      <td>1.568908</td>\n",
       "      <td>0.109222</td>\n",
       "      <td>3</td>\n",
       "      <td>sqrt</td>\n",
       "      <td>8</td>\n",
       "      <td>3</td>\n",
       "      <td>100</td>\n",
       "      <td>{'max_depth': 3, 'max_features': 'sqrt', 'min_...</td>\n",
       "      <td>0.992598</td>\n",
       "      <td>0.993046</td>\n",
       "      <td>0.992873</td>\n",
       "      <td>0.992839</td>\n",
       "      <td>0.000185</td>\n",
       "      <td>1</td>\n",
       "      <td>0.990382</td>\n",
       "      <td>0.990428</td>\n",
       "      <td>0.98942</td>\n",
       "      <td>0.990077</td>\n",
       "      <td>0.000465</td>\n",
       "      <td>41</td>\n",
       "      <td>0.991489</td>\n",
       "      <td>0.991735</td>\n",
       "      <td>0.991143</td>\n",
       "      <td>0.991456</td>\n",
       "      <td>0.000243</td>\n",
       "      <td>41</td>\n",
       "    </tr>\n",
       "    <tr>\n",
       "      <th>12</th>\n",
       "      <td>37.307550</td>\n",
       "      <td>1.130252</td>\n",
       "      <td>1.526808</td>\n",
       "      <td>0.208566</td>\n",
       "      <td>3</td>\n",
       "      <td>sqrt</td>\n",
       "      <td>8</td>\n",
       "      <td>2</td>\n",
       "      <td>100</td>\n",
       "      <td>{'max_depth': 3, 'max_features': 'sqrt', 'min_...</td>\n",
       "      <td>0.992598</td>\n",
       "      <td>0.993046</td>\n",
       "      <td>0.992873</td>\n",
       "      <td>0.992839</td>\n",
       "      <td>0.000185</td>\n",
       "      <td>1</td>\n",
       "      <td>0.990382</td>\n",
       "      <td>0.990428</td>\n",
       "      <td>0.98942</td>\n",
       "      <td>0.990077</td>\n",
       "      <td>0.000465</td>\n",
       "      <td>41</td>\n",
       "      <td>0.991489</td>\n",
       "      <td>0.991735</td>\n",
       "      <td>0.991143</td>\n",
       "      <td>0.991456</td>\n",
       "      <td>0.000243</td>\n",
       "      <td>41</td>\n",
       "    </tr>\n",
       "    <tr>\n",
       "      <th>0</th>\n",
       "      <td>33.346932</td>\n",
       "      <td>0.963670</td>\n",
       "      <td>1.576347</td>\n",
       "      <td>0.048957</td>\n",
       "      <td>3</td>\n",
       "      <td>log2</td>\n",
       "      <td>5</td>\n",
       "      <td>2</td>\n",
       "      <td>100</td>\n",
       "      <td>{'max_depth': 3, 'max_features': 'log2', 'min_...</td>\n",
       "      <td>0.992588</td>\n",
       "      <td>0.993046</td>\n",
       "      <td>0.992882</td>\n",
       "      <td>0.992839</td>\n",
       "      <td>0.000190</td>\n",
       "      <td>5</td>\n",
       "      <td>0.990382</td>\n",
       "      <td>0.990428</td>\n",
       "      <td>0.98940</td>\n",
       "      <td>0.990070</td>\n",
       "      <td>0.000474</td>\n",
       "      <td>45</td>\n",
       "      <td>0.991484</td>\n",
       "      <td>0.991735</td>\n",
       "      <td>0.991138</td>\n",
       "      <td>0.991452</td>\n",
       "      <td>0.000245</td>\n",
       "      <td>45</td>\n",
       "    </tr>\n",
       "  </tbody>\n",
       "</table>\n",
       "</div>"
      ],
      "text/plain": [
       "    mean_fit_time  std_fit_time  mean_score_time  std_score_time  \\\n",
       "4       33.195533      0.137226         1.314862        0.024764   \n",
       "6       35.866996      1.728682         1.665417        0.100719   \n",
       "14      35.884851      0.333219         1.568908        0.109222   \n",
       "12      37.307550      1.130252         1.526808        0.208566   \n",
       "0       33.346932      0.963670         1.576347        0.048957   \n",
       "\n",
       "   param_max_depth param_max_features param_min_samples_leaf  \\\n",
       "4                3               log2                      8   \n",
       "6                3               log2                      8   \n",
       "14               3               sqrt                      8   \n",
       "12               3               sqrt                      8   \n",
       "0                3               log2                      5   \n",
       "\n",
       "   param_min_samples_split param_n_estimators  \\\n",
       "4                        2                100   \n",
       "6                        3                100   \n",
       "14                       3                100   \n",
       "12                       2                100   \n",
       "0                        2                100   \n",
       "\n",
       "                                               params  split0_test_precision  \\\n",
       "4   {'max_depth': 3, 'max_features': 'log2', 'min_...               0.992598   \n",
       "6   {'max_depth': 3, 'max_features': 'log2', 'min_...               0.992598   \n",
       "14  {'max_depth': 3, 'max_features': 'sqrt', 'min_...               0.992598   \n",
       "12  {'max_depth': 3, 'max_features': 'sqrt', 'min_...               0.992598   \n",
       "0   {'max_depth': 3, 'max_features': 'log2', 'min_...               0.992588   \n",
       "\n",
       "    split1_test_precision  split2_test_precision  mean_test_precision  \\\n",
       "4                0.993046               0.992873             0.992839   \n",
       "6                0.993046               0.992873             0.992839   \n",
       "14               0.993046               0.992873             0.992839   \n",
       "12               0.993046               0.992873             0.992839   \n",
       "0                0.993046               0.992882             0.992839   \n",
       "\n",
       "    std_test_precision  rank_test_precision  split0_test_recall  \\\n",
       "4             0.000185                    1            0.990382   \n",
       "6             0.000185                    1            0.990382   \n",
       "14            0.000185                    1            0.990382   \n",
       "12            0.000185                    1            0.990382   \n",
       "0             0.000190                    5            0.990382   \n",
       "\n",
       "    split1_test_recall  split2_test_recall  mean_test_recall  std_test_recall  \\\n",
       "4             0.990428             0.98942          0.990077         0.000465   \n",
       "6             0.990428             0.98942          0.990077         0.000465   \n",
       "14            0.990428             0.98942          0.990077         0.000465   \n",
       "12            0.990428             0.98942          0.990077         0.000465   \n",
       "0             0.990428             0.98940          0.990070         0.000474   \n",
       "\n",
       "    rank_test_recall  split0_test_f1  split1_test_f1  split2_test_f1  \\\n",
       "4                 41        0.991489        0.991735        0.991143   \n",
       "6                 41        0.991489        0.991735        0.991143   \n",
       "14                41        0.991489        0.991735        0.991143   \n",
       "12                41        0.991489        0.991735        0.991143   \n",
       "0                 45        0.991484        0.991735        0.991138   \n",
       "\n",
       "    mean_test_f1  std_test_f1  rank_test_f1  \n",
       "4       0.991456     0.000243            41  \n",
       "6       0.991456     0.000243            41  \n",
       "14      0.991456     0.000243            41  \n",
       "12      0.991456     0.000243            41  \n",
       "0       0.991452     0.000245            45  "
      ]
     },
     "execution_count": 158,
     "metadata": {},
     "output_type": "execute_result"
    }
   ],
   "source": [
    "pd.set_option(\"max_columns\",200) #para enxergar mais colunas\n",
    "#to dataframe\n",
    "results = pd.DataFrame(grid.cv_results_)\n",
    "#ordenando pelo melhores valores\n",
    "results.sort_values(by=\"rank_test_precision\").head()"
   ]
  },
  {
   "cell_type": "markdown",
   "metadata": {},
   "source": [
    "Guardando predições"
   ]
  },
  {
   "cell_type": "code",
   "execution_count": 220,
   "metadata": {},
   "outputs": [
    {
     "data": {
      "text/html": [
       "<div>\n",
       "<style scoped>\n",
       "    .dataframe tbody tr th:only-of-type {\n",
       "        vertical-align: middle;\n",
       "    }\n",
       "\n",
       "    .dataframe tbody tr th {\n",
       "        vertical-align: top;\n",
       "    }\n",
       "\n",
       "    .dataframe thead th {\n",
       "        text-align: right;\n",
       "    }\n",
       "</style>\n",
       "<table border=\"1\" class=\"dataframe\">\n",
       "  <thead>\n",
       "    <tr style=\"text-align: right;\">\n",
       "      <th></th>\n",
       "      <th>UserID</th>\n",
       "      <th>saw_homepage</th>\n",
       "      <th>saw_sizecharts</th>\n",
       "      <th>device_computer</th>\n",
       "      <th>saw_account_upgrade</th>\n",
       "      <th>checked_returns_detail</th>\n",
       "      <th>checked_delivery_detail</th>\n",
       "      <th>basket_icon_click</th>\n",
       "      <th>closed_minibasket_click</th>\n",
       "      <th>image_picker</th>\n",
       "      <th>account_page_click</th>\n",
       "      <th>returning_user</th>\n",
       "      <th>saw_checkout</th>\n",
       "      <th>list_size_dropdown</th>\n",
       "      <th>saw_delivery</th>\n",
       "      <th>basket_add_list</th>\n",
       "      <th>loc_uk</th>\n",
       "      <th>sort_by</th>\n",
       "      <th>promo_banner_click</th>\n",
       "      <th>detail_wishlist_add</th>\n",
       "      <th>real</th>\n",
       "      <th>predito</th>\n",
       "    </tr>\n",
       "  </thead>\n",
       "  <tbody>\n",
       "    <tr>\n",
       "      <th>0</th>\n",
       "      <td>a720-6b732349-a720-4862-bd21-644732</td>\n",
       "      <td>0.0</td>\n",
       "      <td>0.0</td>\n",
       "      <td>0.0</td>\n",
       "      <td>0.0</td>\n",
       "      <td>0.0</td>\n",
       "      <td>1.0</td>\n",
       "      <td>1.0</td>\n",
       "      <td>0.0</td>\n",
       "      <td>0.0</td>\n",
       "      <td>0.0</td>\n",
       "      <td>1.0</td>\n",
       "      <td>1.0</td>\n",
       "      <td>0.0</td>\n",
       "      <td>0.0</td>\n",
       "      <td>0.0</td>\n",
       "      <td>1.0</td>\n",
       "      <td>0.0</td>\n",
       "      <td>0.0</td>\n",
       "      <td>0.0</td>\n",
       "      <td>0.0</td>\n",
       "      <td>1.0</td>\n",
       "    </tr>\n",
       "    <tr>\n",
       "      <th>1</th>\n",
       "      <td>a0c0-6b73247c-a0c0-4bd9-8baa-797356</td>\n",
       "      <td>0.0</td>\n",
       "      <td>0.0</td>\n",
       "      <td>0.0</td>\n",
       "      <td>0.0</td>\n",
       "      <td>0.0</td>\n",
       "      <td>0.0</td>\n",
       "      <td>0.0</td>\n",
       "      <td>0.0</td>\n",
       "      <td>0.0</td>\n",
       "      <td>0.0</td>\n",
       "      <td>0.0</td>\n",
       "      <td>0.0</td>\n",
       "      <td>0.0</td>\n",
       "      <td>0.0</td>\n",
       "      <td>0.0</td>\n",
       "      <td>1.0</td>\n",
       "      <td>0.0</td>\n",
       "      <td>0.0</td>\n",
       "      <td>0.0</td>\n",
       "      <td>0.0</td>\n",
       "      <td>0.0</td>\n",
       "    </tr>\n",
       "    <tr>\n",
       "      <th>2</th>\n",
       "      <td>86a8-6b735c67-86a8-407b-ba24-333055</td>\n",
       "      <td>0.0</td>\n",
       "      <td>0.0</td>\n",
       "      <td>1.0</td>\n",
       "      <td>0.0</td>\n",
       "      <td>0.0</td>\n",
       "      <td>1.0</td>\n",
       "      <td>1.0</td>\n",
       "      <td>0.0</td>\n",
       "      <td>1.0</td>\n",
       "      <td>0.0</td>\n",
       "      <td>0.0</td>\n",
       "      <td>1.0</td>\n",
       "      <td>1.0</td>\n",
       "      <td>0.0</td>\n",
       "      <td>1.0</td>\n",
       "      <td>1.0</td>\n",
       "      <td>0.0</td>\n",
       "      <td>0.0</td>\n",
       "      <td>0.0</td>\n",
       "      <td>1.0</td>\n",
       "      <td>1.0</td>\n",
       "    </tr>\n",
       "  </tbody>\n",
       "</table>\n",
       "</div>"
      ],
      "text/plain": [
       "                                UserID  saw_homepage  saw_sizecharts  \\\n",
       "0  a720-6b732349-a720-4862-bd21-644732           0.0             0.0   \n",
       "1  a0c0-6b73247c-a0c0-4bd9-8baa-797356           0.0             0.0   \n",
       "2  86a8-6b735c67-86a8-407b-ba24-333055           0.0             0.0   \n",
       "\n",
       "   device_computer  saw_account_upgrade  checked_returns_detail  \\\n",
       "0              0.0                  0.0                     0.0   \n",
       "1              0.0                  0.0                     0.0   \n",
       "2              1.0                  0.0                     0.0   \n",
       "\n",
       "   checked_delivery_detail  basket_icon_click  closed_minibasket_click  \\\n",
       "0                      1.0                1.0                      0.0   \n",
       "1                      0.0                0.0                      0.0   \n",
       "2                      1.0                1.0                      0.0   \n",
       "\n",
       "   image_picker  account_page_click  returning_user  saw_checkout  \\\n",
       "0           0.0                 0.0             1.0           1.0   \n",
       "1           0.0                 0.0             0.0           0.0   \n",
       "2           1.0                 0.0             0.0           1.0   \n",
       "\n",
       "   list_size_dropdown  saw_delivery  basket_add_list  loc_uk  sort_by  \\\n",
       "0                 0.0           0.0              0.0     1.0      0.0   \n",
       "1                 0.0           0.0              0.0     1.0      0.0   \n",
       "2                 1.0           0.0              1.0     1.0      0.0   \n",
       "\n",
       "   promo_banner_click  detail_wishlist_add  real  predito  \n",
       "0                 0.0                  0.0   0.0      1.0  \n",
       "1                 0.0                  0.0   0.0      0.0  \n",
       "2                 0.0                  0.0   1.0      1.0  "
      ]
     },
     "execution_count": 220,
     "metadata": {},
     "output_type": "execute_result"
    }
   ],
   "source": [
    "proba2_train = pd.DataFrame(pred)\n",
    "proba3_train = proba2_train[proba2_train.columns[1:2]]\n",
    "\n",
    "lista_real_predito = ['real', 'predito']\n",
    "list_cols = list(X_train.columns)\n",
    "for i in lista_real_predito:\n",
    "    list_cols.append(i)\n",
    "    \n",
    "df_fim = np.column_stack((X_test,round(y_test), round(proba2_train)))\n",
    "df_fim = pd.DataFrame(data = df_fim[:,:])\n",
    "df_fim.set_axis(list_cols, axis=1, inplace=True)\n",
    "\n",
    "userids = df.UserID\n",
    "df_fim = pd.concat([userids, df_fim], axis=1)\n",
    "#df_fim['erro'] = df_fim.real - df_fim.predito\n",
    "#df_fim['erro_percent'] = abs(df_fim['erro']/ df_fim.real) *100\n",
    "df_fim.head(3)"
   ]
  },
  {
   "cell_type": "markdown",
   "metadata": {},
   "source": [
    "# Fazendo Previsões com o Modelo Treinado"
   ]
  },
  {
   "cell_type": "code",
   "execution_count": 221,
   "metadata": {},
   "outputs": [
    {
     "data": {
      "text/plain": [
       "19"
      ]
     },
     "execution_count": 221,
     "metadata": {},
     "output_type": "execute_result"
    }
   ],
   "source": [
    "len(X_train.columns) #tinha retirada 3 coluans com a análise de correlação"
   ]
  },
  {
   "cell_type": "code",
   "execution_count": 222,
   "metadata": {},
   "outputs": [
    {
     "data": {
      "text/plain": [
       "array([[1, 1, 1, 0, 0, 0, 1, 1, 1, 0, 0, 0, 1, 0, 0, 1, 1, 0, 1]])"
      ]
     },
     "execution_count": 222,
     "metadata": {},
     "output_type": "execute_result"
    }
   ],
   "source": [
    "# Novo registro\n",
    "from numpy import random\n",
    "\n",
    "new_x = random.choice([0, 1], len(X_train.columns)).reshape(1, -1)\n",
    "new_x"
   ]
  },
  {
   "cell_type": "code",
   "execution_count": 223,
   "metadata": {},
   "outputs": [],
   "source": [
    "# Previsão\n",
    "previsao_new_x = grid.predict(new_x[:])"
   ]
  },
  {
   "cell_type": "code",
   "execution_count": 224,
   "metadata": {},
   "outputs": [
    {
     "data": {
      "text/plain": [
       "array([0], dtype=int64)"
      ]
     },
     "execution_count": 224,
     "metadata": {},
     "output_type": "execute_result"
    }
   ],
   "source": [
    "previsao_new_x"
   ]
  },
  {
   "cell_type": "markdown",
   "metadata": {},
   "source": [
    "previsão = 0 --- não comprou"
   ]
  },
  {
   "cell_type": "markdown",
   "metadata": {},
   "source": [
    "### ---------------------------------"
   ]
  },
  {
   "cell_type": "markdown",
   "metadata": {},
   "source": [
    "# Carregando csv de teste"
   ]
  },
  {
   "cell_type": "code",
   "execution_count": 225,
   "metadata": {},
   "outputs": [],
   "source": [
    "df_teste = pd.read_csv('dados/testing_sample.csv')"
   ]
  },
  {
   "cell_type": "markdown",
   "metadata": {},
   "source": [
    "lembrando que foram retiradas 3 colunas com a análise de correlação"
   ]
  },
  {
   "cell_type": "code",
   "execution_count": 226,
   "metadata": {},
   "outputs": [],
   "source": [
    "cols_remove = ['basket_add_detail', 'sign_in', 'device_mobile', 'device_tablet']\n",
    "cols = list(set(list(X_train.columns)) - set(list(cols_remove)))"
   ]
  },
  {
   "cell_type": "code",
   "execution_count": 228,
   "metadata": {},
   "outputs": [
    {
     "data": {
      "text/plain": [
       "(151655, 19)"
      ]
     },
     "execution_count": 228,
     "metadata": {},
     "output_type": "execute_result"
    }
   ],
   "source": [
    "df_teste[cols].shape"
   ]
  },
  {
   "cell_type": "code",
   "execution_count": 229,
   "metadata": {},
   "outputs": [
    {
     "data": {
      "text/plain": [
       "0    151655\n",
       "Name: ordered, dtype: int64"
      ]
     },
     "execution_count": 229,
     "metadata": {},
     "output_type": "execute_result"
    }
   ],
   "source": [
    "df_teste.ordered.value_counts()"
   ]
  },
  {
   "cell_type": "markdown",
   "metadata": {},
   "source": [
    "só tem classe 0"
   ]
  },
  {
   "cell_type": "code",
   "execution_count": 235,
   "metadata": {},
   "outputs": [],
   "source": [
    "pred_df_teste = grid.predict(df_teste[cols])"
   ]
  },
  {
   "cell_type": "code",
   "execution_count": 237,
   "metadata": {},
   "outputs": [
    {
     "name": "stdout",
     "output_type": "stream",
     "text": [
      "\n",
      "Matriz de confusão:\n",
      " [[151619     36]\n",
      " [     0      0]]\n",
      "\n",
      "Métricas de Classificação\n",
      "               precision    recall  f1-score   support\n",
      "\n",
      "           0       1.00      1.00      1.00    151655\n",
      "           1       0.00      0.00      0.00         0\n",
      "\n",
      "    accuracy                           1.00    151655\n",
      "   macro avg       0.50      0.50      0.50    151655\n",
      "weighted avg       1.00      1.00      1.00    151655\n",
      "\n"
     ]
    }
   ],
   "source": [
    "print('\\nMatriz de confusão:\\n',metrics.confusion_matrix(df_teste.ordered,pred_df_teste))\n",
    "\n",
    "print('\\nMétricas de Classificação\\n', metrics.classification_report(df_teste.ordered, pred_df_teste))"
   ]
  },
  {
   "cell_type": "code",
   "execution_count": 240,
   "metadata": {},
   "outputs": [
    {
     "data": {
      "text/plain": [
       "GradientBoostingClassifier(random_state=0)"
      ]
     },
     "execution_count": 240,
     "metadata": {},
     "output_type": "execute_result"
    }
   ],
   "source": [
    "grid.estimator"
   ]
  },
  {
   "cell_type": "code",
   "execution_count": 260,
   "metadata": {
    "scrolled": true
   },
   "outputs": [
    {
     "data": {
      "text/html": [
       "<div>\n",
       "<style scoped>\n",
       "    .dataframe tbody tr th:only-of-type {\n",
       "        vertical-align: middle;\n",
       "    }\n",
       "\n",
       "    .dataframe tbody tr th {\n",
       "        vertical-align: top;\n",
       "    }\n",
       "\n",
       "    .dataframe thead th {\n",
       "        text-align: right;\n",
       "    }\n",
       "</style>\n",
       "<table border=\"1\" class=\"dataframe\">\n",
       "  <thead>\n",
       "    <tr style=\"text-align: right;\">\n",
       "      <th></th>\n",
       "      <th>UserID</th>\n",
       "      <th>saw_homepage</th>\n",
       "      <th>saw_sizecharts</th>\n",
       "      <th>device_computer</th>\n",
       "      <th>saw_account_upgrade</th>\n",
       "      <th>basket_icon_click</th>\n",
       "      <th>closed_minibasket_click</th>\n",
       "      <th>image_picker</th>\n",
       "      <th>account_page_click</th>\n",
       "      <th>returning_user</th>\n",
       "      <th>list_size_dropdown</th>\n",
       "      <th>saw_delivery</th>\n",
       "      <th>promo_banner_click</th>\n",
       "      <th>detail_wishlist_add</th>\n",
       "      <th>checked_returns_detail</th>\n",
       "      <th>checked_delivery_detail</th>\n",
       "      <th>saw_checkout</th>\n",
       "      <th>basket_add_list</th>\n",
       "      <th>loc_uk</th>\n",
       "      <th>sort_by</th>\n",
       "      <th>ordered</th>\n",
       "      <th>predito</th>\n",
       "    </tr>\n",
       "  </thead>\n",
       "  <tbody>\n",
       "    <tr>\n",
       "      <th>0</th>\n",
       "      <td>9d24-25k4-47889d24-25k4-494b-398124</td>\n",
       "      <td>0</td>\n",
       "      <td>0</td>\n",
       "      <td>0</td>\n",
       "      <td>0</td>\n",
       "      <td>0</td>\n",
       "      <td>0</td>\n",
       "      <td>0</td>\n",
       "      <td>0</td>\n",
       "      <td>0</td>\n",
       "      <td>0</td>\n",
       "      <td>0</td>\n",
       "      <td>0</td>\n",
       "      <td>0</td>\n",
       "      <td>0</td>\n",
       "      <td>0</td>\n",
       "      <td>0</td>\n",
       "      <td>0</td>\n",
       "      <td>0</td>\n",
       "      <td>1</td>\n",
       "      <td>0</td>\n",
       "      <td>0</td>\n",
       "    </tr>\n",
       "    <tr>\n",
       "      <th>1</th>\n",
       "      <td>7732-1k58-47887732-1k58-4475-679678</td>\n",
       "      <td>0</td>\n",
       "      <td>0</td>\n",
       "      <td>0</td>\n",
       "      <td>0</td>\n",
       "      <td>0</td>\n",
       "      <td>0</td>\n",
       "      <td>0</td>\n",
       "      <td>0</td>\n",
       "      <td>0</td>\n",
       "      <td>0</td>\n",
       "      <td>0</td>\n",
       "      <td>0</td>\n",
       "      <td>0</td>\n",
       "      <td>0</td>\n",
       "      <td>0</td>\n",
       "      <td>0</td>\n",
       "      <td>0</td>\n",
       "      <td>0</td>\n",
       "      <td>1</td>\n",
       "      <td>0</td>\n",
       "      <td>0</td>\n",
       "    </tr>\n",
       "    <tr>\n",
       "      <th>2</th>\n",
       "      <td>94k2-632j-471394k2-632j-4b4j-228160</td>\n",
       "      <td>0</td>\n",
       "      <td>0</td>\n",
       "      <td>0</td>\n",
       "      <td>0</td>\n",
       "      <td>0</td>\n",
       "      <td>0</td>\n",
       "      <td>0</td>\n",
       "      <td>0</td>\n",
       "      <td>0</td>\n",
       "      <td>0</td>\n",
       "      <td>0</td>\n",
       "      <td>0</td>\n",
       "      <td>0</td>\n",
       "      <td>0</td>\n",
       "      <td>0</td>\n",
       "      <td>0</td>\n",
       "      <td>0</td>\n",
       "      <td>0</td>\n",
       "      <td>1</td>\n",
       "      <td>0</td>\n",
       "      <td>0</td>\n",
       "    </tr>\n",
       "  </tbody>\n",
       "</table>\n",
       "</div>"
      ],
      "text/plain": [
       "                                UserID  saw_homepage  saw_sizecharts  \\\n",
       "0  9d24-25k4-47889d24-25k4-494b-398124             0               0   \n",
       "1  7732-1k58-47887732-1k58-4475-679678             0               0   \n",
       "2  94k2-632j-471394k2-632j-4b4j-228160             0               0   \n",
       "\n",
       "   device_computer  saw_account_upgrade  basket_icon_click  \\\n",
       "0                0                    0                  0   \n",
       "1                0                    0                  0   \n",
       "2                0                    0                  0   \n",
       "\n",
       "   closed_minibasket_click  image_picker  account_page_click  returning_user  \\\n",
       "0                        0             0                   0               0   \n",
       "1                        0             0                   0               0   \n",
       "2                        0             0                   0               0   \n",
       "\n",
       "   list_size_dropdown  saw_delivery  promo_banner_click  detail_wishlist_add  \\\n",
       "0                   0             0                   0                    0   \n",
       "1                   0             0                   0                    0   \n",
       "2                   0             0                   0                    0   \n",
       "\n",
       "   checked_returns_detail  checked_delivery_detail  saw_checkout  \\\n",
       "0                       0                        0             0   \n",
       "1                       0                        0             0   \n",
       "2                       0                        0             0   \n",
       "\n",
       "   basket_add_list  loc_uk  sort_by  ordered  predito  \n",
       "0                0       0        1        0        0  \n",
       "1                0       0        1        0        0  \n",
       "2                0       0        1        0        0  "
      ]
     },
     "execution_count": 260,
     "metadata": {},
     "output_type": "execute_result"
    }
   ],
   "source": [
    "proba2_train = pd.DataFrame(pred_df_teste)\n",
    "proba3_train = proba2_train[proba2_train.columns[1:2]]\n",
    "\n",
    "lista_real_predito = ['ordered', 'predito']\n",
    "list_cols = list(df_teste[cols].columns)\n",
    "for i in lista_real_predito:\n",
    "    list_cols.append(i)\n",
    "    \n",
    "df_fim = np.column_stack((df_teste.ordered,round(df_teste[cols]), round(proba2_train)))\n",
    "df_fim = pd.DataFrame(data = df_fim[:,:])\n",
    "df_fim.set_axis(list_cols, axis=1, inplace=True)\n",
    "\n",
    "userids = df_teste.UserID\n",
    "df_fim = pd.concat([userids, df_fim], axis=1)\n",
    "#df_fim['erro'] = df_fim.real - df_fim.predito\n",
    "#df_fim['erro_percent'] = abs(df_fim['erro']/ df_fim.real) *100\n",
    "df_fim.head(3)"
   ]
  },
  {
   "cell_type": "code",
   "execution_count": 261,
   "metadata": {},
   "outputs": [
    {
     "data": {
      "text/plain": [
       "(151655, 25)"
      ]
     },
     "execution_count": 261,
     "metadata": {},
     "output_type": "execute_result"
    }
   ],
   "source": [
    "df_teste.shape"
   ]
  },
  {
   "cell_type": "code",
   "execution_count": 262,
   "metadata": {},
   "outputs": [
    {
     "data": {
      "text/plain": [
       "(151655, 22)"
      ]
     },
     "execution_count": 262,
     "metadata": {},
     "output_type": "execute_result"
    }
   ],
   "source": [
    "df_fim.shape"
   ]
  },
  {
   "cell_type": "code",
   "execution_count": 263,
   "metadata": {},
   "outputs": [
    {
     "data": {
      "text/html": [
       "<div>\n",
       "<style scoped>\n",
       "    .dataframe tbody tr th:only-of-type {\n",
       "        vertical-align: middle;\n",
       "    }\n",
       "\n",
       "    .dataframe tbody tr th {\n",
       "        vertical-align: top;\n",
       "    }\n",
       "\n",
       "    .dataframe thead th {\n",
       "        text-align: right;\n",
       "    }\n",
       "</style>\n",
       "<table border=\"1\" class=\"dataframe\">\n",
       "  <thead>\n",
       "    <tr style=\"text-align: right;\">\n",
       "      <th></th>\n",
       "      <th>UserID</th>\n",
       "      <th>saw_homepage</th>\n",
       "      <th>saw_sizecharts</th>\n",
       "      <th>device_computer</th>\n",
       "      <th>saw_account_upgrade</th>\n",
       "      <th>basket_icon_click</th>\n",
       "      <th>closed_minibasket_click</th>\n",
       "      <th>image_picker</th>\n",
       "      <th>account_page_click</th>\n",
       "      <th>returning_user</th>\n",
       "      <th>list_size_dropdown</th>\n",
       "      <th>saw_delivery</th>\n",
       "      <th>promo_banner_click</th>\n",
       "      <th>detail_wishlist_add</th>\n",
       "      <th>checked_returns_detail</th>\n",
       "      <th>checked_delivery_detail</th>\n",
       "      <th>saw_checkout</th>\n",
       "      <th>basket_add_list</th>\n",
       "      <th>loc_uk</th>\n",
       "      <th>sort_by</th>\n",
       "      <th>ordered</th>\n",
       "      <th>predito</th>\n",
       "    </tr>\n",
       "  </thead>\n",
       "  <tbody>\n",
       "    <tr>\n",
       "      <th>151650</th>\n",
       "      <td>d14b-520k-0j15d14b-520k-4kk2-660471</td>\n",
       "      <td>0</td>\n",
       "      <td>1</td>\n",
       "      <td>0</td>\n",
       "      <td>0</td>\n",
       "      <td>0</td>\n",
       "      <td>0</td>\n",
       "      <td>0</td>\n",
       "      <td>0</td>\n",
       "      <td>0</td>\n",
       "      <td>1</td>\n",
       "      <td>0</td>\n",
       "      <td>0</td>\n",
       "      <td>0</td>\n",
       "      <td>0</td>\n",
       "      <td>0</td>\n",
       "      <td>0</td>\n",
       "      <td>0</td>\n",
       "      <td>0</td>\n",
       "      <td>1</td>\n",
       "      <td>0</td>\n",
       "      <td>0</td>\n",
       "    </tr>\n",
       "    <tr>\n",
       "      <th>151651</th>\n",
       "      <td>d427-5450-0j15d427-5450-4661-370635</td>\n",
       "      <td>0</td>\n",
       "      <td>0</td>\n",
       "      <td>0</td>\n",
       "      <td>0</td>\n",
       "      <td>0</td>\n",
       "      <td>0</td>\n",
       "      <td>0</td>\n",
       "      <td>0</td>\n",
       "      <td>0</td>\n",
       "      <td>1</td>\n",
       "      <td>0</td>\n",
       "      <td>0</td>\n",
       "      <td>0</td>\n",
       "      <td>0</td>\n",
       "      <td>0</td>\n",
       "      <td>0</td>\n",
       "      <td>0</td>\n",
       "      <td>0</td>\n",
       "      <td>0</td>\n",
       "      <td>0</td>\n",
       "      <td>0</td>\n",
       "    </tr>\n",
       "    <tr>\n",
       "      <th>151652</th>\n",
       "      <td>8869-1022-0j168869-1022-4490-699568</td>\n",
       "      <td>0</td>\n",
       "      <td>0</td>\n",
       "      <td>0</td>\n",
       "      <td>0</td>\n",
       "      <td>0</td>\n",
       "      <td>0</td>\n",
       "      <td>0</td>\n",
       "      <td>0</td>\n",
       "      <td>0</td>\n",
       "      <td>1</td>\n",
       "      <td>0</td>\n",
       "      <td>0</td>\n",
       "      <td>0</td>\n",
       "      <td>0</td>\n",
       "      <td>0</td>\n",
       "      <td>0</td>\n",
       "      <td>0</td>\n",
       "      <td>0</td>\n",
       "      <td>1</td>\n",
       "      <td>0</td>\n",
       "      <td>0</td>\n",
       "    </tr>\n",
       "    <tr>\n",
       "      <th>151653</th>\n",
       "      <td>5893-2228-0j165893-2228-4kb7-871348</td>\n",
       "      <td>0</td>\n",
       "      <td>0</td>\n",
       "      <td>0</td>\n",
       "      <td>0</td>\n",
       "      <td>0</td>\n",
       "      <td>0</td>\n",
       "      <td>0</td>\n",
       "      <td>0</td>\n",
       "      <td>0</td>\n",
       "      <td>1</td>\n",
       "      <td>0</td>\n",
       "      <td>0</td>\n",
       "      <td>0</td>\n",
       "      <td>0</td>\n",
       "      <td>0</td>\n",
       "      <td>0</td>\n",
       "      <td>0</td>\n",
       "      <td>0</td>\n",
       "      <td>1</td>\n",
       "      <td>0</td>\n",
       "      <td>0</td>\n",
       "    </tr>\n",
       "    <tr>\n",
       "      <th>151654</th>\n",
       "      <td>64k0-8720-0j1664k0-8720-447k-692331</td>\n",
       "      <td>0</td>\n",
       "      <td>1</td>\n",
       "      <td>0</td>\n",
       "      <td>0</td>\n",
       "      <td>0</td>\n",
       "      <td>0</td>\n",
       "      <td>0</td>\n",
       "      <td>0</td>\n",
       "      <td>0</td>\n",
       "      <td>0</td>\n",
       "      <td>1</td>\n",
       "      <td>0</td>\n",
       "      <td>0</td>\n",
       "      <td>0</td>\n",
       "      <td>0</td>\n",
       "      <td>0</td>\n",
       "      <td>0</td>\n",
       "      <td>0</td>\n",
       "      <td>1</td>\n",
       "      <td>0</td>\n",
       "      <td>0</td>\n",
       "    </tr>\n",
       "  </tbody>\n",
       "</table>\n",
       "</div>"
      ],
      "text/plain": [
       "                                     UserID  saw_homepage  saw_sizecharts  \\\n",
       "151650  d14b-520k-0j15d14b-520k-4kk2-660471             0               1   \n",
       "151651  d427-5450-0j15d427-5450-4661-370635             0               0   \n",
       "151652  8869-1022-0j168869-1022-4490-699568             0               0   \n",
       "151653  5893-2228-0j165893-2228-4kb7-871348             0               0   \n",
       "151654  64k0-8720-0j1664k0-8720-447k-692331             0               1   \n",
       "\n",
       "        device_computer  saw_account_upgrade  basket_icon_click  \\\n",
       "151650                0                    0                  0   \n",
       "151651                0                    0                  0   \n",
       "151652                0                    0                  0   \n",
       "151653                0                    0                  0   \n",
       "151654                0                    0                  0   \n",
       "\n",
       "        closed_minibasket_click  image_picker  account_page_click  \\\n",
       "151650                        0             0                   0   \n",
       "151651                        0             0                   0   \n",
       "151652                        0             0                   0   \n",
       "151653                        0             0                   0   \n",
       "151654                        0             0                   0   \n",
       "\n",
       "        returning_user  list_size_dropdown  saw_delivery  promo_banner_click  \\\n",
       "151650               0                   1             0                   0   \n",
       "151651               0                   1             0                   0   \n",
       "151652               0                   1             0                   0   \n",
       "151653               0                   1             0                   0   \n",
       "151654               0                   0             1                   0   \n",
       "\n",
       "        detail_wishlist_add  checked_returns_detail  checked_delivery_detail  \\\n",
       "151650                    0                       0                        0   \n",
       "151651                    0                       0                        0   \n",
       "151652                    0                       0                        0   \n",
       "151653                    0                       0                        0   \n",
       "151654                    0                       0                        0   \n",
       "\n",
       "        saw_checkout  basket_add_list  loc_uk  sort_by  ordered  predito  \n",
       "151650             0                0       0        1        0        0  \n",
       "151651             0                0       0        0        0        0  \n",
       "151652             0                0       0        1        0        0  \n",
       "151653             0                0       0        1        0        0  \n",
       "151654             0                0       0        1        0        0  "
      ]
     },
     "execution_count": 263,
     "metadata": {},
     "output_type": "execute_result"
    }
   ],
   "source": [
    "df_fim.tail()"
   ]
  },
  {
   "cell_type": "markdown",
   "metadata": {},
   "source": [
    "-----"
   ]
  }
 ],
 "metadata": {
  "kernelspec": {
   "display_name": "Python 3",
   "language": "python",
   "name": "python3"
  },
  "language_info": {
   "codemirror_mode": {
    "name": "ipython",
    "version": 3
   },
   "file_extension": ".py",
   "mimetype": "text/x-python",
   "name": "python",
   "nbconvert_exporter": "python",
   "pygments_lexer": "ipython3",
   "version": "3.7.1"
  }
 },
 "nbformat": 4,
 "nbformat_minor": 2
}
